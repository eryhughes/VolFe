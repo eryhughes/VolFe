{
 "cells": [
  {
   "cell_type": "code",
   "execution_count": 1,
   "metadata": {},
   "outputs": [],
   "source": [
    "### import python packages ###\n",
    "import pandas as pd\n",
    "import gmpy2 as gp\n",
    "\n",
    "### import VolFe functions ###\n",
    "import batch_calculations as bc\n",
    "import melt_gas as mg\n",
    "\n",
    "### load species file and set calculation precision ###\n",
    "species = pd.read_csv(\"species.csv\", index_col = [0]) # attributes of the different species used in the system\n",
    "gp.get_context().precision=100"
   ]
  },
  {
   "cell_type": "code",
   "execution_count": 2,
   "metadata": {},
   "outputs": [],
   "source": [
    "### load setup and models file ###\n",
    "setup = pd.read_csv(\"inputs.csv\") # csv for initial conditions of the system - typically inputs.csv\n",
    "models = pd.read_csv(\"models.csv\", index_col = [0]) # model options"
   ]
  },
  {
   "cell_type": "code",
   "execution_count": 3,
   "metadata": {},
   "outputs": [
    {
     "name": "stdout",
     "output_type": "stream",
     "text": [
      "Help on function f_H2O in module melt_gas:\n",
      "\n",
      "f_H2O(PT, melt_wf, species, models)\n",
      "    Calculates fugacity of water in the vapor from concentration of water in the melt\n",
      "    \n",
      "    \n",
      "    Parameters\n",
      "    ----------\n",
      "    PT: pandas.DataFrame\n",
      "        Dataframe of pressure-temperature conditions. Must have pressure bars as \"P\" and temperature in 'C as \"T\". \n",
      "        \n",
      "    melt_wf: pandas.DataFrame\n",
      "        Dataframe of melt composition. WHAT.\n",
      "        \n",
      "    species: pandas.DataFrame\n",
      "        Dataframe of species.csv file.\n",
      "    \n",
      "    models: pandas.DataFrame\n",
      "        Dataframe of models.csv file.\n",
      "    \n",
      "    Returns\n",
      "    -------\n",
      "    fH2O in bars as <class 'mpfr'>\n",
      "\n"
     ]
    }
   ],
   "source": [
    "help(mg.f_H2O)"
   ]
  },
  {
   "cell_type": "code",
   "execution_count": null,
   "metadata": {},
   "outputs": [],
   "source": [
    "#############################\n",
    "### gassing over pressure ###\n",
    "#############################\n",
    "\n",
    "# inputs\n",
    "run = 0 # row number from file for run (0 is the first row of data)\n",
    "dp_step = 10. # controlls pressure step size in bar\n",
    "nr_step = 1. # step-size for the newton-raphson convergence for chemistry = normally 1.\n",
    "nr_tol = 1.e-6 # tolerence for the newton-raphson convergence for chemistryw\n",
    "psat_tol = 0.1 # accuracy for the saturation pressure calculation in bars\n",
    "dwtg = 1.e-7 # amount of gas to add at each step if regassing in an open-system in wt fraction total system\n",
    "i_nr_step = 1.e-1 # step-size for newton-raphson convergence for isotopes\n",
    "i_nr_tol = 1.e-9 # tolerance for newton-raphson convergence for isotopes\n",
    "\n",
    "# runs model\n",
    "gassing_inputs = {\"nr_step\":nr_step,\"nr_tol\":nr_tol,\"dp_step\":dp_step,\"psat_tol\":psat_tol,\"dwtg\":dwtg,\"i_nr_step\":i_nr_step,\"i_nr_tol\":i_nr_tol}            \n",
    "bc.gassing(run,gassing_inputs,setup,species,models)"
   ]
  },
  {
   "cell_type": "code",
   "execution_count": null,
   "metadata": {},
   "outputs": [],
   "source": [
    "## ### results at P1, P2, and 1 bar ###\n",
    "####################################\n",
    "\n",
    "# inputs\n",
    "first_row = 11  # starts from 0 in a spreadsheet\n",
    "last_row = 200\n",
    "dp_step = 1. # initial step size\n",
    "nr_step = 1. # step-size for the newton-raphson convergence for chemistry = normally 1.\n",
    "nr_tol = 1.e-6 # tolerence for the newton-raphson convergence for chemistryw\n",
    "psat_tol = 0.1 # accuracy for the saturation pressure calculation in bars\n",
    "P1 = 1500\n",
    "P2 = 500\n",
    "\n",
    "# runs model\n",
    "inputs = {\"nr_step\":nr_step,\"nr_tol\":nr_tol,\"psat_tol\":psat_tol,\"dp_step\":dp_step,\"P1\":P1,\"P2\":P2}            \n",
    "bc.fO2_at_1bar(first_row,last_row,inputs,setup,species,models)"
   ]
  },
  {
   "cell_type": "code",
   "execution_count": null,
   "metadata": {},
   "outputs": [],
   "source": [
    "###########################\n",
    "### P at Xpc S degassed ###\n",
    "###########################\n",
    "\n",
    "# inputs\n",
    "first_row = 244 # starts from 0 in a spreadsheet\n",
    "last_row = 309\n",
    "dp_step = 10. # initial step size\n",
    "nr_step = 1. # step-size for the newton-raphson convergence for chemistry = normally 1.\n",
    "nr_tol = 1.e-6 # tolerence for the newton-raphson convergence for chemistryw\n",
    "psat_tol = 0.1 # accuracy for the saturation pressure calculation in bars\n",
    "\n",
    "# to do... H2O = 1, 0.5, 0 at dp_step = 5. SLOW\n",
    "\n",
    "\n",
    "# runs model\n",
    "inputs = {\"nr_step\":nr_step,\"nr_tol\":nr_tol,\"psat_tol\":psat_tol,\"dp_step\":dp_step}            \n",
    "bc.Xpc_S_degassed(first_row,last_row,inputs,setup,species,models)"
   ]
  },
  {
   "cell_type": "code",
   "execution_count": null,
   "metadata": {},
   "outputs": [],
   "source": [
    "#########################\n",
    "### calculate isobars ###\n",
    "#########################\n",
    "\n",
    "# inputs\n",
    "run = 0 # row number from file for run (0 is the first row of data)\n",
    "initial_P = 1000. # first P in bars to run an isobar for\n",
    "final_P = 10000. # final P in bars to run an isobar for\n",
    "step_P = 1000. # step of P in bars between initial and final P to run isobars at\n",
    "\n",
    "bc.calc_isobar(run,setup,species,models,initial_P,final_P,step_P)"
   ]
  },
  {
   "cell_type": "code",
   "execution_count": null,
   "metadata": {},
   "outputs": [],
   "source": [
    "##########################################\n",
    "### fO2 range based on sulphur content ###\n",
    "##########################################\n",
    "\n",
    "# inputs\n",
    "first_row = 0 # starts from 0 in a spreadsheet\n",
    "last_row = 100\n",
    "p_tol = 1.e-1 # tolerence for convergence in bars\n",
    "nr_step = 1. # step size for newton raphson [SHOFe insolubles might need to change this]\n",
    "nr_tol = 1.e-9 # tolerance for newton raphson\n",
    "\n",
    "# run model\n",
    "bc.fO2_range_from_S_output(first_row,last_row,setup,species,models,p_tol,nr_step,nr_tol)"
   ]
  },
  {
   "cell_type": "code",
   "execution_count": null,
   "metadata": {},
   "outputs": [],
   "source": [
    "########################\n",
    "### pure CO2 and H2O ###\n",
    "########################\n",
    "\n",
    "run = 0 # row number from file for run (0 is the first row of data)\n",
    "initial_P = 3000. # initial P to run calculation for in bars\n",
    "\n",
    "bc.calc_pure_solubility(run,setup,species,models,initial_P)"
   ]
  },
  {
   "cell_type": "code",
   "execution_count": null,
   "metadata": {},
   "outputs": [],
   "source": [
    "###########################\n",
    "### saturation pressure ###\n",
    "###########################\n",
    "\n",
    "# check calc_sat mode\n",
    "\n",
    "# inputs\n",
    "first_row = 0 # starts from 0 in a spreadsheet\n",
    "last_row = 50\n",
    "p_tol = 1.e-1 # tolerence for convergence in bars\n",
    "nr_step = 1. # step size for newton raphson [SHOFe insolubles might need to change this]\n",
    "nr_tol = 1.e-9 # tolerance for newton raphson\n",
    "\n",
    "# run model\n",
    "bc.P_sat_output(first_row,last_row,p_tol,nr_step,nr_tol,setup,species,models)"
   ]
  },
  {
   "cell_type": "code",
   "execution_count": null,
   "metadata": {},
   "outputs": [],
   "source": [
    "#################\n",
    "### capacities ###\n",
    "#################\n",
    "\n",
    "# inputs\n",
    "first_row = 17 # starts from 0 in a spreadsheet\n",
    "last_row = 54\n",
    "\n",
    "# run model\n",
    "bc.capacities_output(first_row,last_row,setup,species,models)\n",
    "\n",
    "# outputs\n",
    "# n, Sample, lnC_CO3, lnC_H2OT, lnC_S2-, lnC_S6+, lnC_H2S, lnC_H2, lnC_CO, lnC_CH4, M_m_SO"
   ]
  },
  {
   "cell_type": "code",
   "execution_count": null,
   "metadata": {},
   "outputs": [],
   "source": [
    "#################\n",
    "### titrating ###\n",
    "#################\n",
    "\n",
    "# inputs\n",
    "run = 1 # row number from file for run (0 is the first row of data)\n",
    "nr_step = 1. # step-size for the newton-raphson convergence for chemistry = normally 1.\n",
    "nr_tol = 1.e-7 # tolerence for the newton-raphson convergence for chemistry\n",
    "dt_step = 1 # controlls pressure step size\n",
    "psat_tol = 0.1 # accuracy for the saturation pressure calculation in bars\n",
    "\n",
    "# runs model\n",
    "inputs = {\"nr_step\":nr_step,\"nr_tol\":nr_tol,\"dt_step\":dt_step,\"psat_tol\":psat_tol}            \n",
    "bc.titratingS(run,inputs,setup,species,models)"
   ]
  },
  {
   "cell_type": "code",
   "execution_count": null,
   "metadata": {},
   "outputs": [],
   "source": [
    "###############\n",
    "### cooling ###\n",
    "###############\n",
    "\n",
    "# inputs\n",
    "run = 1 # row number from file for run (0 is the first row of data)\n",
    "nr_step = 1.e-1 # step-size for the newton-raphson convergence for chemistry = normally 1.\n",
    "nr_tol = 1.e-7 # tolerence for the newton-raphson convergence for chemistry\n",
    "dt_step = 1 # controlls pressure step size\n",
    "psat_tol = 0.1 # accuracy for the saturation pressure calculation in bars\n",
    "\n",
    "# runs model\n",
    "cooling_inputs = {\"nr_step\":nr_step,\"nr_tol\":nr_tol,\"dt_step\":dt_step,\"psat_tol\":psat_tol}            \n",
    "bc.cooling(run,cooling_inputs,setup,species,models)"
   ]
  },
  {
   "cell_type": "code",
   "execution_count": null,
   "metadata": {},
   "outputs": [],
   "source": [
    "#############################\n",
    "### random comp generator ###\n",
    "#############################\n",
    "\n",
    "# check calc_sat mode\n",
    "\n",
    "# inputs\n",
    "setup = pd.read_csv(\"inputs_comp.csv\")\n",
    "run = 0 # \n",
    "iterations = 100\n",
    "\n",
    "# run model\n",
    "bc.compositions_within_error(setup,run,iterations)"
   ]
  },
  {
   "cell_type": "code",
   "execution_count": null,
   "metadata": {},
   "outputs": [],
   "source": [
    "###########################\n",
    "### S_given_T_P_fO2_C_H ###\n",
    "###########################\n",
    "\n",
    "# inputs\n",
    "first_row = 0 # starts from 0 in a spreadsheet\n",
    "last_row = 31\n",
    "nr_step = 1.\n",
    "nr_tol = 1.e-9\n",
    "\n",
    "# run model\n",
    "bc.S_given_T_P_fO2_C_H_output(first_row,last_row,setup,species,models,nr_step,nr_tol)"
   ]
  },
  {
   "cell_type": "code",
   "execution_count": null,
   "metadata": {},
   "outputs": [],
   "source": [
    "########################################################\n",
    "### fO2 and max S at given P and T for silm+sulf+anh ###\n",
    "########################################################\n",
    "\n",
    "# inputs\n",
    "first_row = 0 # starts from 0 in a spreadsheet\n",
    "last_row = 1\n",
    "\n",
    "# run model\n",
    "bc.fO2_SSA_output(first_row,last_row,setup,species,models)"
   ]
  },
  {
   "cell_type": "code",
   "execution_count": null,
   "metadata": {},
   "outputs": [],
   "source": [
    "#################################\n",
    "### equilibrium at given fO2 ###\n",
    "#################################\n",
    "\n",
    "# inputs\n",
    "option = \"spreadsheet\" # either spreadsheet or loop\n",
    "nr_step = 1. # step-size for the newton-raphson convergence for chemistry = normally 1.\n",
    "nr_tol = 1.e-9 # tolerence for the newton-raphson convergence for chemistry\n",
    "\n",
    "if option == \"loop\":\n",
    "    run = 0 # row number from file for run (0 is the first row of data)\n",
    "    dfO2_step = 1 # controlls logfO2 step size\n",
    "    fO2_i = -15 # initial fO2 in absolute log fO2 bars\n",
    "    fO2_f = -4 # final fO2 in absolute log fO2 bars\n",
    "    no_steps = 50 # number of steps between initial and final fO2\n",
    "    pressure = 1.e-9 # pressure in bars\n",
    "    inputs = {\"nr_step\":nr_step,\"nr_tol\":nr_tol,\"dfO2_step\":dfO2_step, \"fO2_i\":fO2_i, \"fO2_f\":fO2_f, \"P\":pressure, \"no_steps\":no_steps, \"option\":option,\"run\":run}   \n",
    "elif option == \"spreadsheet\":\n",
    "    first_row = 2 # starts from 0 in a spreadsheet\n",
    "    last_row = 52\n",
    "    inputs = {\"nr_step\":nr_step,\"nr_tol\":nr_tol,\"first row\":first_row, \"last row\":last_row, \"option\":option}   \n",
    "    \n",
    "# runs model    \n",
    "bc.eq_given_fO2(inputs,setup,species,models)"
   ]
  },
  {
   "cell_type": "code",
   "execution_count": null,
   "metadata": {
    "scrolled": true
   },
   "outputs": [],
   "source": [
    "#################\n",
    "### Csulphate ###\n",
    "#################\n",
    "\n",
    "# inputs\n",
    "first_row = 0 # starts from 0 in a spreadsheet\n",
    "last_row = 5\n",
    "\n",
    "# run model\n",
    "bc.Csulphate_output(first_row,last_row,setup,species,models)"
   ]
  },
  {
   "cell_type": "code",
   "execution_count": null,
   "metadata": {},
   "outputs": [],
   "source": [
    "################################################\n",
    "### saturation pressure at given fS2 and fO2 ###\n",
    "################################################\n",
    "\n",
    "# inputs\n",
    "first_row = 0 # starts from 0 in a spreadsheet\n",
    "last_row = 10\n",
    "p_tol = 1.e-7 # tolerence for convergence in bars\n",
    "nr_step = 1. # step size for newton raphson\n",
    "nr_tol = 1.e-9 # tolerance for newton raphson\n",
    "\n",
    "# run model\n",
    "bc.P_sat_output_fS2(first_row,last_row,p_tol,nr_step,nr_tol,setup,species,models)"
   ]
  },
  {
   "cell_type": "code",
   "execution_count": null,
   "metadata": {},
   "outputs": [],
   "source": [
    "##########################\n",
    "### Fe3+/Fe2+ from fO2 ###\n",
    "##########################\n",
    "\n",
    "# inputs\n",
    "first_row = 0 # starts from 0 in a spreadsheet\n",
    "last_row = 17\n",
    "\n",
    "# run model\n",
    "bc.Fe3Fe2_output(first_row,last_row,setup,species,models)"
   ]
  },
  {
   "cell_type": "code",
   "execution_count": null,
   "metadata": {},
   "outputs": [],
   "source": [
    "#############################\n",
    "### fugacity coefficients ###\n",
    "#############################\n",
    "\n",
    "# inputs\n",
    "setup = pd.read_csv(\"inputs_y.csv\")\n",
    "first_row = 0 # starts from 0 in a spreadsheet\n",
    "last_row = 35\n",
    "\n",
    "# run model\n",
    "bc.fugacity_coefficients(first_row,last_row,setup,species,models)"
   ]
  },
  {
   "cell_type": "code",
   "execution_count": null,
   "metadata": {},
   "outputs": [],
   "source": []
  }
 ],
 "metadata": {
  "kernelspec": {
   "display_name": "Python 3",
   "language": "python",
   "name": "python3"
  },
  "language_info": {
   "codemirror_mode": {
    "name": "ipython",
    "version": 3
   },
   "file_extension": ".py",
   "mimetype": "text/x-python",
   "name": "python",
   "nbconvert_exporter": "python",
   "pygments_lexer": "ipython3",
   "version": "3.7.6"
  }
 },
 "nbformat": 4,
 "nbformat_minor": 4
}
