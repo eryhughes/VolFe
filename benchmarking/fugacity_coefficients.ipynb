{
 "cells": [
  {
   "cell_type": "markdown",
   "metadata": {},
   "source": [
    "# Benchmarking models for fugacity coefficients\n",
    "\n",
    "This notebook benchmarks the models for fugacity coefficients in VolFe where possible.\n",
    "\n",
    "## Python set-up"
   ]
  },
  {
   "cell_type": "code",
   "execution_count": 1,
   "metadata": {},
   "outputs": [],
   "source": [
    "import pandas as pd\n",
    "import VolFe as vf\n",
    "import math\n",
    "import matplotlib as plt"
   ]
  },
  {
   "cell_type": "markdown",
   "metadata": {},
   "source": [
    "## Models for fugacity coefficient of H2\n",
    "\n",
    "options = y_H2, function = y_H2\n",
    "\n",
    "### 'Shaw64' Eq. (4) from Shaw & Wones (1964)\n",
    "\n",
    "Note: used a value of -0.011901 instead of -0.11901 as reported for calculation of C3 to match data in Table 2.\n",
    "\n",
    "Table 3 in Shaw & Wone's contains values for the fugacity coefficient for various P and T.\n",
    "\n",
    "We spot check ten values here (using values for bars not atmospheres) - they all match to three decimal places.\n",
    "\n",
    "y = 1.133 (P = 500 bar, T = 500)\n",
    "\n",
    "y = 1.085 (P = 500 bar, T = 850)\n",
    "\n",
    "y = 1.073 (P = 500 bar, T = 1000)\n",
    "\n",
    "y = 1.481 (P = 1600 bar, T = 500)\n",
    "\n",
    "y = 1.296 (P = 1600 bar, T = 850)\n",
    "\n",
    "y = 1.252 (P = 1600 bar, T = 1000)\n",
    "\n",
    "y = 1.749 (P = 2300 bar, T = 500)\n",
    "\n",
    "y = 1.378 (P = 2300 bar, T = 1000)\n",
    "\n",
    "y = 1.615 (P = 3000 bar, T = 850)\n",
    "\n",
    "y = 1.515 (P = 3000 bar, T = 1000)"
   ]
  },
  {
   "cell_type": "code",
   "execution_count": 8,
   "metadata": {},
   "outputs": [
    {
     "name": "stdout",
     "output_type": "stream",
     "text": [
      "y =  1.1327128811340401 (P = 500.0 bars, T = 500.0 )\n",
      "y =  1.0853513685035343 (P = 500.0 bars, T = 850.0 )\n",
      "y =  1.0733936356394882 (P = 500.0 bars, T = 1000.0 )\n",
      "y =  1.4812384375778227 (P = 1600.0 bars, T = 500.0 )\n",
      "y =  1.295939045430643 (P = 1600.0 bars, T = 850.0 )\n",
      "y =  1.2516574282929442 (P = 1600.0 bars, T = 1000.0 )\n",
      "y =  1.7496048740312717 (P = 2300.0 bars, T = 500.0 )\n",
      "y =  1.3780736491913488 (P = 2300.0 bars, T = 1000.0 )\n",
      "y =  1.6148638426007402 (P = 3000.0 bars, T = 850.0 )\n",
      "y =  1.5154237931859629 (P = 3000.0 bars, T = 1000.0 )\n"
     ]
    }
   ],
   "source": [
    "my_models = [[\"y_H2\", \"Shaw64\"]]\n",
    "my_models = vf.make_df_and_add_model_defaults(my_models)\n",
    "\n",
    "PT = {\"P\":500.} # bar\n",
    "PT[\"T\"]=500. # 'C\n",
    "y = vf.y_H2(PT,models=my_models)\n",
    "print('y = ', y, '(P =',PT['P'],'bars, T =', PT['T'],')')\n",
    "PT[\"T\"]=850. # 'C\n",
    "y = vf.y_H2(PT,models=my_models)\n",
    "print('y = ', y, '(P =',PT['P'],'bars, T =', PT['T'],')')\n",
    "PT[\"T\"]=1000. # 'C\n",
    "y = vf.y_H2(PT,models=my_models)\n",
    "print('y = ', y, '(P =',PT['P'],'bars, T =', PT['T'],')')\n",
    "PT = {\"P\":1600.} # bar\n",
    "PT[\"T\"]=500. # 'C\n",
    "y = vf.y_H2(PT,models=my_models)\n",
    "print('y = ', y, '(P =',PT['P'],'bars, T =', PT['T'],')')\n",
    "PT[\"T\"]=850. # 'C\n",
    "y = vf.y_H2(PT,models=my_models)\n",
    "print('y = ', y, '(P =',PT['P'],'bars, T =', PT['T'],')')\n",
    "PT[\"T\"]=1000. # 'C\n",
    "y = vf.y_H2(PT,models=my_models)\n",
    "print('y = ', y, '(P =',PT['P'],'bars, T =', PT['T'],')')\n",
    "PT = {\"P\":2300.} # bar\n",
    "PT[\"T\"]=500. # 'C\n",
    "y = vf.y_H2(PT,models=my_models)\n",
    "print('y = ', y, '(P =',PT['P'],'bars, T =', PT['T'],')')\n",
    "PT[\"T\"]=1000. # 'C\n",
    "y = vf.y_H2(PT,models=my_models)\n",
    "print('y = ', y, '(P =',PT['P'],'bars, T =', PT['T'],')')\n",
    "PT = {\"P\":3000.} # bar\n",
    "PT[\"T\"]=850. # 'C\n",
    "y = vf.y_H2(PT,models=my_models)\n",
    "print('y = ', y, '(P =',PT['P'],'bars, T =', PT['T'],')')\n",
    "PT[\"T\"]=1000. # 'C\n",
    "y = vf.y_H2(PT,models=my_models)\n",
    "print('y = ', y, '(P =',PT['P'],'bars, T =', PT['T'],')')\n"
   ]
  }
 ],
 "metadata": {
  "kernelspec": {
   "display_name": "volfe-dev",
   "language": "python",
   "name": "python3"
  },
  "language_info": {
   "codemirror_mode": {
    "name": "ipython",
    "version": 3
   },
   "file_extension": ".py",
   "mimetype": "text/x-python",
   "name": "python",
   "nbconvert_exporter": "python",
   "pygments_lexer": "ipython3",
   "version": "3.13.0"
  }
 },
 "nbformat": 4,
 "nbformat_minor": 2
}
