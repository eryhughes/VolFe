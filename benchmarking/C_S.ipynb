{
 "cells": [
  {
   "cell_type": "markdown",
   "metadata": {},
   "source": [
    "# Solubility function for sulfide\n",
    "\n",
    "This notebook benchmarks the solubility functions for sulfide available in VolFe.\n",
    "\n",
    "## Python set-up"
   ]
  },
  {
   "cell_type": "code",
   "execution_count": 6,
   "metadata": {},
   "outputs": [],
   "source": [
    "import pandas as pd\n",
    "import VolFe as vf\n",
    "import math"
   ]
  },
  {
   "cell_type": "markdown",
   "metadata": {},
   "source": [
    "## Inputs to S2-CSS models\n",
    "\n",
    "Average of high-SiO2 pillow-rim glasses in HSDP from Mauna Kea volcano from Brounce et al. (2017)."
   ]
  },
  {
   "cell_type": "code",
   "execution_count": 9,
   "metadata": {},
   "outputs": [],
   "source": [
    "my_analysis = {\n",
    "        \"Sample\": \"Hawaiian basalt\",\n",
    "        \"T_C\": 1200.0,  # Temperature in 'C\n",
    "        \"SiO2\": 51.29,  # wt%\n",
    "        \"TiO2\": 2.50,  # wt%\n",
    "        \"Al2O3\": 13.70,  # wt%\n",
    "        \"FeOT\": 11.04,  # wt%\n",
    "        \"MnO\": 0.02,  # wt%\n",
    "        \"MgO\": 6.70,  # wt%\n",
    "        \"CaO\": 11.03,  # wt%\n",
    "        \"Na2O\": 2.27,  # wt%\n",
    "        \"K2O\": 0.43,  # wt%\n",
    "        \"P2O5\": 0.,  # wt%\n",
    "        \"H2O\": 0.,  # wt%\n",
    "        \"CO2ppm\": 0.,  # ppm\n",
    "        \"STppm\": 0.,  # ppm\n",
    "        \"Xppm\": 0.0,  # ppm\n",
    "        \"Fe3FeT\": 0.1,\n",
    "    }\n",
    "\n",
    "my_analysis = pd.DataFrame(my_analysis, index=[0])\n",
    "\n",
    "PT = {\"P\":1000.}\n",
    "PT[\"T\"]=1200.\n",
    "\n",
    "melt_wf=vf.melt_comp(0.,my_analysis)\n",
    "melt_wf['CO2'] = my_analysis.loc[0.,\"CO2ppm\"]/1000000.\n",
    "melt_wf[\"H2OT\"] = my_analysis.loc[0,\"H2O\"]/100.\n",
    "melt_wf['ST'] = my_analysis.loc[0.,\"STppm\"]/1000000.\n",
    "melt_wf['CT'] = (melt_wf['CO2']/vf.species.loc['CO2','M'])*vf.species.loc['C','M']\n",
    "melt_wf['HT'] = (melt_wf['H2OT']/vf.species.loc['H2O','M'])*(2.*vf.species.loc['H','M'])\n",
    "melt_wf['XT'] = my_analysis.loc[0.,\"Xppm\"]/1000000.\n",
    "melt_wf[\"Fe3FeT\"] = my_analysis.loc[0.,\"Fe3FeT\"]/1000000."
   ]
  },
  {
   "cell_type": "code",
   "execution_count": 10,
   "metadata": {},
   "outputs": [
    {
     "data": {
      "text/plain": [
       "-4.198426995788897"
      ]
     },
     "execution_count": 10,
     "metadata": {},
     "output_type": "execute_result"
    }
   ],
   "source": [
    "my_models = [[\"sulfide\", \"Boulliung23eq7\"]]\n",
    "my_models = vf.make_df_and_add_model_defaults(my_models)\n",
    "math.log10(vf.C_S(PT,melt_wf,models=my_models))"
   ]
  },
  {
   "cell_type": "markdown",
   "metadata": {},
   "source": [
    "'Liu07' Eq. (9) in Liu et al. (2007) GCA 71:1783-1799 doi:10.1016/j.gca.2007.01.004\n",
    "\n",
    "'Fortin15_pss' Fortin et al. (2015) using PySulfSat by Wieser & Gleeson (2023) Volcanica 6(1):107-127 doi:10.30909/vol.06.01.107127\n",
    "\n",
    "'Liu21_pss' Liu et al. (2021) using PySulfSat by Wieser & Gleeson (2023) Volcanica 6(1):107-127 doi:10.30909/vol.06.01.107127\n",
    "\n",
    "'ONeill21_pss' O'Neill (2021) using PySulfSat by Wieser & Gleeson (2023) Volcanica 6(1):107-127 doi:10.30909/vol.06.01.107127\n",
    "\n",
    "'ONeill22_pss' O'Neill & Mavrogenes (2022) using PySulfSat by Wieser & Gleeson (2023) Volcanica 6(1):107-127 doi:10.30909/vol.06.01.107127\n",
    "\n",
    "'Smythe17_pss' Smythe et al. (2017) using PySulfSat by Wieser & Gleeson (2023) Volcanica 6(1):107-127 doi:10.30909/vol.06.01.107127"
   ]
  },
  {
   "cell_type": "markdown",
   "metadata": {},
   "source": [
    "'ONeill21hyd' Eq. (10.34, 10.43, 10.45, 10.46, 10.49) from O'Neill (2021) in \"Magma Redox Geochemistry\" doi:10.1002/9781119473206.ch10\n",
    "\n",
    "'ONeill21' Eq. (10.34, 10.43, 10.45, 10.46) excluding water dilution from O'Neill (2021) in \"Magma Redox Geochemistry\" doi:10.1002/9781119473206.ch10\n",
    "\n",
    "'ONeill21dil' Eq. (10.34, 10.43, 10.45, 10.46) including water dilution from O'Neill (2021) in \"Magma Redox Geochemistry\" doi:10.1002/9781119473206.ch10\n",
    "\n",
    "His spreadsheet says 1540 ppm..."
   ]
  },
  {
   "cell_type": "code",
   "execution_count": null,
   "metadata": {},
   "outputs": [],
   "source": [
    "my_models = [[\"SCSS\", \"ONeill21hyd\"],[\"sulfide\", \"ONeill21hyd\"]]\n",
    "my_models = vf.make_df_and_add_model_defaults(my_models)\n",
    "vf.SCSS(PT,melt_wf,models=my_models)"
   ]
  },
  {
   "cell_type": "code",
   "execution_count": null,
   "metadata": {},
   "outputs": [],
   "source": [
    "my_models = [[\"SCSS\", \"ONeill21\"],[\"sulfide\", \"ONeill21\"]]\n",
    "my_models = vf.make_df_and_add_model_defaults(my_models)\n",
    "vf.SCSS(PT,melt_wf,models=my_models)"
   ]
  },
  {
   "cell_type": "code",
   "execution_count": null,
   "metadata": {},
   "outputs": [],
   "source": [
    "my_models = [[\"SCSS\", \"ONeill21dil\"],[\"sulfide\", \"ONeill21dil\"]]\n",
    "my_models = vf.make_df_and_add_model_defaults(my_models)\n",
    "vf.SCSS(PT,melt_wf,models=my_models)"
   ]
  },
  {
   "cell_type": "code",
   "execution_count": null,
   "metadata": {},
   "outputs": [],
   "source": [
    "my_models = [[\"SCSS\", \"ONeill21_pss\"]]\n",
    "my_models = vf.make_df_and_add_model_defaults(my_models)\n",
    "vf.SCSS(PT,melt_wf,models=my_models)"
   ]
  },
  {
   "cell_type": "code",
   "execution_count": null,
   "metadata": {},
   "outputs": [],
   "source": [
    "my_models = [[\"SCSS\", \"ONeill22_pss\"]]\n",
    "my_models = vf.make_df_and_add_model_defaults(my_models)\n",
    "vf.SCSS(PT,melt_wf,models=my_models)"
   ]
  },
  {
   "cell_type": "markdown",
   "metadata": {},
   "source": [
    "Zajacz et al. (2019)"
   ]
  },
  {
   "cell_type": "code",
   "execution_count": null,
   "metadata": {},
   "outputs": [],
   "source": [
    "my_models = [[\"SCAS\", \"Zajacz19\"]]\n",
    "my_models = vf.make_df_and_add_model_defaults(my_models)\n",
    "vf.SCAS(PT,melt_wf,models=my_models)"
   ]
  },
  {
   "cell_type": "code",
   "execution_count": null,
   "metadata": {},
   "outputs": [],
   "source": [
    "my_models = [[\"SCAS\", \"Zajacz19_pss\"]]\n",
    "my_models = vf.make_df_and_add_model_defaults(my_models)\n",
    "vf.SCAS(PT,melt_wf,models=my_models)"
   ]
  },
  {
   "cell_type": "markdown",
   "metadata": {},
   "source": [
    "Chowdhury & Dasgupta (2019)"
   ]
  },
  {
   "cell_type": "code",
   "execution_count": null,
   "metadata": {},
   "outputs": [],
   "source": [
    "my_models = [[\"SCAS\", \"Chowdhury19\"]]\n",
    "my_models = vf.make_df_and_add_model_defaults(my_models)\n",
    "vf.SCAS(PT,melt_wf,models=my_models)"
   ]
  },
  {
   "cell_type": "code",
   "execution_count": 3,
   "metadata": {},
   "outputs": [
    {
     "name": "stdout",
     "output_type": "stream",
     "text": [
      "0.03\n"
     ]
    },
    {
     "ename": "KeyError",
     "evalue": "'H2O_Liq'",
     "output_type": "error",
     "traceback": [
      "\u001b[1;31m---------------------------------------------------------------------------\u001b[0m",
      "\u001b[1;31mKeyError\u001b[0m                                  Traceback (most recent call last)",
      "File \u001b[1;32mc:\\Users\\ehughes\\AppData\\Local\\miniforge3\\envs\\volfe-dev\\Lib\\site-packages\\pandas\\core\\indexes\\base.py:3805\u001b[0m, in \u001b[0;36mIndex.get_loc\u001b[1;34m(self, key)\u001b[0m\n\u001b[0;32m   3804\u001b[0m \u001b[38;5;28;01mtry\u001b[39;00m:\n\u001b[1;32m-> 3805\u001b[0m     \u001b[38;5;28;01mreturn\u001b[39;00m \u001b[38;5;28;43mself\u001b[39;49m\u001b[38;5;241;43m.\u001b[39;49m\u001b[43m_engine\u001b[49m\u001b[38;5;241;43m.\u001b[39;49m\u001b[43mget_loc\u001b[49m\u001b[43m(\u001b[49m\u001b[43mcasted_key\u001b[49m\u001b[43m)\u001b[49m\n\u001b[0;32m   3806\u001b[0m \u001b[38;5;28;01mexcept\u001b[39;00m \u001b[38;5;167;01mKeyError\u001b[39;00m \u001b[38;5;28;01mas\u001b[39;00m err:\n",
      "File \u001b[1;32mindex.pyx:167\u001b[0m, in \u001b[0;36mpandas._libs.index.IndexEngine.get_loc\u001b[1;34m()\u001b[0m\n",
      "File \u001b[1;32mindex.pyx:196\u001b[0m, in \u001b[0;36mpandas._libs.index.IndexEngine.get_loc\u001b[1;34m()\u001b[0m\n",
      "File \u001b[1;32mpandas\\\\_libs\\\\hashtable_class_helper.pxi:7081\u001b[0m, in \u001b[0;36mpandas._libs.hashtable.PyObjectHashTable.get_item\u001b[1;34m()\u001b[0m\n",
      "File \u001b[1;32mpandas\\\\_libs\\\\hashtable_class_helper.pxi:7089\u001b[0m, in \u001b[0;36mpandas._libs.hashtable.PyObjectHashTable.get_item\u001b[1;34m()\u001b[0m\n",
      "\u001b[1;31mKeyError\u001b[0m: 'H2O_Liq'",
      "\nThe above exception was the direct cause of the following exception:\n",
      "\u001b[1;31mKeyError\u001b[0m                                  Traceback (most recent call last)",
      "Cell \u001b[1;32mIn[3], line 3\u001b[0m\n\u001b[0;32m      1\u001b[0m my_models \u001b[38;5;241m=\u001b[39m [[\u001b[38;5;124m\"\u001b[39m\u001b[38;5;124mSCAS\u001b[39m\u001b[38;5;124m\"\u001b[39m, \u001b[38;5;124m\"\u001b[39m\u001b[38;5;124mMasotta15_pss\u001b[39m\u001b[38;5;124m\"\u001b[39m]]\n\u001b[0;32m      2\u001b[0m my_models \u001b[38;5;241m=\u001b[39m vf\u001b[38;5;241m.\u001b[39mmake_df_and_add_model_defaults(my_models)\n\u001b[1;32m----> 3\u001b[0m \u001b[43mvf\u001b[49m\u001b[38;5;241;43m.\u001b[39;49m\u001b[43mSCAS\u001b[49m\u001b[43m(\u001b[49m\u001b[43mPT\u001b[49m\u001b[43m,\u001b[49m\u001b[43mmelt_wf\u001b[49m\u001b[43m,\u001b[49m\u001b[43mmodels\u001b[49m\u001b[38;5;241;43m=\u001b[39;49m\u001b[43mmy_models\u001b[49m\u001b[43m)\u001b[49m\n",
      "File \u001b[1;32m~\\projects\\VolFe\\src\\VolFe\\model_dependent_variables.py:1636\u001b[0m, in \u001b[0;36mSCAS\u001b[1;34m(PT, melt_wf, models)\u001b[0m\n\u001b[0;32m   1634\u001b[0m \u001b[38;5;28;01melif\u001b[39;00m model \u001b[38;5;241m==\u001b[39m \u001b[38;5;124m\"\u001b[39m\u001b[38;5;124mMasotta15_pss\u001b[39m\u001b[38;5;124m\"\u001b[39m: \u001b[38;5;66;03m# Masotta and Kepler (2015) using PySulfSat by Wieser and Gleeson (2023) Volcanica 6(1):107-127 doi:10.30909/vol.06.01.107127\u001b[39;00m\n\u001b[0;32m   1635\u001b[0m     \u001b[38;5;28mprint\u001b[39m(melt_wf[\u001b[38;5;124m'\u001b[39m\u001b[38;5;124mH2OT\u001b[39m\u001b[38;5;124m'\u001b[39m])\n\u001b[1;32m-> 1636\u001b[0m     output \u001b[38;5;241m=\u001b[39m \u001b[43mss\u001b[49m\u001b[38;5;241;43m.\u001b[39;49m\u001b[43mcalculate_MK2015_SCAS\u001b[49m\u001b[43m(\u001b[49m\u001b[43mdf\u001b[49m\u001b[38;5;241;43m=\u001b[39;49m\u001b[43mcomp\u001b[49m\u001b[43m,\u001b[49m\u001b[43m \u001b[49m\u001b[43mT_K\u001b[49m\u001b[38;5;241;43m=\u001b[39;49m\u001b[43mT\u001b[49m\u001b[43m,\u001b[49m\u001b[43m \u001b[49m\u001b[43mH2O_Liq\u001b[49m\u001b[38;5;241;43m=\u001b[39;49m\u001b[43m(\u001b[49m\u001b[38;5;28;43mfloat\u001b[39;49m\u001b[43m(\u001b[49m\u001b[38;5;241;43m100.\u001b[39;49m\u001b[38;5;241;43m*\u001b[39;49m\u001b[43mmelt_wf\u001b[49m\u001b[43m[\u001b[49m\u001b[38;5;124;43m'\u001b[39;49m\u001b[38;5;124;43mH2OT\u001b[39;49m\u001b[38;5;124;43m'\u001b[39;49m\u001b[43m]\u001b[49m\u001b[43m)\u001b[49m\u001b[43m)\u001b[49m\u001b[43m,\u001b[49m\u001b[43m \u001b[49m\u001b[43mFe3Fet_Liq\u001b[49m\u001b[38;5;241;43m=\u001b[39;49m\u001b[38;5;28;43;01mNone\u001b[39;49;00m\u001b[43m,\u001b[49m\u001b[43m \u001b[49m\u001b[43mP_kbar\u001b[49m\u001b[38;5;241;43m=\u001b[39;49m\u001b[38;5;28;43;01mNone\u001b[39;49;00m\u001b[43m)\u001b[49m\n\u001b[0;32m   1637\u001b[0m     S6CAS \u001b[38;5;241m=\u001b[39m \u001b[38;5;28mfloat\u001b[39m(output[\u001b[38;5;124m\"\u001b[39m\u001b[38;5;124mSCAS6_ppm\u001b[39m\u001b[38;5;124m\"\u001b[39m]\u001b[38;5;241m.\u001b[39miloc[\u001b[38;5;241m0\u001b[39m])\n\u001b[0;32m   1639\u001b[0m \u001b[38;5;28;01mreturn\u001b[39;00m S6CAS\n",
      "File \u001b[1;32mc:\\Users\\ehughes\\AppData\\Local\\miniforge3\\envs\\volfe-dev\\Lib\\site-packages\\PySulfSat\\scas_calc.py:235\u001b[0m, in \u001b[0;36mcalculate_MK2015_SCAS\u001b[1;34m(df, T_K, H2O_Liq, Fe3Fet_Liq, P_kbar)\u001b[0m\n\u001b[0;32m    223\u001b[0m mol_prop_sum \u001b[38;5;241m=\u001b[39m mol_prop\u001b[38;5;241m.\u001b[39msum(axis\u001b[38;5;241m=\u001b[39m\u001b[38;5;124m'\u001b[39m\u001b[38;5;124mcolumns\u001b[39m\u001b[38;5;124m'\u001b[39m)\n\u001b[0;32m    225\u001b[0m NBOT\u001b[38;5;241m=\u001b[39m((\u001b[38;5;241m2\u001b[39m\u001b[38;5;241m*\u001b[39m(\u001b[38;5;241m2\u001b[39m\u001b[38;5;241m*\u001b[39mcat_frac[\u001b[38;5;124m'\u001b[39m\u001b[38;5;124mSi_Liq_cat_frac\u001b[39m\u001b[38;5;124m'\u001b[39m]\n\u001b[0;32m    226\u001b[0m \u001b[38;5;241m+\u001b[39m\u001b[38;5;241m2\u001b[39m\u001b[38;5;241m*\u001b[39mcat_frac[\u001b[38;5;124m'\u001b[39m\u001b[38;5;124mTi_Liq_cat_frac\u001b[39m\u001b[38;5;124m'\u001b[39m]\u001b[38;5;241m+\u001b[39m\u001b[38;5;241m1.5\u001b[39m\u001b[38;5;241m*\u001b[39mcat_frac[\u001b[38;5;124m'\u001b[39m\u001b[38;5;124mAl_Liq_cat_frac\u001b[39m\u001b[38;5;124m'\u001b[39m]\n\u001b[0;32m    227\u001b[0m     \u001b[38;5;241m+\u001b[39mcat_frac[\u001b[38;5;124m'\u001b[39m\u001b[38;5;124mFet_Liq_cat_frac\u001b[39m\u001b[38;5;124m'\u001b[39m]\u001b[38;5;241m+\u001b[39mcat_frac[\u001b[38;5;124m'\u001b[39m\u001b[38;5;124mMg_Liq_cat_frac\u001b[39m\u001b[38;5;124m'\u001b[39m]\n\u001b[1;32m   (...)\u001b[0m\n\u001b[0;32m    231\u001b[0m \u001b[38;5;241m/\u001b[39m(cat_frac[\u001b[38;5;124m'\u001b[39m\u001b[38;5;124mSi_Liq_cat_frac\u001b[39m\u001b[38;5;124m'\u001b[39m]\u001b[38;5;241m+\u001b[39mcat_frac[\u001b[38;5;124m'\u001b[39m\u001b[38;5;124mTi_Liq_cat_frac\u001b[39m\u001b[38;5;124m'\u001b[39m]\n\u001b[0;32m    232\u001b[0m \u001b[38;5;241m+\u001b[39mcat_frac[\u001b[38;5;124m'\u001b[39m\u001b[38;5;124mAl_Liq_cat_frac\u001b[39m\u001b[38;5;124m'\u001b[39m]))\n\u001b[0;32m    234\u001b[0m LnKps\u001b[38;5;241m=\u001b[39m(\u001b[38;5;241m8.95\u001b[39m\u001b[38;5;241m+\u001b[39m\u001b[38;5;241m-\u001b[39m\u001b[38;5;241m146.5\u001b[39m\u001b[38;5;241m*\u001b[39mNBOT\u001b[38;5;241m+\u001b[39m(\u001b[38;5;241m-\u001b[39m\u001b[38;5;241m26960\u001b[39m\u001b[38;5;241m/\u001b[39m(T_K))\u001b[38;5;241m+\u001b[39m\u001b[38;5;241m197200\u001b[39m\u001b[38;5;241m*\u001b[39mNBOT\u001b[38;5;241m*\u001b[39m(\u001b[38;5;241m1\u001b[39m\u001b[38;5;241m/\u001b[39m(T_K))\n\u001b[1;32m--> 235\u001b[0m        \u001b[38;5;241m+\u001b[39m\u001b[38;5;241m0.409\u001b[39m\u001b[38;5;241m*\u001b[39m\u001b[43mdf_c\u001b[49m\u001b[43m[\u001b[49m\u001b[38;5;124;43m'\u001b[39;49m\u001b[38;5;124;43mH2O_Liq\u001b[39;49m\u001b[38;5;124;43m'\u001b[39;49m\u001b[43m]\u001b[49m)\n\u001b[0;32m    237\u001b[0m \u001b[38;5;66;03m# Wont match exactly as they include SO3 in their sum, which we dont know\u001b[39;00m\n\u001b[0;32m    238\u001b[0m CaO_MF\u001b[38;5;241m=\u001b[39m((df_c[\u001b[38;5;124m'\u001b[39m\u001b[38;5;124mCaO_Liq\u001b[39m\u001b[38;5;124m'\u001b[39m]\u001b[38;5;241m/\u001b[39m\u001b[38;5;241m56.0774\u001b[39m)\u001b[38;5;241m/\u001b[39m(mol_prop_sum\u001b[38;5;241m-\u001b[39mmol_prop[\u001b[38;5;124m'\u001b[39m\u001b[38;5;124mCaO_Liq_mol_prop\u001b[39m\u001b[38;5;124m'\u001b[39m]\n\u001b[0;32m    239\u001b[0m         \u001b[38;5;241m+\u001b[39mdf_c[\u001b[38;5;124m'\u001b[39m\u001b[38;5;124mCaO_Liq\u001b[39m\u001b[38;5;124m'\u001b[39m]\u001b[38;5;241m/\u001b[39m\u001b[38;5;241m56.0774\u001b[39m))\n",
      "File \u001b[1;32mc:\\Users\\ehughes\\AppData\\Local\\miniforge3\\envs\\volfe-dev\\Lib\\site-packages\\pandas\\core\\frame.py:4102\u001b[0m, in \u001b[0;36mDataFrame.__getitem__\u001b[1;34m(self, key)\u001b[0m\n\u001b[0;32m   4100\u001b[0m \u001b[38;5;28;01mif\u001b[39;00m \u001b[38;5;28mself\u001b[39m\u001b[38;5;241m.\u001b[39mcolumns\u001b[38;5;241m.\u001b[39mnlevels \u001b[38;5;241m>\u001b[39m \u001b[38;5;241m1\u001b[39m:\n\u001b[0;32m   4101\u001b[0m     \u001b[38;5;28;01mreturn\u001b[39;00m \u001b[38;5;28mself\u001b[39m\u001b[38;5;241m.\u001b[39m_getitem_multilevel(key)\n\u001b[1;32m-> 4102\u001b[0m indexer \u001b[38;5;241m=\u001b[39m \u001b[38;5;28;43mself\u001b[39;49m\u001b[38;5;241;43m.\u001b[39;49m\u001b[43mcolumns\u001b[49m\u001b[38;5;241;43m.\u001b[39;49m\u001b[43mget_loc\u001b[49m\u001b[43m(\u001b[49m\u001b[43mkey\u001b[49m\u001b[43m)\u001b[49m\n\u001b[0;32m   4103\u001b[0m \u001b[38;5;28;01mif\u001b[39;00m is_integer(indexer):\n\u001b[0;32m   4104\u001b[0m     indexer \u001b[38;5;241m=\u001b[39m [indexer]\n",
      "File \u001b[1;32mc:\\Users\\ehughes\\AppData\\Local\\miniforge3\\envs\\volfe-dev\\Lib\\site-packages\\pandas\\core\\indexes\\base.py:3812\u001b[0m, in \u001b[0;36mIndex.get_loc\u001b[1;34m(self, key)\u001b[0m\n\u001b[0;32m   3807\u001b[0m     \u001b[38;5;28;01mif\u001b[39;00m \u001b[38;5;28misinstance\u001b[39m(casted_key, \u001b[38;5;28mslice\u001b[39m) \u001b[38;5;129;01mor\u001b[39;00m (\n\u001b[0;32m   3808\u001b[0m         \u001b[38;5;28misinstance\u001b[39m(casted_key, abc\u001b[38;5;241m.\u001b[39mIterable)\n\u001b[0;32m   3809\u001b[0m         \u001b[38;5;129;01mand\u001b[39;00m \u001b[38;5;28many\u001b[39m(\u001b[38;5;28misinstance\u001b[39m(x, \u001b[38;5;28mslice\u001b[39m) \u001b[38;5;28;01mfor\u001b[39;00m x \u001b[38;5;129;01min\u001b[39;00m casted_key)\n\u001b[0;32m   3810\u001b[0m     ):\n\u001b[0;32m   3811\u001b[0m         \u001b[38;5;28;01mraise\u001b[39;00m InvalidIndexError(key)\n\u001b[1;32m-> 3812\u001b[0m     \u001b[38;5;28;01mraise\u001b[39;00m \u001b[38;5;167;01mKeyError\u001b[39;00m(key) \u001b[38;5;28;01mfrom\u001b[39;00m \u001b[38;5;21;01merr\u001b[39;00m\n\u001b[0;32m   3813\u001b[0m \u001b[38;5;28;01mexcept\u001b[39;00m \u001b[38;5;167;01mTypeError\u001b[39;00m:\n\u001b[0;32m   3814\u001b[0m     \u001b[38;5;66;03m# If we have a listlike key, _check_indexing_error will raise\u001b[39;00m\n\u001b[0;32m   3815\u001b[0m     \u001b[38;5;66;03m#  InvalidIndexError. Otherwise we fall through and re-raise\u001b[39;00m\n\u001b[0;32m   3816\u001b[0m     \u001b[38;5;66;03m#  the TypeError.\u001b[39;00m\n\u001b[0;32m   3817\u001b[0m     \u001b[38;5;28mself\u001b[39m\u001b[38;5;241m.\u001b[39m_check_indexing_error(key)\n",
      "\u001b[1;31mKeyError\u001b[0m: 'H2O_Liq'"
     ]
    }
   ],
   "source": [
    "my_models = [[\"SCAS\", \"Masotta15_pss\"]]\n",
    "my_models = vf.make_df_and_add_model_defaults(my_models)\n",
    "vf.SCAS(PT,melt_wf,models=my_models)"
   ]
  }
 ],
 "metadata": {
  "kernelspec": {
   "display_name": "volfe-dev",
   "language": "python",
   "name": "python3"
  },
  "language_info": {
   "codemirror_mode": {
    "name": "ipython",
    "version": 3
   },
   "file_extension": ".py",
   "mimetype": "text/x-python",
   "name": "python",
   "nbconvert_exporter": "python",
   "pygments_lexer": "ipython3",
   "version": "3.13.0"
  }
 },
 "nbformat": 4,
 "nbformat_minor": 2
}
