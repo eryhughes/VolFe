{
 "cells": [
  {
   "cell_type": "markdown",
   "metadata": {},
   "source": [
    "# Sulfide content at sulfide saturation\n",
    "\n",
    "This notebook benchmarks the sulfide content at sulfide saturation (S2-CSS) models available in VolFe.\n",
    "\n",
    "## Python set-up"
   ]
  },
  {
   "cell_type": "code",
   "execution_count": 1,
   "metadata": {},
   "outputs": [],
   "source": [
    "import pandas as pd\n",
    "import VolFe as vf"
   ]
  },
  {
   "cell_type": "markdown",
   "metadata": {},
   "source": [
    "## Inputs to S2-CSS models\n",
    "\n",
    "Average of high-SiO2 pillow-rim glasses in HSDP from Mauna Kea volcano from Brounce et al. (2017)."
   ]
  },
  {
   "cell_type": "code",
   "execution_count": 3,
   "metadata": {},
   "outputs": [],
   "source": [
    "my_analysis = {\n",
    "        \"Sample\": \"Hawaiian basalt\",\n",
    "        \"T_C\": 1200.0,  # Temperature in 'C\n",
    "        \"SiO2\": 51.29,  # wt%\n",
    "        \"TiO2\": 2.50,  # wt%\n",
    "        \"Al2O3\": 13.70,  # wt%\n",
    "        \"FeOT\": 11.04,  # wt%\n",
    "        \"MnO\": 0.02,  # wt%\n",
    "        \"MgO\": 6.70,  # wt%\n",
    "        \"CaO\": 11.03,  # wt%\n",
    "        \"Na2O\": 2.27,  # wt%\n",
    "        \"K2O\": 0.43,  # wt%\n",
    "        \"P2O5\": 0.21,  # wt%\n",
    "        \"H2O\": 3.,  # wt%\n",
    "        \"CO2ppm\": 1000.,  # ppm\n",
    "        \"STppm\": 0.,  # ppm\n",
    "        \"Xppm\": 0.0,  # ppm\n",
    "        \"Fe3FeT\": 0.1,\n",
    "    }\n",
    "\n",
    "my_analysis = pd.DataFrame(my_analysis, index=[0])\n",
    "\n",
    "PT = {\"P\":1000.}\n",
    "PT[\"T\"]=1200.\n",
    "\n",
    "melt_wf=vf.melt_comp(0.,my_analysis)\n",
    "melt_wf['CO2'] = my_analysis.loc[0.,\"CO2ppm\"]/1000000.\n",
    "melt_wf[\"H2OT\"] = my_analysis.loc[0,\"H2O\"]/100.\n",
    "melt_wf['ST'] = my_analysis.loc[0.,\"STppm\"]/1000000.\n",
    "melt_wf['CT'] = (melt_wf['CO2']/vf.species.loc['CO2','M'])*vf.species.loc['C','M']\n",
    "melt_wf['HT'] = (melt_wf['H2OT']/vf.species.loc['H2O','M'])*(2.*vf.species.loc['H','M'])\n",
    "melt_wf['XT'] = my_analysis.loc[0.,\"Xppm\"]/1000000.\n",
    "melt_wf[\"Fe3FeT\"] = my_analysis.loc[0.,\"Fe3FeT\"]/1000000."
   ]
  },
  {
   "cell_type": "markdown",
   "metadata": {},
   "source": [
    "'Liu07' Eq. (9) in Liu et al. (2007) GCA 71:1783-1799 doi:10.1016/j.gca.2007.01.004\n",
    "\n",
    "'Fortin15_pss' Fortin et al. (2015) using PySulfSat by Wieser & Gleeson (2023) Volcanica 6(1):107-127 doi:10.30909/vol.06.01.107127\n",
    "\n",
    "'Liu21_pss' Liu et al. (2021) using PySulfSat by Wieser & Gleeson (2023) Volcanica 6(1):107-127 doi:10.30909/vol.06.01.107127\n",
    "\n",
    "'ONeill21_pss' O'Neill (2021) using PySulfSat by Wieser & Gleeson (2023) Volcanica 6(1):107-127 doi:10.30909/vol.06.01.107127\n",
    "\n",
    "'ONeill22_pss' O'Neill & Mavrogenes (2022) using PySulfSat by Wieser & Gleeson (2023) Volcanica 6(1):107-127 doi:10.30909/vol.06.01.107127\n",
    "\n",
    "'Smythe17_pss' Smythe et al. (2017) using PySulfSat by Wieser & Gleeson (2023) Volcanica 6(1):107-127 doi:10.30909/vol.06.01.107127"
   ]
  },
  {
   "cell_type": "markdown",
   "metadata": {},
   "source": [
    "'ONeill21hyd' Eq. (10.34, 10.43, 10.45, 10.46, 10.49) from O'Neill (2021) in \"Magma Redox Geochemistry\" doi:10.1002/9781119473206.ch10\n",
    "\n",
    "'ONeill21' Eq. (10.34, 10.43, 10.45, 10.46) excluding water dilution from O'Neill (2021) in \"Magma Redox Geochemistry\" doi:10.1002/9781119473206.ch10\n",
    "\n",
    "'ONeill21dil' Eq. (10.34, 10.43, 10.45, 10.46) including water dilution from O'Neill (2021) in \"Magma Redox Geochemistry\" doi:10.1002/9781119473206.ch10\n",
    "\n",
    "His spreadsheet says 1540 ppm..."
   ]
  },
  {
   "cell_type": "code",
   "execution_count": 3,
   "metadata": {},
   "outputs": [
    {
     "data": {
      "text/plain": [
       "968.258565388913"
      ]
     },
     "execution_count": 3,
     "metadata": {},
     "output_type": "execute_result"
    }
   ],
   "source": [
    "my_models = [[\"SCSS\", \"ONeill21hyd\"],[\"sulfide\", \"ONeill21hyd\"]]\n",
    "my_models = vf.make_df_and_add_model_defaults(my_models)\n",
    "vf.SCSS(PT,melt_wf,models=my_models)"
   ]
  },
  {
   "cell_type": "code",
   "execution_count": 4,
   "metadata": {},
   "outputs": [
    {
     "data": {
      "text/plain": [
       "1272.3985863740227"
      ]
     },
     "execution_count": 4,
     "metadata": {},
     "output_type": "execute_result"
    }
   ],
   "source": [
    "my_models = [[\"SCSS\", \"ONeill21\"],[\"sulfide\", \"ONeill21\"]]\n",
    "my_models = vf.make_df_and_add_model_defaults(my_models)\n",
    "vf.SCSS(PT,melt_wf,models=my_models)"
   ]
  },
  {
   "cell_type": "code",
   "execution_count": 5,
   "metadata": {},
   "outputs": [
    {
     "data": {
      "text/plain": [
       "708.8860463482218"
      ]
     },
     "execution_count": 5,
     "metadata": {},
     "output_type": "execute_result"
    }
   ],
   "source": [
    "my_models = [[\"SCSS\", \"ONeill21dil\"],[\"sulfide\", \"ONeill21dil\"]]\n",
    "my_models = vf.make_df_and_add_model_defaults(my_models)\n",
    "vf.SCSS(PT,melt_wf,models=my_models)"
   ]
  },
  {
   "cell_type": "code",
   "execution_count": 6,
   "metadata": {},
   "outputs": [
    {
     "name": "stdout",
     "output_type": "stream",
     "text": [
      "Using inputted Fe_FeNiCu_Sulf ratio for calculations.\n"
     ]
    },
    {
     "data": {
      "text/plain": [
       "1271.4611268958095"
      ]
     },
     "execution_count": 6,
     "metadata": {},
     "output_type": "execute_result"
    }
   ],
   "source": [
    "my_models = [[\"SCSS\", \"ONeill21_pss\"]]\n",
    "my_models = vf.make_df_and_add_model_defaults(my_models)\n",
    "vf.SCSS(PT,melt_wf,models=my_models)"
   ]
  },
  {
   "cell_type": "code",
   "execution_count": 7,
   "metadata": {},
   "outputs": [
    {
     "name": "stdout",
     "output_type": "stream",
     "text": [
      "Using inputted Fe_FeNiCu_Sulf ratio for calculations.\n"
     ]
    },
    {
     "data": {
      "text/plain": [
       "1278.7198141598053"
      ]
     },
     "execution_count": 7,
     "metadata": {},
     "output_type": "execute_result"
    }
   ],
   "source": [
    "my_models = [[\"SCSS\", \"ONeill22_pss\"]]\n",
    "my_models = vf.make_df_and_add_model_defaults(my_models)\n",
    "vf.SCSS(PT,melt_wf,models=my_models)"
   ]
  },
  {
   "cell_type": "code",
   "execution_count": 6,
   "metadata": {},
   "outputs": [
    {
     "ename": "UnboundLocalError",
     "evalue": "cannot access local variable 'SCSS' where it is not associated with a value",
     "output_type": "error",
     "traceback": [
      "\u001b[1;31m---------------------------------------------------------------------------\u001b[0m",
      "\u001b[1;31mUnboundLocalError\u001b[0m                         Traceback (most recent call last)",
      "Cell \u001b[1;32mIn[6], line 3\u001b[0m\n\u001b[0;32m      1\u001b[0m my_models \u001b[38;5;241m=\u001b[39m [[\u001b[38;5;124m\"\u001b[39m\u001b[38;5;124mSCSS\u001b[39m\u001b[38;5;124m\"\u001b[39m, \u001b[38;5;124m\"\u001b[39m\u001b[38;5;124mLi22_pss\u001b[39m\u001b[38;5;124m\"\u001b[39m]]\n\u001b[0;32m      2\u001b[0m my_models \u001b[38;5;241m=\u001b[39m vf\u001b[38;5;241m.\u001b[39mmake_df_and_add_model_defaults(my_models)\n\u001b[1;32m----> 3\u001b[0m \u001b[43mvf\u001b[49m\u001b[38;5;241;43m.\u001b[39;49m\u001b[43mSCSS\u001b[49m\u001b[43m(\u001b[49m\u001b[43mPT\u001b[49m\u001b[43m,\u001b[49m\u001b[43mmelt_wf\u001b[49m\u001b[43m,\u001b[49m\u001b[43mmodels\u001b[49m\u001b[38;5;241;43m=\u001b[39;49m\u001b[43mmy_models\u001b[49m\u001b[43m)\u001b[49m\n",
      "File \u001b[1;32m~\\projects\\VolFe\\src\\VolFe\\model_dependent_variables.py:1786\u001b[0m, in \u001b[0;36mSCSS\u001b[1;34m(PT, melt_wf, models)\u001b[0m\n\u001b[0;32m   1781\u001b[0m         SCSS = float(output[\"SCSS2_ppm_ideal_Smythe2017\"].iloc[0])\n\u001b[0;32m   1782\u001b[0m     return SCSS\n\u001b[0;32m   1784\u001b[0m #################################################################################################################################\n\u001b[0;32m   1785\u001b[0m #################################### EQUILIBRIUM CONSTANTS FOR HOMOGENEOUS VAPOR EQUILIBRIA #####################################\n\u001b[1;32m-> 1786\u001b[0m #################################################################################################################################\n\u001b[0;32m   1787\u001b[0m \n\u001b[0;32m   1788\u001b[0m # H2 + 0.5O2 = H2O\n\u001b[0;32m   1789\u001b[0m # K = fH2O/(fH2*(fO2)^0.5)\n\u001b[0;32m   1790\u001b[0m def KHOg(PT,models=default_models):\n\u001b[0;32m   1792\u001b[0m     \"\"\" \n\u001b[0;32m   1793\u001b[0m     Equilibrium constant for H2 + 0.5O2 = H2O, K = fH2O/(fH2*(fO2)^0.5)\n\u001b[0;32m   1794\u001b[0m \n\u001b[1;32m   (...)\u001b[0m\n\u001b[0;32m   1816\u001b[0m \n\u001b[0;32m   1817\u001b[0m     \"\"\"\n",
      "\u001b[1;31mUnboundLocalError\u001b[0m: cannot access local variable 'SCSS' where it is not associated with a value"
     ]
    }
   ],
   "source": [
    "my_models = [[\"SCSS\", \"Li22_pss\"]]\n",
    "my_models = vf.make_df_and_add_model_defaults(my_models)\n",
    "vf.SCSS(PT,melt_wf,models=my_models)"
   ]
  },
  {
   "cell_type": "markdown",
   "metadata": {},
   "source": [
    "Zajacz et al. (2019)"
   ]
  },
  {
   "cell_type": "code",
   "execution_count": 12,
   "metadata": {},
   "outputs": [
    {
     "data": {
      "text/plain": [
       "8936.52198685083"
      ]
     },
     "execution_count": 12,
     "metadata": {},
     "output_type": "execute_result"
    }
   ],
   "source": [
    "my_models = [[\"SCAS\", \"Zajacz19\"]]\n",
    "my_models = vf.make_df_and_add_model_defaults(my_models)\n",
    "vf.SCAS(PT,melt_wf,models=my_models)"
   ]
  },
  {
   "cell_type": "code",
   "execution_count": 13,
   "metadata": {},
   "outputs": [
    {
     "data": {
      "text/plain": [
       "8896.556794838256"
      ]
     },
     "execution_count": 13,
     "metadata": {},
     "output_type": "execute_result"
    }
   ],
   "source": [
    "my_models = [[\"SCAS\", \"Zajacz19_pss\"]]\n",
    "my_models = vf.make_df_and_add_model_defaults(my_models)\n",
    "vf.SCAS(PT,melt_wf,models=my_models)"
   ]
  },
  {
   "cell_type": "markdown",
   "metadata": {},
   "source": [
    "Chowdhury & Dasgupta (2019)"
   ]
  },
  {
   "cell_type": "code",
   "execution_count": 14,
   "metadata": {},
   "outputs": [
    {
     "data": {
      "text/plain": [
       "14183.673516439601"
      ]
     },
     "execution_count": 14,
     "metadata": {},
     "output_type": "execute_result"
    }
   ],
   "source": [
    "my_models = [[\"SCAS\", \"Chowdhury19\"]]\n",
    "my_models = vf.make_df_and_add_model_defaults(my_models)\n",
    "vf.SCAS(PT,melt_wf,models=my_models)"
   ]
  },
  {
   "cell_type": "code",
   "execution_count": 15,
   "metadata": {},
   "outputs": [
    {
     "data": {
      "text/plain": [
       "14054.749604271536"
      ]
     },
     "execution_count": 15,
     "metadata": {},
     "output_type": "execute_result"
    }
   ],
   "source": [
    "my_models = [[\"SCAS\", \"Chowdhury19_pss\"]]\n",
    "my_models = vf.make_df_and_add_model_defaults(my_models)\n",
    "vf.SCAS(PT,melt_wf,models=my_models)"
   ]
  }
 ],
 "metadata": {
  "kernelspec": {
   "display_name": "volfe-dev",
   "language": "python",
   "name": "python3"
  },
  "language_info": {
   "codemirror_mode": {
    "name": "ipython",
    "version": 3
   },
   "file_extension": ".py",
   "mimetype": "text/x-python",
   "name": "python",
   "nbconvert_exporter": "python",
   "pygments_lexer": "ipython3",
   "version": "3.13.0"
  }
 },
 "nbformat": 4,
 "nbformat_minor": 2
}
