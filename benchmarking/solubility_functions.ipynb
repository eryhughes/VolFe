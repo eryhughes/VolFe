{
 "cells": [
  {
   "cell_type": "markdown",
   "metadata": {},
   "source": [
    "# Benchmarking models for solubility functions\n",
    "\n",
    "This notebook benchmarks the models for solubility functions in VolFe where possible.\n",
    "\n",
    "The following models are a constant and therefore are not benchmarked in this notebook:\n",
    "- Models for solubility function of water (H2O): option = water, function = C_H2O\n",
    "    - 'Basalt_Hughes24' Fig.S2 from Hughes et al. (2024)\n",
    "    - 'Rhyolite_HughesIP' Fig.SX from Hughes et al. (in prep) based on data in Fig. 3 of Blank et al. (1993)\n",
    "- Models for solubility function of hydrogen sulfide (H2S): option = hydrogen sulfide, function = C_H2S\n",
    "    - 'Basalt_Hughes24' Fig.S6 from Hughes et al. (2024) based on experimental data Moune et al. (2009) and calculations in Lesne et al. (2011)\n",
    "    - 'BasalticAndesite_Hughes24' Fig.S6 from Hughes et al. (2024) based on experimental data Moune et al. (2009) and calculations in Lesne et al. (2011)\n",
    "- Models for solubility function of \"X\": option = species X solubility, function = C_X\n",
    "    - 'Ar_Basalt_HughesIP' Hughes et al. (in prep) based on data from Iacono-Marziano et al. (2010)\n",
    "    - Ar_Rhyolite_HughesIP: Hughes et al. (in prep) based on data from Iacono-Marziano et al. (2010)\n",
    "    - Ne_Basalt_HughesIP: Hughes et al. (in prep) based on data from Iacono-Marziano et al. (2010)\n",
    "    - Ne_Rhyolite_HughesIP: Hughes et al. (in prep) based on data from Iacono-Marziano et al. (2010)\n",
    "    - [user specified number]: User can type a number that will be used instead (i.e., a constant value)\n",
    "\n",
    "## Python set-up"
   ]
  },
  {
   "cell_type": "code",
   "execution_count": 1,
   "metadata": {},
   "outputs": [],
   "source": [
    "import pandas as pd\n",
    "import VolFe as vf\n",
    "import math\n",
    "import matplotlib as plt"
   ]
  },
  {
   "cell_type": "markdown",
   "metadata": {},
   "source": [
    "## Composition and conditions used for benchmarking\n",
    "\n",
    "Average of high-SiO2 pillow-rim glasses in HSDP from Mauna Kea volcano from Brounce et al. (2017)."
   ]
  },
  {
   "cell_type": "code",
   "execution_count": 2,
   "metadata": {},
   "outputs": [],
   "source": [
    "my_analysis = {\n",
    "        \"Sample\": \"Hawaiian basalt\",\n",
    "        \"T_C\": 1200.0,  # Temperature in 'C\n",
    "        \"SiO2\": 51.29,  # wt%\n",
    "        \"TiO2\": 2.50,  # wt%\n",
    "        \"Al2O3\": 13.70,  # wt%\n",
    "        \"FeOT\": 11.04,  # wt%\n",
    "        \"MnO\": 0.02,  # wt%\n",
    "        \"MgO\": 6.70,  # wt%\n",
    "        \"CaO\": 11.03,  # wt%\n",
    "        \"Na2O\": 2.27,  # wt%\n",
    "        \"K2O\": 0.43,  # wt%\n",
    "        \"P2O5\": 0.,  # wt%\n",
    "        \"H2O\": 0.,  # wt%\n",
    "        \"CO2ppm\": 0.,  # ppm\n",
    "        \"STppm\": 0.,  # ppm\n",
    "        \"Xppm\": 0.0,  # ppm\n",
    "        \"Fe3FeT\": 0.1}\n",
    "\n",
    "my_analysis = pd.DataFrame(my_analysis, index=[0])\n",
    "\n",
    "PT = {\"P\":1000.}\n",
    "PT[\"T\"]=1200.\n",
    "\n",
    "melt_wf=vf.melt_comp(0.,my_analysis)\n",
    "melt_wf['CO2'] = my_analysis.loc[0.,\"CO2ppm\"]/1000000.\n",
    "melt_wf[\"H2OT\"] = my_analysis.loc[0,\"H2O\"]/100.\n",
    "melt_wf['ST'] = my_analysis.loc[0.,\"STppm\"]/1000000.\n",
    "melt_wf['CT'] = (melt_wf['CO2']/vf.species.loc['CO2','M'])*vf.species.loc['C','M']\n",
    "melt_wf['HT'] = (melt_wf['H2OT']/vf.species.loc['H2O','M'])*(2.*vf.species.loc['H','M'])\n",
    "melt_wf['XT'] = my_analysis.loc[0.,\"Xppm\"]/1000000.\n",
    "melt_wf[\"Fe3FeT\"] = my_analysis.loc[0.,\"Fe3FeT\"]"
   ]
  },
  {
   "cell_type": "markdown",
   "metadata": {},
   "source": [
    "## Models for solubility function of sulfide (*S2-)\n",
    "\n",
    "option = sulfide, function = C_S\n",
    "\n",
    "The following models do not have material available in the original papers for benchmarking:\n",
    "- 'Boulliung23eq6' Eq. (6) from Boulliung & Wood (2023) CMP 178:56 doi:10.1007/s00410-023-02033-9"
   ]
  },
  {
   "cell_type": "markdown",
   "metadata": {},
   "source": [
    "### 'ONeill21' Eq. (10.34) from O'Neill (2021)\n",
    "\n",
    "Supplementary spreadsheet (sulfide,SCSS=ONeill21.xlsx)\n",
    "\n",
    "Cell AN14: -2.419\n",
    "\n",
    "Matches to 3 decimal places: Note spreadsheet uses +273 to convert to K, rather than 273.15 used in VolFe so T in spreadsheet = 1200.15 'C"
   ]
  },
  {
   "cell_type": "code",
   "execution_count": null,
   "metadata": {},
   "outputs": [],
   "source": [
    "my_models = [[\"sulfide\", \"ONeill21\"]]\n",
    "my_models = vf.make_df_and_add_model_defaults(my_models)\n",
    "math.log(vf.C_S(PT,melt_wf,models=my_models))"
   ]
  },
  {
   "cell_type": "markdown",
   "metadata": {},
   "source": [
    "### 'Boulliung23eq7' Equation (7) from Boulliung et al. (2023)\n",
    "Supplementary Information - Supplementary file1 used for benchmarking (sulfide=Boulliung23eq7_sulfate=Boulliung23eq9,Boulliung23eq11.xlsx)\n",
    "\n",
    "Cell K22: -5.1286877\n",
    "\n",
    "Matches to 3 decimal places"
   ]
  },
  {
   "cell_type": "code",
   "execution_count": null,
   "metadata": {},
   "outputs": [],
   "source": [
    "my_models = [[\"sulfide\", \"Boulliung23eq7\"]]\n",
    "my_models = vf.make_df_and_add_model_defaults(my_models)\n",
    "math.log10(vf.C_S(PT,melt_wf,models=my_models))"
   ]
  },
  {
   "cell_type": "markdown",
   "metadata": {},
   "source": [
    "## Models for solubility function of sulfate (S6+)\n",
    "\n",
    "option = sulfate, function = C_SO4\n",
    "\n",
    "The following models do not have material available in the original papers for benchmarking:\n",
    "- Eq. (5) from Boulliung & Wood (2023) GCA 343:420 doi:10.1016/j.gca.2022.11.025 and Eq. (8) for P from Boulliung & Wood (2022)"
   ]
  },
  {
   "cell_type": "markdown",
   "metadata": {},
   "source": [
    "### 'ONeill22' Eq. (12a) without H2O dilution from O'Neill & Mavrogenes (2022)\n",
    "Appendix A. Supplementary material - Supplementary data 2. Tab = Table S6 S redox calculator (sulfate,KSOg2=ONeill22.xlsx),\n",
    "\n",
    "Cell AH12: 12.95\n",
    "\n",
    "Matches to 2 decimal places. Note spreadsheet uses +273 to convert to K, rather than 273.15 used in VolFe so T in spreadsheet = 1200.15 'C"
   ]
  },
  {
   "cell_type": "code",
   "execution_count": 3,
   "metadata": {},
   "outputs": [
    {
     "data": {
      "text/plain": [
       "12.954840211020695"
      ]
     },
     "execution_count": 3,
     "metadata": {},
     "output_type": "execute_result"
    }
   ],
   "source": [
    "my_models = [[\"sulfate\", \"ONeill22\"],[\"KOSg2\", \"ONeill22\"]]\n",
    "my_models = vf.make_df_and_add_model_defaults(my_models)\n",
    "math.log(vf.C_SO4(PT,melt_wf,models=my_models)/(vf.KOSg2(PT,models=my_models)))"
   ]
  },
  {
   "cell_type": "markdown",
   "metadata": {},
   "source": [
    "### 'Boulliung22nP' Equation (5) from Boulliung et al. (2022) TO DO"
   ]
  },
  {
   "cell_type": "markdown",
   "metadata": {},
   "source": [
    "### 'Boulliung23eq9' Equation (9) from Boulliung et al. (2023)\n",
    "Supplementary Information - Supplementary file1 used for benchmarking (sulfide=Boulliung23eq7_sulfate=Boulliung23eq9,Boulliung23eq11.xlsx)\n",
    "\n",
    "Cell K24: 8.73571472\n",
    "\n",
    "Matches to 2 decimal places"
   ]
  },
  {
   "cell_type": "code",
   "execution_count": null,
   "metadata": {},
   "outputs": [],
   "source": [
    "my_models = [[\"sulfate\", \"Boulliung23eq9\"]]\n",
    "my_models = vf.make_df_and_add_model_defaults(my_models)\n",
    "math.log10(vf.C_SO4(PT,melt_wf,models=my_models))"
   ]
  },
  {
   "cell_type": "markdown",
   "metadata": {},
   "source": [
    "### 'Boulliung23eq11' Equation (11) from Boulliung et al. (2023)\n",
    "Supplementary Information - Supplementary file1 used for benchmarking (sulfide=Boulliung23eq7_sulfate=Boulliung23eq9,Boulliung23eq11.xlsx)\n",
    "\n",
    "Cell M24: 8.82627819\n",
    "\n",
    "Matches to 3 decimal places"
   ]
  },
  {
   "cell_type": "code",
   "execution_count": null,
   "metadata": {},
   "outputs": [],
   "source": [
    "my_models = [[\"sulfate\", \"Boulliung23eq11\"]]\n",
    "my_models = vf.make_df_and_add_model_defaults(my_models)\n",
    "math.log10(vf.C_SO4(PT,melt_wf,models=my_models))"
   ]
  },
  {
   "cell_type": "markdown",
   "metadata": {},
   "source": [
    "## Models for equilibrium functions of CO2 speciation\n",
    "\n",
    "option = Cspeccomp, function = KCOm\n",
    "\n",
    "'Basalt' and 'Rhyolite' are single values and are therefore not benchmarked.\n",
    "\n",
    "### 'Andesite_Botcharnikov06' Eq. (8) from Botcharnikov et al. (2006)\n",
    "\n",
    "### 'Dacite_Botcharnikov06' Eq. in the text from Botcharnikov et al. (2006), based on data from Behrens et al. (2004)\n",
    "\n",
    "Fig. 12 from Botcharnikov et al. (2006) shows the fit to the data used to derive their models for both Andesite and Dacite (see Cspeccomp=Andesite_Botcharnikov06,Dacite_Botcharnikov06 [Fig12_Botcharnikov06].jpg).\n",
    "\n",
    "As they are straight lines, we read the data at the intersection of the axes\n",
    "\n",
    "Andesite: \n",
    "\n",
    "Intersection with y-axis: 1000/T = 0.600 and lnK2 = 0.20\n",
    "\n",
    "Intersection with x-axis: 1000/T = 1.405 and lnK2 = 7.00\n",
    "\n",
    "Dacite:\n",
    "\n",
    "Intersection with y-axis: 1000/T = 0.600 and lnK2 = 1.85\n",
    "\n",
    "Intersection with x-axis: 1000/T = 1.500 and lnK2 = 7.00\n",
    "\n",
    "And then calculate at the same temperatures using VolFe - there is good agreement for both models."
   ]
  },
  {
   "cell_type": "code",
   "execution_count": null,
   "metadata": {},
   "outputs": [],
   "source": [
    "my_models = [[\"Cspeccomp\", \"Andesite_Botcharnikov06\"]]\n",
    "my_models = vf.make_df_and_add_model_defaults(my_models)\n",
    "\n",
    "PT = {\"T\":(1000./0.6)-273.15}\n",
    "T1 = math.log(vf.KCOm(PT,melt_wf,models=my_models))\n",
    "PT = {\"T\":(1000./1.405-273.15)}\n",
    "T2 = math.log(vf.KCOm(PT,melt_wf,models=my_models))\n",
    "\n",
    "print(T1, T2)"
   ]
  },
  {
   "cell_type": "code",
   "execution_count": null,
   "metadata": {},
   "outputs": [],
   "source": [
    "my_models = [[\"Cspeccomp\", \"Dacite_Botcharnikov06\"]]\n",
    "my_models = vf.make_df_and_add_model_defaults(my_models)\n",
    "\n",
    "PT = {\"T\":(1000./0.6)-273.15}\n",
    "T1 = math.log(vf.KCOm(PT,melt_wf,models=my_models))\n",
    "PT = {\"T\":(1000./1.5)-273.15}\n",
    "T2 = math.log(vf.KCOm(PT,melt_wf,models=my_models))\n",
    "\n",
    "print(T1, T2)"
   ]
  }
 ],
 "metadata": {
  "kernelspec": {
   "display_name": "volfe-dev",
   "language": "python",
   "name": "python3"
  },
  "language_info": {
   "codemirror_mode": {
    "name": "ipython",
    "version": 3
   },
   "file_extension": ".py",
   "mimetype": "text/x-python",
   "name": "python",
   "nbconvert_exporter": "python",
   "pygments_lexer": "ipython3",
   "version": "3.13.0"
  }
 },
 "nbformat": 4,
 "nbformat_minor": 2
}
