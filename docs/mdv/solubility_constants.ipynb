{
 "cells": [
  {
   "cell_type": "markdown",
   "metadata": {},
   "source": [
    "## Solubility functions\n",
    "\n",
    "In this notebook, we show you all the functions that calculate solubility functions and equilibrium constants for homogeneous melt equilibria in VolFe and show the different model options currently available. This is how VolFe incorporates the effect of melt composition on the solubility and speciation of volatile species in the melt."
   ]
  },
  {
   "cell_type": "markdown",
   "metadata": {},
   "source": [
    "## Setting things up\n",
    "You need to install VolFe once on your machine and then import the VolFe Python package."
   ]
  },
  {
   "cell_type": "code",
   "execution_count": 1,
   "metadata": {},
   "outputs": [],
   "source": [
    "# Install VolFe on your machine. \n",
    "# pip install VolFe # Remove the 1st # from this line if you have not installed VolFe before.\n",
    "# import python packages\n",
    "import VolFe as vf"
   ]
  },
  {
   "cell_type": "markdown",
   "metadata": {},
   "source": [
    "## Solubility functions"
   ]
  },
  {
   "cell_type": "markdown",
   "metadata": {},
   "source": [
    "Hydrogen\n",
    "\n",
    "H2(v) = H2,mol(m)"
   ]
  },
  {
   "cell_type": "code",
   "execution_count": 2,
   "metadata": {},
   "outputs": [
    {
     "name": "stdout",
     "output_type": "stream",
     "text": [
      "Help on function C_H2 in module VolFe.model_dependent_variables:\n",
      "\n",
      "C_H2(PT, melt_wf, models=                            option\n",
      "type                              \n",
      "COH_species     yes_H2_CO_CH4_melt\n",
      "H2S_m                         True\n",
      "species X                       Ar\n",
      "Hspeciation                   none\n",
      "fO2                       Kress91A\n",
      "...                            ...\n",
      "error                          0.1\n",
      "print status                 False\n",
      "output csv                    True\n",
      "setup                        False\n",
      "high precision               False\n",
      "\n",
      "[64 rows x 1 columns])\n",
      "    Solubility constant for disolving H2 in the melt: C_H2 = wmH2/fH2 (ppmw/bar)\n",
      "    \n",
      "    \n",
      "    Parameters\n",
      "    ----------\n",
      "    PT: pandas.DataFrame\n",
      "        Dataframe of pressure-temperature conditions\n",
      "        pressure (bars) as \"P\"\n",
      "        temperature ('C) as \"T\"\n",
      "        \n",
      "    melt_wf: pandas.DataFrame\n",
      "        Dataframe of melt composition (SiO2, TiO2, etc.)\n",
      "        Not normally used unless model option requires melt composition.\n",
      "    \n",
      "    models: pandas.DataFrame\n",
      "        Minimum requirement is dataframe with index of \"hydrogen\" and column label of \"option\"\n",
      "    \n",
      "    Returns\n",
      "    -------\n",
      "    Solubility constant for H2 as <class 'mpfr'>\n",
      "    \n",
      "    Model options\n",
      "    -------------\n",
      "    default: 'Basalt_Hughes24' Basalt in Table S4 from Hughes et al. (2024) based on experimetnal data from Hirschmann et al. (2012)\n",
      "    Other options:\n",
      "    'Andesite_Hughes24' Andesite in Table S4 from Hughes et al. (2024) based on experimental data from Hirschmann et al. (2012)\n",
      "\n"
     ]
    }
   ],
   "source": [
    "help(vf.C_H2)"
   ]
  },
  {
   "cell_type": "markdown",
   "metadata": {},
   "source": [
    "Water\n",
    "\n",
    "fH2O = (xmH2OT)^2/CH2OT"
   ]
  },
  {
   "cell_type": "code",
   "execution_count": 3,
   "metadata": {},
   "outputs": [
    {
     "name": "stdout",
     "output_type": "stream",
     "text": [
      "Help on function C_H2O in module VolFe.model_dependent_variables:\n",
      "\n",
      "C_H2O(PT, melt_wf, models=                            option\n",
      "type                              \n",
      "COH_species     yes_H2_CO_CH4_melt\n",
      "H2S_m                         True\n",
      "species X                       Ar\n",
      "Hspeciation                   none\n",
      "fO2                       Kress91A\n",
      "...                            ...\n",
      "error                          0.1\n",
      "print status                 False\n",
      "output csv                    True\n",
      "setup                        False\n",
      "high precision               False\n",
      "\n",
      "[64 rows x 1 columns])\n",
      "    NOT COMPLETE\n",
      "    \n",
      "    Solubility constant for disolving H2O in the melt.\n",
      "    \n",
      "    Parameters\n",
      "    ----------\n",
      "    PT: pandas.DataFrame\n",
      "        Dataframe of pressure-temperature conditions:\n",
      "        pressure (bars) as \"P\"\n",
      "        temperature ('C) as \"T\"\n",
      "        \n",
      "    melt_wf: pandas.DataFrame\n",
      "        Dataframe of melt composition (SiO2, TiO2, etc.)\n",
      "        Not normally used unless model option requires melt composition.\n",
      "        \n",
      "    models: pandas.DataFrame\n",
      "        Minimum requirement is dataframe with index of \"Hspeciation\" and \"water\" and column label of \"option\"\n",
      "    \n",
      "    Model options\n",
      "    -------------\n",
      "    If \"Hspeciation\" = \"none\"\n",
      "        default: 'Basalt_Hughes24' Fig.S2 from Hughes et al. (2024) AmMin 109(3):422-438 doi:10.2138/am-2023-8739\n",
      "        Other options:\n",
      "        'Rhyolite_HughesIP' Hughes et al. (in prep)\n",
      "    \n",
      "    \n",
      "    Returns\n",
      "    -------\n",
      "    Solubility constant for H2O as <class 'mpfr'>\n",
      "\n"
     ]
    }
   ],
   "source": [
    "help(vf.C_H2O)"
   ]
  },
  {
   "cell_type": "markdown",
   "metadata": {},
   "source": [
    "Carbon monoxide\n",
    "\n",
    "CO(v) = COmol(m)"
   ]
  },
  {
   "cell_type": "code",
   "execution_count": 4,
   "metadata": {},
   "outputs": [
    {
     "name": "stdout",
     "output_type": "stream",
     "text": [
      "Help on function C_CO in module VolFe.model_dependent_variables:\n",
      "\n",
      "C_CO(PT, melt_wf, models=                            option\n",
      "type                              \n",
      "COH_species     yes_H2_CO_CH4_melt\n",
      "H2S_m                         True\n",
      "species X                       Ar\n",
      "Hspeciation                   none\n",
      "fO2                       Kress91A\n",
      "...                            ...\n",
      "error                          0.1\n",
      "print status                 False\n",
      "output csv                    True\n",
      "setup                        False\n",
      "high precision               False\n",
      "\n",
      "[64 rows x 1 columns])\n",
      "    Solubility constant for disolving CO in the melt: C_CO = wmCO/fCO (ppmw/bar)\n",
      "    \n",
      "    \n",
      "    Parameters\n",
      "    ----------\n",
      "    PT: pandas.DataFrame\n",
      "        Dataframe of pressure-temperature conditions\n",
      "        pressure (bars) as \"P\"\n",
      "        temperature ('C) as \"T\"\n",
      "        \n",
      "    melt_wf: pandas.DataFrame\n",
      "        Dataframe of melt composition (SiO2, TiO2, etc.)\n",
      "        Not normally used unless model option requires melt composition.\n",
      "    \n",
      "    models: pandas.DataFrame\n",
      "        Minimum requirement is dataframe with index of \"carbon monoxide\" and column label of \"option\"\n",
      "    \n",
      "    Returns\n",
      "    -------\n",
      "    Solubility constant for CH4 as <class 'mpfr'>\n",
      "    \n",
      "    Model options\n",
      "    -------------\n",
      "    default: 'Basalt_Hughes24' CO in Table S4 from Hughes et al. (2024) based on data from Armstrong et al. (2015), Stanley et al., (2014), and Wetzel et al., (2013)\n",
      "    Only one option available currently, included for future development.\n",
      "\n"
     ]
    }
   ],
   "source": [
    "help(vf.C_CO)"
   ]
  },
  {
   "cell_type": "markdown",
   "metadata": {},
   "source": [
    "Total oxidised carbon (i.e., both molecular carbon dioxide and carbonate ions)\n",
    "\n",
    "CO2(v) = CO2,T(m)"
   ]
  },
  {
   "cell_type": "code",
   "execution_count": 5,
   "metadata": {},
   "outputs": [
    {
     "name": "stdout",
     "output_type": "stream",
     "text": [
      "Help on function C_CO3 in module VolFe.model_dependent_variables:\n",
      "\n",
      "C_CO3(PT, melt_wf, models=                            option\n",
      "type                              \n",
      "COH_species     yes_H2_CO_CH4_melt\n",
      "H2S_m                         True\n",
      "species X                       Ar\n",
      "Hspeciation                   none\n",
      "fO2                       Kress91A\n",
      "...                            ...\n",
      "error                          0.1\n",
      "print status                 False\n",
      "output csv                    True\n",
      "setup                        False\n",
      "high precision               False\n",
      "\n",
      "[64 rows x 1 columns])\n",
      "    Solubility constant for disolving CO2 in the melt: C_CO2,T = xmCO2,T/fCO2 [all oxidised carbon - i.e., CO2mol and CO32- - as CO2,T]\n",
      "    \n",
      "    \n",
      "    Parameters\n",
      "    ----------\n",
      "    PT: pandas.DataFrame\n",
      "        Dataframe of pressure-temperature conditions\n",
      "        pressure (bars) as \"P\"\n",
      "        temperature ('C) as \"T\"\n",
      "        \n",
      "    melt_wf: pandas.DataFrame\n",
      "        Dataframe of melt composition (SiO2, TiO2, etc.)\n",
      "        Not normally used unless model option requires melt composition.\n",
      "    \n",
      "    models: pandas.DataFrame\n",
      "        Minimum requirement is dataframe with index of \"carbon dioxide\" and column label of \"option\"\n",
      "    \n",
      "    Returns\n",
      "    -------\n",
      "    Solubility constant for CO2 as <class 'mpfr'>\n",
      "    \n",
      "    Model options\n",
      "    -------------\n",
      "    default: 'MORB_Dixon95' Bullet (5) of summary from Dixon et al. (1995) JPet 36(6):1607-1631 doi:10.1093/oxfordjournals.petrology.a037267\n",
      "    Other options:\n",
      "    'Basalt_Dixon97' Eq. (7) from Dixon et al. (1997) AmMin 82(3-4)368-378 doi:10.2138/am-1997-3-415\n",
      "    'NorthArchBasalt_Dixon97' Eq. (8) from Dixon et al. (1997) AmMin 82(3-4)368-378 doi:10.2138/am-1997-3-415\n",
      "    'Basalt_Lesne11' Eq. (25,26) from Lesne et al. (2011) CMP 162:153-168 doi:10.1007/s00410-010-0585-0\n",
      "    'VesuviusAlkaliBasalt_Lesne11' VES-9 in Table 4 from Lesne et al. (2011) CMP 162:153-168 doi:10.1007/s00410-010-0585-0\n",
      "    'EtnaAlkaliBasalt_Lesne11' ETN-1 in Table 4 from Lesne et al. (2011) CMP 162:153-168 doi:10.1007/s00410-010-0585-0\n",
      "    'StromboliAlkaliBasalt_Lense11' PST-9 in Table 4 from Lesne et al. (2011) CMP 162:153-168 doi:10.1007/s00410-010-0585-0\n",
      "    'SunsetCraterAlkaliBasalt_Allison19' Sunset Crater in Table 4 from Allison et al. (2019) CMP 174:58 doi:10.1007/s00410-019-1592-4 \n",
      "    'SVFVBasalticAndesite_Allison19' SVFV in Table 4 from Allison et al. (2019) CMP 174:58 doi:10.1007/s00410-019-1592-4 \n",
      "    'ErebusPhonotephrite_Allison19' Erebus in Table 4 from Allison et al. (2019) CMP 174:58 doi:10.1007/s00410-019-1592-4 \n",
      "    'VesuviusPhonotephrite_Allison19' Vesuvius in Table 4 from Allison et al. (2019) CMP 174:58 doi:10.1007/s00410-019-1592-4 \n",
      "    'EtnaTrachybasalt_Allison19' Etna in Table 4 from Allison et al. (2019) CMP 174:58 doi:10.1007/s00410-019-1592-4 \n",
      "    'StromboliAlkaliBasalt_Allison19' Stromboli in Table 4 from Allison et al. (2019) CMP 174:58 doi:10.1007/s00410-019-1592-4 \n",
      "    'Basanite_Holloway94' Basanite in Table 5 from Holloway and Blank (1994) RiMG 30:187-230 doi:10.1515/9781501509674-012\n",
      "    'Leucitite_Thibault94' Leucitite from Thibault & Holloway (1994) CMP 116:216-224 doi:10.1007/BF00310701\n",
      "    'TholeiiteBasalt_Allison22' N72 basalt in Table 2 from Allison et al. (2022) CMP 177:40 doi:10.1007/s00410-022-01903-y\n",
      "    'Rhyolite_Blank93' Fig.2 caption from Blank et al. (1993) EPSL 119:27-36 doi:10.1016/0012-821X(93)90004-S\n",
      "\n"
     ]
    }
   ],
   "source": [
    "help(vf.C_CO3)"
   ]
  },
  {
   "cell_type": "markdown",
   "metadata": {},
   "source": [
    "Methane\n",
    "\n",
    "CH4(v) = CH4,mol(m)"
   ]
  },
  {
   "cell_type": "code",
   "execution_count": 6,
   "metadata": {},
   "outputs": [
    {
     "name": "stdout",
     "output_type": "stream",
     "text": [
      "Help on function C_CH4 in module VolFe.model_dependent_variables:\n",
      "\n",
      "C_CH4(PT, melt_wf, models=                            option\n",
      "type                              \n",
      "COH_species     yes_H2_CO_CH4_melt\n",
      "H2S_m                         True\n",
      "species X                       Ar\n",
      "Hspeciation                   none\n",
      "fO2                       Kress91A\n",
      "...                            ...\n",
      "error                          0.1\n",
      "print status                 False\n",
      "output csv                    True\n",
      "setup                        False\n",
      "high precision               False\n",
      "\n",
      "[64 rows x 1 columns])\n",
      "    Solubility constant for disolving CH4 in the melt: C_CH4 = wmCH4/fCH4 (ppmw/bar)\n",
      "    \n",
      "    \n",
      "    Parameters\n",
      "    ----------\n",
      "    PT: pandas.DataFrame\n",
      "        Dataframe of pressure-temperature conditions\n",
      "        pressure (bars) as \"P\"\n",
      "        temperature ('C) as \"T\"\n",
      "        \n",
      "    melt_wf: pandas.DataFrame\n",
      "        Dataframe of melt composition (SiO2, TiO2, etc.)\n",
      "        Not normally used unless model option requires melt composition.\n",
      "    \n",
      "    models: pandas.DataFrame\n",
      "        Minimum requirement is dataframe with index of \"methane\" and column label of \"option\"\n",
      "    \n",
      "    Returns\n",
      "    -------\n",
      "    Solubility constant for CH4 as <class 'mpfr'>\n",
      "    \n",
      "    Model options\n",
      "    -------------\n",
      "    default: 'Basalt_Ardia13' Eq. (7a) from Ardia et al. (2013)\n",
      "    Only one option available currently, included for future development.\n",
      "\n"
     ]
    }
   ],
   "source": [
    "help(vf.C_CH4)"
   ]
  },
  {
   "cell_type": "markdown",
   "metadata": {},
   "source": [
    "Sulfide\n",
    "\n",
    "0.5S2(v) + O2-(m) = *S2-(m) + 0.5O2(v)"
   ]
  },
  {
   "cell_type": "code",
   "execution_count": 7,
   "metadata": {},
   "outputs": [
    {
     "name": "stdout",
     "output_type": "stream",
     "text": [
      "Help on function C_S in module VolFe.model_dependent_variables:\n",
      "\n",
      "C_S(PT, melt_wf, models=                            option\n",
      "type                              \n",
      "COH_species     yes_H2_CO_CH4_melt\n",
      "H2S_m                         True\n",
      "species X                       Ar\n",
      "Hspeciation                   none\n",
      "fO2                       Kress91A\n",
      "...                            ...\n",
      "error                          0.1\n",
      "print status                 False\n",
      "output csv                    True\n",
      "setup                        False\n",
      "high precision               False\n",
      "\n",
      "[64 rows x 1 columns])\n",
      "    Solubility constant for disolving S in the melt as S2- in ppmw: C_S = wmS2-*(fO2/fS2)^0.5\n",
      "    \n",
      "    \n",
      "    Parameters\n",
      "    ----------\n",
      "    PT: pandas.DataFrame\n",
      "        Dataframe of pressure-temperature conditions\n",
      "        pressure (bars) as \"P\"\n",
      "        temperature ('C) as \"T\"\n",
      "        \n",
      "    melt_wf: pandas.DataFrame\n",
      "        Dataframe of melt composition (SiO2, TiO2, etc.)\n",
      "    \n",
      "    models: pandas.DataFrame\n",
      "        Minimum requirement is dataframe with index of \"sulfide\" and column label of \"option\"\n",
      "    \n",
      "    Model options\n",
      "    -------------\n",
      "    default: 'ONeill21dil' Eq. (10.34) inc. H2O dilution from O'Neill (2021) in \"Magma Redox Geochemistry\" doi:10.1002/9781119473206.ch10\n",
      "    Other options:\n",
      "    'ONeill21' Eq. (10.34) ex. H2O dilution from O'Neill (2021) in \"Magma Redox Geochemistry\" doi:10.1002/9781119473206.ch10\n",
      "    'ONeill21hyd' (hydrous) Eq. (10.34, 10.49) from O'Neill (2021) in \"Magma Redox Geochemistry\" doi:10.1002/9781119473206.ch10\n",
      "    'Boulliung23eq6' Eq. (6) from Boulliung & Wood (2023) CMP 178:56 doi:10.1007/s00410-023-02033-9\n",
      "    'Boulliung23eq7' Eq. (7) from Boulliung & Wood (2023) CMP 178:56 doi:10.1007/s00410-023-02033-9\n",
      "    \n",
      "    Returns\n",
      "    -------\n",
      "    Solubility constant for S2- as <class 'mpfr'>\n",
      "\n"
     ]
    }
   ],
   "source": [
    "help(vf.C_S)"
   ]
  },
  {
   "cell_type": "markdown",
   "metadata": {},
   "source": [
    "Sulfate\n",
    "\n",
    "0.5S2(v) + 1.5O2(v) + O2-(m) = SO42-(m)"
   ]
  },
  {
   "cell_type": "code",
   "execution_count": 8,
   "metadata": {},
   "outputs": [
    {
     "name": "stdout",
     "output_type": "stream",
     "text": [
      "Help on function C_SO4 in module VolFe.model_dependent_variables:\n",
      "\n",
      "C_SO4(PT, melt_wf, models=                            option\n",
      "type                              \n",
      "COH_species     yes_H2_CO_CH4_melt\n",
      "H2S_m                         True\n",
      "species X                       Ar\n",
      "Hspeciation                   none\n",
      "fO2                       Kress91A\n",
      "...                            ...\n",
      "error                          0.1\n",
      "print status                 False\n",
      "output csv                    True\n",
      "setup                        False\n",
      "high precision               False\n",
      "\n",
      "[64 rows x 1 columns])\n",
      "    Solubility constant for disolving S6+ in the melt: C_SO4 = wmS6+(fS2*fO2^3)^-0.5 (in ppmw and bar)\n",
      "    \n",
      "    \n",
      "    Parameters\n",
      "    ----------\n",
      "    PT: pandas.DataFrame\n",
      "        Dataframe of pressure-temperature conditions\n",
      "        pressure (bars) as \"P\"\n",
      "        temperature ('C) as \"T\"\n",
      "        \n",
      "    melt_wf: pandas.DataFrame\n",
      "        Dataframe of melt composition (SiO2, TiO2, etc.)\n",
      "    \n",
      "    models: pandas.DataFrame\n",
      "        Minimum requirement is dataframe with index of \"sulfate\" and column label of \"option\"\n",
      "    \n",
      "    Returns\n",
      "    -------\n",
      "    Solubility constant for S6+ as <class 'mpfr'>\n",
      "    \n",
      "    Model options\n",
      "    -------------\n",
      "    default: 'ONeill22dil' Eq. (12a) inc. H2O dilution from O'Neill & Mavrogenes (2022) GCA 334:368-382 10.1016/j.gca.2022.06.020\n",
      "    Other options:\n",
      "    'ONeill22' Eq. (12a) without H2O dilution from O'Neill & Mavrogenes (2022) GCA 334:368-382 doi:10.1016/j.gca.2022.06.020\n",
      "    'Boulliung22nP' Eq. (5) from Boulliung & Wood (2023) GCA 343:420 doi:10.1016/j.gca.2022.11.025\n",
      "    'Boulliung22wP' Eq. (5) from Boulliung & Wood (2023) GCA 343:420 doi:10.1016/j.gca.2022.11.025 and Eq. (8) for P from Boulliung & Wood (2022) GCA 336:150-164 doi:10.1016/j.gca.2022.08.032\n",
      "    'Boulliung23eq9' Eq. (9) from Boulliung & Wood (2023) CMP 178:56 doi:10.1007/s00410-023-02033-9\n",
      "    'Boulliung23eq11' Eq. (11) from Boulliung & Wood (2023) CMP 178:56 doi:10.1007/s00410-023-02033-9\n",
      "\n"
     ]
    }
   ],
   "source": [
    "help(vf.C_SO4)"
   ]
  },
  {
   "cell_type": "markdown",
   "metadata": {},
   "source": [
    "Hydrogen sulfide\n",
    "\n",
    "H2S(v) = H2Smol(m)"
   ]
  },
  {
   "cell_type": "code",
   "execution_count": 9,
   "metadata": {},
   "outputs": [
    {
     "name": "stdout",
     "output_type": "stream",
     "text": [
      "Help on function C_H2S in module VolFe.model_dependent_variables:\n",
      "\n",
      "C_H2S(PT, melt_wf, models=                            option\n",
      "type                              \n",
      "COH_species     yes_H2_CO_CH4_melt\n",
      "H2S_m                         True\n",
      "species X                       Ar\n",
      "Hspeciation                   none\n",
      "fO2                       Kress91A\n",
      "...                            ...\n",
      "error                          0.1\n",
      "print status                 False\n",
      "output csv                    True\n",
      "setup                        False\n",
      "high precision               False\n",
      "\n",
      "[64 rows x 1 columns])\n",
      "    Solubility constant for disolving H2S in the melt: C_H2S = wmH2S/fH2S (ppmw/bar)\n",
      "    \n",
      "    \n",
      "    Parameters\n",
      "    ----------\n",
      "    PT: pandas.DataFrame\n",
      "        Dataframe of pressure-temperature conditions\n",
      "        pressure (bars) as \"P\"\n",
      "        temperature ('C) as \"T\"\n",
      "        \n",
      "    melt_wf: pandas.DataFrame\n",
      "        Dataframe of melt composition (SiO2, TiO2, etc.)\n",
      "        Not normally used unless model option requires melt composition.\n",
      "    \n",
      "    models: pandas.DataFrame\n",
      "        Minimum requirement is dataframe with index of \"hydrogen sulfide\" and column label of \"option\"\n",
      "    \n",
      "    Returns\n",
      "    -------\n",
      "    Solubility constant for H2S as <class 'mpfr'>\n",
      "    \n",
      "    Model options\n",
      "    -------------\n",
      "    default: 'Basalt_Hughes24' Fig.S6 from Hughes et al. (2024) based on experimental data Moune et al. (2009) and calculations in Lesne et al. (2011)\n",
      "    Other options:\n",
      "    'BasalticAndesite_Hughes24' Fig.S6 from Hughes et al. (2024) based on experimental data Moune et al. (2009) and calculations in Lesne et al. (2011)\n",
      "\n"
     ]
    }
   ],
   "source": [
    "help(vf.C_H2S)"
   ]
  },
  {
   "cell_type": "markdown",
   "metadata": {},
   "source": [
    "Species X\n",
    "\n",
    "X(v) = X(m)"
   ]
  },
  {
   "cell_type": "code",
   "execution_count": 10,
   "metadata": {},
   "outputs": [
    {
     "name": "stdout",
     "output_type": "stream",
     "text": [
      "Help on function C_X in module VolFe.model_dependent_variables:\n",
      "\n",
      "C_X(PT, melt_wf, models=                            option\n",
      "type                              \n",
      "COH_species     yes_H2_CO_CH4_melt\n",
      "H2S_m                         True\n",
      "species X                       Ar\n",
      "Hspeciation                   none\n",
      "fO2                       Kress91A\n",
      "...                            ...\n",
      "error                          0.1\n",
      "print status                 False\n",
      "output csv                    True\n",
      "setup                        False\n",
      "high precision               False\n",
      "\n",
      "[64 rows x 1 columns])\n",
      "    Solubility constant for disolving X in the melt: C_X = wmX/fX (ppmw/bar)\n",
      "    \n",
      "    \n",
      "    Parameters\n",
      "    ----------\n",
      "    PT: pandas.DataFrame\n",
      "        Dataframe of pressure-temperature conditions\n",
      "        pressure (bars) as \"P\"\n",
      "        temperature ('C) as \"T\"\n",
      "        \n",
      "    melt_wf: pandas.DataFrame\n",
      "        Dataframe of melt composition (SiO2, TiO2, etc.)\n",
      "        Not normally used unless model option requires melt composition.\n",
      "    \n",
      "    models: pandas.DataFrame\n",
      "        Minimum requirement is dataframe with index of \"species X solubility\" and column label of \"option\"\n",
      "    \n",
      "    Returns\n",
      "    -------\n",
      "    Solubility constant for X as <class 'mpfr'>\n",
      "    \n",
      "    Model options\n",
      "    -------------\n",
      "    default: 'Ar_Basalt_HughesIP' Hughes et al. (in prep) based on data from Iacono-Marziano et al. (2010) Chemical Geology 279(3–4):145-157\n",
      "    Other options:\n",
      "    Ar_Rhyolite_HughesIP: Hughes et al. (in prep) based on data from Iacono-Marziano et al. (2010) Chemical Geology 279(3–4):145-157\n",
      "    Ne_Basalt_HughesIP: Hughes et al. (in prep) based on data from Iacono-Marziano et al. (2010) Chemical Geology 279(3–4):145-157\n",
      "    Ne_Rhyolite_HughesIP: Hughes et al. (in prep) based on data from Iacono-Marziano et al. (2010) Chemical Geology 279(3–4):145-157\n",
      "\n"
     ]
    }
   ],
   "source": [
    "help(vf.C_X)"
   ]
  },
  {
   "cell_type": "markdown",
   "metadata": {},
   "source": [
    "## Equilibrium constants"
   ]
  },
  {
   "cell_type": "markdown",
   "metadata": {},
   "source": [
    "Molecular carbon dioxide and carbonate ions\n",
    "\n",
    "CO2,mol(m) + O2-(m) = CO32-(m)"
   ]
  },
  {
   "cell_type": "code",
   "execution_count": 11,
   "metadata": {},
   "outputs": [
    {
     "name": "stdout",
     "output_type": "stream",
     "text": [
      "Help on function KCOm in module VolFe.model_dependent_variables:\n",
      "\n",
      "KCOm(PT, melt_wf, models=                            option\n",
      "type                              \n",
      "COH_species     yes_H2_CO_CH4_melt\n",
      "H2S_m                         True\n",
      "species X                       Ar\n",
      "Hspeciation                   none\n",
      "fO2                       Kress91A\n",
      "...                            ...\n",
      "error                          0.1\n",
      "print status                 False\n",
      "output csv                    True\n",
      "setup                        False\n",
      "high precision               False\n",
      "\n",
      "[64 rows x 1 columns])\n",
      "    Speciation constant for CO2 + O = CO3\n",
      "    \n",
      "    \n",
      "    Parameters\n",
      "    ----------\n",
      "    PT: pandas.DataFrame\n",
      "        Dataframe of pressure-temperature conditions\n",
      "        pressure (bars) as \"P\"\n",
      "        temperature ('C) as \"T\"\n",
      "    \n",
      "    melt_wf: pandas.DataFrame\n",
      "        Dataframe of melt composition (SiO2, TiO2, etc.)\n",
      "        Not normally used unless model option requires melt composition.\n",
      "    \n",
      "    models: pandas.DataFrame\n",
      "        Minimum requirement is dataframe with index of \"Cspeccomp\" and column label of \"option\"\n",
      "    \n",
      "    Returns\n",
      "    -------\n",
      "    Equilibrium constant as <class 'mpfr'>\n",
      "    \n",
      "    Model options\n",
      "    -------------\n",
      "    default: 'Basalt' Assume all oxidised carbon in the melt is present as carbonate ions.\n",
      "    Other options:\n",
      "    Andesite_Botcharnikov06: Eq. (8) from Botcharnikov et al. (2006) Chem. Geol. 229(1-3)125-143\n",
      "    Dacite_Botcharnikov06: Eq. in the text from Botcharnikov et al. (2006), based on data from Behrens et al. (2004)\n",
      "    Rhyolite: Assume all oxidised carbon in the melt is present as molecular CO2.\n",
      "\n"
     ]
    }
   ],
   "source": [
    "help(vf.KCOm)"
   ]
  }
 ],
 "metadata": {
  "kernelspec": {
   "display_name": "base",
   "language": "python",
   "name": "python3"
  },
  "language_info": {
   "codemirror_mode": {
    "name": "ipython",
    "version": 3
   },
   "file_extension": ".py",
   "mimetype": "text/x-python",
   "name": "python",
   "nbconvert_exporter": "python",
   "pygments_lexer": "ipython3",
   "version": "3.11.7"
  }
 },
 "nbformat": 4,
 "nbformat_minor": 2
}
