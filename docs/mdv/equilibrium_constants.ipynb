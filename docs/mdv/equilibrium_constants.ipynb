{
 "cells": [
  {
   "cell_type": "markdown",
   "metadata": {},
   "source": [
    "## Equilibrium constants\n",
    "\n",
    "In this notebook, we show you all the functions that calculate equilibrium constants in VolFe and show the different model options currently available."
   ]
  },
  {
   "cell_type": "markdown",
   "metadata": {},
   "source": [
    "## Setting things up\n",
    "You need to install VolFe once on your machine and then import the VolFe Python package."
   ]
  },
  {
   "cell_type": "code",
   "execution_count": 1,
   "metadata": {},
   "outputs": [],
   "source": [
    "# Install VolFe on your machine. \n",
    "# pip install VolFe # Remove the 1st # from this line if you have not installed VolFe before.\n",
    "# import python packages\n",
    "import VolFe as vf"
   ]
  },
  {
   "cell_type": "markdown",
   "metadata": {},
   "source": [
    "H2 + 0.5O2 = H2O"
   ]
  },
  {
   "cell_type": "code",
   "execution_count": 2,
   "metadata": {},
   "outputs": [
    {
     "name": "stdout",
     "output_type": "stream",
     "text": [
      "Help on function KHOg in module VolFe.model_dependent_variables:\n",
      "\n",
      "KHOg(PT, models=                            option\n",
      "type                              \n",
      "COH_species     yes_H2_CO_CH4_melt\n",
      "H2S_m                         True\n",
      "species X                       Ar\n",
      "Hspeciation                   none\n",
      "fO2                       Kress91A\n",
      "...                            ...\n",
      "error                          0.1\n",
      "print status                 False\n",
      "output csv                    True\n",
      "setup                        False\n",
      "high precision               False\n",
      "\n",
      "[64 rows x 1 columns])\n",
      "    Equilibrium constant for H2 + 0.5O2 = H2O, K = fH2O/(fH2*(fO2)^0.5)\n",
      "    \n",
      "    \n",
      "    Parameters\n",
      "    ----------\n",
      "    PT: pandas.DataFrame\n",
      "        Dataframe of pressure-temperature conditions\n",
      "        pressure (bars) as \"P\"\n",
      "        temperature ('C) as \"T\"\n",
      "    \n",
      "    models: pandas.DataFrame\n",
      "        Minimum requirement is dataframe with index of \"KHOg\" and column label of \"option\"\n",
      "    \n",
      "    Returns\n",
      "    -------\n",
      "    Equilibrium constant as <class 'mpfr'>\n",
      "    \n",
      "    Model options\n",
      "    -------------\n",
      "    default: 'Ohmoto97' Reaction (d) in Table 1 of Ohmoto & Kerrick (1997)\n",
      "    Only one option available currently, included for future development.\n",
      "\n"
     ]
    }
   ],
   "source": [
    "help(vf.KHOg)"
   ]
  },
  {
   "cell_type": "markdown",
   "metadata": {},
   "source": [
    "CO + 0.5O2 = CO"
   ]
  },
  {
   "cell_type": "code",
   "execution_count": 3,
   "metadata": {},
   "outputs": [
    {
     "name": "stdout",
     "output_type": "stream",
     "text": [
      "Help on function KCOg in module VolFe.model_dependent_variables:\n",
      "\n",
      "KCOg(PT, models=                            option\n",
      "type                              \n",
      "COH_species     yes_H2_CO_CH4_melt\n",
      "H2S_m                         True\n",
      "species X                       Ar\n",
      "Hspeciation                   none\n",
      "fO2                       Kress91A\n",
      "...                            ...\n",
      "error                          0.1\n",
      "print status                 False\n",
      "output csv                    True\n",
      "setup                        False\n",
      "high precision               False\n",
      "\n",
      "[64 rows x 1 columns])\n",
      "    Equilibrium constant for CO + 0.5O = CO2, K = fCO2/(fCO*(fO2^0.5))\n",
      "    \n",
      "    \n",
      "    Parameters\n",
      "    ----------\n",
      "    PT: pandas.DataFrame\n",
      "        Dataframe of pressure-temperature conditions\n",
      "        pressure (bars) as \"P\"\n",
      "        temperature ('C) as \"T\"\n",
      "    \n",
      "    models: pandas.DataFrame\n",
      "        Minimum requirement is dataframe with index of \"KCOg\" and column label of \"option\"\n",
      "    \n",
      "    Returns\n",
      "    -------\n",
      "    Equilibrium constant as <class 'mpfr'>\n",
      "    \n",
      "    Model options\n",
      "    -------------\n",
      "    default: 'Ohmoto97' Reaction (c) in Table 1 of Ohmoto & Kerrick (1997)\n",
      "    Only one option available currently, included for future development.\n",
      "\n"
     ]
    }
   ],
   "source": [
    "help(vf.KCOg)"
   ]
  },
  {
   "cell_type": "markdown",
   "metadata": {},
   "source": [
    "0.5S2 + O2 = SO2"
   ]
  },
  {
   "cell_type": "code",
   "execution_count": 4,
   "metadata": {},
   "outputs": [
    {
     "name": "stdout",
     "output_type": "stream",
     "text": [
      "Help on function KOSg in module VolFe.model_dependent_variables:\n",
      "\n",
      "KOSg(PT, models=                            option\n",
      "type                              \n",
      "COH_species     yes_H2_CO_CH4_melt\n",
      "H2S_m                         True\n",
      "species X                       Ar\n",
      "Hspeciation                   none\n",
      "fO2                       Kress91A\n",
      "...                            ...\n",
      "error                          0.1\n",
      "print status                 False\n",
      "output csv                    True\n",
      "setup                        False\n",
      "high precision               False\n",
      "\n",
      "[64 rows x 1 columns])\n",
      "    Equilibrium constant for 0.5S2 + O2 = SO2, K = fSO2/((fS2^0.5)*fO2)\n",
      "    \n",
      "    \n",
      "    Parameters\n",
      "    ----------\n",
      "    PT: pandas.DataFrame\n",
      "        Dataframe of pressure-temperature conditions\n",
      "        pressure (bars) as \"P\"\n",
      "        temperature ('C) as \"T\"\n",
      "    \n",
      "    models: pandas.DataFrame\n",
      "        Minimum requirement is dataframe with index of \"KOSg\" and column label of \"option\"\n",
      "    \n",
      "    Returns\n",
      "    -------\n",
      "    Equilibrium constant as <class 'mpfr'>\n",
      "    \n",
      "    Model options\n",
      "    -------------\n",
      "    default: 'Ohmoto97' Reaction (f) in Table 1 of Ohmoto & Kerrick (1997)\n",
      "    Other options:\n",
      "    'noSO2' Stops SO2 forming in the vapor, K = 0.\n",
      "\n"
     ]
    }
   ],
   "source": [
    "help(vf.KOSg)"
   ]
  },
  {
   "cell_type": "markdown",
   "metadata": {},
   "source": [
    "0.5S2 + 1.5O2 = SO3"
   ]
  },
  {
   "cell_type": "code",
   "execution_count": 5,
   "metadata": {},
   "outputs": [
    {
     "name": "stdout",
     "output_type": "stream",
     "text": [
      "Help on function KOSg2 in module VolFe.model_dependent_variables:\n",
      "\n",
      "KOSg2(PT, models=                            option\n",
      "type                              \n",
      "COH_species     yes_H2_CO_CH4_melt\n",
      "H2S_m                         True\n",
      "species X                       Ar\n",
      "Hspeciation                   none\n",
      "fO2                       Kress91A\n",
      "...                            ...\n",
      "error                          0.1\n",
      "print status                 False\n",
      "output csv                    True\n",
      "setup                        False\n",
      "high precision               False\n",
      "\n",
      "[64 rows x 1 columns])\n",
      "    Equilibrium constant for 0.5S2 + 1.5O2 = SO3, K = fSO3/((fS2^0.5)*(fO2^1.5)\n",
      "    \n",
      "    \n",
      "    Parameters\n",
      "    ----------\n",
      "    PT: pandas.DataFrame\n",
      "        Dataframe of pressure-temperature conditions\n",
      "        pressure (bars) as \"P\"\n",
      "        temperature ('C) as \"T\"\n",
      "    \n",
      "    models: pandas.DataFrame\n",
      "        Minimum requirement is dataframe with index of \"KOsg2\" and column label of \"option\"\n",
      "    \n",
      "    Returns\n",
      "    -------\n",
      "    Equilibrium constant as <class 'mpfr'>\n",
      "    \n",
      "    Model options\n",
      "    -------------\n",
      "    default: 'ONeill22' Eq (6b) in O’Neill and Mavrogenes (2022)\n",
      "    Only one option available currently, included for future development.\n",
      "\n"
     ]
    }
   ],
   "source": [
    "help(vf.KOSg2)"
   ]
  },
  {
   "cell_type": "markdown",
   "metadata": {},
   "source": [
    "CH4 + 2O2 = CO2 + 2H2O"
   ]
  },
  {
   "cell_type": "code",
   "execution_count": 6,
   "metadata": {},
   "outputs": [
    {
     "name": "stdout",
     "output_type": "stream",
     "text": [
      "Help on function KCOHg in module VolFe.model_dependent_variables:\n",
      "\n",
      "KCOHg(PT, models=                            option\n",
      "type                              \n",
      "COH_species     yes_H2_CO_CH4_melt\n",
      "H2S_m                         True\n",
      "species X                       Ar\n",
      "Hspeciation                   none\n",
      "fO2                       Kress91A\n",
      "...                            ...\n",
      "error                          0.1\n",
      "print status                 False\n",
      "output csv                    True\n",
      "setup                        False\n",
      "high precision               False\n",
      "\n",
      "[64 rows x 1 columns])\n",
      "    Equilibrium constant for CH4 + 2O2 = CO2 + 2H2O, K = (fCO2*(fH2O^2))/(fCH4*(fO2^2))\n",
      "    \n",
      "    \n",
      "    Parameters\n",
      "    ----------\n",
      "    PT: pandas.DataFrame\n",
      "        Dataframe of pressure-temperature conditions\n",
      "        pressure (bars) as \"P\"\n",
      "        temperature ('C) as \"T\"\n",
      "    \n",
      "    models: pandas.DataFrame\n",
      "        Minimum requirement is dataframe with index of \"KCOHg\" and column label of \"option\"\n",
      "    \n",
      "    Returns\n",
      "    -------\n",
      "    Equilibrium constant as <class 'mpfr'>\n",
      "    \n",
      "    Model options\n",
      "    -------------\n",
      "    default: 'Ohmoto97' Reaction (e) in Table 1 of Ohmoto & Kerrick (1997)\n",
      "    Other options:\n",
      "    'noCH4' Almost stops CH4 forming in the vapor, K = very large.\n",
      "\n"
     ]
    }
   ],
   "source": [
    "help(vf.KCOHg)"
   ]
  },
  {
   "cell_type": "markdown",
   "metadata": {},
   "source": [
    "0.5S2 + H2O = H2S + 0.5O2"
   ]
  },
  {
   "cell_type": "code",
   "execution_count": 7,
   "metadata": {},
   "outputs": [
    {
     "name": "stdout",
     "output_type": "stream",
     "text": [
      "Help on function KHOSg in module VolFe.model_dependent_variables:\n",
      "\n",
      "KHOSg(PT, models=                            option\n",
      "type                              \n",
      "COH_species     yes_H2_CO_CH4_melt\n",
      "H2S_m                         True\n",
      "species X                       Ar\n",
      "Hspeciation                   none\n",
      "fO2                       Kress91A\n",
      "...                            ...\n",
      "error                          0.1\n",
      "print status                 False\n",
      "output csv                    True\n",
      "setup                        False\n",
      "high precision               False\n",
      "\n",
      "[64 rows x 1 columns])\n",
      "    Equilibrium constant for H2O + 0.5S2 = H2S + 0.5O2, K = (fH2S*(fO2)^0.5)/((fS2^0.5)*fH2O)\n",
      "    \n",
      "    \n",
      "    Parameters\n",
      "    ----------\n",
      "    PT: pandas.DataFrame\n",
      "        Dataframe of pressure-temperature conditions\n",
      "        pressure (bars) as \"P\"\n",
      "        temperature ('C) as \"T\"\n",
      "    \n",
      "    models: pandas.DataFrame\n",
      "        Minimum requirement is dataframe with index of \"KHOSg\" and column label of \"option\"\n",
      "    \n",
      "    Returns\n",
      "    -------\n",
      "    Equilibrium constant as <class 'mpfr'>\n",
      "    \n",
      "    Model options\n",
      "    -------------\n",
      "    default: 'Ohmoto97' Reaction (h) in Table 1 of Ohmoto & Kerrick (1997)\n",
      "    Other options:\n",
      "    'noH2S' Stops H2S forming in the vapor, K = 0.\n",
      "\n"
     ]
    }
   ],
   "source": [
    "help(vf.KHOSg)"
   ]
  },
  {
   "cell_type": "markdown",
   "metadata": {},
   "source": [
    "2CO2 + OCS = 3CO + SO2"
   ]
  },
  {
   "cell_type": "code",
   "execution_count": 8,
   "metadata": {},
   "outputs": [
    {
     "name": "stdout",
     "output_type": "stream",
     "text": [
      "Help on function KOCSg in module VolFe.model_dependent_variables:\n",
      "\n",
      "KOCSg(PT, models=                            option\n",
      "type                              \n",
      "COH_species     yes_H2_CO_CH4_melt\n",
      "H2S_m                         True\n",
      "species X                       Ar\n",
      "Hspeciation                   none\n",
      "fO2                       Kress91A\n",
      "...                            ...\n",
      "error                          0.1\n",
      "print status                 False\n",
      "output csv                    True\n",
      "setup                        False\n",
      "high precision               False\n",
      "\n",
      "[64 rows x 1 columns])\n",
      "    Equilibrium constant for OCS (either K = (fCO2*fH2S)/(fOCS*fH2O) or (fCO^3*fSO2)/(fCO2^2*fOCS))\n",
      "    \n",
      "    \n",
      "    Parameters\n",
      "    ----------\n",
      "    PT: pandas.DataFrame\n",
      "        Dataframe of pressure-temperature conditions\n",
      "        pressure (bars) as \"P\"\n",
      "        temperature ('C) as \"T\"\n",
      "    \n",
      "    models: pandas.DataFrame\n",
      "        Minimum requirement is dataframe with index of \"KOCSg\" and \"carbonylsulfide\" and column label of \"option\"\n",
      "    \n",
      "    Returns\n",
      "    -------\n",
      "    Equilibrium constant as <class 'mpfr'>\n",
      "    \n",
      "    Model options\n",
      "    -------------\n",
      "    default: 'Moussallam19' Eq. (8) in Moussallam et al. (2019) for KOCSg AND 'COS' for carbonlysulfide\n",
      "    Other options:\n",
      "    Other options:\n",
      "    'noOCS' Almost stops OCS forming in the vapor, K = very large.\n",
      "\n"
     ]
    }
   ],
   "source": [
    "help(vf.KOCSg)"
   ]
  },
  {
   "cell_type": "markdown",
   "metadata": {},
   "source": [
    "Cgraphite + O2 = CO2"
   ]
  },
  {
   "cell_type": "code",
   "execution_count": 9,
   "metadata": {},
   "outputs": [
    {
     "name": "stdout",
     "output_type": "stream",
     "text": [
      "Help on function KCOs in module VolFe.model_dependent_variables:\n",
      "\n",
      "KCOs(PT, models=                            option\n",
      "type                              \n",
      "COH_species     yes_H2_CO_CH4_melt\n",
      "H2S_m                         True\n",
      "species X                       Ar\n",
      "Hspeciation                   none\n",
      "fO2                       Kress91A\n",
      "...                            ...\n",
      "error                          0.1\n",
      "print status                 False\n",
      "output csv                    True\n",
      "setup                        False\n",
      "high precision               False\n",
      "\n",
      "[64 rows x 1 columns])\n",
      "    Equilibrium constant for Cgraphite + O2 = CO2\n",
      "    \n",
      "    \n",
      "    Parameters\n",
      "    ----------\n",
      "    PT: pandas.DataFrame\n",
      "        Dataframe of pressure-temperature conditions\n",
      "        pressure (bars) as \"P\"\n",
      "        temperature ('C) as \"T\"\n",
      "    \n",
      "    models: pandas.DataFrame\n",
      "        Minimum requirement is dataframe with index of \"KCOs\" and column label of \"option\"\n",
      "    \n",
      "    Returns\n",
      "    -------\n",
      "    Equilibrium constant as <class 'mpfr'>\n",
      "    \n",
      "    Model options\n",
      "    -------------\n",
      "    default: 'Holloway92' Eq (3) KI in Holloway et al. (1992) Eur J. Mineral. 4:105-114\n",
      "    Only one option available currently, included for future development.\n",
      "\n"
     ]
    }
   ],
   "source": [
    "help(vf.KCOs)"
   ]
  }
 ],
 "metadata": {
  "kernelspec": {
   "display_name": "base",
   "language": "python",
   "name": "python3"
  },
  "language_info": {
   "codemirror_mode": {
    "name": "ipython",
    "version": 3
   },
   "file_extension": ".py",
   "mimetype": "text/x-python",
   "name": "python",
   "nbconvert_exporter": "python",
   "pygments_lexer": "ipython3",
   "version": "3.11.7"
  }
 },
 "nbformat": 4,
 "nbformat_minor": 2
}
