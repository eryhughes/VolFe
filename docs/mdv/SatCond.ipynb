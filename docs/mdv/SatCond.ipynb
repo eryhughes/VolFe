{
 "cells": [
  {
   "cell_type": "markdown",
   "metadata": {},
   "source": [
    "## Sulfide/sulfate content at sulfide/anhydrite saturation\n",
    "\n",
    "In this notebook, we show you all the functions that calculate the S2-CSS and S6+CAS in VolFe and show the different model options currently available."
   ]
  },
  {
   "cell_type": "markdown",
   "metadata": {},
   "source": [
    "## Setting things up\n",
    "First we need to import a few Python packages (including VolFe) and set the precision of the calculations. You need to install VolFe once on your machine, if you haven't yet, uncomment the line below (remove the #)."
   ]
  },
  {
   "cell_type": "code",
   "execution_count": 1,
   "metadata": {},
   "outputs": [],
   "source": [
    "# Install VolFe on your machine. Remove the # from line below to do this (don't remove the # from this line!).\n",
    "# pip install VolFe"
   ]
  },
  {
   "cell_type": "code",
   "execution_count": 2,
   "metadata": {},
   "outputs": [],
   "source": [
    "# import python packages\n",
    "import pandas as pd\n",
    "import gmpy2 as gp\n",
    "import VolFe as vf\n",
    "\n",
    "# set calculation precision\n",
    "gp.get_context().precision=50"
   ]
  },
  {
   "cell_type": "markdown",
   "metadata": {},
   "source": [
    "Sulfide content at sulfide saturation: S2-CSS"
   ]
  },
  {
   "cell_type": "code",
   "execution_count": 3,
   "metadata": {},
   "outputs": [
    {
     "name": "stdout",
     "output_type": "stream",
     "text": [
      "Help on function SCSS in module VolFe.model_dependent_variables:\n",
      "\n",
      "SCSS(PT, melt_wf, models=                option\n",
      "type                  \n",
      "insolubles         yes\n",
      "H2S_m              yes\n",
      "species X           Ar\n",
      "Hspeciation       none\n",
      "fO2           Kress91A\n",
      "...                ...\n",
      "bulk_O           exc_S\n",
      "error              0.1\n",
      "print status        no\n",
      "output csv         yes\n",
      "setup               no\n",
      "\n",
      "[63 rows x 1 columns])\n",
      "    Sulfide content at sulfide saturation (S2-CSS)\n",
      "    \n",
      "    \n",
      "    Parameters\n",
      "    ----------\n",
      "    PT: pandas.DataFrame\n",
      "        Dataframe of pressure-temperature conditions\n",
      "        pressure (bars) as \"P\"\n",
      "        temperature ('C) as \"T\"\n",
      "        \n",
      "    melt_wf: pandas.DataFrame\n",
      "        Dataframe of melt composition (SiO2, TiO2, etc.)\n",
      "    \n",
      "    models: pandas.DataFrame\n",
      "        Minimum requirement is dataframe with index of \"SCSS\" and column label of \"option\"\n",
      "    \n",
      "    Returns\n",
      "    -------\n",
      "    S2-CCS in ppm as <class 'mpfr'>\n",
      "    \n",
      "    Model options\n",
      "    -------------\n",
      "    default: 'ONeill21hyd' Eq. (10.34, 10.43, 10.45, 10.46, 10.49) from O'Neill (2021) in \"Magma Redox Geochemistry\" doi:10.1002/9781119473206.ch10\n",
      "    Other options:\n",
      "    'ONeill21' Eq. (10.34, 10.43, 10.45, 10.46) excluding water dilution from O'Neill (2021) in \"Magma Redox Geochemistry\" doi:10.1002/9781119473206.ch10\n",
      "    'ONeill21dil' Eq. (10.34, 10.43, 10.45, 10.46) including water dilution from O'Neill (2021) in \"Magma Redox Geochemistry\" doi:10.1002/9781119473206.ch10\n",
      "    'Liu07' Eq. (9) in Liu et al. (2007) GCA 71:1783-1799 doi:10.1016/j.gca.2007.01.004\n",
      "    'Fortin15' Eq. (7) Fortin et al. (2015) GCA 160:100-116 doi:10.1016/j.gca.2015.03.022\n",
      "    'Liu21' Eq. (2) Liu et al. (2021) Chem.Geol. 559:119913 doi:10.1016.j.chemgeo.2020.119913\n",
      "    'Fortin15_pss' Fortin et al. (2015) using PySulfSat by Wieser & Gleeson (2023) Volcanica 6(1):107-127 doi:10.30909/vol.06.01.107127\n",
      "    'Liu21_pss' Liu et al. (2021) assuming pure FeS using PySulfSat by Wieser & Gleeson (2023) Volcanica 6(1):107-127 doi:10.30909/vol.06.01.107127\n",
      "    'ONeill22_pss' O'Neill & Mavrogenes (2022) assuming pure FeS using PySulfSat by Wieser & Gleeson (2023) Volcanica 6(1):107-127 doi:10.30909/vol.06.01.107127\n",
      "    'ONeill21_pss' O'Neill (2021) assuming pure FeS using PySulfSat by Wieser & Gleeson (2023) Volcanica 6(1):107-127 doi:10.30909/vol.06.01.107127\n",
      "    'Smythe17_pss' Smythe et al. (2017) assuming pure FeS using PySulfSat by Wieser & Gleeson (2023) Volcanica 6(1):107-127 doi:10.30909/vol.06.01.107127\n",
      "\n"
     ]
    }
   ],
   "source": [
    "help(vf.SCSS)"
   ]
  },
  {
   "cell_type": "markdown",
   "metadata": {},
   "source": [
    "Sulfate content at anhydrite saturation: S6+CAS"
   ]
  },
  {
   "cell_type": "code",
   "execution_count": 4,
   "metadata": {},
   "outputs": [
    {
     "name": "stdout",
     "output_type": "stream",
     "text": [
      "Help on function SCAS in module VolFe.model_dependent_variables:\n",
      "\n",
      "SCAS(PT, melt_wf, models=                option\n",
      "type                  \n",
      "insolubles         yes\n",
      "H2S_m              yes\n",
      "species X           Ar\n",
      "Hspeciation       none\n",
      "fO2           Kress91A\n",
      "...                ...\n",
      "bulk_O           exc_S\n",
      "error              0.1\n",
      "print status        no\n",
      "output csv         yes\n",
      "setup               no\n",
      "\n",
      "[63 rows x 1 columns])\n",
      "    Sulfate content at anhydrite saturation (S6+CAS)\n",
      "    \n",
      "    \n",
      "    Parameters\n",
      "    ----------\n",
      "    PT: pandas.DataFrame\n",
      "        Dataframe of pressure-temperature conditions\n",
      "        pressure (bars) as \"P\"\n",
      "        temperature ('C) as \"T\"\n",
      "        \n",
      "    melt_wf: pandas.DataFrame\n",
      "        Dataframe of melt composition (SiO2, TiO2, etc.)\n",
      "    \n",
      "    models: pandas.DataFrame\n",
      "        Minimum requirement is dataframe with index of \"SCAS\" and column label of \"option\"\n",
      "    \n",
      "    Returns\n",
      "    -------\n",
      "    S6+CAS in ppm as <class 'mpfr'>\n",
      "    \n",
      "    Model options\n",
      "    -------------\n",
      "    default: 'Zajacz19' Eq. (8-14) Zajacz & Tsay (2019) GCA 261:288-304 doi:10.1016/j.gca.2019.07.007\n",
      "    Other options:\n",
      "    'Chowdhury19' Eq. (8) using Table 5 in Chowdhury & Dasgupta (2019) Chem.Geol. 522:162-174 doi:10.1016/j.chemgeo.2019.05.020\n",
      "    'Liu23' Eq. (4) Liu et al. (2023) GCA 349:135-145 doi:10.1016/j.gca.2023.04.007\n",
      "    'Chowdhury19_pss' Chowdhury & Dasgupta (2019) using PySulfSat by Wieser and Gleeson (2023) Volcanica 6(1):107-127 doi:10.30909/vol.06.01.107127\n",
      "    'Zajacz19_pss' Zajacz and Tsay (2019) using PySulfSat by Wieser and Gleeson (2023) Volcanica 6(1):107-127 doi:10.30909/vol.06.01.107127\n",
      "\n"
     ]
    }
   ],
   "source": [
    "help(vf.SCAS)"
   ]
  }
 ],
 "metadata": {
  "kernelspec": {
   "display_name": "base",
   "language": "python",
   "name": "python3"
  },
  "language_info": {
   "codemirror_mode": {
    "name": "ipython",
    "version": 3
   },
   "file_extension": ".py",
   "mimetype": "text/x-python",
   "name": "python",
   "nbconvert_exporter": "python",
   "pygments_lexer": "ipython3",
   "version": "3.11.7"
  }
 },
 "nbformat": 4,
 "nbformat_minor": 2
}
