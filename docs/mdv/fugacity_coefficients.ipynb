{
 "cells": [
  {
   "cell_type": "markdown",
   "metadata": {},
   "source": [
    "## Fugacity coefficients\n",
    "\n",
    "In this notebook, we show you all the functions that calculate fugacity coefficients in VolFe and show the different model options currently available. VolFe treats the vapor as an ideal mixture of non-ideal gases; hence, these parameterisations depend no P and T but not the vapor composition. \n",
    "\n",
    "An overriding option is:\n",
    "\n",
    "ideal_gas: Treat all vapor species as ideal gases (i.e., all fugacity coefficients = 1 at all P).\n",
    "\n",
    "default: ‘False’ At least some of the vapor species are not treated as ideal gases.\n",
    "\n",
    "‘True’ All fugacity coefficients = 1 at all P."
   ]
  },
  {
   "cell_type": "markdown",
   "metadata": {},
   "source": [
    "## Setting things up\n",
    "You need to install VolFe once on your machine and then import the VolFe Python package."
   ]
  },
  {
   "cell_type": "code",
   "execution_count": 1,
   "metadata": {},
   "outputs": [],
   "source": [
    "# Install VolFe on your machine. \n",
    "# pip install VolFe # Remove the 1st # from this line if you have not installed VolFe before.\n",
    "# import python packages\n",
    "import VolFe as vf"
   ]
  },
  {
   "cell_type": "markdown",
   "metadata": {},
   "source": [
    "O2"
   ]
  },
  {
   "cell_type": "code",
   "execution_count": 2,
   "metadata": {},
   "outputs": [
    {
     "name": "stdout",
     "output_type": "stream",
     "text": [
      "Help on function y_O2 in module VolFe.model_dependent_variables:\n",
      "\n",
      "y_O2(PT, models=                            option\n",
      "type                              \n",
      "COH_species     yes_H2_CO_CH4_melt\n",
      "H2S_m                         True\n",
      "species X                       Ar\n",
      "Hspeciation                   none\n",
      "fO2                       Kress91A\n",
      "...                            ...\n",
      "error                          0.1\n",
      "print status                 False\n",
      "output csv                    True\n",
      "setup                        False\n",
      "high precision               False\n",
      "\n",
      "[64 rows x 1 columns])\n",
      "    Fugacity coefficient for O2\n",
      "    \n",
      "    Parameters\n",
      "    ----------\n",
      "    PT: pandas.DataFrame\n",
      "        Dataframe of pressure-temperature conditions\n",
      "        pressure (bars) as \"P\"\n",
      "        temperature ('C) as \"T\"\n",
      "    \n",
      "    models: pandas.DataFrame\n",
      "        Minimum requirement is dataframe with index of \"y_O2\" and \"ideal_gas\" and column label of \"option\"\n",
      "    \n",
      "    Returns\n",
      "    -------\n",
      "    Fugacity coefficient as <class 'mpfr'>\n",
      "    \n",
      "    Model options for y_O2\n",
      "    ----------------------\n",
      "    default: 'Shi92' Shi & Saxena (1992) AmMin 77(9-10):1038-1049\n",
      "    Other options:\n",
      "    ideal: Treat as ideal gas, y = 1 at all P.\n",
      "    (Note: \"ideal_gas\" = \"True\" overides chosen option)\n",
      "\n"
     ]
    }
   ],
   "source": [
    "help(vf.y_O2)"
   ]
  },
  {
   "cell_type": "markdown",
   "metadata": {},
   "source": [
    "H2"
   ]
  },
  {
   "cell_type": "code",
   "execution_count": 3,
   "metadata": {},
   "outputs": [
    {
     "name": "stdout",
     "output_type": "stream",
     "text": [
      "Help on function y_H2 in module VolFe.model_dependent_variables:\n",
      "\n",
      "y_H2(PT, models=                            option\n",
      "type                              \n",
      "COH_species     yes_H2_CO_CH4_melt\n",
      "H2S_m                         True\n",
      "species X                       Ar\n",
      "Hspeciation                   none\n",
      "fO2                       Kress91A\n",
      "...                            ...\n",
      "error                          0.1\n",
      "print status                 False\n",
      "output csv                    True\n",
      "setup                        False\n",
      "high precision               False\n",
      "\n",
      "[64 rows x 1 columns])\n",
      "    Fugacity coefficient for H2\n",
      "    \n",
      "    Parameters\n",
      "    ----------\n",
      "    PT: pandas.DataFrame\n",
      "        Dataframe of pressure-temperature conditions\n",
      "        pressure (bars) as \"P\"\n",
      "        temperature ('C) as \"T\"\n",
      "    \n",
      "    models: pandas.DataFrame\n",
      "        Minimum requirement is dataframe with index of \"y_H2\" and \"ideal_gas\" and column label of \"option\"\n",
      "    \n",
      "    Returns\n",
      "    -------\n",
      "    Fugacity coefficient as <class 'mpfr'>\n",
      "    \n",
      "    Model options for y_H2\n",
      "    ----------------------\n",
      "    default: 'Shaw64' Eq. (4) from Shaw & Wones (1964) AmJSci 262:918-929\n",
      "    Other options:\n",
      "    ideal: Treat as ideal gas, y = 1 at all P.\n",
      "    (Note: \"ideal_gas\" = \"True\" overides chosen option)\n",
      "\n"
     ]
    }
   ],
   "source": [
    "help(vf.y_H2)"
   ]
  },
  {
   "cell_type": "markdown",
   "metadata": {},
   "source": [
    "S2"
   ]
  },
  {
   "cell_type": "code",
   "execution_count": 4,
   "metadata": {},
   "outputs": [
    {
     "name": "stdout",
     "output_type": "stream",
     "text": [
      "Help on function y_S2 in module VolFe.model_dependent_variables:\n",
      "\n",
      "y_S2(PT, models=                            option\n",
      "type                              \n",
      "COH_species     yes_H2_CO_CH4_melt\n",
      "H2S_m                         True\n",
      "species X                       Ar\n",
      "Hspeciation                   none\n",
      "fO2                       Kress91A\n",
      "...                            ...\n",
      "error                          0.1\n",
      "print status                 False\n",
      "output csv                    True\n",
      "setup                        False\n",
      "high precision               False\n",
      "\n",
      "[64 rows x 1 columns])\n",
      "    Fugacity coefficient for S2\n",
      "    \n",
      "    Parameters\n",
      "    ----------\n",
      "    PT: pandas.DataFrame\n",
      "        Dataframe of pressure-temperature conditions\n",
      "        pressure (bars) as \"P\"\n",
      "        temperature ('C) as \"T\"\n",
      "    \n",
      "    models: pandas.DataFrame\n",
      "        Minimum requirement is dataframe with index of \"y_S2\" and \"ideal_gas\" and column label of \"option\"\n",
      "    \n",
      "    Returns\n",
      "    -------\n",
      "    Fugacity coefficient as <class 'mpfr'>\n",
      "    \n",
      "    Model options for y_S2\n",
      "    ----------------------\n",
      "    default: 'Shi92' Shi & Saxena (1992) AmMin 77(9-10):1038-1049\n",
      "    Other options:\n",
      "    ideal: Treat as ideal gas, y = 1 at all P.\n",
      "    (Note: \"ideal_gas\" = \"True\" overides chosen option)\n",
      "\n"
     ]
    }
   ],
   "source": [
    "help(vf.y_S2)"
   ]
  },
  {
   "cell_type": "markdown",
   "metadata": {},
   "source": [
    "CO"
   ]
  },
  {
   "cell_type": "code",
   "execution_count": 5,
   "metadata": {},
   "outputs": [
    {
     "name": "stdout",
     "output_type": "stream",
     "text": [
      "Help on function y_CO in module VolFe.model_dependent_variables:\n",
      "\n",
      "y_CO(PT, models=                            option\n",
      "type                              \n",
      "COH_species     yes_H2_CO_CH4_melt\n",
      "H2S_m                         True\n",
      "species X                       Ar\n",
      "Hspeciation                   none\n",
      "fO2                       Kress91A\n",
      "...                            ...\n",
      "error                          0.1\n",
      "print status                 False\n",
      "output csv                    True\n",
      "setup                        False\n",
      "high precision               False\n",
      "\n",
      "[64 rows x 1 columns])\n",
      "    Fugacity coefficient for CO\n",
      "    \n",
      "    Parameters\n",
      "    ----------\n",
      "    PT: pandas.DataFrame\n",
      "        Dataframe of pressure-temperature conditions\n",
      "        pressure (bars) as \"P\"\n",
      "        temperature ('C) as \"T\"\n",
      "    \n",
      "    models: pandas.DataFrame\n",
      "        Minimum requirement is dataframe with index of \"y_CO\" and \"ideal_gas\" and column label of \"option\"\n",
      "    \n",
      "    Returns\n",
      "    -------\n",
      "    Fugacity coefficient as <class 'mpfr'>\n",
      "    \n",
      "    Model options for y_CO\n",
      "    ----------------------\n",
      "    default: 'Shi92' Shi & Saxena (1992) AmMin 77(9-10):1038-1049\n",
      "    Other options:\n",
      "    ideal: Treat as ideal gas, y = 1 at all P.\n",
      "    (Note: \"ideal_gas\" = \"True\" overides chosen option)\n",
      "\n"
     ]
    }
   ],
   "source": [
    "help(vf.y_CO)"
   ]
  },
  {
   "cell_type": "markdown",
   "metadata": {},
   "source": [
    "H2O"
   ]
  },
  {
   "cell_type": "code",
   "execution_count": 6,
   "metadata": {},
   "outputs": [
    {
     "name": "stdout",
     "output_type": "stream",
     "text": [
      "Help on function y_H2O in module VolFe.model_dependent_variables:\n",
      "\n",
      "y_H2O(PT, models=                            option\n",
      "type                              \n",
      "COH_species     yes_H2_CO_CH4_melt\n",
      "H2S_m                         True\n",
      "species X                       Ar\n",
      "Hspeciation                   none\n",
      "fO2                       Kress91A\n",
      "...                            ...\n",
      "error                          0.1\n",
      "print status                 False\n",
      "output csv                    True\n",
      "setup                        False\n",
      "high precision               False\n",
      "\n",
      "[64 rows x 1 columns])\n",
      "    Fugacity coefficient for H2O\n",
      "    \n",
      "    Parameters\n",
      "    ----------\n",
      "    PT: pandas.DataFrame\n",
      "        Dataframe of pressure-temperature conditions\n",
      "        pressure (bars) as \"P\"\n",
      "        temperature ('C) as \"T\"\n",
      "    \n",
      "    models: pandas.DataFrame\n",
      "        Minimum requirement is dataframe with index of \"y_H2O\" and \"ideal_gas\" and column label of \"option\"\n",
      "    \n",
      "    Returns\n",
      "    -------\n",
      "    Fugacity coefficient as <class 'mpfr'>\n",
      "    \n",
      "    Model options for y_H2O\n",
      "    -----------------------\n",
      "    default: 'Holland91' Holland & Powell (1991) CMP 109:265-273 10.1007/BF00306484\n",
      "    Other options:\n",
      "    ideal: Treat as ideal gas, y = 1 at all P.\n",
      "    (Note: \"ideal_gas\" = \"True\" overides chosen option)\n",
      "\n"
     ]
    }
   ],
   "source": [
    "help(vf.y_H2O)"
   ]
  },
  {
   "cell_type": "markdown",
   "metadata": {},
   "source": [
    "CO2"
   ]
  },
  {
   "cell_type": "code",
   "execution_count": 7,
   "metadata": {},
   "outputs": [
    {
     "name": "stdout",
     "output_type": "stream",
     "text": [
      "Help on function y_CO2 in module VolFe.model_dependent_variables:\n",
      "\n",
      "y_CO2(PT, models=                            option\n",
      "type                              \n",
      "COH_species     yes_H2_CO_CH4_melt\n",
      "H2S_m                         True\n",
      "species X                       Ar\n",
      "Hspeciation                   none\n",
      "fO2                       Kress91A\n",
      "...                            ...\n",
      "error                          0.1\n",
      "print status                 False\n",
      "output csv                    True\n",
      "setup                        False\n",
      "high precision               False\n",
      "\n",
      "[64 rows x 1 columns])\n",
      "    Fugacity coefficient for CO2\n",
      "    \n",
      "    Parameters\n",
      "    ----------\n",
      "    PT: pandas.DataFrame\n",
      "        Dataframe of pressure-temperature conditions\n",
      "        pressure (bars) as \"P\"\n",
      "        temperature ('C) as \"T\"\n",
      "    \n",
      "    models: pandas.DataFrame\n",
      "        Minimum requirement is dataframe with index of \"y_CO2\" and \"ideal_gas\" and column label of \"option\"\n",
      "    \n",
      "    Returns\n",
      "    -------\n",
      "    Fugacity coefficient as <class 'mpfr'>\n",
      "    \n",
      "    Model options for y_CO2\n",
      "    -----------------------\n",
      "    default: 'Shi92' Shi & Saxena (1992) AmMin 77(9-10):1038-1049\n",
      "    Other options:\n",
      "    ideal: Treat as ideal gas, y = 1 at all P.\n",
      "    Holland91: Holland & Powell (1991) CMP 109:265-273 10.1007/BF00306484\n",
      "    (Note: \"ideal_gas\" = \"True\" overides chosen option)\n",
      "\n"
     ]
    }
   ],
   "source": [
    "help(vf.y_CO2)"
   ]
  },
  {
   "cell_type": "markdown",
   "metadata": {},
   "source": [
    "SO2"
   ]
  },
  {
   "cell_type": "code",
   "execution_count": 8,
   "metadata": {},
   "outputs": [
    {
     "name": "stdout",
     "output_type": "stream",
     "text": [
      "Help on function y_SO2 in module VolFe.model_dependent_variables:\n",
      "\n",
      "y_SO2(PT, models=                            option\n",
      "type                              \n",
      "COH_species     yes_H2_CO_CH4_melt\n",
      "H2S_m                         True\n",
      "species X                       Ar\n",
      "Hspeciation                   none\n",
      "fO2                       Kress91A\n",
      "...                            ...\n",
      "error                          0.1\n",
      "print status                 False\n",
      "output csv                    True\n",
      "setup                        False\n",
      "high precision               False\n",
      "\n",
      "[64 rows x 1 columns])\n",
      "    Fugacity coefficient for SO2\n",
      "    \n",
      "    Parameters\n",
      "    ----------\n",
      "    PT: pandas.DataFrame\n",
      "        Dataframe of pressure-temperature conditions\n",
      "        pressure (bars) as \"P\"\n",
      "        temperature ('C) as \"T\"\n",
      "    \n",
      "    models: pandas.DataFrame\n",
      "        Minimum requirement is dataframe with index of \"y_SO2\" and \"ideal_gas\" and column label of \"option\"\n",
      "    \n",
      "    Returns\n",
      "    -------\n",
      "    Fugacity coefficient as <class 'mpfr'>\n",
      "    \n",
      "    Model options for y_SO2\n",
      "    -----------------------\n",
      "    default: 'Shi92_Hughes23' Fig.S1 modified from Shi & Saxena (1992) from Hughes et al. (2023) JGSL 180(3) doi:10.1144/jgs2021-12\n",
      "    Other options:\n",
      "    Shi92: Shi & Saxena (1992) AmMin 77(9-10):1038-1049\n",
      "    ideal: Treat as ideal gas, y = 1 at all P.\n",
      "    (Note: \"ideal_gas\" = \"True\" overides chosen option)\n",
      "\n"
     ]
    }
   ],
   "source": [
    "help(vf.y_SO2)"
   ]
  },
  {
   "cell_type": "markdown",
   "metadata": {},
   "source": [
    "H2S"
   ]
  },
  {
   "cell_type": "code",
   "execution_count": 9,
   "metadata": {},
   "outputs": [
    {
     "name": "stdout",
     "output_type": "stream",
     "text": [
      "Help on function y_H2S in module VolFe.model_dependent_variables:\n",
      "\n",
      "y_H2S(PT, models=                            option\n",
      "type                              \n",
      "COH_species     yes_H2_CO_CH4_melt\n",
      "H2S_m                         True\n",
      "species X                       Ar\n",
      "Hspeciation                   none\n",
      "fO2                       Kress91A\n",
      "...                            ...\n",
      "error                          0.1\n",
      "print status                 False\n",
      "output csv                    True\n",
      "setup                        False\n",
      "high precision               False\n",
      "\n",
      "[64 rows x 1 columns])\n",
      "    Fugacity coefficient for H2S\n",
      "    \n",
      "    Parameters\n",
      "    ----------\n",
      "    PT: pandas.DataFrame\n",
      "        Dataframe of pressure-temperature conditions\n",
      "        pressure (bars) as \"P\"\n",
      "        temperature ('C) as \"T\"\n",
      "    \n",
      "    models: pandas.DataFrame\n",
      "        Minimum requirement is dataframe with index of \"y_H2S\" and \"ideal_gas\" and column label of \"option\"\n",
      "    \n",
      "    Returns\n",
      "    -------\n",
      "    Fugacity coefficient as <class 'mpfr'>\n",
      "    \n",
      "    Model options for y_H2S\n",
      "    -----------------------\n",
      "    default: 'Shi92_Hughes23' Fig.S1 modified from Shi & Saxena (1992) Hughes et al. (2024) AmMin 109(3):422-438 doi:10.2138/am-2023-8739\n",
      "    Other options:\n",
      "    Shi92: Shi & Saxena (1992) AmMin 77(9-10):1038-1049\n",
      "    ideal: Treat as ideal gas, y = 1 at all P.\n",
      "    (Note: \"ideal_gas\" = \"True\" overides chosen option)\n",
      "\n"
     ]
    }
   ],
   "source": [
    "help(vf.y_H2S)"
   ]
  },
  {
   "cell_type": "markdown",
   "metadata": {},
   "source": [
    "CH4"
   ]
  },
  {
   "cell_type": "code",
   "execution_count": 10,
   "metadata": {},
   "outputs": [
    {
     "name": "stdout",
     "output_type": "stream",
     "text": [
      "Help on function y_CH4 in module VolFe.model_dependent_variables:\n",
      "\n",
      "y_CH4(PT, models=                            option\n",
      "type                              \n",
      "COH_species     yes_H2_CO_CH4_melt\n",
      "H2S_m                         True\n",
      "species X                       Ar\n",
      "Hspeciation                   none\n",
      "fO2                       Kress91A\n",
      "...                            ...\n",
      "error                          0.1\n",
      "print status                 False\n",
      "output csv                    True\n",
      "setup                        False\n",
      "high precision               False\n",
      "\n",
      "[64 rows x 1 columns])\n",
      "    Fugacity coefficient for CH4\n",
      "    \n",
      "    Parameters\n",
      "    ----------\n",
      "    PT: pandas.DataFrame\n",
      "        Dataframe of pressure-temperature conditions\n",
      "        pressure (bars) as \"P\"\n",
      "        temperature ('C) as \"T\"\n",
      "    \n",
      "    models: pandas.DataFrame\n",
      "        Minimum requirement is dataframe with index of \"y_CH4\" and \"ideal_gas\" and column label of \"option\"\n",
      "    \n",
      "    Returns\n",
      "    -------\n",
      "    Fugacity coefficient as <class 'mpfr'>\n",
      "    \n",
      "    Model options for y_CH4\n",
      "    -----------------------\n",
      "    default: 'Shi92' Shi & Saxena (1992) AmMin 77(9-10):1038-1049\n",
      "    Other options:\n",
      "    ideal: Treat as ideal gas, y = 1 at all P.\n",
      "    (Note: \"ideal_gas\" = \"True\" overides chosen option)\n",
      "\n"
     ]
    }
   ],
   "source": [
    "help(vf.y_CH4)"
   ]
  },
  {
   "cell_type": "markdown",
   "metadata": {},
   "source": [
    "OCS"
   ]
  },
  {
   "cell_type": "code",
   "execution_count": 11,
   "metadata": {},
   "outputs": [
    {
     "name": "stdout",
     "output_type": "stream",
     "text": [
      "Help on function y_OCS in module VolFe.model_dependent_variables:\n",
      "\n",
      "y_OCS(PT, models=                            option\n",
      "type                              \n",
      "COH_species     yes_H2_CO_CH4_melt\n",
      "H2S_m                         True\n",
      "species X                       Ar\n",
      "Hspeciation                   none\n",
      "fO2                       Kress91A\n",
      "...                            ...\n",
      "error                          0.1\n",
      "print status                 False\n",
      "output csv                    True\n",
      "setup                        False\n",
      "high precision               False\n",
      "\n",
      "[64 rows x 1 columns])\n",
      "    Fugacity coefficient for OCS\n",
      "    \n",
      "    Parameters\n",
      "    ----------\n",
      "    PT: pandas.DataFrame\n",
      "        Dataframe of pressure-temperature conditions\n",
      "        pressure (bars) as \"P\"\n",
      "        temperature ('C) as \"T\"\n",
      "    \n",
      "    models: pandas.DataFrame\n",
      "        Minimum requirement is dataframe with index of \"y_OCS\" and \"ideal_gas\" and column label of \"option\"\n",
      "    \n",
      "    Returns\n",
      "    -------\n",
      "    Fugacity coefficient as <class 'mpfr'>\n",
      "    \n",
      "    Model options for y_OCS\n",
      "    -----------------------\n",
      "    default: 'Shi92' Shi & Saxena (1992) AmMin 77(9-10):1038-1049\n",
      "    Other options:\n",
      "    ideal: Treat as ideal gas, y = 1 at all P.\n",
      "    (Note: \"ideal_gas\" = \"True\" overides chosen option)\n",
      "\n"
     ]
    }
   ],
   "source": [
    "help(vf.y_OCS)"
   ]
  },
  {
   "cell_type": "markdown",
   "metadata": {},
   "source": [
    "X"
   ]
  },
  {
   "cell_type": "code",
   "execution_count": 12,
   "metadata": {},
   "outputs": [
    {
     "name": "stdout",
     "output_type": "stream",
     "text": [
      "Help on function y_X in module VolFe.model_dependent_variables:\n",
      "\n",
      "y_X(PT, models=                            option\n",
      "type                              \n",
      "COH_species     yes_H2_CO_CH4_melt\n",
      "H2S_m                         True\n",
      "species X                       Ar\n",
      "Hspeciation                   none\n",
      "fO2                       Kress91A\n",
      "...                            ...\n",
      "error                          0.1\n",
      "print status                 False\n",
      "output csv                    True\n",
      "setup                        False\n",
      "high precision               False\n",
      "\n",
      "[64 rows x 1 columns])\n",
      "    Fugacity coefficient for X\n",
      "    \n",
      "    Parameters\n",
      "    ----------\n",
      "    PT: pandas.DataFrame\n",
      "        Dataframe of pressure-temperature conditions\n",
      "        pressure (bars) as \"P\"\n",
      "        temperature ('C) as \"T\"\n",
      "    \n",
      "    models: pandas.DataFrame\n",
      "        Minimum requirement is dataframe with index of \"y_X\" and \"ideal_gas\" and column label of \"option\"\n",
      "    \n",
      "    Returns\n",
      "    -------\n",
      "    Fugacity coefficient as <class 'mpfr'>\n",
      "    \n",
      "    Model options for y_X\n",
      "    -----------------------\n",
      "    default: \"ideal\" Treat as ideal gas, y = 1 at all P.\n",
      "    Only one option available currently, included for future development.        \n",
      "    (Note: \"ideal_gas\" = \"True\" overides chosen option)\n",
      "\n"
     ]
    }
   ],
   "source": [
    "help(vf.y_X)"
   ]
  }
 ],
 "metadata": {
  "kernelspec": {
   "display_name": "base",
   "language": "python",
   "name": "python3"
  },
  "language_info": {
   "codemirror_mode": {
    "name": "ipython",
    "version": 3
   },
   "file_extension": ".py",
   "mimetype": "text/x-python",
   "name": "python",
   "nbconvert_exporter": "python",
   "pygments_lexer": "ipython3",
   "version": "3.11.7"
  }
 },
 "nbformat": 4,
 "nbformat_minor": 2
}
