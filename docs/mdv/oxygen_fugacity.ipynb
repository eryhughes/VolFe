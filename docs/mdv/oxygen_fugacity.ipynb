{
 "cells": [
  {
   "cell_type": "markdown",
   "metadata": {},
   "source": [
    "## Oxygen fugactity\n",
    "\n",
    "In this notebook, we show you all the functions that calculate the oxygen fugacity buffers and relationships between fO2 and Fe3+/FeT in VolFe and show the different model options currently available."
   ]
  },
  {
   "cell_type": "markdown",
   "metadata": {},
   "source": [
    "## Setting things up\n",
    "You need to install VolFe once on your machine and then import the VolFe Python package."
   ]
  },
  {
   "cell_type": "code",
   "execution_count": 1,
   "metadata": {},
   "outputs": [],
   "source": [
    "# Install VolFe on your machine. \n",
    "# pip install VolFe # Remove the 1st # from this line if you have not installed VolFe before.\n",
    "# import python packages\n",
    "import VolFe as vf"
   ]
  },
  {
   "cell_type": "markdown",
   "metadata": {},
   "source": [
    "FMQ"
   ]
  },
  {
   "cell_type": "code",
   "execution_count": 2,
   "metadata": {},
   "outputs": [
    {
     "name": "stdout",
     "output_type": "stream",
     "text": [
      "Help on function FMQ in module VolFe.model_dependent_variables:\n",
      "\n",
      "FMQ(PT, models=                            option\n",
      "type                              \n",
      "COH_species     yes_H2_CO_CH4_melt\n",
      "H2S_m                         True\n",
      "species X                       Ar\n",
      "Hspeciation                   none\n",
      "fO2                       Kress91A\n",
      "...                            ...\n",
      "error                          0.1\n",
      "print status                 False\n",
      "output csv                    True\n",
      "setup                        False\n",
      "high precision               False\n",
      "\n",
      "[64 rows x 1 columns])\n",
      "    Value of FMQ buffer\n",
      "    \n",
      "    Parameters\n",
      "    ----------\n",
      "    PT: pandas.DataFrame\n",
      "        Dataframe of pressure-temperature conditions\n",
      "        pressure (bars) as \"P\"\n",
      "        temperature ('C) as \"T\"\n",
      "    \n",
      "    models: pandas.DataFrame\n",
      "        Minimum requirement is dataframe with index of \"FMQbuffer\" and column label of \"option\"\n",
      "    \n",
      "    Model options\n",
      "    -------------\n",
      "    default: 'Frost91' Frost (1991) in \"Oxide Minerals: Petrologic and Magnetic Significance\" doi:10.1515/9781501508684-004\n",
      "    Other options:\n",
      "    'ONeill87' O'Neill (1897) AmMin 72(1-2):67-75\n",
      "        \n",
      "    Returns\n",
      "    -------\n",
      "    log10fO2 value of FMQ buffer as <class 'mpfr'>\n",
      "\n"
     ]
    }
   ],
   "source": [
    "help(vf.FMQ)"
   ]
  },
  {
   "cell_type": "markdown",
   "metadata": {},
   "source": [
    "NNO"
   ]
  },
  {
   "cell_type": "code",
   "execution_count": 3,
   "metadata": {},
   "outputs": [
    {
     "name": "stdout",
     "output_type": "stream",
     "text": [
      "Help on function NNO in module VolFe.model_dependent_variables:\n",
      "\n",
      "NNO(PT, models=                            option\n",
      "type                              \n",
      "COH_species     yes_H2_CO_CH4_melt\n",
      "H2S_m                         True\n",
      "species X                       Ar\n",
      "Hspeciation                   none\n",
      "fO2                       Kress91A\n",
      "...                            ...\n",
      "error                          0.1\n",
      "print status                 False\n",
      "output csv                    True\n",
      "setup                        False\n",
      "high precision               False\n",
      "\n",
      "[64 rows x 1 columns])\n",
      "    Value of NNO buffer\n",
      "    \n",
      "    Parameters\n",
      "    ----------\n",
      "    PT: pandas.DataFrame\n",
      "        Dataframe of pressure-temperature conditions\n",
      "        pressure (bars) as \"P\"\n",
      "        temperature ('C) as \"T\"\n",
      "    \n",
      "    models: pandas.DataFrame\n",
      "        Minimum requirement is dataframe with index of \"NNObuffer\" and column label of \"option\"\n",
      "    \n",
      "    Model options\n",
      "    -------------\n",
      "    default: 'Frost91' Frost (1991) in \"Oxide Minerals: Petrologic and Magnetic Significance\" doi:10.1515/9781501508684-004\n",
      "    Only one option available currently, included for future development.\n",
      "        \n",
      "    Returns\n",
      "    -------\n",
      "    log10fO2 value of NNO buffer as <class 'mpfr'>\n",
      "\n"
     ]
    }
   ],
   "source": [
    "help(vf.NNO)"
   ]
  },
  {
   "cell_type": "markdown",
   "metadata": {},
   "source": [
    "Calculating Fe3+/FeT from fO2"
   ]
  },
  {
   "cell_type": "code",
   "execution_count": 4,
   "metadata": {},
   "outputs": [
    {
     "name": "stdout",
     "output_type": "stream",
     "text": [
      "Help on function fO22Fe3FeT in module VolFe.model_dependent_variables:\n",
      "\n",
      "fO22Fe3FeT(fO2, PT, melt_wf, models=                            option\n",
      "type                              \n",
      "COH_species     yes_H2_CO_CH4_melt\n",
      "H2S_m                         True\n",
      "species X                       Ar\n",
      "Hspeciation                   none\n",
      "fO2                       Kress91A\n",
      "...                            ...\n",
      "error                          0.1\n",
      "print status                 False\n",
      "output csv                    True\n",
      "setup                        False\n",
      "high precision               False\n",
      "\n",
      "[64 rows x 1 columns])\n",
      "    Fe3+/FeT in the melt from fO2\n",
      "    \n",
      "    Parameters\n",
      "    ----------\n",
      "    PT: pandas.DataFrame\n",
      "        Dataframe of pressure-temperature conditions\n",
      "        pressure (bars) as \"P\"\n",
      "        temperature ('C) as \"T\"\n",
      "    \n",
      "    melt_wf: pandas.DataFrame\n",
      "        Dataframe of melt composition (SiO2, TiO2, etc.)\n",
      "    \n",
      "    models: pandas.DataFrame\n",
      "        Minimum requirement is dataframe with index of \"fO2\" and column label of \"option\"\n",
      "    \n",
      "    Returns\n",
      "    -------\n",
      "    Fe3+/FeT in the melt <class 'mpfr'>\n",
      "    \n",
      "    Model options\n",
      "    -------------\n",
      "    default: 'Kress91A' Eq. (A-5, A-6) in Kress and Carmichael (1991) CMP 108:82-92 doi:10.1007/BF00307328\n",
      "    Other options:\n",
      "    'Kress91' Eq. (7) in Kress and Carmichael (1991) CMP 108:82-92 doi:10.1007/BF00307328\n",
      "    'ONeill18' Eq. (9a) in O'Neill et al. (2018) EPSL 504:152-162 doi:10.1016/j.epsl.2018.10.0020012-821X\n",
      "    'Borisov18' Eq. (4) from Borisov et al. (2018) CMP 173:98 doi:10.1007/s00410-018-1524-8\n",
      "\n"
     ]
    }
   ],
   "source": [
    "help(vf.fO22Fe3FeT)"
   ]
  }
 ],
 "metadata": {
  "kernelspec": {
   "display_name": "base",
   "language": "python",
   "name": "python3"
  },
  "language_info": {
   "codemirror_mode": {
    "name": "ipython",
    "version": 3
   },
   "file_extension": ".py",
   "mimetype": "text/x-python",
   "name": "python",
   "nbconvert_exporter": "python",
   "pygments_lexer": "ipython3",
   "version": "3.11.7"
  }
 },
 "nbformat": 4,
 "nbformat_minor": 2
}
