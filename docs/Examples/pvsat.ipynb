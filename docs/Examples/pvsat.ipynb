{
 "cells": [
  {
   "cell_type": "markdown",
   "metadata": {},
   "source": [
    "# 1. Calculating the pressure of vapor saturation\n",
    "\n",
    "The volatile content of a melt in equilibrium with a vapor can be used as a barometer because the sum of the partial pressures of all the vapor species must equal the total pressure (REF). This is often applied to melt inclusions to calculate magma storage depths (REF) and sub-aqueous matrix glasses to calculate eruption depths (REF).\n",
    "\n",
    "VolFe can calculate the pressure of vapor saturation (Pvsat), melt speciation, and vapor speciation for a melt of given temperature and melt composition (including volatiles and oxygen fugacity). \n",
    "\n",
    "In this example we'll show you how to run this calculation for:\n",
    "\n",
    "a) a single analysis entered as a dataframe using default options\n",
    "\n",
    "b) a single analysis from a csv file using default options\n",
    "\n",
    "c) all analyses in a csv file using default options\n",
    "\n",
    "d) a set of consequative rows from a csv file using options\n",
    "\n",
    "e) all analyses in a csv file using one set of user specified options for all analyses\n",
    "\n",
    "f) all analyses in a csv file using different model options for each analysis"
   ]
  },
  {
   "cell_type": "markdown",
   "metadata": {},
   "source": [
    "## Setting things up\n",
    "First we need to import a few Python packages (including VolFe), load the species file, and set the precision of the calculations"
   ]
  },
  {
   "cell_type": "code",
   "execution_count": 1,
   "metadata": {},
   "outputs": [],
   "source": [
    "# import python packages\n",
    "import pandas as pd\n",
    "import gmpy2 as gp\n",
    "import VolFe as vf\n",
    "\n",
    "# set calculation precision\n",
    "gp.get_context().precision=50"
   ]
  },
  {
   "cell_type": "markdown",
   "metadata": {},
   "source": [
    "## 1a. Calculate <i>P<sup>v</sup></i><sub>sat</sub> for a single melt composition from a dataframe using default options\n",
    "\n",
    "We need a dataframe of the melt composition, an estimate of oxygen fugacity and Fe in the melt*, and temperature:\n",
    "- Sample is just the name for this analysis\n",
    "- Temperature is in 'C\n",
    "- Volatile-free melt composition is in wt% oxides - all these oxides must be present in the dataframe, so set them to 0. if you have no data for them (although see not around FeOT further down this notebook)\n",
    "- H2O is all hydrogen in the melt reported as H2O in wt%\n",
    "- CO2ppm is all carbon in the melt reported as CO2 in ppm\n",
    "- STppm is all sulfur in the melt reported as S in ppm\n",
    "- Xppm is all \"X\" in the melt reported as X in ppm\n",
    "- Fe3+FeT is the ratio of Fe3+ to FeT in the melt\n",
    "\n",
    "*in this example we specify oxygen fugacity using Fe3+/FeT and Fe in the melt as FeOT as is quite common for melt inclusion and matrix glass analyses - other options are possible, shown later in the notebook.\n",
    "\n",
    "The following composition is analysis TN273-01D-01-01 from REF, with a temperature chosen as 1200 'C."
   ]
  },
  {
   "cell_type": "code",
   "execution_count": 2,
   "metadata": {},
   "outputs": [
    {
     "name": "stdout",
     "output_type": "stream",
     "text": [
      "            Sample     T_C   SiO2  TiO2  Al2O3  FeOT   MnO   MgO   CaO  Na2O  \\\n",
      "0  TN273-01D-01-01  1200.0  56.98  1.66  15.52  9.47  0.24  2.96  6.49  4.06   \n",
      "\n",
      "    K2O  P2O5   H2O  CO2ppm   STppm  Xppm  Fe3FeT  \n",
      "0  0.38  0.22  1.88    13.0  362.83   0.0   0.171  \n"
     ]
    }
   ],
   "source": [
    "# Define the melt composition, fO2 estimate, and T as a dictionary.\n",
    "my_analysis = {'Sample':'TN273-01D-01-01',\n",
    "           'T_C': 1200.,\n",
    "           'SiO2': 56.98,\n",
    "           'TiO2': 1.66,\n",
    "           'Al2O3': 15.52,\n",
    "           'FeOT': 9.47,\n",
    "           'MnO': 0.24,\n",
    "           'MgO': 2.96,\n",
    "           'CaO': 6.49,\n",
    "           'Na2O': 4.06,\n",
    "           'K2O': 0.38,\n",
    "           'P2O5': 0.22,\n",
    "           'H2O': 1.88,\n",
    "           'CO2ppm': 13.,\n",
    "           'STppm': 362.83,\n",
    "           'Xppm': 0.,\n",
    "           'Fe3FeT': 0.171}\n",
    "\n",
    "# Turn the dictionary into a pandas dataframe, setting the index to 0.\n",
    "my_analysis = pd.DataFrame(my_analysis, index=[0])\n",
    "\n",
    "# Show the DataFrame.\n",
    "print(my_analysis)"
   ]
  },
  {
   "cell_type": "markdown",
   "metadata": {},
   "source": [
    "Now, as we're using default options for everything, we run the calculation like so:"
   ]
  },
  {
   "cell_type": "code",
   "execution_count": 3,
   "metadata": {},
   "outputs": [
    {
     "name": "stdout",
     "output_type": "stream",
     "text": [
      "0 TN273-01D-01-01 337.80934489141146\n"
     ]
    },
    {
     "data": {
      "text/html": [
       "<div>\n",
       "<style scoped>\n",
       "    .dataframe tbody tr th:only-of-type {\n",
       "        vertical-align: middle;\n",
       "    }\n",
       "\n",
       "    .dataframe tbody tr th {\n",
       "        vertical-align: top;\n",
       "    }\n",
       "\n",
       "    .dataframe thead th {\n",
       "        text-align: right;\n",
       "    }\n",
       "</style>\n",
       "<table border=\"1\" class=\"dataframe\">\n",
       "  <thead>\n",
       "    <tr style=\"text-align: right;\">\n",
       "      <th></th>\n",
       "      <th>sample</th>\n",
       "      <th>T_C</th>\n",
       "      <th>P_bar</th>\n",
       "      <th>SiO2_wtpc</th>\n",
       "      <th>TiO2_wtpc</th>\n",
       "      <th>Al2O3_wtpc</th>\n",
       "      <th>FeOT_wtpc</th>\n",
       "      <th>MnO_wtpc</th>\n",
       "      <th>MgO_wtpc</th>\n",
       "      <th>CaO_wtpc</th>\n",
       "      <th>...</th>\n",
       "      <th>KHOSg opt</th>\n",
       "      <th>KOSg opt</th>\n",
       "      <th>KOSg2 opt</th>\n",
       "      <th>KCOg opt</th>\n",
       "      <th>KCOHg opt</th>\n",
       "      <th>KOCSg opt</th>\n",
       "      <th>KCOs opt</th>\n",
       "      <th>carbonylsulfide opt</th>\n",
       "      <th>density opt</th>\n",
       "      <th>Date</th>\n",
       "    </tr>\n",
       "  </thead>\n",
       "  <tbody>\n",
       "    <tr>\n",
       "      <th>0</th>\n",
       "      <td>TN273-01D-01-01</td>\n",
       "      <td>1200.0</td>\n",
       "      <td>337.809345</td>\n",
       "      <td>57.03956</td>\n",
       "      <td>1.661735</td>\n",
       "      <td>15.536223</td>\n",
       "      <td>9.479899</td>\n",
       "      <td>0.240251</td>\n",
       "      <td>2.963094</td>\n",
       "      <td>6.496784</td>\n",
       "      <td>...</td>\n",
       "      <td>KO97</td>\n",
       "      <td>KO97</td>\n",
       "      <td>OM22</td>\n",
       "      <td>KO97</td>\n",
       "      <td>KO97</td>\n",
       "      <td>Moussallam19</td>\n",
       "      <td>Holloway92</td>\n",
       "      <td>COS</td>\n",
       "      <td>DensityX</td>\n",
       "      <td>2024-02-15 12:59:08.761331</td>\n",
       "    </tr>\n",
       "  </tbody>\n",
       "</table>\n",
       "<p>1 rows × 170 columns</p>\n",
       "</div>"
      ],
      "text/plain": [
       "0           sample     T_C       P_bar SiO2_wtpc TiO2_wtpc Al2O3_wtpc  \\\n",
       "0  TN273-01D-01-01  1200.0  337.809345  57.03956  1.661735  15.536223   \n",
       "\n",
       "0 FeOT_wtpc  MnO_wtpc  MgO_wtpc  CaO_wtpc  ... KHOSg opt KOSg opt KOSg2 opt  \\\n",
       "0  9.479899  0.240251  2.963094  6.496784  ...      KO97     KO97      OM22   \n",
       "\n",
       "0 KCOg opt KCOHg opt     KOCSg opt    KCOs opt carbonylsulfide opt  \\\n",
       "0     KO97      KO97  Moussallam19  Holloway92                 COS   \n",
       "\n",
       "0 density opt                        Date  \n",
       "0    DensityX  2024-02-15 12:59:08.761331  \n",
       "\n",
       "[1 rows x 170 columns]"
      ]
     },
     "execution_count": 3,
     "metadata": {},
     "output_type": "execute_result"
    }
   ],
   "source": [
    "# runs the calculation\n",
    "vf.P_sat_output(my_analysis)"
   ]
  },
  {
   "cell_type": "markdown",
   "metadata": {},
   "source": [
    "## 1b. Calculate <i>P<sup>v</sup></i><sub>sat</sub> for a single analysis from a csv file using default options\n",
    "\n",
    "This time, instead of creating a dataframe in a cell for the analysis, we'll read it in from a spreadsheet. We'll use the examples_marianas csv in files and use all the default options again."
   ]
  },
  {
   "cell_type": "code",
   "execution_count": 4,
   "metadata": {},
   "outputs": [],
   "source": [
    "# Read csv to define melt composition\n",
    "my_analyses = pd.read_csv(\"../files/example_marianas.csv\") "
   ]
  },
  {
   "cell_type": "markdown",
   "metadata": {},
   "source": [
    "If there was only one analysis in the file, we'd simply run:\n",
    "\n",
    "vf.P_sat_output(my_analysis,species)\n",
    "\n",
    "However, there are a few so instead we tell the function to stop after the first analysis by saying last_row=1:"
   ]
  },
  {
   "cell_type": "code",
   "execution_count": null,
   "metadata": {},
   "outputs": [],
   "source": [
    "# runs the calculation\n",
    "vf.P_sat_output(my_analyses,last_row=1)"
   ]
  },
  {
   "cell_type": "markdown",
   "metadata": {},
   "source": [
    "## 1c. Calculate <i>P<sup>v</sup></i><sub>sat</sub> for all analyses in a csv file using default options\n",
    "\n",
    "Using the same example marianas file and the default options, to run all the analyses, simply don't tell it the last row you want to run. All analyses must be in consequitive rows for this to work!\n"
   ]
  },
  {
   "cell_type": "code",
   "execution_count": null,
   "metadata": {},
   "outputs": [],
   "source": [
    "# runs the calculation\n",
    "vf.P_sat_output(my_analyses)"
   ]
  },
  {
   "cell_type": "markdown",
   "metadata": {},
   "source": [
    "## 1d. Calculate <i>P<sup>v</sup></i><sub>sat</sub> for  a set of consequative rows from a csv file using options\n",
    "\n",
    "If we only want to run row 4 (Agr07-4) through 18 (AGR19-02-16) in that spreadsheet, we simply specify the first and last rows we want to run (remembering that row 2 in a spreadsheet - i.e., the first analysis under the headings - is actually row 0 in the dataframe)."
   ]
  },
  {
   "cell_type": "code",
   "execution_count": null,
   "metadata": {},
   "outputs": [],
   "source": [
    "vf.P_sat_output(my_analyses,first_row=2, last_row=17)"
   ]
  },
  {
   "cell_type": "markdown",
   "metadata": {},
   "source": [
    "## 1e. Calculate <i>P<sup>v</sup></i><sub>sat</sub> for all analyses in a csv file using one set of user specified options for all analyses\n",
    "\n",
    "What if I don't want to use the default options? In that case, we create a dataframe telling VolFe what to use instead. There are lots of options that can be changed (see models csv in files for the full list, description, and options currently available). But let's say I just want to use a different solubility constant for carbon dioxide and hydrogen sulfide and treat S2 as an ideal gas. Also I don't want it to print the status during a calculation."
   ]
  },
  {
   "cell_type": "code",
   "execution_count": 5,
   "metadata": {},
   "outputs": [
    {
     "ename": "AttributeError",
     "evalue": "module 'VolFe' has no attribute 'made_df_and_add_model_defaults'",
     "output_type": "error",
     "traceback": [
      "\u001b[0;31m---------------------------------------------------------------------------\u001b[0m",
      "\u001b[0;31mAttributeError\u001b[0m                            Traceback (most recent call last)",
      "Cell \u001b[0;32mIn[5], line 5\u001b[0m\n\u001b[1;32m      2\u001b[0m my_models \u001b[38;5;241m=\u001b[39m [[\u001b[38;5;124m'\u001b[39m\u001b[38;5;124mcarbon dioxide\u001b[39m\u001b[38;5;124m'\u001b[39m,\u001b[38;5;124m'\u001b[39m\u001b[38;5;124mDixon97\u001b[39m\u001b[38;5;124m'\u001b[39m],[\u001b[38;5;124m'\u001b[39m\u001b[38;5;124mhydrogen sulfide\u001b[39m\u001b[38;5;124m'\u001b[39m,\u001b[38;5;124m'\u001b[39m\u001b[38;5;124mbasaltic andesite\u001b[39m\u001b[38;5;124m'\u001b[39m],[\u001b[38;5;124m'\u001b[39m\u001b[38;5;124my_S2\u001b[39m\u001b[38;5;124m'\u001b[39m,\u001b[38;5;124m'\u001b[39m\u001b[38;5;124mideal\u001b[39m\u001b[38;5;124m'\u001b[39m],[\u001b[38;5;124m'\u001b[39m\u001b[38;5;124mprint status\u001b[39m\u001b[38;5;124m'\u001b[39m,\u001b[38;5;124m'\u001b[39m\u001b[38;5;124mno\u001b[39m\u001b[38;5;124m'\u001b[39m]]\n\u001b[1;32m      4\u001b[0m \u001b[38;5;66;03m# turn to dataframe with correct column headers and indexes    \u001b[39;00m\n\u001b[0;32m----> 5\u001b[0m my_models \u001b[38;5;241m=\u001b[39m \u001b[43mvf\u001b[49m\u001b[38;5;241;43m.\u001b[39;49m\u001b[43mmade_df_and_add_model_defaults\u001b[49m(my_models)\n\u001b[1;32m      7\u001b[0m \u001b[38;5;66;03m# show what the model dataframe looks like\u001b[39;00m\n\u001b[1;32m      8\u001b[0m \u001b[38;5;28mprint\u001b[39m(my_models)\n",
      "\u001b[0;31mAttributeError\u001b[0m: module 'VolFe' has no attribute 'made_df_and_add_model_defaults'"
     ]
    }
   ],
   "source": [
    "# choose the options I want - everything else will use the default options\n",
    "my_models = [['carbon dioxide','Dixon97'],['hydrogen sulfide','basaltic andesite'],['y_S2','ideal'],['print status','no']]\n",
    "\n",
    "# turn to dataframe with correct column headers and indexes    \n",
    "my_models = vf.mafe_df_and_add_model_defaults(my_models)\n",
    "\n",
    "# show what the model dataframe looks like\n",
    "print(my_models)"
   ]
  },
  {
   "cell_type": "code",
   "execution_count": null,
   "metadata": {},
   "outputs": [],
   "source": [
    "vf.P_sat_output(my_analyses,models=my_models)"
   ]
  },
  {
   "cell_type": "markdown",
   "metadata": {},
   "source": []
  },
  {
   "cell_type": "markdown",
   "metadata": {},
   "source": [
    "One option is to load a csv with the model options listed in it (see the example models csv in the files). Or we "
   ]
  },
  {
   "cell_type": "markdown",
   "metadata": {},
   "source": [
    "## 1f. Calculate <i>P<sup>v</sup></i><sub>sat</sub> for  all analyses in a csv file using different model options for each analysis"
   ]
  }
 ],
 "metadata": {
  "kernelspec": {
   "display_name": "base",
   "language": "python",
   "name": "python3"
  },
  "language_info": {
   "codemirror_mode": {
    "name": "ipython",
    "version": 3
   },
   "file_extension": ".py",
   "mimetype": "text/x-python",
   "name": "python",
   "nbconvert_exporter": "python",
   "pygments_lexer": "ipython3",
   "version": "3.11.7"
  }
 },
 "nbformat": 4,
 "nbformat_minor": 2
}
