{
 "cells": [
  {
   "cell_type": "markdown",
   "metadata": {},
   "source": [
    "# 1a. Calculate <i>P<sup>v</sup></i><sub>sat</sub> for a single melt composition from a dataframe using default options"
   ]
  },
  {
   "cell_type": "markdown",
   "metadata": {},
   "source": [
    "## Python set-up\n",
    "You need to install VolFe once on your machine, if you haven't yet. Then we need to import a few Python packages (including VolFe). "
   ]
  },
  {
   "cell_type": "code",
   "execution_count": 1,
   "metadata": {},
   "outputs": [],
   "source": [
    "# Install VolFe on your machine.\n",
    "# pip install VolFe # Remove the first # in this line if you have not installed VolFe on your machine before.\n",
    "\n",
    "# import python packages\n",
    "import pandas as pd\n",
    "import VolFe as vf"
   ]
  },
  {
   "cell_type": "markdown",
   "metadata": {},
   "source": [
    "## Define the inputs\n",
    "\n",
    "At a minimum to run a <i>P<sup>v</sup></i><sub>sat</sub> calculations, we need a dataframe of the melt composition, an estimate of oxygen fugacity and Fe in the melt [note 1], and temperature:\n",
    "\n",
    "- Sample is just the name for this analysis.\n",
    "\n",
    "- Temperature is in °C.\n",
    "\n",
    "- Volatile-free melt composition is in wt% oxides [note 2]. All these oxides must be present in the dataframe, so set them to 0. if you have no data for them (although see [note 1] around FeOT).\n",
    "\n",
    "- H2O is all hydrogen in the melt reported as H<sub>2</sub>O in wt% [note 3]. \n",
    "\n",
    "- CO2ppm is all carbon in the melt reported as CO<sub>2</sub> in ppm [note 3].\n",
    "\n",
    "- STppm is all sulfur in the melt reported as S in ppm [note 3].\n",
    "\n",
    "- Xppm is all \"X\" in the melt reported as \"X\" in ppm [note 3]. \"X\" is an unreactive melt species whose identity can be changed - this is explored in Example 1d.\n",
    "\n",
    "- Fe3+FeT is the ratio of Fe<sup>3+</sup> to Fe<sub>T</sub> in the melt.\n",
    "\n",
    "[note 1] In this example we specify oxygen fugacity using Fe<sup>3+</sup>/Fe<sub>T</sub> and Fe in the melt as FeO<sub>T</sub> as is quite common for melt inclusion and matrix glass analyses - other options are possible, shown later in the notebook.\n",
    "\n",
    "[note 2] It does not matter what the non-volatile oxides sum too - they are renormalised to 100 wt% minus the total of the volatiles (i.e., H<sub>2</sub>O + CO<sub>2</sub> + S<sub>T</sub> + X).\n",
    "\n",
    "[note 3] The volatile concentrations are absolute for the melt = i.e., the non-volatile melt composition is normalised to 100 wt% minus the volatiles. The volatiles are not added to the oxides and then renormalised.\n",
    "\n",
    "The following composition is analysis TN273-01D-01-01 from Brounce et al. (2014) with the updated Fe<sup>3+</sup>/Fe<sub>T</sub> from Cottrell et al. (2021), with a temperature chosen as 1200 °C."
   ]
  },
  {
   "cell_type": "code",
   "execution_count": 2,
   "metadata": {},
   "outputs": [
    {
     "name": "stdout",
     "output_type": "stream",
     "text": [
      "            Sample     T_C   SiO2  TiO2  Al2O3  FeOT   MnO   MgO   CaO  Na2O  \\\n",
      "0  TN273-01D-01-01  1200.0  56.98  1.66  15.52  9.47  0.24  2.96  6.49  4.06   \n",
      "\n",
      "    K2O  P2O5   H2O  CO2ppm   STppm  Xppm  Fe3FeT  \n",
      "0  0.38  0.22  1.88    13.0  362.83   0.0   0.155  \n"
     ]
    }
   ],
   "source": [
    "# Define the melt composition, fO2 estimate, and T as a dictionary.\n",
    "my_analysis = {'Sample':'TN273-01D-01-01',\n",
    "           'T_C': 1200., # Temperature in 'C\n",
    "           'SiO2': 56.98, # wt%\n",
    "           'TiO2': 1.66, # wt%\n",
    "           'Al2O3': 15.52, # wt%\n",
    "           'FeOT': 9.47, # wt%\n",
    "           'MnO': 0.24, # wt%\n",
    "           'MgO': 2.96, # wt%\n",
    "           'CaO': 6.49, # wt%\n",
    "           'Na2O': 4.06, # wt%\n",
    "           'K2O': 0.38, # wt%\n",
    "           'P2O5': 0.22, # wt%\n",
    "           'H2O': 1.88, # wt%\n",
    "           'CO2ppm': 13., # ppm\n",
    "           'STppm': 362.83, # ppm\n",
    "           'Xppm': 0., # ppm\n",
    "           'Fe3FeT': 0.155} # mole or weight fraction (they're the same)\n",
    "\n",
    "# Turn the dictionary into a pandas dataframe, setting the index to 0.\n",
    "my_analysis = pd.DataFrame(my_analysis, index=[0])\n",
    "\n",
    "# Show the DataFrame.\n",
    "print(my_analysis)"
   ]
  },
  {
   "cell_type": "markdown",
   "metadata": {},
   "source": [
    "For this example we will use the default options in VolFe, which can be found below:"
   ]
  },
  {
   "cell_type": "code",
   "execution_count": 3,
   "metadata": {},
   "outputs": [
    {
     "name": "stdout",
     "output_type": "stream",
     "text": [
      "                            option\n",
      "type                              \n",
      "COH_species     yes_H2_CO_CH4_melt\n",
      "H2S_m                         True\n",
      "species X                       Ar\n",
      "Hspeciation                   none\n",
      "fO2                       Kress91A\n",
      "...                            ...\n",
      "error                          0.1\n",
      "print status                 False\n",
      "output csv                    True\n",
      "setup                        False\n",
      "high precision               False\n",
      "\n",
      "[78 rows x 1 columns]\n"
     ]
    }
   ],
   "source": [
    "# print default options in VolFe\n",
    "print(vf.default_models)"
   ]
  },
  {
   "cell_type": "markdown",
   "metadata": {},
   "source": [
    "## Run the calculation\n",
    "\n",
    "### Define <i>f</i><sub>O<sub>2</sub></sub> using Fe<sup>3+</sup>/Fe<sub>T</sub>\n",
    "\n",
    "And below runs the calculation - it outputs a dataframe of the full results."
   ]
  },
  {
   "cell_type": "code",
   "execution_count": 4,
   "metadata": {},
   "outputs": [
    {
     "name": "stdout",
     "output_type": "stream",
     "text": [
      "<class 'numpy.float64'>\n",
      "<class 'numpy.float64'>\n",
      "<class 'numpy.float64'>\n",
      "<class 'numpy.float64'>\n",
      "<class 'numpy.float64'>\n",
      "<class 'numpy.float64'>\n",
      "<class 'numpy.float64'>\n",
      "<class 'numpy.float64'>\n",
      "<class 'numpy.float64'>\n",
      "<class 'numpy.float64'>\n",
      "<class 'numpy.float64'>\n",
      "<class 'numpy.float64'>\n"
     ]
    },
    {
     "ename": "TypeError",
     "evalue": "type() takes 1 or 3 arguments",
     "output_type": "error",
     "traceback": [
      "\u001b[1;31m---------------------------------------------------------------------------\u001b[0m",
      "\u001b[1;31mTypeError\u001b[0m                                 Traceback (most recent call last)",
      "Cell \u001b[1;32mIn[4], line 2\u001b[0m\n\u001b[0;32m      1\u001b[0m \u001b[38;5;66;03m# runs the calculation\u001b[39;00m\n\u001b[1;32m----> 2\u001b[0m \u001b[43mvf\u001b[49m\u001b[38;5;241;43m.\u001b[39;49m\u001b[43mcalc_Pvsat\u001b[49m\u001b[43m(\u001b[49m\u001b[43mmy_analysis\u001b[49m\u001b[43m)\u001b[49m\n",
      "File \u001b[1;32m~\\projects\\VolFe\\src\\VolFe\\batch_calculations.py:347\u001b[0m, in \u001b[0;36mcalc_Pvsat\u001b[1;34m(setup, models, first_row, last_row, p_tol, nr_step, nr_tol)\u001b[0m\n\u001b[0;32m    345\u001b[0m     P_sat_, conc, frac  \u001b[38;5;241m=\u001b[39m c\u001b[38;5;241m.\u001b[39mfO2_P_VSA(PT,melt_wf,models,nr_step,nr_tol,p_tol)\n\u001b[0;32m    346\u001b[0m \u001b[38;5;28;01melif\u001b[39;00m models\u001b[38;5;241m.\u001b[39mloc[\u001b[38;5;124m\"\u001b[39m\u001b[38;5;124msulfur_saturation\u001b[39m\u001b[38;5;124m\"\u001b[39m,\u001b[38;5;124m\"\u001b[39m\u001b[38;5;124moption\u001b[39m\u001b[38;5;124m\"\u001b[39m] \u001b[38;5;241m==\u001b[39m \u001b[38;5;124m\"\u001b[39m\u001b[38;5;124mFalse\u001b[39m\u001b[38;5;124m\"\u001b[39m:\n\u001b[1;32m--> 347\u001b[0m     P_sat_, conc, frac \u001b[38;5;241m=\u001b[39m \u001b[43mc\u001b[49m\u001b[38;5;241;43m.\u001b[39;49m\u001b[43mP_sat\u001b[49m\u001b[43m(\u001b[49m\u001b[43mPT\u001b[49m\u001b[43m,\u001b[49m\u001b[43mmelt_wf\u001b[49m\u001b[43m,\u001b[49m\u001b[43mmodels\u001b[49m\u001b[43m,\u001b[49m\u001b[43mp_tol\u001b[49m\u001b[43m,\u001b[49m\u001b[43mnr_step\u001b[49m\u001b[43m,\u001b[49m\u001b[43mnr_tol\u001b[49m\u001b[43m)\u001b[49m\n\u001b[0;32m    348\u001b[0m \u001b[38;5;28;01melif\u001b[39;00m models\u001b[38;5;241m.\u001b[39mloc[\u001b[38;5;124m\"\u001b[39m\u001b[38;5;124msulfur_saturation\u001b[39m\u001b[38;5;124m\"\u001b[39m,\u001b[38;5;124m\"\u001b[39m\u001b[38;5;124moption\u001b[39m\u001b[38;5;124m\"\u001b[39m] \u001b[38;5;241m==\u001b[39m \u001b[38;5;124m\"\u001b[39m\u001b[38;5;124mTrue\u001b[39m\u001b[38;5;124m\"\u001b[39m:\n\u001b[0;32m    349\u001b[0m     \u001b[38;5;28;01mif\u001b[39;00m melt_wf[\u001b[38;5;124m\"\u001b[39m\u001b[38;5;124mXT\u001b[39m\u001b[38;5;124m\"\u001b[39m] \u001b[38;5;241m>\u001b[39m \u001b[38;5;241m0.\u001b[39m:\n",
      "File \u001b[1;32m~\\projects\\VolFe\\src\\VolFe\\calculations.py:43\u001b[0m, in \u001b[0;36mP_sat\u001b[1;34m(PT, melt_wf, models, Ptol, nr_step, nr_tol)\u001b[0m\n\u001b[0;32m     40\u001b[0m melt_wf2[\u001b[38;5;124m\"\u001b[39m\u001b[38;5;124mFe3FeT\u001b[39m\u001b[38;5;124m\"\u001b[39m] \u001b[38;5;241m=\u001b[39m mg\u001b[38;5;241m.\u001b[39mFe3FeT_i(PT,melt_wf2,models)\n\u001b[0;32m     41\u001b[0m \u001b[38;5;66;03m#wt_C, wt_O, wt_H, wt_S, wt_Fe, wt_g, Wt = bulk_composition(run,PT,melt_wf1,setup,models)\u001b[39;00m\n\u001b[0;32m     42\u001b[0m \u001b[38;5;66;03m#bulk_wf = {\"H\":wt_H,\"C\":wt_C,\"S\":wt_S}\u001b[39;00m\n\u001b[1;32m---> 43\u001b[0m ms_conc \u001b[38;5;241m=\u001b[39m \u001b[43meq\u001b[49m\u001b[38;5;241;43m.\u001b[39;49m\u001b[43mmelt_speciation\u001b[49m\u001b[43m(\u001b[49m\u001b[43mPT\u001b[49m\u001b[43m,\u001b[49m\u001b[43mmelt_wf1\u001b[49m\u001b[43m,\u001b[49m\u001b[43mmodels\u001b[49m\u001b[43m,\u001b[49m\u001b[43mnr_step\u001b[49m\u001b[43m,\u001b[49m\u001b[43mnr_tol\u001b[49m\u001b[43m)\u001b[49m\n\u001b[0;32m     44\u001b[0m ms_frac \u001b[38;5;241m=\u001b[39m melt_species_ratios(ms_conc)\n\u001b[0;32m     45\u001b[0m melt_wf1[\u001b[38;5;124m\"\u001b[39m\u001b[38;5;124mH2OT\u001b[39m\u001b[38;5;124m\"\u001b[39m] \u001b[38;5;241m=\u001b[39m ms_conc[\u001b[38;5;124m\"\u001b[39m\u001b[38;5;124mwm_H2O\u001b[39m\u001b[38;5;124m\"\u001b[39m]\n",
      "File \u001b[1;32m~\\projects\\VolFe\\src\\VolFe\\equilibrium_equations.py:691\u001b[0m, in \u001b[0;36mmelt_speciation\u001b[1;34m(PT, melt_wf, models, nr_step, nr_tol)\u001b[0m\n\u001b[0;32m    688\u001b[0m     Xm_t, wm_H2O_, wm_H2_, wm_CO2_, wm_CO_, wm_CH4_, wm_S2m_, wm_S6p_, wm_H2S_ \u001b[38;5;241m=\u001b[39m A\n\u001b[0;32m    690\u001b[0m \u001b[38;5;28;01mif\u001b[39;00m system \u001b[38;5;129;01min\u001b[39;00m [\u001b[38;5;124m\"\u001b[39m\u001b[38;5;124mHOFe\u001b[39m\u001b[38;5;124m\"\u001b[39m,\u001b[38;5;124m\"\u001b[39m\u001b[38;5;124mHOFe\u001b[39m\u001b[38;5;124m\"\u001b[39m,\u001b[38;5;124m\"\u001b[39m\u001b[38;5;124mCHOFe\u001b[39m\u001b[38;5;124m\"\u001b[39m,\u001b[38;5;124m\"\u001b[39m\u001b[38;5;124mCHOXFe\u001b[39m\u001b[38;5;124m\"\u001b[39m,\u001b[38;5;124m\"\u001b[39m\u001b[38;5;124mSHOFe\u001b[39m\u001b[38;5;124m\"\u001b[39m,\u001b[38;5;124m\"\u001b[39m\u001b[38;5;124mSCHOFe\u001b[39m\u001b[38;5;124m\"\u001b[39m,\u001b[38;5;124m\"\u001b[39m\u001b[38;5;124mSCHOXFe\u001b[39m\u001b[38;5;124m\"\u001b[39m]: \u001b[38;5;66;03m# contains H\u001b[39;00m\n\u001b[1;32m--> 691\u001b[0m     wm_H2Omol_, wm_OH_ \u001b[38;5;241m=\u001b[39m \u001b[43mmg\u001b[49m\u001b[38;5;241;43m.\u001b[39;49m\u001b[43mwm_H2Omol_OH\u001b[49m\u001b[43m(\u001b[49m\u001b[43mPT\u001b[49m\u001b[43m,\u001b[49m\u001b[43mmelt_wf\u001b[49m\u001b[43m,\u001b[49m\u001b[43mmodels\u001b[49m\u001b[43m)\u001b[49m\n\u001b[0;32m    692\u001b[0m \u001b[38;5;28;01mif\u001b[39;00m system \u001b[38;5;129;01min\u001b[39;00m [\u001b[38;5;124m\"\u001b[39m\u001b[38;5;124mCOFe\u001b[39m\u001b[38;5;124m\"\u001b[39m,\u001b[38;5;124m\"\u001b[39m\u001b[38;5;124mCOXFe\u001b[39m\u001b[38;5;124m\"\u001b[39m,\u001b[38;5;124m\"\u001b[39m\u001b[38;5;124mSCOFe\u001b[39m\u001b[38;5;124m\"\u001b[39m,\u001b[38;5;124m\"\u001b[39m\u001b[38;5;124mCHOFe\u001b[39m\u001b[38;5;124m\"\u001b[39m,\u001b[38;5;124m\"\u001b[39m\u001b[38;5;124mCHOXFe\u001b[39m\u001b[38;5;124m\"\u001b[39m,\u001b[38;5;124m\"\u001b[39m\u001b[38;5;124mSCHOFe\u001b[39m\u001b[38;5;124m\"\u001b[39m,\u001b[38;5;124m\"\u001b[39m\u001b[38;5;124mSCHOXFe\u001b[39m\u001b[38;5;124m\"\u001b[39m]: \u001b[38;5;66;03m# contains C\u001b[39;00m\n\u001b[0;32m    693\u001b[0m     wm_CO2carb_, wm_CO2mol_ \u001b[38;5;241m=\u001b[39m mg\u001b[38;5;241m.\u001b[39mwm_CO32_CO2mol(PT,melt_wf,models)\n",
      "File \u001b[1;32m~\\projects\\VolFe\\src\\VolFe\\melt_gas.py:1433\u001b[0m, in \u001b[0;36mwm_H2Omol_OH\u001b[1;34m(PT, melt_wf, models)\u001b[0m\n\u001b[0;32m   1431\u001b[0m wm_OH_H2O \u001b[38;5;241m=\u001b[39m OH_H2O\u001b[38;5;241m/\u001b[39m(H2Omol \u001b[38;5;241m+\u001b[39m OH_H2O \u001b[38;5;241m+\u001b[39m melt \u001b[38;5;241m+\u001b[39m CO2T)\n\u001b[0;32m   1432\u001b[0m wm_OH \u001b[38;5;241m=\u001b[39m ((wm_OH_H2O\u001b[38;5;241m/\u001b[39mmdv\u001b[38;5;241m.\u001b[39mspecies\u001b[38;5;241m.\u001b[39mloc[\u001b[38;5;124m\"\u001b[39m\u001b[38;5;124mH2O\u001b[39m\u001b[38;5;124m\"\u001b[39m,\u001b[38;5;124m\"\u001b[39m\u001b[38;5;124mM\u001b[39m\u001b[38;5;124m\"\u001b[39m])\u001b[38;5;241m*\u001b[39m\u001b[38;5;241m2.\u001b[39m)\u001b[38;5;241m*\u001b[39mmdv\u001b[38;5;241m.\u001b[39mspecies\u001b[38;5;241m.\u001b[39mloc[\u001b[38;5;124m\"\u001b[39m\u001b[38;5;124mOH\u001b[39m\u001b[38;5;124m\"\u001b[39m,\u001b[38;5;124m\"\u001b[39m\u001b[38;5;124mM\u001b[39m\u001b[38;5;124m\"\u001b[39m]\n\u001b[1;32m-> 1433\u001b[0m \u001b[38;5;28mprint\u001b[39m(\u001b[38;5;28;43mtype\u001b[39;49m\u001b[43m(\u001b[49m\u001b[43mwm_H2Omol\u001b[49m\u001b[43m,\u001b[49m\u001b[43m \u001b[49m\u001b[43mwm_OH\u001b[49m\u001b[43m)\u001b[49m)\n\u001b[0;32m   1434\u001b[0m \u001b[38;5;28;01mreturn\u001b[39;00m wm_H2Omol, wm_OH\n",
      "\u001b[1;31mTypeError\u001b[0m: type() takes 1 or 3 arguments"
     ]
    }
   ],
   "source": [
    "# runs the calculation\n",
    "vf.calc_Pvsat(my_analysis)"
   ]
  },
  {
   "cell_type": "markdown",
   "metadata": {},
   "source": [
    "### Define <i>f</i><sub>O<sub>2</sub></sub> using ΔFMQ\n",
    "\n",
    "Alternatively, we can define the oxygen fugacity using ΔFMQ and total iron from Fe<sub>2</sub>O<sub>3,T</sub> ..."
   ]
  },
  {
   "cell_type": "code",
   "execution_count": null,
   "metadata": {},
   "outputs": [],
   "source": [
    "# Define the melt composition, fO2 estimate, and T as a dictionary.\n",
    "my_analysis = {'Sample':'TN273-01D-01-01',\n",
    "           'T_C': 1200.,\n",
    "           'SiO2': 56.98,\n",
    "           'TiO2': 1.66,\n",
    "           'Al2O3': 15.52,\n",
    "           'Fe2O3T': 9.47, # Fe2O3T instead of FeOT\n",
    "           'MnO': 0.24,\n",
    "           'MgO': 2.96,\n",
    "           'CaO': 6.49,\n",
    "           'Na2O': 4.06,\n",
    "           'K2O': 0.38,\n",
    "           'P2O5': 0.22,\n",
    "           'H2O': 1.88,\n",
    "           'CO2ppm': 13.,\n",
    "           'STppm': 362.83,\n",
    "           'Xppm': 0.,\n",
    "           'DFMQ': 0.} # DFMQ instead of Fe3+/FeT\n",
    "\n",
    "# Turn the dictionary into a pandas dataframe, setting the index to 0.\n",
    "my_analysis = pd.DataFrame(my_analysis, index=[0])\n",
    "\n",
    "# runs the calculation\n",
    "vf.calc_Pvsat(my_analysis)"
   ]
  },
  {
   "cell_type": "markdown",
   "metadata": {},
   "source": [
    "### Define <i>f</i><sub>O<sub>2</sub></sub> using FeO and Fe<sub>2</sub>O<sub>3</sub>\n",
    "\n",
    "... or FeO and Fe<sub>2</sub>O<sub>3</sub> ..."
   ]
  },
  {
   "cell_type": "code",
   "execution_count": null,
   "metadata": {},
   "outputs": [],
   "source": [
    "# Define the melt composition, fO2 estimate, and T as a dictionary.\n",
    "my_analysis = {'Sample':'TN273-01D-01-01',\n",
    "           'T_C': 1200.,\n",
    "           'SiO2': 56.98,\n",
    "           'TiO2': 1.66,\n",
    "           'Al2O3': 15.52,\n",
    "           'FeO': 8.03, # FeO and Fe2O3 to contraint total Fe and fO2\n",
    "           'Fe2O3': 2.57, # ^\n",
    "           'MnO': 0.24,\n",
    "           'MgO': 2.96,\n",
    "           'CaO': 6.49,\n",
    "           'Na2O': 4.06,\n",
    "           'K2O': 0.38,\n",
    "           'P2O5': 0.22,\n",
    "           'H2O': 1.88,\n",
    "           'CO2ppm': 13.,\n",
    "           'STppm': 362.83,\n",
    "           'Xppm': 0.} \n",
    "\n",
    "# Turn the dictionary into a pandas dataframe, setting the index to 0.\n",
    "my_analysis = pd.DataFrame(my_analysis, index=[0])\n",
    "\n",
    "# runs the calculation\n",
    "vf.calc_Pvsat(my_analysis)"
   ]
  },
  {
   "cell_type": "markdown",
   "metadata": {},
   "source": [
    "### Define <i>f</i><sub>O<sub>2</sub></sub> using ΔNNO\n",
    "\n",
    "... ΔNNO and FeO<sub>T</sub> ..."
   ]
  },
  {
   "cell_type": "code",
   "execution_count": null,
   "metadata": {},
   "outputs": [],
   "source": [
    "# Define the melt composition, fO2 estimate, and T as a dictionary.\n",
    "my_analysis = {'Sample':'TN273-01D-01-01',\n",
    "           'T_C': 1200.,\n",
    "           'SiO2': 56.98,\n",
    "           'TiO2': 1.66,\n",
    "           'Al2O3': 15.52,\n",
    "           'FeOT': 9.47, ###\n",
    "           'MnO': 0.24,\n",
    "           'MgO': 2.96,\n",
    "           'CaO': 6.49,\n",
    "           'Na2O': 4.06,\n",
    "           'K2O': 0.38,\n",
    "           'P2O5': 0.22,\n",
    "           'H2O': 1.88,\n",
    "           'CO2ppm': 13.,\n",
    "           'STppm': 362.83,\n",
    "           'Xppm': 0.,\n",
    "           'DNNO': 1.} ###\n",
    "\n",
    "# Turn the dictionary into a pandas dataframe, setting the index to 0.\n",
    "my_analysis = pd.DataFrame(my_analysis, index=[0])\n",
    "\n",
    "# runs the calculation\n",
    "vf.calc_Pvsat(my_analysis)"
   ]
  },
  {
   "cell_type": "markdown",
   "metadata": {},
   "source": [
    "### Define <i>f</i><sub>O<sub>2</sub></sub> using S<sup>6+</sup>/S<sub>T</sub>\n",
    "\n",
    "... or S<sup>6+</sup>/S<sub>T</sub> and FeO<sub>T</sub> ..."
   ]
  },
  {
   "cell_type": "code",
   "execution_count": null,
   "metadata": {},
   "outputs": [],
   "source": [
    "# Define the melt composition, fO2 estimate, and T as a dictionary.\n",
    "my_analysis = {'Sample':'TN273-01D-01-01',\n",
    "           'T_C': 1200.,\n",
    "           'SiO2': 56.98,\n",
    "           'TiO2': 1.66,\n",
    "           'Al2O3': 15.52,\n",
    "           'FeOT': 9.47, \n",
    "           'MnO': 0.24,\n",
    "           'MgO': 2.96,\n",
    "           'CaO': 6.49,\n",
    "           'Na2O': 4.06,\n",
    "           'K2O': 0.38,\n",
    "           'P2O5': 0.22,\n",
    "           'H2O': 1.88,\n",
    "           'CO2ppm': 13.,\n",
    "           'STppm': 362.83,\n",
    "           'Xppm': 0.,\n",
    "           'S6ST': 0.23} ###\n",
    "\n",
    "# Turn the dictionary into a pandas dataframe, setting the index to 0.\n",
    "my_analysis = pd.DataFrame(my_analysis, index=[0])\n",
    "\n",
    "# runs the calculation\n",
    "vf.calc_Pvsat(my_analysis)"
   ]
  },
  {
   "cell_type": "markdown",
   "metadata": {},
   "source": [
    "## Potential error: defining <i>f</i><sub>O<sub>2</sub></sub> in too many ways\n",
    "\n",
    "If we try to specify too many variables to constrain total Fe and <i>f</i><sub>O<sub>2</sub></sub>, we'll get a warning from VolFe telling you it is only using one of the options to calculate things."
   ]
  },
  {
   "cell_type": "code",
   "execution_count": null,
   "metadata": {},
   "outputs": [],
   "source": [
    "# Define the melt composition, fO2 estimate, and T as a dictionary.\n",
    "my_analysis = {'Sample':'TN273-01D-01-01',\n",
    "           'T_C': 1200.,\n",
    "           'SiO2': 56.98,\n",
    "           'TiO2': 1.66,\n",
    "           'Al2O3': 15.52,\n",
    "           'FeOT': 9.47, ###\n",
    "           'MnO': 0.24,\n",
    "           'MgO': 2.96,\n",
    "           'CaO': 6.49,\n",
    "           'Na2O': 4.06,\n",
    "           'K2O': 0.38,\n",
    "           'P2O5': 0.22,\n",
    "           'H2O': 1.88,\n",
    "           'CO2ppm': 13.,\n",
    "           'STppm': 362.83,\n",
    "           'Xppm': 0.,\n",
    "           'DNNO': 1.,\n",
    "           'Fe3FeT':0.155} ###\n",
    "\n",
    "# Turn the dictionary into a pandas dataframe, setting the index to 0.\n",
    "my_analysis = pd.DataFrame(my_analysis, index=[0])\n",
    "\n",
    "# runs the calculation\n",
    "vf.calc_Pvsat(my_analysis)"
   ]
  }
 ],
 "metadata": {
  "kernelspec": {
   "display_name": "volfe-dev",
   "language": "python",
   "name": "python3"
  },
  "language_info": {
   "codemirror_mode": {
    "name": "ipython",
    "version": 3
   },
   "file_extension": ".py",
   "mimetype": "text/x-python",
   "name": "python",
   "nbconvert_exporter": "python",
   "pygments_lexer": "ipython3",
   "version": "3.13.0"
  }
 },
 "nbformat": 4,
 "nbformat_minor": 2
}
