{
 "cells": [
  {
   "cell_type": "markdown",
   "metadata": {},
   "source": [
    "## 1a. Calculate <i>P<sup>v</sup></i><sub>sat</sub> for a single melt composition from a dataframe using default options"
   ]
  },
  {
   "cell_type": "markdown",
   "metadata": {},
   "source": [
    "## Setting things up\n",
    "First we need to import a few Python packages (including VolFe) and set the precision of the calculations"
   ]
  },
  {
   "cell_type": "code",
   "execution_count": null,
   "metadata": {},
   "outputs": [],
   "source": [
    "# import python packages\n",
    "import pandas as pd\n",
    "import gmpy2 as gp\n",
    "import VolFe as vf\n",
    "\n",
    "# set calculation precision\n",
    "gp.get_context().precision=50"
   ]
  },
  {
   "cell_type": "markdown",
   "metadata": {},
   "source": [
    "At a minimum to run a Pvsat calculations, we need a dataframe of the melt composition, an estimate of oxygen fugacity and Fe in the melt [note 1], and temperature:\n",
    "\n",
    "- Sample is just the name for this analysis.\n",
    "\n",
    "- Temperature is in 'C.\n",
    "\n",
    "- Volatile-free melt composition is in wt% oxides [note 2]. All these oxides must be present in the dataframe, so set them to 0. if you have no data for them (although see [note 1] around FeOT).\n",
    "\n",
    "- H2O is all hydrogen in the melt reported as H2O in wt% [note 3]. \n",
    "\n",
    "- CO2ppm is all carbon in the melt reported as CO2 in ppm [note 3].\n",
    "\n",
    "- STppm is all sulfur in the melt reported as S in ppm [note 3].\n",
    "\n",
    "- Xppm is all \"X\" in the melt reported as X in ppm [note 3]. X is an unreactive melt species whose identity can be changed - this is explored WHERE.\n",
    "\n",
    "- Fe3+FeT is the ratio of Fe3+ to FeT in the melt.\n",
    "\n",
    "[note 1] In this example we specify oxygen fugacity using Fe3+/FeT and Fe in the melt as FeOT as is quite common for melt inclusion and matrix glass analyses - other options are possible, shown later in the notebook.\n",
    "\n",
    "[note 2] It does not matter what the non-volatile oxides sum too - they are renormalised to 100 wt% minus the total of the volatiles (i.e., H2O + CO2 + ST + X).\n",
    "\n",
    "[note 3] The volatile concentrations are absolute for the melt = i.e., the non-volatile melt composition is normalised to 100 wt% minus the volatiles. The volatiles are not added to the oxides and then renormalised.\n",
    "\n",
    "The following composition is analysis TN273-01D-01-01 from Brounce et al. (2014), with a temperature chosen as 1200 'C.\n",
    "\n",
    "M. N. Brounce, K. A. Kelley, E. Cottrell, Variations in Fe3+/∑Fe of Mariana Arc Basalts and Mantle Wedge fO2, Journal of Petrology, Volume 55, Issue 12, December 2014, Pages 2513–2536, https://doi.org/10.1093/petrology/egu065"
   ]
  },
  {
   "cell_type": "code",
   "execution_count": null,
   "metadata": {},
   "outputs": [],
   "source": [
    "# Define the melt composition, fO2 estimate, and T as a dictionary.\n",
    "my_analysis = {'Sample':'TN273-01D-01-01',\n",
    "           'T_C': 1200., # Temperature in 'C\n",
    "           'SiO2': 56.98, # wt%\n",
    "           'TiO2': 1.66, # wt%\n",
    "           'Al2O3': 15.52, # wt%\n",
    "           'FeOT': 9.47, # wt%\n",
    "           'MnO': 0.24, # wt%\n",
    "           'MgO': 2.96, # wt%\n",
    "           'CaO': 6.49, # wt%\n",
    "           'Na2O': 4.06, # wt%\n",
    "           'K2O': 0.38, # wt%\n",
    "           'P2O5': 0.22, # wt%\n",
    "           'H2O': 1.88, # wt%\n",
    "           'CO2ppm': 13., # ppm\n",
    "           'STppm': 362.83, # ppm\n",
    "           'Xppm': 0., # ppm\n",
    "           'Fe3FeT': 0.171}\n",
    "\n",
    "# Turn the dictionary into a pandas dataframe, setting the index to 0.\n",
    "my_analysis = pd.DataFrame(my_analysis, index=[0])\n",
    "\n",
    "# Show the DataFrame.\n",
    "print(my_analysis)"
   ]
  },
  {
   "cell_type": "markdown",
   "metadata": {},
   "source": [
    "For this example we will use the default options in VolFe, which can be found below:"
   ]
  },
  {
   "cell_type": "code",
   "execution_count": null,
   "metadata": {},
   "outputs": [],
   "source": [
    "# print default options in VolFe\n",
    "print(vf.default_models)"
   ]
  },
  {
   "cell_type": "markdown",
   "metadata": {},
   "source": [
    "And below runs the calculation - it outputs the index of the sample, the sample name and Pvsat plus a dataframe of the full results."
   ]
  },
  {
   "cell_type": "code",
   "execution_count": null,
   "metadata": {},
   "outputs": [],
   "source": [
    "# runs the calculation\n",
    "vf.calc_Pvsat(my_analysis)"
   ]
  },
  {
   "cell_type": "markdown",
   "metadata": {},
   "source": [
    "Alternatively, we can define the oxygen fugacity using DFMQ and total iron from Fe2O3T..."
   ]
  },
  {
   "cell_type": "code",
   "execution_count": null,
   "metadata": {},
   "outputs": [],
   "source": [
    "# Define the melt composition, fO2 estimate, and T as a dictionary.\n",
    "my_analysis = {'Sample':'TN273-01D-01-01',\n",
    "           'T_C': 1200.,\n",
    "           'SiO2': 56.98,\n",
    "           'TiO2': 1.66,\n",
    "           'Al2O3': 15.52,\n",
    "           'Fe2O3T': 9.47, # Fe2O3T instead of FeOT\n",
    "           'MnO': 0.24,\n",
    "           'MgO': 2.96,\n",
    "           'CaO': 6.49,\n",
    "           'Na2O': 4.06,\n",
    "           'K2O': 0.38,\n",
    "           'P2O5': 0.22,\n",
    "           'H2O': 1.88,\n",
    "           'CO2ppm': 13.,\n",
    "           'STppm': 362.83,\n",
    "           'Xppm': 0.,\n",
    "           'DFMQ': 0.} # DFMQ instead of Fe3+/FeT\n",
    "\n",
    "# Turn the dictionary into a pandas dataframe, setting the index to 0.\n",
    "my_analysis = pd.DataFrame(my_analysis, index=[0])\n",
    "\n",
    "# runs the calculation\n",
    "vf.calc_Pvsat(my_analysis)"
   ]
  },
  {
   "cell_type": "markdown",
   "metadata": {},
   "source": [
    "... or FeO and Fe2O3 ..."
   ]
  },
  {
   "cell_type": "code",
   "execution_count": null,
   "metadata": {},
   "outputs": [],
   "source": [
    "# Define the melt composition, fO2 estimate, and T as a dictionary.\n",
    "my_analysis = {'Sample':'TN273-01D-01-01',\n",
    "           'T_C': 1200.,\n",
    "           'SiO2': 56.98,\n",
    "           'TiO2': 1.66,\n",
    "           'Al2O3': 15.52,\n",
    "           'FeO': 8.03, # FeO and Fe2O3 to contraint total Fe and fO2\n",
    "           'Fe2O3': 2.57, # ^\n",
    "           'MnO': 0.24,\n",
    "           'MgO': 2.96,\n",
    "           'CaO': 6.49,\n",
    "           'Na2O': 4.06,\n",
    "           'K2O': 0.38,\n",
    "           'P2O5': 0.22,\n",
    "           'H2O': 1.88,\n",
    "           'CO2ppm': 13.,\n",
    "           'STppm': 362.83,\n",
    "           'Xppm': 0.} \n",
    "\n",
    "# Turn the dictionary into a pandas dataframe, setting the index to 0.\n",
    "my_analysis = pd.DataFrame(my_analysis, index=[0])\n",
    "\n",
    "# runs the calculation\n",
    "vf.calc_Pvsat(my_analysis)"
   ]
  },
  {
   "cell_type": "markdown",
   "metadata": {},
   "source": [
    "... DNNO and FeOT ..."
   ]
  },
  {
   "cell_type": "code",
   "execution_count": null,
   "metadata": {},
   "outputs": [],
   "source": [
    "# Define the melt composition, fO2 estimate, and T as a dictionary.\n",
    "my_analysis = {'Sample':'TN273-01D-01-01',\n",
    "           'T_C': 1200.,\n",
    "           'SiO2': 56.98,\n",
    "           'TiO2': 1.66,\n",
    "           'Al2O3': 15.52,\n",
    "           'FeOT': 9.47, ###\n",
    "           'MnO': 0.24,\n",
    "           'MgO': 2.96,\n",
    "           'CaO': 6.49,\n",
    "           'Na2O': 4.06,\n",
    "           'K2O': 0.38,\n",
    "           'P2O5': 0.22,\n",
    "           'H2O': 1.88,\n",
    "           'CO2ppm': 13.,\n",
    "           'STppm': 362.83,\n",
    "           'Xppm': 0.,\n",
    "           'DNNO': 1.} ###\n",
    "\n",
    "# Turn the dictionary into a pandas dataframe, setting the index to 0.\n",
    "my_analysis = pd.DataFrame(my_analysis, index=[0])\n",
    "\n",
    "# runs the calculation\n",
    "vf.calc_Pvsat(my_analysis)"
   ]
  },
  {
   "cell_type": "markdown",
   "metadata": {},
   "source": [
    "If we try to specify too many variables to constrain total Fe and fO2, we'll get a warning from VolFe telling you it is only using one of the options to calculate things."
   ]
  },
  {
   "cell_type": "code",
   "execution_count": null,
   "metadata": {},
   "outputs": [],
   "source": [
    "# Define the melt composition, fO2 estimate, and T as a dictionary.\n",
    "my_analysis = {'Sample':'TN273-01D-01-01',\n",
    "           'T_C': 1200.,\n",
    "           'SiO2': 56.98,\n",
    "           'TiO2': 1.66,\n",
    "           'Al2O3': 15.52,\n",
    "           'FeOT': 9.47, ###\n",
    "           'MnO': 0.24,\n",
    "           'MgO': 2.96,\n",
    "           'CaO': 6.49,\n",
    "           'Na2O': 4.06,\n",
    "           'K2O': 0.38,\n",
    "           'P2O5': 0.22,\n",
    "           'H2O': 1.88,\n",
    "           'CO2ppm': 13.,\n",
    "           'STppm': 362.83,\n",
    "           'Xppm': 0.,\n",
    "           'DNNO': 1.,\n",
    "           'Fe3FeT':0.171} ###\n",
    "\n",
    "# Turn the dictionary into a pandas dataframe, setting the index to 0.\n",
    "my_analysis = pd.DataFrame(my_analysis, index=[0])\n",
    "\n",
    "# runs the calculation\n",
    "vf.calc_Pvsat(my_analysis)"
   ]
  },
  {
   "cell_type": "markdown",
   "metadata": {},
   "source": []
  },
  {
   "cell_type": "code",
   "execution_count": null,
   "metadata": {},
   "outputs": [],
   "source": []
  },
  {
   "cell_type": "code",
   "execution_count": null,
   "metadata": {},
   "outputs": [],
   "source": []
  }
 ],
 "metadata": {
  "kernelspec": {
   "display_name": "base",
   "language": "python",
   "name": "python3"
  },
  "language_info": {
   "codemirror_mode": {
    "name": "ipython",
    "version": 3
   },
   "file_extension": ".py",
   "mimetype": "text/x-python",
   "name": "python",
   "nbconvert_exporter": "python",
   "pygments_lexer": "ipython3",
   "version": "3.11.7"
  }
 },
 "nbformat": 4,
 "nbformat_minor": 2
}
