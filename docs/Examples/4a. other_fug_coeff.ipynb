{
 "cells": [
  {
   "cell_type": "markdown",
   "metadata": {},
   "source": [
    "## 4a. Calculate fugacity coefficients"
   ]
  },
  {
   "cell_type": "markdown",
   "metadata": {},
   "source": [
    "## Setting things up\n",
    "You need to install VolFe once on your machine, if you haven't yet. Then we need to import a few Python packages (including VolFe). "
   ]
  },
  {
   "cell_type": "code",
   "execution_count": 1,
   "metadata": {},
   "outputs": [],
   "source": [
    "# Install VolFe on your machine. Don't remove the # from this line!\n",
    "# pip install VolFe # Remove the first # in this line if you have not installed VolFe on your machine before.\n",
    "\n",
    "# import python packages\n",
    "import pandas as pd\n",
    "import matplotlib.pyplot as plt\n",
    "import VolFe as vf"
   ]
  },
  {
   "cell_type": "markdown",
   "metadata": {},
   "source": [
    "This allows you to calculate the fugacity coefficient for all vapor species in the CHOSX system at a given *P* and *T*.\n",
    "\n",
    "It can be run for multiple sets of conditions defined in the input data frame or loaded from a csv file.\n",
    "\n",
    "This first example is for a single set of conditions defined in a dataframe."
   ]
  },
  {
   "cell_type": "code",
   "execution_count": 2,
   "metadata": {},
   "outputs": [],
   "source": [
    "# Define conditions T as a dictionary.\n",
    "my_analysis = {'Sample':'test',\n",
    "           'T_C': 1200., # Temperature in 'C\n",
    "           'P_bar':1000.} # Pressure in bar\n",
    "\n",
    "# Turn the dictionary into a pandas dataframe, setting the index to 0.\n",
    "my_analysis = pd.DataFrame(my_analysis, index=[0])"
   ]
  },
  {
   "cell_type": "markdown",
   "metadata": {},
   "source": [
    "We'll use the default options"
   ]
  },
  {
   "cell_type": "code",
   "execution_count": 3,
   "metadata": {},
   "outputs": [
    {
     "name": "stdout",
     "output_type": "stream",
     "text": [
      "                            option\n",
      "type                              \n",
      "COH_species     yes_H2_CO_CH4_melt\n",
      "H2S_m                         True\n",
      "species X                       Ar\n",
      "Hspeciation                   none\n",
      "fO2                       Kress91A\n",
      "...                            ...\n",
      "error                          0.1\n",
      "print status                 False\n",
      "output csv                    True\n",
      "setup                        False\n",
      "high precision               False\n",
      "\n",
      "[78 rows x 1 columns]\n"
     ]
    }
   ],
   "source": [
    "# print default options in VolFe\n",
    "print(vf.default_models)"
   ]
  },
  {
   "cell_type": "markdown",
   "metadata": {},
   "source": [
    "And this runs the calculation"
   ]
  },
  {
   "cell_type": "code",
   "execution_count": 4,
   "metadata": {},
   "outputs": [
    {
     "data": {
      "text/html": [
       "<div>\n",
       "<style scoped>\n",
       "    .dataframe tbody tr th:only-of-type {\n",
       "        vertical-align: middle;\n",
       "    }\n",
       "\n",
       "    .dataframe tbody tr th {\n",
       "        vertical-align: top;\n",
       "    }\n",
       "\n",
       "    .dataframe thead th {\n",
       "        text-align: right;\n",
       "    }\n",
       "</style>\n",
       "<table border=\"1\" class=\"dataframe\">\n",
       "  <thead>\n",
       "    <tr style=\"text-align: right;\">\n",
       "      <th></th>\n",
       "      <th>Sample</th>\n",
       "      <th>P_bar</th>\n",
       "      <th>T_C</th>\n",
       "      <th>yO2</th>\n",
       "      <th>yH2</th>\n",
       "      <th>yH2O</th>\n",
       "      <th>yS2</th>\n",
       "      <th>ySO2</th>\n",
       "      <th>yH2S</th>\n",
       "      <th>yCO2</th>\n",
       "      <th>...</th>\n",
       "      <th>y_H2S opt</th>\n",
       "      <th>y_H2 opt</th>\n",
       "      <th>y_O2 opt</th>\n",
       "      <th>y_S2 opt</th>\n",
       "      <th>y_CO opt</th>\n",
       "      <th>y_CH4 opt</th>\n",
       "      <th>y_H2O opt</th>\n",
       "      <th>y_OCS opt</th>\n",
       "      <th>y_X opt</th>\n",
       "      <th>Date</th>\n",
       "    </tr>\n",
       "  </thead>\n",
       "  <tbody>\n",
       "    <tr>\n",
       "      <th>0</th>\n",
       "      <td>test</td>\n",
       "      <td>1000.0</td>\n",
       "      <td>1200.0</td>\n",
       "      <td>1.209858</td>\n",
       "      <td>1.126166</td>\n",
       "      <td>1.004254</td>\n",
       "      <td>1.191327</td>\n",
       "      <td>1.206456</td>\n",
       "      <td>1.489942</td>\n",
       "      <td>1.265765</td>\n",
       "      <td>...</td>\n",
       "      <td>Shi92_Hughes24</td>\n",
       "      <td>Shaw64</td>\n",
       "      <td>Shi92</td>\n",
       "      <td>Shi92</td>\n",
       "      <td>Shi92</td>\n",
       "      <td>Shi92</td>\n",
       "      <td>Holland91</td>\n",
       "      <td>Shi92</td>\n",
       "      <td>ideal</td>\n",
       "      <td>2024-08-07 13:20:36.489791</td>\n",
       "    </tr>\n",
       "  </tbody>\n",
       "</table>\n",
       "<p>1 rows × 26 columns</p>\n",
       "</div>"
      ],
      "text/plain": [
       "0 Sample   P_bar     T_C       yO2       yH2      yH2O       yS2      ySO2  \\\n",
       "0   test  1000.0  1200.0  1.209858  1.126166  1.004254  1.191327  1.206456   \n",
       "\n",
       "0      yH2S      yCO2  ...       y_H2S opt y_H2 opt y_O2 opt y_S2 opt  \\\n",
       "0  1.489942  1.265765  ...  Shi92_Hughes24   Shaw64    Shi92    Shi92   \n",
       "\n",
       "0 y_CO opt y_CH4 opt  y_H2O opt y_OCS opt y_X opt                        Date  \n",
       "0    Shi92     Shi92  Holland91     Shi92   ideal  2024-08-07 13:20:36.489791  \n",
       "\n",
       "[1 rows x 26 columns]"
      ]
     },
     "execution_count": 4,
     "metadata": {},
     "output_type": "execute_result"
    }
   ],
   "source": [
    "vf.calc_fugacity_coefficients(my_analysis)"
   ]
  },
  {
   "cell_type": "markdown",
   "metadata": {},
   "source": [
    "We'll show an example by loading from the csv file found in files."
   ]
  },
  {
   "cell_type": "code",
   "execution_count": 5,
   "metadata": {},
   "outputs": [],
   "source": [
    "# Read csv to define melt composition\n",
    "my_analyses = pd.read_csv(\"../files/inputs_y.csv\") "
   ]
  },
  {
   "cell_type": "markdown",
   "metadata": {},
   "source": [
    "And below runs the calculation"
   ]
  },
  {
   "cell_type": "code",
   "execution_count": 6,
   "metadata": {},
   "outputs": [],
   "source": [
    "results = vf.calc_fugacity_coefficients(my_analyses)"
   ]
  },
  {
   "cell_type": "markdown",
   "metadata": {},
   "source": [
    "And we can plot them - this is an example for CO2"
   ]
  },
  {
   "cell_type": "code",
   "execution_count": 7,
   "metadata": {},
   "outputs": [
    {
     "data": {
      "text/plain": [
       "Text(0, 0.5, 'y CO2')"
      ]
     },
     "execution_count": 7,
     "metadata": {},
     "output_type": "execute_result"
    },
    {
     "data": {
      "image/png": "[encoded data removed]",
      "text/plain": [
       "<Figure size 1200x400 with 2 Axes>"
      ]
     },
     "metadata": {},
     "output_type": "display_data"
    }
   ],
   "source": [
    "fig, (ax1, ax2) = plt.subplots(1, 2, figsize=(12,4))\n",
    "\n",
    "data1 = results[results['P_bar'] == 2000.] # 2000 bar\n",
    "data2 = results[results['T_C'] == 1200.] # 1200 'C\n",
    "\n",
    "# Plotting results\n",
    "ax1.plot(data2['P_bar'], data2['yCO2'], '-k')\n",
    "ax2.plot(data1['T_C'], data1['yCO2'], '--k')\n",
    "\n",
    "ax1.set_xlabel('P (bar)')\n",
    "ax2.set_xlabel('T (C)')\n",
    "ax1.set_ylabel('y CO2')"
   ]
  }
 ],
 "metadata": {
  "kernelspec": {
   "display_name": "base",
   "language": "python",
   "name": "python3"
  },
  "language_info": {
   "codemirror_mode": {
    "name": "ipython",
    "version": 3
   },
   "file_extension": ".py",
   "mimetype": "text/x-python",
   "name": "python",
   "nbconvert_exporter": "python",
   "pygments_lexer": "ipython3",
   "version": "3.11.7"
  }
 },
 "nbformat": 4,
 "nbformat_minor": 2
}
