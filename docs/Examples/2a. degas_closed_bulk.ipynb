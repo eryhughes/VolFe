{
 "cells": [
  {
   "cell_type": "markdown",
   "metadata": {},
   "source": [
    "## 2a. Calculate closed-system degassing path assuming melt composition is the bulk composition (with and without sulfur saturation)"
   ]
  },
  {
   "cell_type": "markdown",
   "metadata": {},
   "source": [
    "## Setting things up\n",
    "You need to install VolFe once on your machine, if you haven't yet. Then we need to import a few Python packages (including VolFe). "
   ]
  },
  {
   "cell_type": "code",
   "execution_count": 1,
   "metadata": {},
   "outputs": [],
   "source": [
    "# Install VolFe on your machine. Don't remove the # from this line!\n",
    "# pip install VolFe # Remove the first # in this line if you have not installed VolFe on your machine before.\n",
    "\n",
    "# import python packages\n",
    "import pandas as pd\n",
    "import matplotlib.pyplot as plt\n",
    "import VolFe as vf"
   ]
  },
  {
   "cell_type": "markdown",
   "metadata": {},
   "source": [
    "At a minimum to run a degassing calculation, we need a dataframe of the melt composition, an estimate of oxygen fugacity and Fe in the melt [note 1], and temperature at some point along the degassing path:\n",
    "\n",
    "- Sample is just the name for this analysis.\n",
    "\n",
    "- Temperature is in 'C.\n",
    "\n",
    "- Volatile-free melt composition is in wt% oxides [note 2]. All these oxides must be present in the dataframe, so set them to 0. if you have no data for them (although see [note 1] around FeOT).\n",
    "\n",
    "- H2O is all hydrogen in the melt reported as H2O in wt% [note 3]. \n",
    "\n",
    "- CO2ppm is all carbon in the melt reported as CO2 in ppm [note 3].\n",
    "\n",
    "- STppm is all sulfur in the melt reported as S in ppm [note 3].\n",
    "\n",
    "- Xppm is all \"X\" in the melt reported as X in ppm [note 3]. X is an unreactive melt species whose identity can be changed - this is explored in Example 2e.\n",
    "\n",
    "- Fe3+FeT is the ratio of Fe3+ to FeT in the melt.\n",
    "\n",
    "[note 1] In this example we specify oxygen fugacity using Fe3+/FeT and Fe in the melt as FeOT as is quite common for melt inclusion and matrix glass analyses - other options are possible, see Example 1a for more information.\n",
    "\n",
    "[note 2] It does not matter what the non-volatile oxides sum too - they are renormalised to 100 wt% minus the total of the volatiles (i.e., H2O + CO2 + ST + X).\n",
    "\n",
    "[note 3] The volatile concentrations are absolute for the melt = i.e., the non-volatile melt composition is normalised to 100 wt% minus the volatiles. The volatiles are not added to the oxides and then renormalised.\n",
    "\n",
    "The following composition is analysis Sari15-04-33 from Brounce et al. (2014), with a temperature chosen as 1200 'C."
   ]
  },
  {
   "cell_type": "code",
   "execution_count": 2,
   "metadata": {},
   "outputs": [],
   "source": [
    "# Define the melt composition, fO2 estimate, and T as a dictionary.\n",
    "my_analysis = {'Sample':'Sari15-04-33',\n",
    "           'T_C': 1200., # Temperature in 'C\n",
    "           'SiO2': 47.89, # wt%\n",
    "           'TiO2': 0.75, # wt%\n",
    "           'Al2O3': 16.74, # wt%\n",
    "           'FeOT': 9.43, # wt%\n",
    "           'MnO': 0.18, # wt%\n",
    "           'MgO': 5.92, # wt%\n",
    "           'CaO': 11.58, # wt%\n",
    "           'Na2O': 2.14, # wt%\n",
    "           'K2O': 0.63, # wt%\n",
    "           'P2O5': 0.17, # wt%\n",
    "           'H2O': 4.17, # wt%\n",
    "           'CO2ppm': 1487., # ppm\n",
    "           'STppm': 1343.5, # ppm\n",
    "           'Xppm': 0., # ppm\n",
    "           'Fe3FeT': 0.195}\n",
    "\n",
    "# Turn the dictionary into a pandas dataframe, setting the index to 0.\n",
    "my_analysis = pd.DataFrame(my_analysis, index=[0])"
   ]
  },
  {
   "cell_type": "markdown",
   "metadata": {},
   "source": [
    "For this example we will mostly use the default options in VolFe, which can be found below:"
   ]
  },
  {
   "cell_type": "code",
   "execution_count": 3,
   "metadata": {},
   "outputs": [
    {
     "name": "stdout",
     "output_type": "stream",
     "text": [
      "                            option\n",
      "type                              \n",
      "COH_species     yes_H2_CO_CH4_melt\n",
      "H2S_m                         True\n",
      "species X                       Ar\n",
      "Hspeciation                   none\n",
      "fO2                       Kress91A\n",
      "...                            ...\n",
      "error                          0.1\n",
      "print status                 False\n",
      "output csv                    True\n",
      "setup                        False\n",
      "high precision               False\n",
      "\n",
      "[78 rows x 1 columns]\n"
     ]
    }
   ],
   "source": [
    "# print default options in VolFe\n",
    "print(vf.default_models)"
   ]
  },
  {
   "cell_type": "markdown",
   "metadata": {},
   "source": [
    "But I'll just highlight the specific options that are important to the degassing calculation and what their default values are:\n",
    "\n",
    "**bulk_composition = melt-only** This means the composition (including volatiles and fO2 estimate) represent the bulk composition of the system - there is only melt present and all volatiles are dissolved in the melt.\n",
    "\n",
    "**starting_P = Pvsat** This means the calculation will start at Pvsat for the composition given.\n",
    "\n",
    "**gasssing_style = closed** This means the melt and vapor remain in chemical equilibrium throughout and the bulk composition is constant during the calculation\n",
    "\n",
    "**gassing_direction = degas** This means pressure will decrease during the calculations and therefore the melt will degas.\n",
    "\n",
    "The default pressure step is 10 bars, which works most of the time but can be a little slow.\n",
    "Increasing the step size will speed up the calculation but if the step size is too big it will struggle to solve because it uses the previous step for its initial guesses."
   ]
  },
  {
   "cell_type": "code",
   "execution_count": 4,
   "metadata": {},
   "outputs": [],
   "source": [
    "degas1 = vf.calc_gassing(my_analysis)"
   ]
  },
  {
   "cell_type": "markdown",
   "metadata": {},
   "source": [
    "We could run the same calculation from a csv file if we preferred.\n",
    "\n",
    "We'll use the examples_marianas_wT csv in files and use all the default options again. \n",
    "The data in this file are from Brounce et al. (2014, 2016) and Kelley & Cottrell (2012).\n",
    "Sari15-04-33 is row 48 in that file. \n",
    "\n",
    "Uncomment the lines to use them (i.e., remove the # at the start of each line)."
   ]
  },
  {
   "cell_type": "code",
   "execution_count": 5,
   "metadata": {},
   "outputs": [],
   "source": [
    "# read the csv file \n",
    "# my_analyses = pd.read_csv(\"../files/example_marianas.csv\") # remove first # in this line to run it\n",
    "\n",
    "# run degassing calculation for row 48 - Sari15-04-33\n",
    "# vf.calc_gassing(my_analyses,row=48) # remove first # in this line to run it"
   ]
  },
  {
   "cell_type": "markdown",
   "metadata": {},
   "source": [
    "Turns out the melt was sulfide-saturated during the degassing path. \n",
    "Under those conditions, the results for the melt and vapor are metastable with respect to saturation of sulfide.\n",
    "\n",
    "We can run the same calculation, but instead limit the sulfur content in the melt to sulfide or anhydrite saturation, if it reaches the limit. \n",
    "To do that we change the \"sulfur_saturation\" option from \"False\" (sulfur phases cannot saturate) to \"True\" (sulfur phases can saturate if the sulfur content is high enough)."
   ]
  },
  {
   "cell_type": "code",
   "execution_count": 6,
   "metadata": {},
   "outputs": [],
   "source": [
    "# Choose the options I want to change for the calculation - everything else will use the default options\n",
    "my_models = [['sulfur_saturation','True']]\n",
    "\n",
    "# turn to dataframe with correct column headers and indexes    \n",
    "my_models = vf.make_df_and_add_model_defaults(my_models)"
   ]
  },
  {
   "cell_type": "markdown",
   "metadata": {},
   "source": [
    "And then we run the degassing calculation with those model options"
   ]
  },
  {
   "cell_type": "code",
   "execution_count": 7,
   "metadata": {},
   "outputs": [
    {
     "ename": "KeyboardInterrupt",
     "evalue": "",
     "output_type": "error",
     "traceback": [
      "\u001b[0;31m---------------------------------------------------------------------------\u001b[0m",
      "\u001b[0;31mKeyboardInterrupt\u001b[0m                         Traceback (most recent call last)",
      "Cell \u001b[0;32mIn[7], line 1\u001b[0m\n\u001b[0;32m----> 1\u001b[0m degas2 \u001b[38;5;241m=\u001b[39m \u001b[43mvf\u001b[49m\u001b[38;5;241;43m.\u001b[39;49m\u001b[43mcalc_gassing\u001b[49m\u001b[43m(\u001b[49m\u001b[43mmy_analysis\u001b[49m\u001b[43m,\u001b[49m\u001b[43m \u001b[49m\u001b[43mmodels\u001b[49m\u001b[38;5;241;43m=\u001b[39;49m\u001b[43mmy_models\u001b[49m\u001b[43m)\u001b[49m\n",
      "File \u001b[0;32m~/Documents/GitHub/VolFe/src/VolFe/batch_calculations.py:643\u001b[0m, in \u001b[0;36mcalc_gassing\u001b[0;34m(setup, models, run, nr_step, nr_tol, dp_step, psat_tol, dwtg, i_nr_step, i_nr_tol, nr_step_eq)\u001b[0m\n\u001b[1;32m    640\u001b[0m     PT[\u001b[38;5;124m\"\u001b[39m\u001b[38;5;124mT\u001b[39m\u001b[38;5;124m\"\u001b[39m] \u001b[38;5;241m=\u001b[39m T\n\u001b[1;32m    641\u001b[0m \u001b[38;5;28;01mif\u001b[39;00m P_sat_ \u001b[38;5;241m>\u001b[39m PT[\u001b[38;5;124m\"\u001b[39m\u001b[38;5;124mP\u001b[39m\u001b[38;5;124m\"\u001b[39m] \u001b[38;5;129;01mor\u001b[39;00m models\u001b[38;5;241m.\u001b[39mloc[\u001b[38;5;124m\"\u001b[39m\u001b[38;5;124mgassing_direction\u001b[39m\u001b[38;5;124m\"\u001b[39m,\u001b[38;5;124m\"\u001b[39m\u001b[38;5;124moption\u001b[39m\u001b[38;5;124m\"\u001b[39m] \u001b[38;5;241m==\u001b[39m \u001b[38;5;124m\"\u001b[39m\u001b[38;5;124mregas\u001b[39m\u001b[38;5;124m\"\u001b[39m:  \n\u001b[1;32m    642\u001b[0m     \u001b[38;5;66;03m# work out equilibrium partitioning between melt and gas phase\u001b[39;00m\n\u001b[0;32m--> 643\u001b[0m     xg, conc, melt_and_gas, guesses, new_models, solve_species \u001b[38;5;241m=\u001b[39m \u001b[43meq\u001b[49m\u001b[38;5;241;43m.\u001b[39;49m\u001b[43mmg_equilibrium\u001b[49m\u001b[43m(\u001b[49m\u001b[43mPT\u001b[49m\u001b[43m,\u001b[49m\u001b[43mmelt_wf\u001b[49m\u001b[43m,\u001b[49m\u001b[43mbulk_wf\u001b[49m\u001b[43m,\u001b[49m\u001b[43mmodels\u001b[49m\u001b[43m,\u001b[49m\u001b[43mnr_step_eq\u001b[49m\u001b[43m,\u001b[49m\u001b[43mnr_tol\u001b[49m\u001b[43m,\u001b[49m\u001b[43mguesses\u001b[49m\u001b[43m)\u001b[49m\n\u001b[1;32m    644\u001b[0m     models \u001b[38;5;241m=\u001b[39m new_models\n\u001b[1;32m    645\u001b[0m     \u001b[38;5;28;01mif\u001b[39;00m xg[\u001b[38;5;124m\"\u001b[39m\u001b[38;5;124mxg_O2\u001b[39m\u001b[38;5;124m\"\u001b[39m] \u001b[38;5;241m==\u001b[39m \u001b[38;5;241m1.0\u001b[39m:\n",
      "File \u001b[0;32m~/Documents/GitHub/VolFe/src/VolFe/equilibrium_equations.py:261\u001b[0m, in \u001b[0;36mmg_equilibrium\u001b[0;34m(PT, melt_wf, bulk_wf, models, nr_step, nr_tol, guesses)\u001b[0m\n\u001b[1;32m    259\u001b[0m     A,B,C,D \u001b[38;5;241m=\u001b[39m eq_SCHOFe_scipy(PT,bulk_wf,melt_wf,models,nr_step,nr_tol,guesses,solve_species)\n\u001b[1;32m    260\u001b[0m \u001b[38;5;28;01melif\u001b[39;00m models\u001b[38;5;241m.\u001b[39mloc[\u001b[38;5;124m\"\u001b[39m\u001b[38;5;124mHspeciation\u001b[39m\u001b[38;5;124m\"\u001b[39m,\u001b[38;5;124m\"\u001b[39m\u001b[38;5;124moption\u001b[39m\u001b[38;5;124m\"\u001b[39m] \u001b[38;5;129;01min\u001b[39;00m [\u001b[38;5;124m\"\u001b[39m\u001b[38;5;124mnone\u001b[39m\u001b[38;5;124m\"\u001b[39m,\u001b[38;5;124m'\u001b[39m\u001b[38;5;124mnone+regular\u001b[39m\u001b[38;5;124m'\u001b[39m,\u001b[38;5;124m'\u001b[39m\u001b[38;5;124mnone+ideal\u001b[39m\u001b[38;5;124m'\u001b[39m]:\n\u001b[0;32m--> 261\u001b[0m     A,B,C,D, models, solve_species \u001b[38;5;241m=\u001b[39m \u001b[43meq_SCHOFe_2\u001b[49m\u001b[43m(\u001b[49m\u001b[43mPT\u001b[49m\u001b[43m,\u001b[49m\u001b[43mbulk_wf\u001b[49m\u001b[43m,\u001b[49m\u001b[43mmelt_wf\u001b[49m\u001b[43m,\u001b[49m\u001b[43mmodels\u001b[49m\u001b[43m,\u001b[49m\u001b[43mnr_step\u001b[49m\u001b[43m,\u001b[49m\u001b[43mnr_tol\u001b[49m\u001b[43m,\u001b[49m\u001b[43mguesses\u001b[49m\u001b[43m,\u001b[49m\u001b[43msolve_species\u001b[49m\u001b[43m)\u001b[49m\n\u001b[1;32m    262\u001b[0m \u001b[38;5;28;01melif\u001b[39;00m models\u001b[38;5;241m.\u001b[39mloc[\u001b[38;5;124m\"\u001b[39m\u001b[38;5;124mHspeciation\u001b[39m\u001b[38;5;124m\"\u001b[39m,\u001b[38;5;124m\"\u001b[39m\u001b[38;5;124moption\u001b[39m\u001b[38;5;124m\"\u001b[39m] \u001b[38;5;241m==\u001b[39m \u001b[38;5;124m\"\u001b[39m\u001b[38;5;124mlinear\u001b[39m\u001b[38;5;124m\"\u001b[39m:\n\u001b[1;32m    263\u001b[0m     A,B,C,D \u001b[38;5;241m=\u001b[39m eq_SCHOFe_3(PT,bulk_wf,melt_wf,models,nr_step,nr_tol,guesses,solve_species)\n",
      "File \u001b[0;32m~/Documents/GitHub/VolFe/src/VolFe/equilibrium_equations.py:2446\u001b[0m, in \u001b[0;36meq_SCHOFe_2\u001b[0;34m(PT, bulk_wf, melt_wf, models, nr_step, nr_tol, guesses, solve_species)\u001b[0m\n\u001b[1;32m   2444\u001b[0m K13_ \u001b[38;5;241m=\u001b[39m mdv\u001b[38;5;241m.\u001b[39mC_H2(PT,melt_wf,models)\u001b[38;5;241m/\u001b[39m\u001b[38;5;241m1000000.0\u001b[39m\n\u001b[1;32m   2445\u001b[0m K14_ \u001b[38;5;241m=\u001b[39m mdv\u001b[38;5;241m.\u001b[39mC_H2S(PT,melt_wf,models)\u001b[38;5;241m/\u001b[39m\u001b[38;5;241m1000000.0\u001b[39m\n\u001b[0;32m-> 2446\u001b[0m KD1_, KD2, y \u001b[38;5;241m=\u001b[39m \u001b[43mmdv\u001b[49m\u001b[38;5;241;43m.\u001b[39;49m\u001b[43mFefO2_KC91_EqA_terms\u001b[49m\u001b[43m(\u001b[49m\u001b[43mPT\u001b[49m\u001b[43m,\u001b[49m\u001b[43mmelt_wf\u001b[49m\u001b[43m,\u001b[49m\u001b[43mmodels\u001b[49m\u001b[43m)\u001b[49m\n\u001b[1;32m   2448\u001b[0m \u001b[38;5;66;03m# fugacity coefficients\u001b[39;00m\n\u001b[1;32m   2449\u001b[0m y_CO_ \u001b[38;5;241m=\u001b[39m mdv\u001b[38;5;241m.\u001b[39my_CO(PT,models)\n",
      "File \u001b[0;32m~/Documents/GitHub/VolFe/src/VolFe/model_dependent_variables.py:3256\u001b[0m, in \u001b[0;36mFefO2_KC91_EqA_terms\u001b[0;34m(PT, melt_wf, models)\u001b[0m\n\u001b[1;32m   3253\u001b[0m y \u001b[38;5;241m=\u001b[39m \u001b[38;5;241m0.3\u001b[39m\n\u001b[1;32m   3254\u001b[0m \u001b[38;5;66;03m# compositional term\u001b[39;00m\n\u001b[1;32m   3255\u001b[0m \u001b[38;5;66;03m# mole frations in the melt based on oxide components (all Fe as FeO) with no volatiles\u001b[39;00m\n\u001b[0;32m-> 3256\u001b[0m melt_comp \u001b[38;5;241m=\u001b[39m \u001b[43mmg\u001b[49m\u001b[38;5;241;43m.\u001b[39;49m\u001b[43mmelt_mole_fraction\u001b[49m\u001b[43m(\u001b[49m\u001b[43mmelt_wf\u001b[49m\u001b[43m,\u001b[49m\u001b[43mmodels\u001b[49m\u001b[43m,\u001b[49m\u001b[38;5;124;43m\"\u001b[39;49m\u001b[38;5;124;43mno\u001b[39;49m\u001b[38;5;124;43m\"\u001b[39;49m\u001b[43m,\u001b[49m\u001b[38;5;124;43m\"\u001b[39;49m\u001b[38;5;124;43mno\u001b[39;49m\u001b[38;5;124;43m\"\u001b[39;49m\u001b[43m)\u001b[49m\n\u001b[1;32m   3257\u001b[0m DWAl \u001b[38;5;241m=\u001b[39m \u001b[38;5;241m39.86e3\u001b[39m             \u001b[38;5;66;03m#J\u001b[39;00m\n\u001b[1;32m   3258\u001b[0m DWCa \u001b[38;5;241m=\u001b[39m \u001b[38;5;241m-\u001b[39m\u001b[38;5;241m62.52e3\u001b[39m            \u001b[38;5;66;03m#J\u001b[39;00m\n",
      "File \u001b[0;32m~/Documents/GitHub/VolFe/src/VolFe/melt_gas.py:886\u001b[0m, in \u001b[0;36mmelt_mole_fraction\u001b[0;34m(melt_wf, models, volatiles, Fe_speciation)\u001b[0m\n\u001b[1;32m    884\u001b[0m mol_tot \u001b[38;5;241m=\u001b[39m (melt_comp[\u001b[38;5;124m\"\u001b[39m\u001b[38;5;124mSiO2\u001b[39m\u001b[38;5;124m\"\u001b[39m]\u001b[38;5;241m/\u001b[39mmdv\u001b[38;5;241m.\u001b[39mspecies\u001b[38;5;241m.\u001b[39mloc[\u001b[38;5;124m\"\u001b[39m\u001b[38;5;124mSiO2\u001b[39m\u001b[38;5;124m\"\u001b[39m,\u001b[38;5;124m\"\u001b[39m\u001b[38;5;124mM\u001b[39m\u001b[38;5;124m\"\u001b[39m]) \u001b[38;5;241m+\u001b[39m (melt_comp[\u001b[38;5;124m\"\u001b[39m\u001b[38;5;124mTiO2\u001b[39m\u001b[38;5;124m\"\u001b[39m]\u001b[38;5;241m/\u001b[39mmdv\u001b[38;5;241m.\u001b[39mspecies\u001b[38;5;241m.\u001b[39mloc[\u001b[38;5;124m\"\u001b[39m\u001b[38;5;124mTiO2\u001b[39m\u001b[38;5;124m\"\u001b[39m,\u001b[38;5;124m\"\u001b[39m\u001b[38;5;124mM\u001b[39m\u001b[38;5;124m\"\u001b[39m]) \u001b[38;5;241m+\u001b[39m (melt_comp[\u001b[38;5;124m\"\u001b[39m\u001b[38;5;124mAl2O3\u001b[39m\u001b[38;5;124m\"\u001b[39m]\u001b[38;5;241m/\u001b[39mmdv\u001b[38;5;241m.\u001b[39mspecies\u001b[38;5;241m.\u001b[39mloc[\u001b[38;5;124m\"\u001b[39m\u001b[38;5;124mAl2O3\u001b[39m\u001b[38;5;124m\"\u001b[39m,\u001b[38;5;124m\"\u001b[39m\u001b[38;5;124mM\u001b[39m\u001b[38;5;124m\"\u001b[39m]) \u001b[38;5;241m+\u001b[39m (melt_comp[\u001b[38;5;124m\"\u001b[39m\u001b[38;5;124mFeOT\u001b[39m\u001b[38;5;124m\"\u001b[39m]\u001b[38;5;241m/\u001b[39mmdv\u001b[38;5;241m.\u001b[39mspecies\u001b[38;5;241m.\u001b[39mloc[\u001b[38;5;124m\"\u001b[39m\u001b[38;5;124mFeO\u001b[39m\u001b[38;5;124m\"\u001b[39m,\u001b[38;5;124m\"\u001b[39m\u001b[38;5;124mM\u001b[39m\u001b[38;5;124m\"\u001b[39m]) \u001b[38;5;241m+\u001b[39m (melt_comp[\u001b[38;5;124m\"\u001b[39m\u001b[38;5;124mFeO\u001b[39m\u001b[38;5;124m\"\u001b[39m]\u001b[38;5;241m/\u001b[39mmdv\u001b[38;5;241m.\u001b[39mspecies\u001b[38;5;241m.\u001b[39mloc[\u001b[38;5;124m\"\u001b[39m\u001b[38;5;124mFeO\u001b[39m\u001b[38;5;124m\"\u001b[39m,\u001b[38;5;124m\"\u001b[39m\u001b[38;5;124mM\u001b[39m\u001b[38;5;124m\"\u001b[39m]) \u001b[38;5;241m+\u001b[39m (melt_comp[\u001b[38;5;124m\"\u001b[39m\u001b[38;5;124mFe2O3\u001b[39m\u001b[38;5;124m\"\u001b[39m]\u001b[38;5;241m/\u001b[39mmdv\u001b[38;5;241m.\u001b[39mspecies\u001b[38;5;241m.\u001b[39mloc[\u001b[38;5;124m\"\u001b[39m\u001b[38;5;124mFe2O3\u001b[39m\u001b[38;5;124m\"\u001b[39m,\u001b[38;5;124m\"\u001b[39m\u001b[38;5;124mM\u001b[39m\u001b[38;5;124m\"\u001b[39m]) \u001b[38;5;241m+\u001b[39m (melt_comp[\u001b[38;5;124m\"\u001b[39m\u001b[38;5;124mMnO\u001b[39m\u001b[38;5;124m\"\u001b[39m]\u001b[38;5;241m/\u001b[39mmdv\u001b[38;5;241m.\u001b[39mspecies\u001b[38;5;241m.\u001b[39mloc[\u001b[38;5;124m\"\u001b[39m\u001b[38;5;124mMnO\u001b[39m\u001b[38;5;124m\"\u001b[39m,\u001b[38;5;124m\"\u001b[39m\u001b[38;5;124mM\u001b[39m\u001b[38;5;124m\"\u001b[39m]) \u001b[38;5;241m+\u001b[39m (melt_comp[\u001b[38;5;124m\"\u001b[39m\u001b[38;5;124mMgO\u001b[39m\u001b[38;5;124m\"\u001b[39m]\u001b[38;5;241m/\u001b[39mmdv\u001b[38;5;241m.\u001b[39mspecies\u001b[38;5;241m.\u001b[39mloc[\u001b[38;5;124m\"\u001b[39m\u001b[38;5;124mMgO\u001b[39m\u001b[38;5;124m\"\u001b[39m,\u001b[38;5;124m\"\u001b[39m\u001b[38;5;124mM\u001b[39m\u001b[38;5;124m\"\u001b[39m]) \u001b[38;5;241m+\u001b[39m (melt_comp[\u001b[38;5;124m\"\u001b[39m\u001b[38;5;124mCaO\u001b[39m\u001b[38;5;124m\"\u001b[39m]\u001b[38;5;241m/\u001b[39mmdv\u001b[38;5;241m.\u001b[39mspecies\u001b[38;5;241m.\u001b[39mloc[\u001b[38;5;124m\"\u001b[39m\u001b[38;5;124mCaO\u001b[39m\u001b[38;5;124m\"\u001b[39m,\u001b[38;5;124m\"\u001b[39m\u001b[38;5;124mM\u001b[39m\u001b[38;5;124m\"\u001b[39m]) \u001b[38;5;241m+\u001b[39m (melt_comp[\u001b[38;5;124m\"\u001b[39m\u001b[38;5;124mNa2O\u001b[39m\u001b[38;5;124m\"\u001b[39m]\u001b[38;5;241m/\u001b[39mmdv\u001b[38;5;241m.\u001b[39mspecies\u001b[38;5;241m.\u001b[39mloc[\u001b[38;5;124m\"\u001b[39m\u001b[38;5;124mNa2O\u001b[39m\u001b[38;5;124m\"\u001b[39m,\u001b[38;5;124m\"\u001b[39m\u001b[38;5;124mM\u001b[39m\u001b[38;5;124m\"\u001b[39m]) \u001b[38;5;241m+\u001b[39m (melt_comp[\u001b[38;5;124m\"\u001b[39m\u001b[38;5;124mK2O\u001b[39m\u001b[38;5;124m\"\u001b[39m]\u001b[38;5;241m/\u001b[39mmdv\u001b[38;5;241m.\u001b[39mspecies\u001b[38;5;241m.\u001b[39mloc[\u001b[38;5;124m\"\u001b[39m\u001b[38;5;124mK2O\u001b[39m\u001b[38;5;124m\"\u001b[39m,\u001b[38;5;124m\"\u001b[39m\u001b[38;5;124mM\u001b[39m\u001b[38;5;124m\"\u001b[39m]) \u001b[38;5;241m+\u001b[39m (melt_comp[\u001b[38;5;124m\"\u001b[39m\u001b[38;5;124mP2O5\u001b[39m\u001b[38;5;124m\"\u001b[39m]\u001b[38;5;241m/\u001b[39mmdv\u001b[38;5;241m.\u001b[39mspecies\u001b[38;5;241m.\u001b[39mloc[\u001b[38;5;124m\"\u001b[39m\u001b[38;5;124mP2O5\u001b[39m\u001b[38;5;124m\"\u001b[39m,\u001b[38;5;124m\"\u001b[39m\u001b[38;5;124mM\u001b[39m\u001b[38;5;124m\"\u001b[39m]) \u001b[38;5;241m+\u001b[39m (melt_comp[\u001b[38;5;124m\"\u001b[39m\u001b[38;5;124mH2O\u001b[39m\u001b[38;5;124m\"\u001b[39m]\u001b[38;5;241m/\u001b[39mmdv\u001b[38;5;241m.\u001b[39mspecies\u001b[38;5;241m.\u001b[39mloc[\u001b[38;5;124m\"\u001b[39m\u001b[38;5;124mH2O\u001b[39m\u001b[38;5;124m\"\u001b[39m,\u001b[38;5;124m\"\u001b[39m\u001b[38;5;124mM\u001b[39m\u001b[38;5;124m\"\u001b[39m]) \u001b[38;5;241m+\u001b[39m (melt_comp[\u001b[38;5;124m\"\u001b[39m\u001b[38;5;124mCO2\u001b[39m\u001b[38;5;124m\"\u001b[39m]\u001b[38;5;241m/\u001b[39mmdv\u001b[38;5;241m.\u001b[39mspecies\u001b[38;5;241m.\u001b[39mloc[\u001b[38;5;124m\"\u001b[39m\u001b[38;5;124mCO2\u001b[39m\u001b[38;5;124m\"\u001b[39m,\u001b[38;5;124m\"\u001b[39m\u001b[38;5;124mM\u001b[39m\u001b[38;5;124m\"\u001b[39m]) \u001b[38;5;241m+\u001b[39m (melt_comp[\u001b[38;5;124m\"\u001b[39m\u001b[38;5;124mS\u001b[39m\u001b[38;5;124m\"\u001b[39m]\u001b[38;5;241m/\u001b[39mmdv\u001b[38;5;241m.\u001b[39mspecies\u001b[38;5;241m.\u001b[39mloc[\u001b[38;5;124m\"\u001b[39m\u001b[38;5;124mS\u001b[39m\u001b[38;5;124m\"\u001b[39m,\u001b[38;5;124m\"\u001b[39m\u001b[38;5;124mM\u001b[39m\u001b[38;5;124m\"\u001b[39m]) \u001b[38;5;241m+\u001b[39m (melt_comp[\u001b[38;5;124m\"\u001b[39m\u001b[38;5;124mX\u001b[39m\u001b[38;5;124m\"\u001b[39m]\u001b[38;5;241m/\u001b[39mmdv\u001b[38;5;241m.\u001b[39mspecies\u001b[38;5;241m.\u001b[39mloc[species_X,\u001b[38;5;124m\"\u001b[39m\u001b[38;5;124mM\u001b[39m\u001b[38;5;124m\"\u001b[39m])\n\u001b[1;32m    885\u001b[0m result \u001b[38;5;241m=\u001b[39m {\u001b[38;5;124m\"\u001b[39m\u001b[38;5;124mSiO2\u001b[39m\u001b[38;5;124m\"\u001b[39m:(melt_comp[\u001b[38;5;124m\"\u001b[39m\u001b[38;5;124mSiO2\u001b[39m\u001b[38;5;124m\"\u001b[39m]\u001b[38;5;241m/\u001b[39mmdv\u001b[38;5;241m.\u001b[39mspecies\u001b[38;5;241m.\u001b[39mloc[\u001b[38;5;124m\"\u001b[39m\u001b[38;5;124mSiO2\u001b[39m\u001b[38;5;124m\"\u001b[39m,\u001b[38;5;124m\"\u001b[39m\u001b[38;5;124mM\u001b[39m\u001b[38;5;124m\"\u001b[39m])\u001b[38;5;241m/\u001b[39mmol_tot}\n\u001b[0;32m--> 886\u001b[0m result[\u001b[38;5;124m\"\u001b[39m\u001b[38;5;124mTiO2\u001b[39m\u001b[38;5;124m\"\u001b[39m] \u001b[38;5;241m=\u001b[39m (melt_comp[\u001b[38;5;124m\"\u001b[39m\u001b[38;5;124mTiO2\u001b[39m\u001b[38;5;124m\"\u001b[39m]\u001b[38;5;241m/\u001b[39m\u001b[43mmdv\u001b[49m\u001b[38;5;241;43m.\u001b[39;49m\u001b[43mspecies\u001b[49m\u001b[38;5;241;43m.\u001b[39;49m\u001b[43mloc\u001b[49m\u001b[43m[\u001b[49m\u001b[38;5;124;43m\"\u001b[39;49m\u001b[38;5;124;43mTiO2\u001b[39;49m\u001b[38;5;124;43m\"\u001b[39;49m\u001b[43m,\u001b[49m\u001b[38;5;124;43m\"\u001b[39;49m\u001b[38;5;124;43mM\u001b[39;49m\u001b[38;5;124;43m\"\u001b[39;49m\u001b[43m]\u001b[49m)\u001b[38;5;241m/\u001b[39mmol_tot\n\u001b[1;32m    887\u001b[0m result[\u001b[38;5;124m\"\u001b[39m\u001b[38;5;124mAl2O3\u001b[39m\u001b[38;5;124m\"\u001b[39m] \u001b[38;5;241m=\u001b[39m (melt_comp[\u001b[38;5;124m\"\u001b[39m\u001b[38;5;124mAl2O3\u001b[39m\u001b[38;5;124m\"\u001b[39m]\u001b[38;5;241m/\u001b[39mmdv\u001b[38;5;241m.\u001b[39mspecies\u001b[38;5;241m.\u001b[39mloc[\u001b[38;5;124m\"\u001b[39m\u001b[38;5;124mAl2O3\u001b[39m\u001b[38;5;124m\"\u001b[39m,\u001b[38;5;124m\"\u001b[39m\u001b[38;5;124mM\u001b[39m\u001b[38;5;124m\"\u001b[39m])\u001b[38;5;241m/\u001b[39mmol_tot \n\u001b[1;32m    888\u001b[0m result[\u001b[38;5;124m\"\u001b[39m\u001b[38;5;124mFeOT\u001b[39m\u001b[38;5;124m\"\u001b[39m] \u001b[38;5;241m=\u001b[39m (melt_comp[\u001b[38;5;124m\"\u001b[39m\u001b[38;5;124mFeOT\u001b[39m\u001b[38;5;124m\"\u001b[39m]\u001b[38;5;241m/\u001b[39mmdv\u001b[38;5;241m.\u001b[39mspecies\u001b[38;5;241m.\u001b[39mloc[\u001b[38;5;124m\"\u001b[39m\u001b[38;5;124mFeO\u001b[39m\u001b[38;5;124m\"\u001b[39m,\u001b[38;5;124m\"\u001b[39m\u001b[38;5;124mM\u001b[39m\u001b[38;5;124m\"\u001b[39m])\u001b[38;5;241m/\u001b[39mmol_tot \n",
      "File \u001b[0;32m~/anaconda3/lib/python3.11/site-packages/pandas/core/indexing.py:1146\u001b[0m, in \u001b[0;36m_LocationIndexer.__getitem__\u001b[0;34m(self, key)\u001b[0m\n\u001b[1;32m   1144\u001b[0m     key \u001b[38;5;241m=\u001b[39m \u001b[38;5;28mtuple\u001b[39m(com\u001b[38;5;241m.\u001b[39mapply_if_callable(x, \u001b[38;5;28mself\u001b[39m\u001b[38;5;241m.\u001b[39mobj) \u001b[38;5;28;01mfor\u001b[39;00m x \u001b[38;5;129;01min\u001b[39;00m key)\n\u001b[1;32m   1145\u001b[0m     \u001b[38;5;28;01mif\u001b[39;00m \u001b[38;5;28mself\u001b[39m\u001b[38;5;241m.\u001b[39m_is_scalar_access(key):\n\u001b[0;32m-> 1146\u001b[0m         \u001b[38;5;28;01mreturn\u001b[39;00m \u001b[38;5;28;43mself\u001b[39;49m\u001b[38;5;241;43m.\u001b[39;49m\u001b[43mobj\u001b[49m\u001b[38;5;241;43m.\u001b[39;49m\u001b[43m_get_value\u001b[49m\u001b[43m(\u001b[49m\u001b[38;5;241;43m*\u001b[39;49m\u001b[43mkey\u001b[49m\u001b[43m,\u001b[49m\u001b[43m \u001b[49m\u001b[43mtakeable\u001b[49m\u001b[38;5;241;43m=\u001b[39;49m\u001b[38;5;28;43mself\u001b[39;49m\u001b[38;5;241;43m.\u001b[39;49m\u001b[43m_takeable\u001b[49m\u001b[43m)\u001b[49m\n\u001b[1;32m   1147\u001b[0m     \u001b[38;5;28;01mreturn\u001b[39;00m \u001b[38;5;28mself\u001b[39m\u001b[38;5;241m.\u001b[39m_getitem_tuple(key)\n\u001b[1;32m   1148\u001b[0m \u001b[38;5;28;01melse\u001b[39;00m:\n\u001b[1;32m   1149\u001b[0m     \u001b[38;5;66;03m# we by definition only have the 0th axis\u001b[39;00m\n",
      "\u001b[0;31mKeyboardInterrupt\u001b[0m: "
     ]
    }
   ],
   "source": [
    "degas2 = vf.calc_gassing(my_analysis, models=my_models)"
   ]
  },
  {
   "cell_type": "markdown",
   "metadata": {},
   "source": [
    "And below we can plot the two results to see the difference.\n",
    "\n",
    "The black solid curves are the first calculation (not allowing sulfur to saturate), whilst the black dotted curves are the second calculation (sulfur can saturate as sulfide or anhydrite if the concentration in the melt is high enough).\n",
    "\n",
    "It has no effect on the H2O or CO2 contents of the melt, but the sulfur content is much less at the start of degassing because it is in a sulfide phase instead!"
   ]
  },
  {
   "cell_type": "code",
   "execution_count": null,
   "metadata": {},
   "outputs": [],
   "source": [
    "fig, (ax1, ax2, ax3) = plt.subplots(1, 3, figsize=(12,4))\n",
    "\n",
    "data1 = degas1 # sulfur cannot saturate\n",
    "data2 = degas2 # sulfur can saturate\n",
    "\n",
    "# Plotting results\n",
    "ax1.plot(data1['CO2T-eq_ppmw'], data1['P_bar'], '-k')\n",
    "ax1.plot(data2['CO2T-eq_ppmw'], data2['P_bar'], ':k')\n",
    "ax2.plot(data1['H2OT-eq_wtpc'], data1['P_bar'], '-k')\n",
    "ax2.plot(data2['H2OT-eq_wtpc'], data2['P_bar'], ':k')\n",
    "ax3.plot(data1['ST_ppmw'], data1['P_bar'], '-k')\n",
    "ax3.plot(data2['ST_ppmw'], data2['P_bar'], ':k')\n",
    "\n",
    "ax1.set_ylabel('P (bar)')\n",
    "ax1.set_xlabel('CO2,T-eq (ppmw)')\n",
    "ax2.set_xlabel('H2OT-eq (wt%)')\n",
    "ax3.set_xlabel('ST (ppmw)')\n",
    "ax1.set_ylim([4000,0])\n",
    "ax2.set_ylim([4000,0])\n",
    "ax3.set_ylim([4000,0])"
   ]
  }
 ],
 "metadata": {
  "kernelspec": {
   "display_name": "base",
   "language": "python",
   "name": "python3"
  },
  "language_info": {
   "codemirror_mode": {
    "name": "ipython",
    "version": 3
   },
   "file_extension": ".py",
   "mimetype": "text/x-python",
   "name": "python",
   "nbconvert_exporter": "python",
   "pygments_lexer": "ipython3",
   "version": "3.11.7"
  }
 },
 "nbformat": 4,
 "nbformat_minor": 2
}
