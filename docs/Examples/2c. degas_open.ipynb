{
 "cells": [
  {
   "cell_type": "markdown",
   "metadata": {},
   "source": [
    "## 2c. Calculate opem-system degassing path"
   ]
  },
  {
   "cell_type": "markdown",
   "metadata": {},
   "source": [
    "## Setting things up\n",
    "First we need to import a few Python packages (including VolFe) and set the precision of the calculations. You need to install VolFe once on your machine, if you haven't yet, uncomment the line below (remove the #)."
   ]
  },
  {
   "cell_type": "code",
   "execution_count": 1,
   "metadata": {},
   "outputs": [],
   "source": [
    "# Install VolFe on your machine. Don't remove the # from this line!\n",
    "# pip install VolFe # Remove the first # in this line if you have not installed VolFe on your machine before.\n",
    "\n",
    "# import python packages\n",
    "import pandas as pd\n",
    "import plotly.graph_objects as go\n",
    "from plotly.subplots import make_subplots\n",
    "import VolFe as vf"
   ]
  },
  {
   "cell_type": "markdown",
   "metadata": {},
   "source": [
    "During open-system degassing, vapor is lost from the system as soon as it is formed such that the bulk composition of the system changes continuously.\n",
    "\n",
    "The following composition is analysis Sari15-04-33 from Brounce et al. (2014), with a temperature chosen as 1200 'C."
   ]
  },
  {
   "cell_type": "code",
   "execution_count": 2,
   "metadata": {},
   "outputs": [],
   "source": [
    "# Define the melt composition, fO2 estimate, and T as a dictionary.\n",
    "my_analysis = {'Sample':'Sari15-04-33',\n",
    "           'T_C': 1200., # Temperature in 'C\n",
    "           'SiO2': 47.89, # wt%\n",
    "           'TiO2': 0.75, # wt%\n",
    "           'Al2O3': 16.74, # wt%\n",
    "           'FeOT': 9.43, # wt%\n",
    "           'MnO': 0.18, # wt%\n",
    "           'MgO': 5.92, # wt%\n",
    "           'CaO': 11.58, # wt%\n",
    "           'Na2O': 2.14, # wt%\n",
    "           'K2O': 0.63, # wt%\n",
    "           'P2O5': 0.17, # wt%\n",
    "           'H2O': 4.17, # wt%\n",
    "           'CO2ppm': 1487., # ppm\n",
    "           'STppm': 1343.5, # ppm\n",
    "           'Xppm': 0., # ppm\n",
    "           'Fe3FeT': 0.195}\n",
    "\n",
    "# Turn the dictionary into a pandas dataframe, setting the index to 0.\n",
    "my_analysis = pd.DataFrame(my_analysis, index=[0])"
   ]
  },
  {
   "cell_type": "markdown",
   "metadata": {},
   "source": [
    "Running open-system calculations requires changing the \"gassing_style\" to \"open\".\n",
    "We'll use default options for everything else."
   ]
  },
  {
   "cell_type": "code",
   "execution_count": 3,
   "metadata": {},
   "outputs": [],
   "source": [
    "# choose the options I want - everything else will use the default options\n",
    "my_models = [['gassing_style','open']]\n",
    "\n",
    "# turn to dataframe with correct column headers and indexes    \n",
    "my_models = vf.make_df_and_add_model_defaults(my_models)"
   ]
  },
  {
   "cell_type": "markdown",
   "metadata": {},
   "source": [
    "Because the vapor is being removed at each pressure-step, the pressure step-size does matter. \n",
    "The smaller the step-size, the more true to pure open-system degassing the results will be but the longer it will take.\n",
    "We'll run this at 1 bar."
   ]
  },
  {
   "cell_type": "code",
   "execution_count": 4,
   "metadata": {},
   "outputs": [
    {
     "ename": "KeyError",
     "evalue": "'wm_S'",
     "output_type": "error",
     "traceback": [
      "\u001b[0;31m---------------------------------------------------------------------------\u001b[0m",
      "\u001b[0;31mKeyError\u001b[0m                                  Traceback (most recent call last)",
      "Cell \u001b[0;32mIn[4], line 1\u001b[0m\n\u001b[0;32m----> 1\u001b[0m degas1 \u001b[38;5;241m=\u001b[39m \u001b[43mvf\u001b[49m\u001b[38;5;241;43m.\u001b[39;49m\u001b[43mcalc_gassing\u001b[49m\u001b[43m(\u001b[49m\u001b[43mmy_analysis\u001b[49m\u001b[43m,\u001b[49m\u001b[43m \u001b[49m\u001b[43mmodels\u001b[49m\u001b[38;5;241;43m=\u001b[39;49m\u001b[43mmy_models\u001b[49m\u001b[43m,\u001b[49m\u001b[43m \u001b[49m\u001b[43mdp_step\u001b[49m\u001b[38;5;241;43m=\u001b[39;49m\u001b[38;5;241;43m1.\u001b[39;49m\u001b[43m)\u001b[49m\n",
      "File \u001b[0;32m~/Documents/GitHub/VolFe/src/VolFe/batch_calculations.py:632\u001b[0m, in \u001b[0;36mcalc_gassing\u001b[0;34m(setup, models, run, nr_step, nr_tol, dp_step, psat_tol, dwtg, i_nr_step, i_nr_tol)\u001b[0m\n\u001b[1;32m    630\u001b[0m melt_wf[\u001b[38;5;124m\"\u001b[39m\u001b[38;5;124mH2S\u001b[39m\u001b[38;5;124m\"\u001b[39m] \u001b[38;5;241m=\u001b[39m conc[\u001b[38;5;124m\"\u001b[39m\u001b[38;5;124mwm_H2S\u001b[39m\u001b[38;5;124m\"\u001b[39m]\n\u001b[1;32m    631\u001b[0m melt_wf[\u001b[38;5;124m\"\u001b[39m\u001b[38;5;124mS6+\u001b[39m\u001b[38;5;124m\"\u001b[39m] \u001b[38;5;241m=\u001b[39m (conc[\u001b[38;5;124m\"\u001b[39m\u001b[38;5;124mwm_SO3\u001b[39m\u001b[38;5;124m\"\u001b[39m]\u001b[38;5;241m/\u001b[39mmdv\u001b[38;5;241m.\u001b[39mspecies\u001b[38;5;241m.\u001b[39mloc[\u001b[38;5;124m\"\u001b[39m\u001b[38;5;124mSO3\u001b[39m\u001b[38;5;124m\"\u001b[39m,\u001b[38;5;124m\"\u001b[39m\u001b[38;5;124mM\u001b[39m\u001b[38;5;124m\"\u001b[39m])\u001b[38;5;241m*\u001b[39mmdv\u001b[38;5;241m.\u001b[39mspecies\u001b[38;5;241m.\u001b[39mloc[\u001b[38;5;124m\"\u001b[39m\u001b[38;5;124mS\u001b[39m\u001b[38;5;124m\"\u001b[39m,\u001b[38;5;124m\"\u001b[39m\u001b[38;5;124mM\u001b[39m\u001b[38;5;124m\"\u001b[39m]\n\u001b[0;32m--> 632\u001b[0m melt_wf[\u001b[38;5;124m\"\u001b[39m\u001b[38;5;124mS2-\u001b[39m\u001b[38;5;124m\"\u001b[39m] \u001b[38;5;241m=\u001b[39m \u001b[43mconc\u001b[49m\u001b[43m[\u001b[49m\u001b[38;5;124;43m\"\u001b[39;49m\u001b[38;5;124;43mwm_S\u001b[39;49m\u001b[38;5;124;43m\"\u001b[39;49m\u001b[43m]\u001b[49m\n\u001b[1;32m    633\u001b[0m melt_wf[\u001b[38;5;124m\"\u001b[39m\u001b[38;5;124mST\u001b[39m\u001b[38;5;124m\"\u001b[39m] \u001b[38;5;241m=\u001b[39m conc[\u001b[38;5;124m\"\u001b[39m\u001b[38;5;124mwm_ST\u001b[39m\u001b[38;5;124m\"\u001b[39m]\n\u001b[1;32m    634\u001b[0m melt_wf[\u001b[38;5;124m\"\u001b[39m\u001b[38;5;124mXT\u001b[39m\u001b[38;5;124m\"\u001b[39m] \u001b[38;5;241m=\u001b[39m conc[\u001b[38;5;124m\"\u001b[39m\u001b[38;5;124mwm_X\u001b[39m\u001b[38;5;124m\"\u001b[39m]\n",
      "\u001b[0;31mKeyError\u001b[0m: 'wm_S'"
     ]
    }
   ],
   "source": [
    "degas1 = vf.calc_gassing(my_analysis, models=my_models, dp_step=1.)"
   ]
  },
  {
   "cell_type": "markdown",
   "metadata": {},
   "source": [
    "### in progress ###\n",
    "Plotting...\n"
   ]
  },
  {
   "cell_type": "code",
   "execution_count": null,
   "metadata": {},
   "outputs": [],
   "source": [
    "# choose the options I want - everything else will use the default options\n",
    "my_models = [['gassing_style','closed']]\n",
    "\n",
    "# turn to dataframe with correct column headers and indexes    \n",
    "my_models = vf.make_df_and_add_model_defaults(my_models)\n",
    "\n",
    "degas2 = vf.calc_gassing(my_analysis, models=my_models)"
   ]
  },
  {
   "cell_type": "code",
   "execution_count": null,
   "metadata": {},
   "outputs": [],
   "source": [
    "fig = make_subplots(rows=1, cols=3, shared_yaxes = True, shared_xaxes = False,vertical_spacing=0.08, horizontal_spacing=0.05)\n",
    "\n",
    "lw = 3\n",
    "syms = 10\n",
    "lc1 = \"steelblue\"\n",
    "lc2 = \"firebrick\"\n",
    "\n",
    "data1 = degas1 \n",
    "data2 = degas2\n",
    "\n",
    "r = 1\n",
    "# P vs. CO2\n",
    "c = 1\n",
    "fig.add_trace(go.Scatter(mode = \"lines\", x=data1['CO2T-eq_ppmw'], y=data1['P_bar'], line_color = lc1, line_width = lw,line_dash = \"solid\"), row = r, col = c)\n",
    "fig.add_trace(go.Scatter(mode = \"lines\", x=data2['CO2T-eq_ppmw'], y=data2['P_bar'], line_color = lc2, line_width = lw, line_dash = \"solid\"), row = r, col = c)\n",
    "fig.update_xaxes(title = \"CO<sub>2</sub>-eq (ppmw)\", row = r, col = c)\n",
    "fig.update_yaxes(title = \"<i>P</i> (bars)\", autorange = 'reversed', row = r, col = c)\n",
    "\n",
    "# P vs. H2O\n",
    "c = 2\n",
    "fig.add_trace(go.Scatter(mode = \"lines\", x=data1['H2OT-eq_wtpc'], y=data1['P_bar'], line_color = lc1, line_width = lw,line_dash = \"solid\"), row = r, col = c)\n",
    "fig.add_trace(go.Scatter(mode = \"lines\", x=data2['H2OT-eq_wtpc'], y=data2['P_bar'], line_color = lc2, line_width = lw, line_dash = \"solid\"), row = r, col = c)\n",
    "fig.update_xaxes(title = \"H<sub>2</sub>O-eq (wt%)\", row = r, col = c)\n",
    "\n",
    "# P vs. S\n",
    "c = 3\n",
    "fig.add_trace(go.Scatter(mode = \"lines\", x=data1['ST_ppmw'], y=data1['P_bar'], line_color = lc1, line_width = lw,line_dash = \"solid\"), row = r, col = c)\n",
    "fig.add_trace(go.Scatter(mode = \"lines\", x=data2['ST_ppmw'], y=data2['P_bar'], line_color = lc2, line_width = lw, line_dash = \"solid\"), row = r, col = c)\n",
    "fig.update_xaxes(title = \"S<sub>T</sub> (ppmw)\", row = r, col = c)\n",
    "\n",
    "fig.update_layout(height=400, width=1000, plot_bgcolor='rgb(255,255,255)' , showlegend = False)\n",
    "\n",
    "fig.update_xaxes(showline=True, linewidth=1, linecolor='black', mirror=True, ticks=\"inside\", ticklen=5, title_standoff = 0, tickcolor=\"black\",title_font=dict(size=15, family='Helvetica', color='black'), tickfont=dict(family='Helvetica', color='black', size=12))\n",
    "fig.update_yaxes(showline=True, linewidth=1, linecolor='black', mirror=True, ticks=\"inside\", ticklen=5, title_standoff = 0, tickcolor=\"black\",title_font=dict(size=15, family='Helvetica', color='black'), tickfont=dict(family='Helvetica', color='black', size=12))\n",
    "\n",
    "fig.update_layout(font_family=\"Helvetica\",font_color=\"black\")\n",
    "\n",
    "fig.show()"
   ]
  }
 ],
 "metadata": {
  "kernelspec": {
   "display_name": "base",
   "language": "python",
   "name": "python3"
  },
  "language_info": {
   "codemirror_mode": {
    "name": "ipython",
    "version": 3
   },
   "file_extension": ".py",
   "mimetype": "text/x-python",
   "name": "python",
   "nbconvert_exporter": "python",
   "pygments_lexer": "ipython3",
   "version": "3.11.7"
  }
 },
 "nbformat": 4,
 "nbformat_minor": 2
}
