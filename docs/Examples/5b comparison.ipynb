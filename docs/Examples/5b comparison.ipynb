{
 "cells": [
  {
   "cell_type": "markdown",
   "metadata": {},
   "source": [
    "## 6. Calculations for comparison paper"
   ]
  },
  {
   "cell_type": "markdown",
   "metadata": {},
   "source": [
    "## Setting things up\n",
    "You need to install VolFe once on your machine, if you haven't yet. Then we need to import a few Python packages (including VolFe)."
   ]
  },
  {
   "cell_type": "code",
   "execution_count": 1,
   "metadata": {},
   "outputs": [],
   "source": [
    "# Install VolFe on your machine. Don't remove the # from this line!\n",
    "# pip install VolFe # Remove the first # in this line if you have not installed VolFe on your machine before.\n",
    "\n",
    "# import python packages\n",
    "import pandas as pd\n",
    "import matplotlib.pyplot as plt\n",
    "import VolFe as vf"
   ]
  },
  {
   "cell_type": "markdown",
   "metadata": {},
   "source": [
    "### Kīlauea_Dryend ###\n",
    "\n",
    "The low H2O content of this one means it can struggle to solve the equations at times. This means it requires a little trial-and-error to work out what pressure step size, solve step size, and solve species to use to get it to work, as you'll see below..."
   ]
  },
  {
   "cell_type": "code",
   "execution_count": 2,
   "metadata": {},
   "outputs": [],
   "source": [
    "# Define the melt composition, fO2 estimate, and T as a dictionary.\n",
    "my_analysis = {'Sample':'Kīlauea_Dryend',\n",
    "           'T_C': 1220., # Temperature in 'C\n",
    "           'SiO2': 50.142, # wt%\n",
    "           'TiO2': 2.257, # wt%\n",
    "           'Al2O3': 12.224, # wt%\n",
    "           'FeOT': 11.33, # wt%\n",
    "           'MnO': 0.323, # wt%\n",
    "           'MgO': 10.215, # wt%\n",
    "           'CaO': 10.476, # wt%\n",
    "           'Na2O': 1.754, # wt%\n",
    "           'K2O': 0.398, # wt%\n",
    "           'P2O5': 0.233, # wt%\n",
    "           'H2O': 0.3, # wt%\n",
    "           'CO2ppm': 800., # ppm\n",
    "           'STppm': 1500., # ppm\n",
    "           'Xppm': 0., # ppm\n",
    "           'Fe3FeT': 0.18}\n",
    "\n",
    "# Turn the dictionary into a pandas dataframe, setting the index to 0.\n",
    "my_analysis = pd.DataFrame(my_analysis, index=[0])"
   ]
  },
  {
   "cell_type": "code",
   "execution_count": 3,
   "metadata": {},
   "outputs": [
    {
     "name": "stdout",
     "output_type": "stream",
     "text": [
      "Kīlauea_Dryend\n",
      "T= 1220.0 P= 1711.9992252609893 2024-07-15 14:57:14.341987\n",
      "1700.0 : Switching solve species from OCS to OCH (first time)\n",
      "1120.0 : Switching solve species from OCH to OHS (first time)\n",
      "1120.0 : Switching solve species from OHS to OCS (second time)\n",
      "solver failed, calculation aborted at P =  1120.0 2024-07-15 14:57:35.166965\n"
     ]
    },
    {
     "name": "stderr",
     "output_type": "stream",
     "text": [
      "/Users/ehughes/Documents/GitHub/VolFe/src/VolFe/equilibrium_equations.py:2504: RuntimeWarning: invalid value encountered in scalar power\n",
      "  xm_H2O_ = (K4_*y_H2O_*xg_H2O_*P)**0.5\n"
     ]
    }
   ],
   "source": [
    "# Choosing model options so that the print status works - just helps to see where the calculation is getting to\n",
    "my_models = [['print status',\"True\"]]\n",
    "\n",
    "# turn to dataframe with correct column headers and indexes    \n",
    "my_models = vf.make_df_and_add_model_defaults(my_models)\n",
    "\n",
    "# running calculation\n",
    "degas1 = vf.calc_gassing(my_analysis,models=my_models)"
   ]
  },
  {
   "cell_type": "markdown",
   "metadata": {},
   "source": [
    "It failed to solve at P = 1120. \n",
    "\n",
    "So now we extract the mole fractions of the gas species that VolFe uses to solve the equations from the last successful pressure step (1130 bar) as initial guesses to set it off again and choose the P to start calculations off at."
   ]
  },
  {
   "cell_type": "code",
   "execution_count": 4,
   "metadata": {},
   "outputs": [],
   "source": [
    "my_analysis[\"xg_O2\"] = degas1.loc[degas1['P_bar']==1130.0,'xgO2_mf'] # mole fraction of O2 from the last sucessful P step of 1130\n",
    "my_analysis[\"xg_H2\"] = degas1.loc[degas1['P_bar']==1130.0,'xgH2_mf'] # mole fraction of H2 from the last sucessful P step of 1130\n",
    "my_analysis[\"xg_S2\"] = degas1.loc[degas1['P_bar']==1130.0,'xgS2_mf'] # mole fraction of S2 from the last sucessful P step of 1130\n",
    "my_analysis[\"xg_CO\"] = degas1.loc[degas1['P_bar']==1130.0,'xgCO_mf'] # mole fraction of CO from the last sucessful P step of 1130\n",
    "my_analysis['P_bar'] = 1129. # P to start calculations off at next time. Chosen 1 bar below last successful step."
   ]
  },
  {
   "cell_type": "markdown",
   "metadata": {},
   "source": [
    "We'll run the next calcualtions at P step of 1 bar and using the \"OHS\" solve species function."
   ]
  },
  {
   "cell_type": "code",
   "execution_count": 6,
   "metadata": {},
   "outputs": [
    {
     "name": "stdout",
     "output_type": "stream",
     "text": [
      "Kīlauea_Dryend\n",
      "T= 1220.0 P= 1711.9992252609893 2024-07-15 15:00:02.250410\n",
      "1114.0 : Switching solve species from OHS to OCS (first time)\n",
      "1114.0 : Switching solve species from OCS to OCH (second time)\n",
      "solver failed, calculation aborted at P =  1114.0 2024-07-15 15:00:11.265213\n"
     ]
    }
   ],
   "source": [
    "# start calculations from chosen P using the OHS solve_species option.\n",
    "my_models = [['print status',\"True\"],['starting_P','set'],['solve_species','OHS']]\n",
    "\n",
    "# turn to dataframe with correct column headers and indexes    \n",
    "my_models = vf.make_df_and_add_model_defaults(my_models)\n",
    "\n",
    "# pressure step of 1 bar\n",
    "degas2 = vf.calc_gassing(my_analysis,models=my_models,dp_step=1.)"
   ]
  },
  {
   "cell_type": "markdown",
   "metadata": {},
   "source": [
    "It managed a few more bars - down to 1115 bar.\n",
    "\n",
    "Same process to extract the last successful run..."
   ]
  },
  {
   "cell_type": "code",
   "execution_count": 7,
   "metadata": {},
   "outputs": [],
   "source": [
    "my_analysis[\"xg_O2\"] = degas2.loc[degas2['P_bar']==1115.0,'xgO2_mf']\n",
    "my_analysis[\"xg_H2\"] = degas2.loc[degas2['P_bar']==1115.0,'xgH2_mf']\n",
    "my_analysis[\"xg_S2\"] = degas2.loc[degas2['P_bar']==1115.0,'xgS2_mf']\n",
    "my_analysis[\"xg_CO\"] = degas2.loc[degas2['P_bar']==1115.0,'xgCO_mf']\n",
    "my_analysis['P_bar'] = 1115."
   ]
  },
  {
   "cell_type": "markdown",
   "metadata": {},
   "source": [
    "I tried a few different options but turns out increasing the P step to 10 bars works for this example using OCH instead of OHS"
   ]
  },
  {
   "cell_type": "code",
   "execution_count": 8,
   "metadata": {},
   "outputs": [
    {
     "name": "stdout",
     "output_type": "stream",
     "text": [
      "Kīlauea_Dryend\n",
      "T= 1220.0 P= 1711.9992252609893 2024-07-15 15:07:47.057374\n",
      "1220.0 115.0 0.467583622103958  2024-07-15 15:08:02.634915\n",
      "done 2024-07-15 15:08:04.532218\n"
     ]
    }
   ],
   "source": [
    "# I also tell VolFe to start the calculation from 1099 bar given these initial guesses and to switch the solve species to OCH\n",
    "my_models = [['print status',\"True\"],['starting_P','set'],['solve_species','OCH']]\n",
    "\n",
    "# turn to dataframe with correct column headers and indexes    \n",
    "my_models = vf.make_df_and_add_model_defaults(my_models)\n",
    "\n",
    "# pressure step back up to 10\n",
    "degas3 = vf.calc_gassing(my_analysis,models=my_models,dp_step=10.)"
   ]
  },
  {
   "cell_type": "markdown",
   "metadata": {},
   "source": [
    "And we can amalgamate them into a single dataframe"
   ]
  },
  {
   "cell_type": "code",
   "execution_count": 9,
   "metadata": {},
   "outputs": [],
   "source": [
    "degas1.reset_index(drop=True)\n",
    "degas2.reset_index(drop=True)\n",
    "degas3.reset_index(drop=True)\n",
    "Kilauea_dry = pd.concat([degas1,degas2[1:],degas3[1:]])"
   ]
  },
  {
   "cell_type": "markdown",
   "metadata": {},
   "source": [
    "### Kīlauea_Wetend ###\n",
    "\n",
    "This one is much simpler and just runs all the way to 1 bar first time!"
   ]
  },
  {
   "cell_type": "code",
   "execution_count": 15,
   "metadata": {},
   "outputs": [],
   "source": [
    "# Define the melt composition, fO2 estimate, and T as a dictionary.\n",
    "my_analysis = {'Sample':'Kīlauea_Wetend',\n",
    "           'T_C': 1220., # Temperature in 'C\n",
    "           'SiO2': 50.142, # wt%\n",
    "           'TiO2': 2.257, # wt%\n",
    "           'Al2O3': 12.224, # wt%\n",
    "           'FeOT': 11.33, # wt%\n",
    "           'MnO': 0.323, # wt%\n",
    "           'MgO': 10.215, # wt%\n",
    "           'CaO': 10.476, # wt%\n",
    "           'Na2O': 1.754, # wt%\n",
    "           'K2O': 0.398, # wt%\n",
    "           'P2O5': 0.233, # wt%\n",
    "           'H2O': 0.6, # wt%\n",
    "           'CO2ppm': 800., # ppm\n",
    "           'STppm': 1500., # ppm\n",
    "           'Xppm': 0., # ppm\n",
    "           'Fe3FeT': 0.18}\n",
    "\n",
    "# Turn the dictionary into a pandas dataframe, setting the index to 0.\n",
    "my_analysis = pd.DataFrame(my_analysis, index=[0])\n"
   ]
  },
  {
   "cell_type": "code",
   "execution_count": 16,
   "metadata": {},
   "outputs": [
    {
     "name": "stdout",
     "output_type": "stream",
     "text": [
      "Kīlauea_Wetend\n",
      "T= 1220.0 P= 1732.083512182475 2024-07-15 15:12:53.345361\n",
      "1220.0 730.0 0.5809791230787278  2024-07-15 15:13:08.482866\n",
      "done 2024-07-15 15:13:19.507007\n"
     ]
    }
   ],
   "source": [
    "# Choosing model options so that the print status works - just helps to see where the calculation is getting to\n",
    "my_models = [['print status',\"True\"]]\n",
    "\n",
    "# turn to dataframe with correct column headers and indexes    \n",
    "my_models = vf.make_df_and_add_model_defaults(my_models)\n",
    "\n",
    "# running calculation\n",
    "degas1 = vf.calc_gassing(my_analysis,models=my_models)"
   ]
  },
  {
   "cell_type": "markdown",
   "metadata": {},
   "source": [
    "### MORB ###"
   ]
  },
  {
   "cell_type": "code",
   "execution_count": 20,
   "metadata": {},
   "outputs": [],
   "source": [
    "# Define the melt composition, fO2 estimate, and T as a dictionary.\n",
    "my_analysis = {'Sample':'MORB',\n",
    "           'T_C': 1100., # Temperature in 'C\n",
    "           'SiO2': 47.4, # wt%\n",
    "           'TiO2': 1.01, # wt%\n",
    "           'Al2O3': 17.64, # wt%\n",
    "           'FeOT': 7.98, # wt%\n",
    "           'MnO': 0., # wt%\n",
    "           'MgO': 7.63, # wt%\n",
    "           'CaO': 12.44, # wt%\n",
    "           'Na2O': 2.65, # wt%\n",
    "           'K2O': 0.03, # wt%\n",
    "           'P2O5':0.08, # wt%\n",
    "           'H2O': 0.2, # wt%\n",
    "           'CO2ppm': 1100., # ppm\n",
    "           'STppm': 1400., # ppm\n",
    "           'Xppm': 0., # ppm\n",
    "           'Fe3FeT': 0.1}\n",
    "\n",
    "# Turn the dictionary into a pandas dataframe, setting the index to 0.\n",
    "my_analysis = pd.DataFrame(my_analysis, index=[0])\n"
   ]
  },
  {
   "cell_type": "code",
   "execution_count": 21,
   "metadata": {},
   "outputs": [
    {
     "name": "stdout",
     "output_type": "stream",
     "text": [
      "MORB\n",
      "T= 1100.0 P= 2193.9742708547615 2024-07-15 15:16:15.866159\n",
      "1100.0 1190.0 -1.0001420572699367  2024-07-15 15:16:33.528527\n",
      "910.0 : Switching solve species from OCH to OHS (first time)\n",
      "860.0 : Switching solve species from OHS to OCS (first time)\n",
      "860.0 : Switching solve species from OCS to OCH (second time)\n",
      "solver failed, calculation aborted at P =  860.0 2024-07-15 15:16:46.528789\n"
     ]
    }
   ],
   "source": [
    "# Choose the options I want to change for the calculation - everything else will use the default options\n",
    "my_models = [['print status',\"True\"]]\n",
    "\n",
    "# turn to dataframe with correct column headers and indexes    \n",
    "my_models = vf.make_df_and_add_model_defaults(my_models)\n",
    "\n",
    "degas1 = vf.calc_gassing(my_analysis,models=my_models)"
   ]
  },
  {
   "cell_type": "code",
   "execution_count": null,
   "metadata": {},
   "outputs": [],
   "source": [
    "my_analysis[\"xg_O2\"] = degas1.loc[degas1['P_bar']==850.,'xgO2_mf']\n",
    "my_analysis[\"xg_H2\"] = degas1.loc[degas1['P_bar']==850.,'xgH2_mf']\n",
    "my_analysis[\"xg_S2\"] = degas1.loc[degas1['P_bar']==850.,'xgS2_mf']\n",
    "my_analysis[\"xg_CO\"] = degas1.loc[degas1['P_bar']==850.,'xgCO_mf']\n",
    "my_analysis['P_bar'] = 1115."
   ]
  },
  {
   "cell_type": "markdown",
   "metadata": {},
   "source": [
    "OIB"
   ]
  },
  {
   "cell_type": "code",
   "execution_count": null,
   "metadata": {},
   "outputs": [],
   "source": [
    "# Define the melt composition, fO2 estimate, and T as a dictionary.\n",
    "my_analysis = {'Sample':'Fuego',\n",
    "           'T_C': 1200., # Temperature in 'C\n",
    "           'SiO2': 51.46, # wt%\n",
    "           'TiO2': 1.06, # wt%\n",
    "           'Al2O3': 17.43, # wt%\n",
    "           'FeOT': 9.42, # wt%\n",
    "           'MnO': 0.19, # wt%\n",
    "           'MgO': 3.78, # wt%\n",
    "           'CaO': 7.99, # wt%\n",
    "           'Na2O': 3.47, # wt%\n",
    "           'K2O': 0.78, # wt%\n",
    "           'P2O5': 0.24, # wt%\n",
    "           'H2O': 2., # wt%\n",
    "           'CO2ppm': 4000., # ppm\n",
    "           'STppm': 4000., # ppm\n",
    "           'Xppm': 0., # ppm\n",
    "           'Fe3FeT': 0.3}\n",
    "\n",
    "# Turn the dictionary into a pandas dataframe, setting the index to 0.\n",
    "my_analysis = pd.DataFrame(my_analysis, index=[0])"
   ]
  },
  {
   "cell_type": "code",
   "execution_count": null,
   "metadata": {},
   "outputs": [],
   "source": [
    "Fuego = vf.calc_gassing(my_analysis)"
   ]
  },
  {
   "cell_type": "code",
   "execution_count": null,
   "metadata": {},
   "outputs": [],
   "source": []
  },
  {
   "cell_type": "code",
   "execution_count": null,
   "metadata": {},
   "outputs": [],
   "source": []
  },
  {
   "cell_type": "code",
   "execution_count": null,
   "metadata": {},
   "outputs": [],
   "source": [
    "# Define the melt composition, fO2 estimate, and T as a dictionary.\n",
    "my_analysis = {'Sample':'Fuego',\n",
    "           'T_C': 1030., # Temperature in 'C\n",
    "           'SiO2': 51.46, # wt%\n",
    "           'TiO2': 1.06, # wt%\n",
    "           'Al2O3': 17.43, # wt%\n",
    "           'FeOT': 9.42, # wt%\n",
    "           'MnO': 0.19, # wt%\n",
    "           'MgO': 3.78, # wt%\n",
    "           'CaO': 7.99, # wt%\n",
    "           'Na2O': 3.47, # wt%\n",
    "           'K2O': 0.78, # wt%\n",
    "           'P2O5': 0.24, # wt%\n",
    "           'H2O': 4.5, # wt%\n",
    "           'CO2ppm': 3300., # ppm\n",
    "           'STppm': 2650., # ppm\n",
    "           'Xppm': 0., # ppm\n",
    "           'Fe3FeT': 0.235}\n",
    "\n",
    "# Turn the dictionary into a pandas dataframe, setting the index to 0.\n",
    "my_analysis = pd.DataFrame(my_analysis, index=[0])\n",
    "\n",
    "# Choose the options I want to change for the calculation - everything else will use the default options\n",
    "my_models = [['gassing_direction','regas'],['bulk_composition','melt+vapor_initialCO2'],['print status','True']]\n",
    "\n",
    "# turn to dataframe with correct column headers and indexes    \n",
    "my_models = vf.make_df_and_add_model_defaults(my_models)"
   ]
  },
  {
   "cell_type": "code",
   "execution_count": null,
   "metadata": {},
   "outputs": [],
   "source": [
    "# Define the melt composition, fO2 estimate, and T as a dictionary.\n",
    "my_analysis = {'Sample':'Fogo',\n",
    "           'T_C': 1200., # Temperature in 'C\n",
    "           'SiO2': 42.4026, # wt%\n",
    "           'TiO2': 3.254, # wt%\n",
    "           'Al2O3': 11.174, # wt%\n",
    "           'FeOT': 12.0352, # wt%\n",
    "           'MnO': 0.1424, # wt%\n",
    "           'MgO': 9.5482, # wt%\n",
    "           'CaO': 13.3104, # wt%\n",
    "           'Na2O': 3.3554, # wt%\n",
    "           'K2O': 1.5734, # wt%\n",
    "           'P2O5': 0.748, # wt%\n",
    "           'H2O': 2.1054, # wt%\n",
    "           'CO2ppm': 11515.4, # ppm\n",
    "           'STppm': 4693.364, # ppm\n",
    "           'Xppm': 0., # ppm\n",
    "           'DNNO': 0.7}\n",
    "\n",
    "# Turn the dictionary into a pandas dataframe, setting the index to 0.\n",
    "my_analysis = pd.DataFrame(my_analysis, index=[0])\n",
    "\n",
    "# Choose the options I want to change for the calculation - everything else will use the default options\n",
    "my_models = [['gassing_direction','regas'],['bulk_composition','melt+vapor_initialCO2'],['print status','True']]\n",
    "\n",
    "# turn to dataframe with correct column headers and indexes    \n",
    "my_models = vf.make_df_and_add_model_defaults(my_models)"
   ]
  }
 ],
 "metadata": {
  "kernelspec": {
   "display_name": "base",
   "language": "python",
   "name": "python3"
  },
  "language_info": {
   "codemirror_mode": {
    "name": "ipython",
    "version": 3
   },
   "file_extension": ".py",
   "mimetype": "text/x-python",
   "name": "python",
   "nbconvert_exporter": "python",
   "pygments_lexer": "ipython3",
   "version": "3.11.7"
  }
 },
 "nbformat": 4,
 "nbformat_minor": 2
}
