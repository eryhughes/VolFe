{
 "cells": [
  {
   "cell_type": "markdown",
   "metadata": {},
   "source": [
    "## 6. Calculations for comparison paper"
   ]
  },
  {
   "cell_type": "markdown",
   "metadata": {},
   "source": [
    "## Setting things up\n",
    "You need to install VolFe once on your machine, if you haven't yet. Then we need to import a few Python packages (including VolFe)."
   ]
  },
  {
   "cell_type": "code",
   "execution_count": 7,
   "metadata": {},
   "outputs": [],
   "source": [
    "# Install VolFe on your machine. Don't remove the # from this line!\n",
    "# pip install VolFe # Remove the first # in this line if you have not installed VolFe on your machine before.\n",
    "\n",
    "# import python packages\n",
    "import pandas as pd\n",
    "import matplotlib.pyplot as plt\n",
    "import VolFe as vf"
   ]
  },
  {
   "cell_type": "markdown",
   "metadata": {},
   "source": [
    "### Kīlauea_Dryend ###"
   ]
  },
  {
   "cell_type": "code",
   "execution_count": null,
   "metadata": {},
   "outputs": [],
   "source": [
    "# Define the melt composition, fO2 estimate, and T as a dictionary.\n",
    "my_analysis = {'Sample':'Kīlauea_Dryend',\n",
    "           'T_C': 1220., # Temperature in 'C\n",
    "           'SiO2': 50.142, # wt%\n",
    "           'TiO2': 2.257, # wt%\n",
    "           'Al2O3': 12.224, # wt%\n",
    "           'FeOT': 11.33, # wt%\n",
    "           'MnO': 0.323, # wt%\n",
    "           'MgO': 10.215, # wt%\n",
    "           'CaO': 10.476, # wt%\n",
    "           'Na2O': 1.754, # wt%\n",
    "           'K2O': 0.398, # wt%\n",
    "           'P2O5': 0.233, # wt%\n",
    "           'H2O': 0.3, # wt%\n",
    "           'CO2ppm': 800., # ppm\n",
    "           'STppm': 1500., # ppm\n",
    "           'Xppm': 0., # ppm\n",
    "           'Fe3FeT': 0.18}\n",
    "\n",
    "# Turn the dictionary into a pandas dataframe, setting the index to 0.\n",
    "my_analysis = pd.DataFrame(my_analysis, index=[0])\n",
    "\n",
    "# running calculation\n",
    "Kilauea_dry = vf.calc_gassing(my_analysis)"
   ]
  },
  {
   "cell_type": "code",
   "execution_count": null,
   "metadata": {},
   "outputs": [],
   "source": []
  },
  {
   "cell_type": "markdown",
   "metadata": {},
   "source": [
    "### Kīlauea_Wetend ###"
   ]
  },
  {
   "cell_type": "code",
   "execution_count": 12,
   "metadata": {},
   "outputs": [],
   "source": [
    "# Define the melt composition, fO2 estimate, and T as a dictionary.\n",
    "my_analysis = {'Sample':'Kīlauea_Wetend',\n",
    "           'T_C': 1220., # Temperature in 'C\n",
    "           'SiO2': 50.142, # wt%\n",
    "           'TiO2': 2.257, # wt%\n",
    "           'Al2O3': 12.224, # wt%\n",
    "           'FeOT': 11.33, # wt%\n",
    "           'MnO': 0.323, # wt%\n",
    "           'MgO': 10.215, # wt%\n",
    "           'CaO': 10.476, # wt%\n",
    "           'Na2O': 1.754, # wt%\n",
    "           'K2O': 0.398, # wt%\n",
    "           'P2O5': 0.233, # wt%\n",
    "           'H2O': 0.6, # wt%\n",
    "           'CO2ppm': 800., # ppm\n",
    "           'STppm': 1500., # ppm\n",
    "           'Xppm': 0., # ppm\n",
    "           'Fe3FeT': 0.18}\n",
    "\n",
    "# Turn the dictionary into a pandas dataframe, setting the index to 0.\n",
    "my_analysis = pd.DataFrame(my_analysis, index=[0])\n",
    "\n",
    "# running calculation\n",
    "Kilauea_wet = vf.calc_gassing(my_analysis)"
   ]
  },
  {
   "cell_type": "markdown",
   "metadata": {},
   "source": [
    "### MORB ###"
   ]
  },
  {
   "cell_type": "code",
   "execution_count": null,
   "metadata": {},
   "outputs": [],
   "source": [
    "# Define the melt composition, fO2 estimate, and T as a dictionary.\n",
    "my_analysis = {'Sample':'MORB',\n",
    "           'T_C': 1100., # Temperature in 'C\n",
    "           'SiO2': 47.4, # wt%\n",
    "           'TiO2': 1.01, # wt%\n",
    "           'Al2O3': 17.64, # wt%\n",
    "           'FeOT': 7.98, # wt%\n",
    "           'MnO': 0., # wt%\n",
    "           'MgO': 7.63, # wt%\n",
    "           'CaO': 12.44, # wt%\n",
    "           'Na2O': 2.65, # wt%\n",
    "           'K2O': 0.03, # wt%\n",
    "           'P2O5':0.08, # wt%\n",
    "           'H2O': 0.2, # wt%\n",
    "           'CO2ppm': 1100., # ppm\n",
    "           'STppm': 1400., # ppm\n",
    "           'Xppm': 0., # ppm\n",
    "           'Fe3FeT': 0.1}\n",
    "\n",
    "# Turn the dictionary into a pandas dataframe, setting the index to 0.\n",
    "my_analysis = pd.DataFrame(my_analysis, index=[0])\n",
    "\n",
    "# running calculation\n",
    "MORB = vf.calc_gassing(my_analysis)"
   ]
  },
  {
   "cell_type": "code",
   "execution_count": null,
   "metadata": {},
   "outputs": [],
   "source": [
    "# Define the melt composition, fO2 estimate, and T as a dictionary.\n",
    "my_analysis = {'Sample':'MORB',\n",
    "           'T_C': 1100., # Temperature in 'C\n",
    "           'SiO2': 47.4, # wt%\n",
    "           'TiO2': 1.01, # wt%\n",
    "           'Al2O3': 17.64, # wt%\n",
    "           'FeOT': 7.98, # wt%\n",
    "           'MnO': 0., # wt%\n",
    "           'MgO': 7.63, # wt%\n",
    "           'CaO': 12.44, # wt%\n",
    "           'Na2O': 2.65, # wt%\n",
    "           'K2O': 0.03, # wt%\n",
    "           'P2O5':0.08, # wt%\n",
    "           'H2O': 0.2, # wt%\n",
    "           'CO2ppm': 1100., # ppm\n",
    "           'STppm': 1400., # ppm\n",
    "           'Xppm': 0., # ppm\n",
    "           'Fe3FeT': 0.1}\n",
    "\n",
    "# Turn the dictionary into a pandas dataframe, setting the index to 0.\n",
    "my_analysis = pd.DataFrame(my_analysis, index=[0])\n",
    "\n",
    "# running calculation\n",
    "MORB = vf.calc_gassing(my_analysis,dp_step=10.)"
   ]
  },
  {
   "cell_type": "markdown",
   "metadata": {},
   "source": [
    "Fuego"
   ]
  },
  {
   "cell_type": "code",
   "execution_count": null,
   "metadata": {},
   "outputs": [],
   "source": [
    "# Define the melt composition, fO2 estimate, and T as a dictionary.\n",
    "my_analysis = {'Sample':'Fuego',\n",
    "           'T_C': 1030., # Temperature in 'C\n",
    "           'SiO2': 51.46, # wt%\n",
    "           'TiO2': 1.06, # wt%\n",
    "           'Al2O3': 17.43, # wt%\n",
    "           'FeOT': 9.42, # wt%\n",
    "           'MnO': 0.19, # wt%\n",
    "           'MgO': 3.78, # wt%\n",
    "           'CaO': 7.99, # wt%\n",
    "           'Na2O': 3.47, # wt%\n",
    "           'K2O': 0.78, # wt%\n",
    "           'P2O5': 0.24, # wt%\n",
    "           'H2O': 4.5, # wt%\n",
    "           'CO2ppm': 3300., # ppm\n",
    "           'STppm': 2650., # ppm\n",
    "           'Xppm': 0., # ppm\n",
    "           'Fe3FeT': 0.235}\n",
    "\n",
    "# Turn the dictionary into a pandas dataframe, setting the index to 0.\n",
    "my_analysis = pd.DataFrame(my_analysis, index=[0])\n",
    "\n",
    "# Choose the options I want to change for the calculation - everything else will use the default options\n",
    "my_models = [['carbon dioxide','MORB_Dixon95']]\n",
    "\n",
    "# turn to dataframe with correct column headers and indexes    \n",
    "my_models = vf.make_df_and_add_model_defaults(my_models)\n",
    "\n",
    "# running calculation\n",
    "Fuego = vf.calc_gassing(my_analysis, models=my_models)"
   ]
  },
  {
   "cell_type": "markdown",
   "metadata": {},
   "source": [
    "Fogo"
   ]
  },
  {
   "cell_type": "code",
   "execution_count": null,
   "metadata": {},
   "outputs": [],
   "source": [
    "# Define the melt composition, fO2 estimate, and T as a dictionary.\n",
    "my_analysis = {'Sample':'Fogo',\n",
    "           'T_C': 1200., # Temperature in 'C\n",
    "           'SiO2': 42.4026, # wt%\n",
    "           'TiO2': 3.254, # wt%\n",
    "           'Al2O3': 11.174, # wt%\n",
    "           'FeOT': 12.0352, # wt%\n",
    "           'MnO': 0.1424, # wt%\n",
    "           'MgO': 9.5482, # wt%\n",
    "           'CaO': 13.3104, # wt%\n",
    "           'Na2O': 3.3554, # wt%\n",
    "           'K2O': 1.5734, # wt%\n",
    "           'P2O5': 0.784, # wt%\n",
    "           'H2O': 2.1054, # wt%\n",
    "           'CO2ppm': 11515.4, # ppm\n",
    "           'STppm': 4693.364, # ppm\n",
    "           'Xppm': 0., # ppm\n",
    "           'DNNO': 0.7}\n",
    "\n",
    "# Turn the dictionary into a pandas dataframe, setting the index to 0.\n",
    "my_analysis = pd.DataFrame(my_analysis, index=[0])\n",
    "\n",
    "# Choose the options I want to change for the calculation - everything else will use the default options\n",
    "my_models = [['carbon dioxide','MORB_Dixon95']]\n",
    "\n",
    "# turn to dataframe with correct column headers and indexes    \n",
    "my_models = vf.make_df_and_add_model_defaults(my_models)\n",
    "\n",
    "# running calculation\n",
    "Fogo = vf.calc_gassing(my_analysis, models=my_models)"
   ]
  },
  {
   "cell_type": "code",
   "execution_count": null,
   "metadata": {},
   "outputs": [],
   "source": [
    "fig, (ax1, ax2, ax3) = plt.subplots(1, 3, figsize=(12,4))\n",
    "\n",
    "\n",
    "data2 = Kilauea_wet # sulfur can saturate\n",
    "\n",
    "# Plotting results\n",
    "data = Kilauea_dry\n",
    "ax1.plot(data['CO2T-eq_ppmw'], data['P_bar'], '-k')\n",
    "ax2.plot(data['H2OT-eq_wtpc'], data['P_bar'], '-k')\n",
    "ax3.plot(data['ST_ppmw'], data['P_bar'], '-k')\n",
    "data = Kilauea_wet\n",
    "ax1.plot(data['CO2T-eq_ppmw'], data['P_bar'], ':k')\n",
    "ax2.plot(data['H2OT-eq_wtpc'], data['P_bar'], ':k')\n",
    "ax3.plot(data['ST_ppmw'], data['P_bar'], ':k')\n",
    "data = MORB\n",
    "ax1.plot(data['CO2T-eq_ppmw'], data['P_bar'], '-b')\n",
    "ax2.plot(data['H2OT-eq_wtpc'], data['P_bar'], '-b')\n",
    "ax3.plot(data['ST_ppmw'], data['P_bar'], '-b')\n",
    "data = Fuego\n",
    "ax1.plot(data['CO2T-eq_ppmw'], data['P_bar'], '-r')\n",
    "ax2.plot(data['H2OT-eq_wtpc'], data['P_bar'], '-r')\n",
    "ax3.plot(data['ST_ppmw'], data['P_bar'], '-r')\n",
    "data = MORB\n",
    "ax1.plot(data['CO2T-eq_ppmw'], data['P_bar'], '-g')\n",
    "ax2.plot(data['H2OT-eq_wtpc'], data['P_bar'], '-g')\n",
    "ax3.plot(data['ST_ppmw'], data['P_bar'], '-g')\n",
    "\n",
    "\n",
    "ax1.set_ylabel('P (bar)')\n",
    "ax1.set_xlabel('CO2,T-eq (ppmw)')\n",
    "ax2.set_xlabel('H2OT-eq (wt%)')\n",
    "ax3.set_xlabel('ST (ppmw)')\n",
    "#ax1.set_ylim([4000,0])\n",
    "#ax2.set_ylim([4000,0])\n",
    "#ax3.set_ylim([4000,0])"
   ]
  }
 ],
 "metadata": {
  "kernelspec": {
   "display_name": "volfe-dev",
   "language": "python",
   "name": "python3"
  },
  "language_info": {
   "codemirror_mode": {
    "name": "ipython",
    "version": 3
   },
   "file_extension": ".py",
   "mimetype": "text/x-python",
   "name": "python",
   "nbconvert_exporter": "python",
   "pygments_lexer": "ipython3",
   "version": "3.13.0"
  }
 },
 "nbformat": 4,
 "nbformat_minor": 2
}
