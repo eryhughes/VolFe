{
 "cells": [
  {
   "cell_type": "markdown",
   "metadata": {},
   "source": [
    "## 1b. Calculate <i>P<sup>v</sup></i><sub>sat</sub> for analyses from a csv file using default options\n",
    "\n",
    "This time, instead of creating a dataframe in a cell for the analysis, we'll read it in from a spreadsheet. "
   ]
  },
  {
   "cell_type": "markdown",
   "metadata": {},
   "source": [
    "## Setting things up\n",
    "First we need to import a few Python packages (including VolFe) and set the precision of the calculations. You need to install VolFe once on your machine, if you haven't yet, uncomment the line below (remove the #)."
   ]
  },
  {
   "cell_type": "code",
   "execution_count": 1,
   "metadata": {},
   "outputs": [],
   "source": [
    "# Install VolFe on your machine. Don't remove the # from this line!\n",
    "# pip install VolFe # Remove the first # in this line if you have not installed VolFe on your machine before.\n",
    "\n",
    "# import python packages\n",
    "import pandas as pd\n",
    "import plotly.graph_objects as go\n",
    "from plotly.subplots import make_subplots\n",
    "import VolFe as vf"
   ]
  },
  {
   "cell_type": "markdown",
   "metadata": {},
   "source": [
    "We'll use the examples_marianas csv in files and use all the default options again. The data in this file are from Brounce et al. (2014, 2016) and Kelley & Cottrell (2012)."
   ]
  },
  {
   "cell_type": "code",
   "execution_count": 2,
   "metadata": {},
   "outputs": [],
   "source": [
    "# Read csv to define melt composition\n",
    "my_analyses = pd.read_csv(\"../files/example_marianas.csv\") "
   ]
  },
  {
   "cell_type": "markdown",
   "metadata": {},
   "source": [
    "There are a few analyses in the csv. First, we will tell the function to stop after the first analysis by saying last_row=1:"
   ]
  },
  {
   "cell_type": "code",
   "execution_count": 3,
   "metadata": {},
   "outputs": [
    {
     "data": {
      "text/html": [
       "<div>\n",
       "<style scoped>\n",
       "    .dataframe tbody tr th:only-of-type {\n",
       "        vertical-align: middle;\n",
       "    }\n",
       "\n",
       "    .dataframe tbody tr th {\n",
       "        vertical-align: top;\n",
       "    }\n",
       "\n",
       "    .dataframe thead th {\n",
       "        text-align: right;\n",
       "    }\n",
       "</style>\n",
       "<table border=\"1\" class=\"dataframe\">\n",
       "  <thead>\n",
       "    <tr style=\"text-align: right;\">\n",
       "      <th></th>\n",
       "      <th>sample</th>\n",
       "      <th>T_C</th>\n",
       "      <th>P_bar</th>\n",
       "      <th>SiO2_wtpc</th>\n",
       "      <th>TiO2_wtpc</th>\n",
       "      <th>Al2O3_wtpc</th>\n",
       "      <th>FeOT_wtpc</th>\n",
       "      <th>MnO_wtpc</th>\n",
       "      <th>MgO_wtpc</th>\n",
       "      <th>CaO_wtpc</th>\n",
       "      <th>...</th>\n",
       "      <th>KHOSg opt</th>\n",
       "      <th>KOSg opt</th>\n",
       "      <th>KOSg2 opt</th>\n",
       "      <th>KCOg opt</th>\n",
       "      <th>KCOHg opt</th>\n",
       "      <th>KOCSg opt</th>\n",
       "      <th>KCOs opt</th>\n",
       "      <th>carbonylsulfide opt</th>\n",
       "      <th>density opt</th>\n",
       "      <th>Date</th>\n",
       "    </tr>\n",
       "  </thead>\n",
       "  <tbody>\n",
       "    <tr>\n",
       "      <th>0</th>\n",
       "      <td>TN273-01D-01-01</td>\n",
       "      <td>1200</td>\n",
       "      <td>337.809345</td>\n",
       "      <td>57.03956</td>\n",
       "      <td>1.661735</td>\n",
       "      <td>15.536223</td>\n",
       "      <td>9.479899</td>\n",
       "      <td>0.240251</td>\n",
       "      <td>2.963094</td>\n",
       "      <td>6.496784</td>\n",
       "      <td>...</td>\n",
       "      <td>Ohmoto97</td>\n",
       "      <td>Ohmoto97</td>\n",
       "      <td>ONeill22</td>\n",
       "      <td>Ohmoto97</td>\n",
       "      <td>Ohmoto97</td>\n",
       "      <td>Moussallam19</td>\n",
       "      <td>Holloway92</td>\n",
       "      <td>COS</td>\n",
       "      <td>DensityX</td>\n",
       "      <td>2024-04-15 18:32:50.921669</td>\n",
       "    </tr>\n",
       "  </tbody>\n",
       "</table>\n",
       "<p>1 rows × 173 columns</p>\n",
       "</div>"
      ],
      "text/plain": [
       "0           sample   T_C       P_bar SiO2_wtpc TiO2_wtpc Al2O3_wtpc FeOT_wtpc  \\\n",
       "0  TN273-01D-01-01  1200  337.809345  57.03956  1.661735  15.536223  9.479899   \n",
       "\n",
       "0  MnO_wtpc  MgO_wtpc  CaO_wtpc  ... KHOSg opt  KOSg opt KOSg2 opt  KCOg opt  \\\n",
       "0  0.240251  2.963094  6.496784  ...  Ohmoto97  Ohmoto97  ONeill22  Ohmoto97   \n",
       "\n",
       "0 KCOHg opt     KOCSg opt    KCOs opt carbonylsulfide opt density opt  \\\n",
       "0  Ohmoto97  Moussallam19  Holloway92                 COS    DensityX   \n",
       "\n",
       "0                        Date  \n",
       "0  2024-04-15 18:32:50.921669  \n",
       "\n",
       "[1 rows x 173 columns]"
      ]
     },
     "execution_count": 3,
     "metadata": {},
     "output_type": "execute_result"
    }
   ],
   "source": [
    "# runs the calculation\n",
    "vf.calc_Pvsat(my_analyses,last_row=1)"
   ]
  },
  {
   "cell_type": "markdown",
   "metadata": {},
   "source": [
    "To run all the analyses, simply don't tell it the last row you want to run. All analyses must be in consequitive rows for this to work! As it finishes each calculation, it will return the index number, the sample name, and Pvsat. At the end it will show the dataframe of the full results."
   ]
  },
  {
   "cell_type": "code",
   "execution_count": 4,
   "metadata": {},
   "outputs": [],
   "source": [
    "# runs the calculation\n",
    "results = vf.calc_Pvsat(my_analyses)"
   ]
  },
  {
   "cell_type": "markdown",
   "metadata": {},
   "source": [
    "And we can plot these against the volatile content.\n",
    "This shows that the pressure is mostly controlled by CO2 and H2O content, which are correlated."
   ]
  },
  {
   "cell_type": "code",
   "execution_count": 8,
   "metadata": {},
   "outputs": [
    {
     "data": {
      "application/vnd.plotly.v1+json": {
       "config": {
        "plotlyServerURL": "https://plot.ly"
       },
       "data": [
        {
         "line": {
          "color": "steelblue",
          "dash": "solid",
          "width": 3
         },
         "mode": "markers",
         "type": "scatter",
         "x": [
          13,
          31,
          189,
          371,
          449,
          207,
          405,
          142,
          629,
          142,
          485,
          419,
          431,
          131,
          457,
          903,
          549,
          400,
          209,
          182,
          453,
          363,
          808,
          340,
          296,
          549,
          1002,
          732,
          525,
          999,
          677,
          234,
          964,
          283,
          554,
          371,
          506,
          67,
          60,
          109,
          97,
          111,
          866,
          390,
          242,
          727,
          398,
          630,
          1487,
          1109,
          264
         ],
         "xaxis": "x",
         "y": [
          337.80934489140867,
          351.8247411055213,
          3061.065011255641,
          2278.5082238590603,
          2043.0618685936097,
          1570.7780122644106,
          1841.2064819431118,
          903.6593544856405,
          2198.7509888750014,
          1055.8802476406943,
          2678.8869961665005,
          1938.7223007179387,
          1745.5601711092324,
          1303.820920874307,
          2094.8643780594393,
          3120.1223410996113,
          2653.958636272439,
          2268.1364385955294,
          1838.3703121188971,
          1201.6185571777262,
          2119.532759620771,
          2048.198030925881,
          2905.2093893824417,
          1797.7932497999113,
          1810.0092530887778,
          2059.6146607714722,
          2887.6969430022104,
          2770.182796403179,
          2536.7288777283725,
          3318.72973003161,
          1889.3027662407283,
          1342.2830230468269,
          3483.0904525851483,
          1799.773034480974,
          2405.5474133847865,
          2063.675217590195,
          2048.85334274038,
          1002.9842535965628,
          1138.1393927254526,
          1042.7552875904994,
          1146.9743752136412,
          1069.290734953364,
          2846.43485861509,
          1801.53230399272,
          1884.0696042239363,
          2793.7555839065567,
          2288.6505727696413,
          2479.3900668879633,
          3863.5868038696344,
          3185.8357621668706,
          1828.1659864467322
         ],
         "yaxis": "y"
        },
        {
         "line": {
          "color": "steelblue",
          "dash": "solid",
          "width": 3
         },
         "mode": "markers",
         "type": "scatter",
         "x": [
          1.88,
          1.61,
          6.02,
          4.4,
          3.5,
          3.42,
          3.47,
          1.96,
          3.25,
          2.72,
          4.56,
          3.49,
          3,
          3.3,
          3.63,
          4.25,
          4.36,
          4.21,
          4.01,
          3.1,
          3.88,
          3.9,
          4.14,
          3.46,
          3.64,
          3.33,
          3.47,
          4.15,
          4.32,
          4.32,
          2.39,
          2.86,
          4.82,
          3.66,
          3.92,
          3.84,
          3.41,
          2.89,
          3.21,
          2.62,
          3.03,
          2.73,
          3.86,
          3.27,
          4.06,
          4.18,
          4.31,
          3.83,
          4.17,
          3.83,
          3.79
         ],
         "xaxis": "x2",
         "y": [
          337.80934489140867,
          351.8247411055213,
          3061.065011255641,
          2278.5082238590603,
          2043.0618685936097,
          1570.7780122644106,
          1841.2064819431118,
          903.6593544856405,
          2198.7509888750014,
          1055.8802476406943,
          2678.8869961665005,
          1938.7223007179387,
          1745.5601711092324,
          1303.820920874307,
          2094.8643780594393,
          3120.1223410996113,
          2653.958636272439,
          2268.1364385955294,
          1838.3703121188971,
          1201.6185571777262,
          2119.532759620771,
          2048.198030925881,
          2905.2093893824417,
          1797.7932497999113,
          1810.0092530887778,
          2059.6146607714722,
          2887.6969430022104,
          2770.182796403179,
          2536.7288777283725,
          3318.72973003161,
          1889.3027662407283,
          1342.2830230468269,
          3483.0904525851483,
          1799.773034480974,
          2405.5474133847865,
          2063.675217590195,
          2048.85334274038,
          1002.9842535965628,
          1138.1393927254526,
          1042.7552875904994,
          1146.9743752136412,
          1069.290734953364,
          2846.43485861509,
          1801.53230399272,
          1884.0696042239363,
          2793.7555839065567,
          2288.6505727696413,
          2479.3900668879633,
          3863.5868038696344,
          3185.8357621668706,
          1828.1659864467322
         ],
         "yaxis": "y2"
        },
        {
         "line": {
          "color": "steelblue",
          "dash": "solid",
          "width": 3
         },
         "mode": "markers",
         "type": "scatter",
         "x": [
          362.83,
          314.04,
          1080.13,
          830.67,
          1352.27,
          1369.75,
          976.9,
          1486.77,
          1170,
          1404,
          1577,
          1117,
          1453,
          1007,
          1182,
          1300,
          1517,
          1010,
          1005.35,
          576.95,
          664.49,
          1004.64,
          1377.57,
          1167.55,
          1225.04,
          941.4,
          1275.66,
          1313.23,
          1509.53,
          1544.07,
          1143.63,
          1324.57,
          1375.11,
          1238.89,
          1416.81,
          1326.97,
          1373.29,
          1206.48,
          1252.13,
          1386.46,
          1386.63,
          1289.52,
          1240.03,
          1288.1,
          1493.19,
          1478.84,
          1450.67,
          1484.12,
          1343.58,
          1614.12,
          1456.54
         ],
         "xaxis": "x3",
         "y": [
          337.80934489140867,
          351.8247411055213,
          3061.065011255641,
          2278.5082238590603,
          2043.0618685936097,
          1570.7780122644106,
          1841.2064819431118,
          903.6593544856405,
          2198.7509888750014,
          1055.8802476406943,
          2678.8869961665005,
          1938.7223007179387,
          1745.5601711092324,
          1303.820920874307,
          2094.8643780594393,
          3120.1223410996113,
          2653.958636272439,
          2268.1364385955294,
          1838.3703121188971,
          1201.6185571777262,
          2119.532759620771,
          2048.198030925881,
          2905.2093893824417,
          1797.7932497999113,
          1810.0092530887778,
          2059.6146607714722,
          2887.6969430022104,
          2770.182796403179,
          2536.7288777283725,
          3318.72973003161,
          1889.3027662407283,
          1342.2830230468269,
          3483.0904525851483,
          1799.773034480974,
          2405.5474133847865,
          2063.675217590195,
          2048.85334274038,
          1002.9842535965628,
          1138.1393927254526,
          1042.7552875904994,
          1146.9743752136412,
          1069.290734953364,
          2846.43485861509,
          1801.53230399272,
          1884.0696042239363,
          2793.7555839065567,
          2288.6505727696413,
          2479.3900668879633,
          3863.5868038696344,
          3185.8357621668706,
          1828.1659864467322
         ],
         "yaxis": "y3"
        }
       ],
       "layout": {
        "font": {
         "color": "black",
         "family": "Helvetica"
        },
        "height": 400,
        "plot_bgcolor": "rgb(255,255,255)",
        "showlegend": false,
        "template": {
         "data": {
          "bar": [
           {
            "error_x": {
             "color": "#2a3f5f"
            },
            "error_y": {
             "color": "#2a3f5f"
            },
            "marker": {
             "line": {
              "color": "#E5ECF6",
              "width": 0.5
             },
             "pattern": {
              "fillmode": "overlay",
              "size": 10,
              "solidity": 0.2
             }
            },
            "type": "bar"
           }
          ],
          "barpolar": [
           {
            "marker": {
             "line": {
              "color": "#E5ECF6",
              "width": 0.5
             },
             "pattern": {
              "fillmode": "overlay",
              "size": 10,
              "solidity": 0.2
             }
            },
            "type": "barpolar"
           }
          ],
          "carpet": [
           {
            "aaxis": {
             "endlinecolor": "#2a3f5f",
             "gridcolor": "white",
             "linecolor": "white",
             "minorgridcolor": "white",
             "startlinecolor": "#2a3f5f"
            },
            "baxis": {
             "endlinecolor": "#2a3f5f",
             "gridcolor": "white",
             "linecolor": "white",
             "minorgridcolor": "white",
             "startlinecolor": "#2a3f5f"
            },
            "type": "carpet"
           }
          ],
          "choropleth": [
           {
            "colorbar": {
             "outlinewidth": 0,
             "ticks": ""
            },
            "type": "choropleth"
           }
          ],
          "contour": [
           {
            "colorbar": {
             "outlinewidth": 0,
             "ticks": ""
            },
            "colorscale": [
             [
              0,
              "#0d0887"
             ],
             [
              0.1111111111111111,
              "#46039f"
             ],
             [
              0.2222222222222222,
              "#7201a8"
             ],
             [
              0.3333333333333333,
              "#9c179e"
             ],
             [
              0.4444444444444444,
              "#bd3786"
             ],
             [
              0.5555555555555556,
              "#d8576b"
             ],
             [
              0.6666666666666666,
              "#ed7953"
             ],
             [
              0.7777777777777778,
              "#fb9f3a"
             ],
             [
              0.8888888888888888,
              "#fdca26"
             ],
             [
              1,
              "#f0f921"
             ]
            ],
            "type": "contour"
           }
          ],
          "contourcarpet": [
           {
            "colorbar": {
             "outlinewidth": 0,
             "ticks": ""
            },
            "type": "contourcarpet"
           }
          ],
          "heatmap": [
           {
            "colorbar": {
             "outlinewidth": 0,
             "ticks": ""
            },
            "colorscale": [
             [
              0,
              "#0d0887"
             ],
             [
              0.1111111111111111,
              "#46039f"
             ],
             [
              0.2222222222222222,
              "#7201a8"
             ],
             [
              0.3333333333333333,
              "#9c179e"
             ],
             [
              0.4444444444444444,
              "#bd3786"
             ],
             [
              0.5555555555555556,
              "#d8576b"
             ],
             [
              0.6666666666666666,
              "#ed7953"
             ],
             [
              0.7777777777777778,
              "#fb9f3a"
             ],
             [
              0.8888888888888888,
              "#fdca26"
             ],
             [
              1,
              "#f0f921"
             ]
            ],
            "type": "heatmap"
           }
          ],
          "heatmapgl": [
           {
            "colorbar": {
             "outlinewidth": 0,
             "ticks": ""
            },
            "colorscale": [
             [
              0,
              "#0d0887"
             ],
             [
              0.1111111111111111,
              "#46039f"
             ],
             [
              0.2222222222222222,
              "#7201a8"
             ],
             [
              0.3333333333333333,
              "#9c179e"
             ],
             [
              0.4444444444444444,
              "#bd3786"
             ],
             [
              0.5555555555555556,
              "#d8576b"
             ],
             [
              0.6666666666666666,
              "#ed7953"
             ],
             [
              0.7777777777777778,
              "#fb9f3a"
             ],
             [
              0.8888888888888888,
              "#fdca26"
             ],
             [
              1,
              "#f0f921"
             ]
            ],
            "type": "heatmapgl"
           }
          ],
          "histogram": [
           {
            "marker": {
             "pattern": {
              "fillmode": "overlay",
              "size": 10,
              "solidity": 0.2
             }
            },
            "type": "histogram"
           }
          ],
          "histogram2d": [
           {
            "colorbar": {
             "outlinewidth": 0,
             "ticks": ""
            },
            "colorscale": [
             [
              0,
              "#0d0887"
             ],
             [
              0.1111111111111111,
              "#46039f"
             ],
             [
              0.2222222222222222,
              "#7201a8"
             ],
             [
              0.3333333333333333,
              "#9c179e"
             ],
             [
              0.4444444444444444,
              "#bd3786"
             ],
             [
              0.5555555555555556,
              "#d8576b"
             ],
             [
              0.6666666666666666,
              "#ed7953"
             ],
             [
              0.7777777777777778,
              "#fb9f3a"
             ],
             [
              0.8888888888888888,
              "#fdca26"
             ],
             [
              1,
              "#f0f921"
             ]
            ],
            "type": "histogram2d"
           }
          ],
          "histogram2dcontour": [
           {
            "colorbar": {
             "outlinewidth": 0,
             "ticks": ""
            },
            "colorscale": [
             [
              0,
              "#0d0887"
             ],
             [
              0.1111111111111111,
              "#46039f"
             ],
             [
              0.2222222222222222,
              "#7201a8"
             ],
             [
              0.3333333333333333,
              "#9c179e"
             ],
             [
              0.4444444444444444,
              "#bd3786"
             ],
             [
              0.5555555555555556,
              "#d8576b"
             ],
             [
              0.6666666666666666,
              "#ed7953"
             ],
             [
              0.7777777777777778,
              "#fb9f3a"
             ],
             [
              0.8888888888888888,
              "#fdca26"
             ],
             [
              1,
              "#f0f921"
             ]
            ],
            "type": "histogram2dcontour"
           }
          ],
          "mesh3d": [
           {
            "colorbar": {
             "outlinewidth": 0,
             "ticks": ""
            },
            "type": "mesh3d"
           }
          ],
          "parcoords": [
           {
            "line": {
             "colorbar": {
              "outlinewidth": 0,
              "ticks": ""
             }
            },
            "type": "parcoords"
           }
          ],
          "pie": [
           {
            "automargin": true,
            "type": "pie"
           }
          ],
          "scatter": [
           {
            "fillpattern": {
             "fillmode": "overlay",
             "size": 10,
             "solidity": 0.2
            },
            "type": "scatter"
           }
          ],
          "scatter3d": [
           {
            "line": {
             "colorbar": {
              "outlinewidth": 0,
              "ticks": ""
             }
            },
            "marker": {
             "colorbar": {
              "outlinewidth": 0,
              "ticks": ""
             }
            },
            "type": "scatter3d"
           }
          ],
          "scattercarpet": [
           {
            "marker": {
             "colorbar": {
              "outlinewidth": 0,
              "ticks": ""
             }
            },
            "type": "scattercarpet"
           }
          ],
          "scattergeo": [
           {
            "marker": {
             "colorbar": {
              "outlinewidth": 0,
              "ticks": ""
             }
            },
            "type": "scattergeo"
           }
          ],
          "scattergl": [
           {
            "marker": {
             "colorbar": {
              "outlinewidth": 0,
              "ticks": ""
             }
            },
            "type": "scattergl"
           }
          ],
          "scattermapbox": [
           {
            "marker": {
             "colorbar": {
              "outlinewidth": 0,
              "ticks": ""
             }
            },
            "type": "scattermapbox"
           }
          ],
          "scatterpolar": [
           {
            "marker": {
             "colorbar": {
              "outlinewidth": 0,
              "ticks": ""
             }
            },
            "type": "scatterpolar"
           }
          ],
          "scatterpolargl": [
           {
            "marker": {
             "colorbar": {
              "outlinewidth": 0,
              "ticks": ""
             }
            },
            "type": "scatterpolargl"
           }
          ],
          "scatterternary": [
           {
            "marker": {
             "colorbar": {
              "outlinewidth": 0,
              "ticks": ""
             }
            },
            "type": "scatterternary"
           }
          ],
          "surface": [
           {
            "colorbar": {
             "outlinewidth": 0,
             "ticks": ""
            },
            "colorscale": [
             [
              0,
              "#0d0887"
             ],
             [
              0.1111111111111111,
              "#46039f"
             ],
             [
              0.2222222222222222,
              "#7201a8"
             ],
             [
              0.3333333333333333,
              "#9c179e"
             ],
             [
              0.4444444444444444,
              "#bd3786"
             ],
             [
              0.5555555555555556,
              "#d8576b"
             ],
             [
              0.6666666666666666,
              "#ed7953"
             ],
             [
              0.7777777777777778,
              "#fb9f3a"
             ],
             [
              0.8888888888888888,
              "#fdca26"
             ],
             [
              1,
              "#f0f921"
             ]
            ],
            "type": "surface"
           }
          ],
          "table": [
           {
            "cells": {
             "fill": {
              "color": "#EBF0F8"
             },
             "line": {
              "color": "white"
             }
            },
            "header": {
             "fill": {
              "color": "#C8D4E3"
             },
             "line": {
              "color": "white"
             }
            },
            "type": "table"
           }
          ]
         },
         "layout": {
          "annotationdefaults": {
           "arrowcolor": "#2a3f5f",
           "arrowhead": 0,
           "arrowwidth": 1
          },
          "autotypenumbers": "strict",
          "coloraxis": {
           "colorbar": {
            "outlinewidth": 0,
            "ticks": ""
           }
          },
          "colorscale": {
           "diverging": [
            [
             0,
             "#8e0152"
            ],
            [
             0.1,
             "#c51b7d"
            ],
            [
             0.2,
             "#de77ae"
            ],
            [
             0.3,
             "#f1b6da"
            ],
            [
             0.4,
             "#fde0ef"
            ],
            [
             0.5,
             "#f7f7f7"
            ],
            [
             0.6,
             "#e6f5d0"
            ],
            [
             0.7,
             "#b8e186"
            ],
            [
             0.8,
             "#7fbc41"
            ],
            [
             0.9,
             "#4d9221"
            ],
            [
             1,
             "#276419"
            ]
           ],
           "sequential": [
            [
             0,
             "#0d0887"
            ],
            [
             0.1111111111111111,
             "#46039f"
            ],
            [
             0.2222222222222222,
             "#7201a8"
            ],
            [
             0.3333333333333333,
             "#9c179e"
            ],
            [
             0.4444444444444444,
             "#bd3786"
            ],
            [
             0.5555555555555556,
             "#d8576b"
            ],
            [
             0.6666666666666666,
             "#ed7953"
            ],
            [
             0.7777777777777778,
             "#fb9f3a"
            ],
            [
             0.8888888888888888,
             "#fdca26"
            ],
            [
             1,
             "#f0f921"
            ]
           ],
           "sequentialminus": [
            [
             0,
             "#0d0887"
            ],
            [
             0.1111111111111111,
             "#46039f"
            ],
            [
             0.2222222222222222,
             "#7201a8"
            ],
            [
             0.3333333333333333,
             "#9c179e"
            ],
            [
             0.4444444444444444,
             "#bd3786"
            ],
            [
             0.5555555555555556,
             "#d8576b"
            ],
            [
             0.6666666666666666,
             "#ed7953"
            ],
            [
             0.7777777777777778,
             "#fb9f3a"
            ],
            [
             0.8888888888888888,
             "#fdca26"
            ],
            [
             1,
             "#f0f921"
            ]
           ]
          },
          "colorway": [
           "#636efa",
           "#EF553B",
           "#00cc96",
           "#ab63fa",
           "#FFA15A",
           "#19d3f3",
           "#FF6692",
           "#B6E880",
           "#FF97FF",
           "#FECB52"
          ],
          "font": {
           "color": "#2a3f5f"
          },
          "geo": {
           "bgcolor": "white",
           "lakecolor": "white",
           "landcolor": "#E5ECF6",
           "showlakes": true,
           "showland": true,
           "subunitcolor": "white"
          },
          "hoverlabel": {
           "align": "left"
          },
          "hovermode": "closest",
          "mapbox": {
           "style": "light"
          },
          "paper_bgcolor": "white",
          "plot_bgcolor": "#E5ECF6",
          "polar": {
           "angularaxis": {
            "gridcolor": "white",
            "linecolor": "white",
            "ticks": ""
           },
           "bgcolor": "#E5ECF6",
           "radialaxis": {
            "gridcolor": "white",
            "linecolor": "white",
            "ticks": ""
           }
          },
          "scene": {
           "xaxis": {
            "backgroundcolor": "#E5ECF6",
            "gridcolor": "white",
            "gridwidth": 2,
            "linecolor": "white",
            "showbackground": true,
            "ticks": "",
            "zerolinecolor": "white"
           },
           "yaxis": {
            "backgroundcolor": "#E5ECF6",
            "gridcolor": "white",
            "gridwidth": 2,
            "linecolor": "white",
            "showbackground": true,
            "ticks": "",
            "zerolinecolor": "white"
           },
           "zaxis": {
            "backgroundcolor": "#E5ECF6",
            "gridcolor": "white",
            "gridwidth": 2,
            "linecolor": "white",
            "showbackground": true,
            "ticks": "",
            "zerolinecolor": "white"
           }
          },
          "shapedefaults": {
           "line": {
            "color": "#2a3f5f"
           }
          },
          "ternary": {
           "aaxis": {
            "gridcolor": "white",
            "linecolor": "white",
            "ticks": ""
           },
           "baxis": {
            "gridcolor": "white",
            "linecolor": "white",
            "ticks": ""
           },
           "bgcolor": "#E5ECF6",
           "caxis": {
            "gridcolor": "white",
            "linecolor": "white",
            "ticks": ""
           }
          },
          "title": {
           "x": 0.05
          },
          "xaxis": {
           "automargin": true,
           "gridcolor": "white",
           "linecolor": "white",
           "ticks": "",
           "title": {
            "standoff": 15
           },
           "zerolinecolor": "white",
           "zerolinewidth": 2
          },
          "yaxis": {
           "automargin": true,
           "gridcolor": "white",
           "linecolor": "white",
           "ticks": "",
           "title": {
            "standoff": 15
           },
           "zerolinecolor": "white",
           "zerolinewidth": 2
          }
         }
        },
        "width": 1000,
        "xaxis": {
         "anchor": "y",
         "domain": [
          0,
          0.3
         ],
         "linecolor": "black",
         "linewidth": 1,
         "mirror": true,
         "showline": true,
         "tickcolor": "black",
         "tickfont": {
          "color": "black",
          "family": "Helvetica",
          "size": 12
         },
         "ticklen": 5,
         "ticks": "inside",
         "title": {
          "font": {
           "color": "black",
           "family": "Helvetica",
           "size": 15
          },
          "standoff": 0,
          "text": "CO<sub>2</sub>-eq (ppmw)"
         }
        },
        "xaxis2": {
         "anchor": "y2",
         "domain": [
          0.35,
          0.6499999999999999
         ],
         "linecolor": "black",
         "linewidth": 1,
         "mirror": true,
         "showline": true,
         "tickcolor": "black",
         "tickfont": {
          "color": "black",
          "family": "Helvetica",
          "size": 12
         },
         "ticklen": 5,
         "ticks": "inside",
         "title": {
          "font": {
           "color": "black",
           "family": "Helvetica",
           "size": 15
          },
          "standoff": 0,
          "text": "H<sub>2</sub>O-eq (wt%)"
         }
        },
        "xaxis3": {
         "anchor": "y3",
         "domain": [
          0.7,
          1
         ],
         "linecolor": "black",
         "linewidth": 1,
         "mirror": true,
         "showline": true,
         "tickcolor": "black",
         "tickfont": {
          "color": "black",
          "family": "Helvetica",
          "size": 12
         },
         "ticklen": 5,
         "ticks": "inside",
         "title": {
          "font": {
           "color": "black",
           "family": "Helvetica",
           "size": 15
          },
          "standoff": 0,
          "text": "S<sub>T</sub> (ppmw)"
         }
        },
        "yaxis": {
         "anchor": "x",
         "autorange": "reversed",
         "domain": [
          0,
          1
         ],
         "linecolor": "black",
         "linewidth": 1,
         "mirror": true,
         "showline": true,
         "tickcolor": "black",
         "tickfont": {
          "color": "black",
          "family": "Helvetica",
          "size": 12
         },
         "ticklen": 5,
         "ticks": "inside",
         "title": {
          "font": {
           "color": "black",
           "family": "Helvetica",
           "size": 15
          },
          "standoff": 0,
          "text": "<i>P</i> (bars)"
         }
        },
        "yaxis2": {
         "anchor": "x2",
         "domain": [
          0,
          1
         ],
         "linecolor": "black",
         "linewidth": 1,
         "matches": "y",
         "mirror": true,
         "showline": true,
         "showticklabels": false,
         "tickcolor": "black",
         "tickfont": {
          "color": "black",
          "family": "Helvetica",
          "size": 12
         },
         "ticklen": 5,
         "ticks": "inside",
         "title": {
          "font": {
           "color": "black",
           "family": "Helvetica",
           "size": 15
          },
          "standoff": 0
         }
        },
        "yaxis3": {
         "anchor": "x3",
         "domain": [
          0,
          1
         ],
         "linecolor": "black",
         "linewidth": 1,
         "matches": "y",
         "mirror": true,
         "showline": true,
         "showticklabels": false,
         "tickcolor": "black",
         "tickfont": {
          "color": "black",
          "family": "Helvetica",
          "size": 12
         },
         "ticklen": 5,
         "ticks": "inside",
         "title": {
          "font": {
           "color": "black",
           "family": "Helvetica",
           "size": 15
          },
          "standoff": 0
         }
        }
       }
      }
     },
     "metadata": {},
     "output_type": "display_data"
    }
   ],
   "source": [
    "fig = make_subplots(rows=1, cols=3, shared_yaxes = True, shared_xaxes = False,vertical_spacing=0.08, horizontal_spacing=0.05)\n",
    "\n",
    "lw = 3\n",
    "syms = 10\n",
    "lc1 = \"steelblue\"\n",
    "\n",
    "data1 = results\n",
    "\n",
    "r = 1\n",
    "# P vs. CO2\n",
    "c = 1\n",
    "fig.add_trace(go.Scatter(mode = \"markers\", x=data1['CO2T-eq_ppmw'], y=data1['P_bar'], line_color = lc1, line_width = lw,line_dash = \"solid\"), row = r, col = c)\n",
    "fig.update_xaxes(title = \"CO<sub>2</sub>-eq (ppmw)\", row = r, col = c)\n",
    "fig.update_yaxes(title = \"<i>P</i> (bars)\", autorange = 'reversed', row = r, col = c)\n",
    "\n",
    "# P vs. H2O\n",
    "c = 2\n",
    "fig.add_trace(go.Scatter(mode = \"markers\", x=data1['H2OT-eq_wtpc'], y=data1['P_bar'], line_color = lc1, line_width = lw,line_dash = \"solid\"), row = r, col = c)\n",
    "fig.update_xaxes(title = \"H<sub>2</sub>O-eq (wt%)\", row = r, col = c)\n",
    "\n",
    "# P vs. S\n",
    "c = 3\n",
    "fig.add_trace(go.Scatter(mode = \"markers\", x=data1['ST_ppmw'], y=data1['P_bar'], line_color = lc1, line_width = lw,line_dash = \"solid\"), row = r, col = c)\n",
    "fig.update_xaxes(title = \"S<sub>T</sub> (ppmw)\", row = r, col = c)\n",
    "\n",
    "fig.update_layout(height=400, width=1000, plot_bgcolor='rgb(255,255,255)' , showlegend = False)\n",
    "\n",
    "fig.update_xaxes(showline=True, linewidth=1, linecolor='black', mirror=True, ticks=\"inside\", ticklen=5, title_standoff = 0, tickcolor=\"black\",title_font=dict(size=15, family='Helvetica', color='black'), tickfont=dict(family='Helvetica', color='black', size=12))\n",
    "fig.update_yaxes(showline=True, linewidth=1, linecolor='black', mirror=True, ticks=\"inside\", ticklen=5, title_standoff = 0, tickcolor=\"black\",title_font=dict(size=15, family='Helvetica', color='black'), tickfont=dict(family='Helvetica', color='black', size=12))\n",
    "\n",
    "fig.update_layout(font_family=\"Helvetica\",font_color=\"black\")\n",
    "\n",
    "fig.show()"
   ]
  },
  {
   "cell_type": "markdown",
   "metadata": {},
   "source": [
    "If we only want to run row 4 (Agr07-4) through 18 (AGR19-02-16) in that spreadsheet, we simply specify the first and last rows we want to run (remembering that row 2 in a spreadsheet - i.e., the first analysis under the headings - is actually row 0 in the dataframe)."
   ]
  },
  {
   "cell_type": "code",
   "execution_count": 9,
   "metadata": {},
   "outputs": [
    {
     "data": {
      "text/html": [
       "<div>\n",
       "<style scoped>\n",
       "    .dataframe tbody tr th:only-of-type {\n",
       "        vertical-align: middle;\n",
       "    }\n",
       "\n",
       "    .dataframe tbody tr th {\n",
       "        vertical-align: top;\n",
       "    }\n",
       "\n",
       "    .dataframe thead th {\n",
       "        text-align: right;\n",
       "    }\n",
       "</style>\n",
       "<table border=\"1\" class=\"dataframe\">\n",
       "  <thead>\n",
       "    <tr style=\"text-align: right;\">\n",
       "      <th></th>\n",
       "      <th>sample</th>\n",
       "      <th>T_C</th>\n",
       "      <th>P_bar</th>\n",
       "      <th>SiO2_wtpc</th>\n",
       "      <th>TiO2_wtpc</th>\n",
       "      <th>Al2O3_wtpc</th>\n",
       "      <th>FeOT_wtpc</th>\n",
       "      <th>MnO_wtpc</th>\n",
       "      <th>MgO_wtpc</th>\n",
       "      <th>CaO_wtpc</th>\n",
       "      <th>...</th>\n",
       "      <th>KHOSg opt</th>\n",
       "      <th>KOSg opt</th>\n",
       "      <th>KOSg2 opt</th>\n",
       "      <th>KCOg opt</th>\n",
       "      <th>KCOHg opt</th>\n",
       "      <th>KOCSg opt</th>\n",
       "      <th>KCOs opt</th>\n",
       "      <th>carbonylsulfide opt</th>\n",
       "      <th>density opt</th>\n",
       "      <th>Date</th>\n",
       "    </tr>\n",
       "  </thead>\n",
       "  <tbody>\n",
       "    <tr>\n",
       "      <th>0</th>\n",
       "      <td>Agr07-4</td>\n",
       "      <td>1200</td>\n",
       "      <td>3061.065011</td>\n",
       "      <td>45.451495</td>\n",
       "      <td>0.650021</td>\n",
       "      <td>17.270568</td>\n",
       "      <td>10.190335</td>\n",
       "      <td>0.230008</td>\n",
       "      <td>5.540182</td>\n",
       "      <td>12.320405</td>\n",
       "      <td>...</td>\n",
       "      <td>Ohmoto97</td>\n",
       "      <td>Ohmoto97</td>\n",
       "      <td>ONeill22</td>\n",
       "      <td>Ohmoto97</td>\n",
       "      <td>Ohmoto97</td>\n",
       "      <td>Moussallam19</td>\n",
       "      <td>Holloway92</td>\n",
       "      <td>COS</td>\n",
       "      <td>DensityX</td>\n",
       "      <td>2024-04-15 18:35:56.151486</td>\n",
       "    </tr>\n",
       "    <tr>\n",
       "      <th>0</th>\n",
       "      <td>Agr07-9</td>\n",
       "      <td>1200</td>\n",
       "      <td>2278.508224</td>\n",
       "      <td>48.25551</td>\n",
       "      <td>0.760875</td>\n",
       "      <td>17.309912</td>\n",
       "      <td>9.150526</td>\n",
       "      <td>0.180207</td>\n",
       "      <td>4.825551</td>\n",
       "      <td>12.093912</td>\n",
       "      <td>...</td>\n",
       "      <td>Ohmoto97</td>\n",
       "      <td>Ohmoto97</td>\n",
       "      <td>ONeill22</td>\n",
       "      <td>Ohmoto97</td>\n",
       "      <td>Ohmoto97</td>\n",
       "      <td>Moussallam19</td>\n",
       "      <td>Holloway92</td>\n",
       "      <td>COS</td>\n",
       "      <td>DensityX</td>\n",
       "      <td>2024-04-15 18:35:56.643034</td>\n",
       "    </tr>\n",
       "    <tr>\n",
       "      <th>0</th>\n",
       "      <td>Agr07-15A</td>\n",
       "      <td>1200</td>\n",
       "      <td>2043.061869</td>\n",
       "      <td>47.769532</td>\n",
       "      <td>0.810841</td>\n",
       "      <td>16.747365</td>\n",
       "      <td>10.681075</td>\n",
       "      <td>0.220228</td>\n",
       "      <td>5.665875</td>\n",
       "      <td>11.34176</td>\n",
       "      <td>...</td>\n",
       "      <td>Ohmoto97</td>\n",
       "      <td>Ohmoto97</td>\n",
       "      <td>ONeill22</td>\n",
       "      <td>Ohmoto97</td>\n",
       "      <td>Ohmoto97</td>\n",
       "      <td>Moussallam19</td>\n",
       "      <td>Holloway92</td>\n",
       "      <td>COS</td>\n",
       "      <td>DensityX</td>\n",
       "      <td>2024-04-15 18:35:57.130501</td>\n",
       "    </tr>\n",
       "    <tr>\n",
       "      <th>0</th>\n",
       "      <td>Agr07-15B</td>\n",
       "      <td>1200</td>\n",
       "      <td>1570.778012</td>\n",
       "      <td>48.020961</td>\n",
       "      <td>0.860914</td>\n",
       "      <td>16.847879</td>\n",
       "      <td>10.43107</td>\n",
       "      <td>0.190202</td>\n",
       "      <td>5.555896</td>\n",
       "      <td>11.342036</td>\n",
       "      <td>...</td>\n",
       "      <td>Ohmoto97</td>\n",
       "      <td>Ohmoto97</td>\n",
       "      <td>ONeill22</td>\n",
       "      <td>Ohmoto97</td>\n",
       "      <td>Ohmoto97</td>\n",
       "      <td>Moussallam19</td>\n",
       "      <td>Holloway92</td>\n",
       "      <td>COS</td>\n",
       "      <td>DensityX</td>\n",
       "      <td>2024-04-15 18:35:57.572184</td>\n",
       "    </tr>\n",
       "    <tr>\n",
       "      <th>0</th>\n",
       "      <td>Agr04-13</td>\n",
       "      <td>1200</td>\n",
       "      <td>1841.206482</td>\n",
       "      <td>51.009753</td>\n",
       "      <td>0.801095</td>\n",
       "      <td>16.742895</td>\n",
       "      <td>8.842091</td>\n",
       "      <td>0.200274</td>\n",
       "      <td>4.866655</td>\n",
       "      <td>10.173912</td>\n",
       "      <td>...</td>\n",
       "      <td>Ohmoto97</td>\n",
       "      <td>Ohmoto97</td>\n",
       "      <td>ONeill22</td>\n",
       "      <td>Ohmoto97</td>\n",
       "      <td>Ohmoto97</td>\n",
       "      <td>Moussallam19</td>\n",
       "      <td>Holloway92</td>\n",
       "      <td>COS</td>\n",
       "      <td>DensityX</td>\n",
       "      <td>2024-04-15 18:35:58.074087</td>\n",
       "    </tr>\n",
       "    <tr>\n",
       "      <th>0</th>\n",
       "      <td>Agr04-14</td>\n",
       "      <td>1200</td>\n",
       "      <td>903.659354</td>\n",
       "      <td>48.748373</td>\n",
       "      <td>0.780775</td>\n",
       "      <td>18.618475</td>\n",
       "      <td>9.319247</td>\n",
       "      <td>0.170169</td>\n",
       "      <td>5.355314</td>\n",
       "      <td>12.071979</td>\n",
       "      <td>...</td>\n",
       "      <td>Ohmoto97</td>\n",
       "      <td>Ohmoto97</td>\n",
       "      <td>ONeill22</td>\n",
       "      <td>Ohmoto97</td>\n",
       "      <td>Ohmoto97</td>\n",
       "      <td>Moussallam19</td>\n",
       "      <td>Holloway92</td>\n",
       "      <td>COS</td>\n",
       "      <td>DensityX</td>\n",
       "      <td>2024-04-15 18:35:58.551961</td>\n",
       "    </tr>\n",
       "    <tr>\n",
       "      <th>0</th>\n",
       "      <td>AGR19-02-4</td>\n",
       "      <td>1200</td>\n",
       "      <td>2198.750989</td>\n",
       "      <td>47.941949</td>\n",
       "      <td>0.655476</td>\n",
       "      <td>17.667136</td>\n",
       "      <td>9.729727</td>\n",
       "      <td>0.266287</td>\n",
       "      <td>4.700994</td>\n",
       "      <td>13.099285</td>\n",
       "      <td>...</td>\n",
       "      <td>Ohmoto97</td>\n",
       "      <td>Ohmoto97</td>\n",
       "      <td>ONeill22</td>\n",
       "      <td>Ohmoto97</td>\n",
       "      <td>Ohmoto97</td>\n",
       "      <td>Moussallam19</td>\n",
       "      <td>Holloway92</td>\n",
       "      <td>COS</td>\n",
       "      <td>DensityX</td>\n",
       "      <td>2024-04-15 18:35:59.043846</td>\n",
       "    </tr>\n",
       "    <tr>\n",
       "      <th>0</th>\n",
       "      <td>AGR19-02-7</td>\n",
       "      <td>1200</td>\n",
       "      <td>1055.880248</td>\n",
       "      <td>47.730139</td>\n",
       "      <td>0.852868</td>\n",
       "      <td>18.570182</td>\n",
       "      <td>9.472925</td>\n",
       "      <td>0.172604</td>\n",
       "      <td>4.406484</td>\n",
       "      <td>12.853936</td>\n",
       "      <td>...</td>\n",
       "      <td>Ohmoto97</td>\n",
       "      <td>Ohmoto97</td>\n",
       "      <td>ONeill22</td>\n",
       "      <td>Ohmoto97</td>\n",
       "      <td>Ohmoto97</td>\n",
       "      <td>Moussallam19</td>\n",
       "      <td>Holloway92</td>\n",
       "      <td>COS</td>\n",
       "      <td>DensityX</td>\n",
       "      <td>2024-04-15 18:35:59.469477</td>\n",
       "    </tr>\n",
       "    <tr>\n",
       "      <th>0</th>\n",
       "      <td>AGR19-02-10</td>\n",
       "      <td>1200</td>\n",
       "      <td>2678.886996</td>\n",
       "      <td>47.019198</td>\n",
       "      <td>0.74585</td>\n",
       "      <td>18.196695</td>\n",
       "      <td>9.185193</td>\n",
       "      <td>0.153257</td>\n",
       "      <td>4.689659</td>\n",
       "      <td>12.914443</td>\n",
       "      <td>...</td>\n",
       "      <td>Ohmoto97</td>\n",
       "      <td>Ohmoto97</td>\n",
       "      <td>ONeill22</td>\n",
       "      <td>Ohmoto97</td>\n",
       "      <td>Ohmoto97</td>\n",
       "      <td>Moussallam19</td>\n",
       "      <td>Holloway92</td>\n",
       "      <td>COS</td>\n",
       "      <td>DensityX</td>\n",
       "      <td>2024-04-15 18:36:00.078523</td>\n",
       "    </tr>\n",
       "    <tr>\n",
       "      <th>0</th>\n",
       "      <td>AGR19-02-11</td>\n",
       "      <td>1200</td>\n",
       "      <td>1938.722301</td>\n",
       "      <td>47.917169</td>\n",
       "      <td>0.777976</td>\n",
       "      <td>18.077701</td>\n",
       "      <td>9.315237</td>\n",
       "      <td>0.214967</td>\n",
       "      <td>4.729274</td>\n",
       "      <td>12.713763</td>\n",
       "      <td>...</td>\n",
       "      <td>Ohmoto97</td>\n",
       "      <td>Ohmoto97</td>\n",
       "      <td>ONeill22</td>\n",
       "      <td>Ohmoto97</td>\n",
       "      <td>Ohmoto97</td>\n",
       "      <td>Moussallam19</td>\n",
       "      <td>Holloway92</td>\n",
       "      <td>COS</td>\n",
       "      <td>DensityX</td>\n",
       "      <td>2024-04-15 18:36:00.584422</td>\n",
       "    </tr>\n",
       "    <tr>\n",
       "      <th>0</th>\n",
       "      <td>AGR19-02-12B</td>\n",
       "      <td>1200</td>\n",
       "      <td>1745.560171</td>\n",
       "      <td>47.435232</td>\n",
       "      <td>0.745805</td>\n",
       "      <td>18.236461</td>\n",
       "      <td>10.400402</td>\n",
       "      <td>0.23498</td>\n",
       "      <td>4.137684</td>\n",
       "      <td>12.883013</td>\n",
       "      <td>...</td>\n",
       "      <td>Ohmoto97</td>\n",
       "      <td>Ohmoto97</td>\n",
       "      <td>ONeill22</td>\n",
       "      <td>Ohmoto97</td>\n",
       "      <td>Ohmoto97</td>\n",
       "      <td>Moussallam19</td>\n",
       "      <td>Holloway92</td>\n",
       "      <td>COS</td>\n",
       "      <td>DensityX</td>\n",
       "      <td>2024-04-15 18:36:01.045298</td>\n",
       "    </tr>\n",
       "    <tr>\n",
       "      <th>0</th>\n",
       "      <td>AGR19-02-13</td>\n",
       "      <td>1200</td>\n",
       "      <td>1303.820921</td>\n",
       "      <td>48.921079</td>\n",
       "      <td>0.816883</td>\n",
       "      <td>17.185175</td>\n",
       "      <td>10.517368</td>\n",
       "      <td>0.234854</td>\n",
       "      <td>4.349902</td>\n",
       "      <td>11.507839</td>\n",
       "      <td>...</td>\n",
       "      <td>Ohmoto97</td>\n",
       "      <td>Ohmoto97</td>\n",
       "      <td>ONeill22</td>\n",
       "      <td>Ohmoto97</td>\n",
       "      <td>Ohmoto97</td>\n",
       "      <td>Moussallam19</td>\n",
       "      <td>Holloway92</td>\n",
       "      <td>COS</td>\n",
       "      <td>DensityX</td>\n",
       "      <td>2024-04-15 18:36:01.535263</td>\n",
       "    </tr>\n",
       "    <tr>\n",
       "      <th>0</th>\n",
       "      <td>AGR19-02-14</td>\n",
       "      <td>1200</td>\n",
       "      <td>2094.864378</td>\n",
       "      <td>47.47502</td>\n",
       "      <td>0.694408</td>\n",
       "      <td>17.901422</td>\n",
       "      <td>10.038276</td>\n",
       "      <td>0.183814</td>\n",
       "      <td>5.351024</td>\n",
       "      <td>11.907049</td>\n",
       "      <td>...</td>\n",
       "      <td>Ohmoto97</td>\n",
       "      <td>Ohmoto97</td>\n",
       "      <td>ONeill22</td>\n",
       "      <td>Ohmoto97</td>\n",
       "      <td>Ohmoto97</td>\n",
       "      <td>Moussallam19</td>\n",
       "      <td>Holloway92</td>\n",
       "      <td>COS</td>\n",
       "      <td>DensityX</td>\n",
       "      <td>2024-04-15 18:36:02.079031</td>\n",
       "    </tr>\n",
       "    <tr>\n",
       "      <th>0</th>\n",
       "      <td>AGR19-02-15</td>\n",
       "      <td>1200</td>\n",
       "      <td>3120.122341</td>\n",
       "      <td>46.734976</td>\n",
       "      <td>0.618939</td>\n",
       "      <td>17.888355</td>\n",
       "      <td>9.588483</td>\n",
       "      <td>0.213077</td>\n",
       "      <td>4.535505</td>\n",
       "      <td>13.697833</td>\n",
       "      <td>...</td>\n",
       "      <td>Ohmoto97</td>\n",
       "      <td>Ohmoto97</td>\n",
       "      <td>ONeill22</td>\n",
       "      <td>Ohmoto97</td>\n",
       "      <td>Ohmoto97</td>\n",
       "      <td>Moussallam19</td>\n",
       "      <td>Holloway92</td>\n",
       "      <td>COS</td>\n",
       "      <td>DensityX</td>\n",
       "      <td>2024-04-15 18:36:02.697190</td>\n",
       "    </tr>\n",
       "    <tr>\n",
       "      <th>0</th>\n",
       "      <td>AGR19-02-16</td>\n",
       "      <td>1200</td>\n",
       "      <td>2653.958636</td>\n",
       "      <td>46.272265</td>\n",
       "      <td>0.66434</td>\n",
       "      <td>17.32316</td>\n",
       "      <td>10.740158</td>\n",
       "      <td>0.221447</td>\n",
       "      <td>5.395243</td>\n",
       "      <td>12.149363</td>\n",
       "      <td>...</td>\n",
       "      <td>Ohmoto97</td>\n",
       "      <td>Ohmoto97</td>\n",
       "      <td>ONeill22</td>\n",
       "      <td>Ohmoto97</td>\n",
       "      <td>Ohmoto97</td>\n",
       "      <td>Moussallam19</td>\n",
       "      <td>Holloway92</td>\n",
       "      <td>COS</td>\n",
       "      <td>DensityX</td>\n",
       "      <td>2024-04-15 18:36:03.240222</td>\n",
       "    </tr>\n",
       "  </tbody>\n",
       "</table>\n",
       "<p>15 rows × 173 columns</p>\n",
       "</div>"
      ],
      "text/plain": [
       "0        sample   T_C        P_bar  SiO2_wtpc TiO2_wtpc Al2O3_wtpc  FeOT_wtpc  \\\n",
       "0       Agr07-4  1200  3061.065011  45.451495  0.650021  17.270568  10.190335   \n",
       "0       Agr07-9  1200  2278.508224   48.25551  0.760875  17.309912   9.150526   \n",
       "0     Agr07-15A  1200  2043.061869  47.769532  0.810841  16.747365  10.681075   \n",
       "0     Agr07-15B  1200  1570.778012  48.020961  0.860914  16.847879   10.43107   \n",
       "0      Agr04-13  1200  1841.206482  51.009753  0.801095  16.742895   8.842091   \n",
       "0      Agr04-14  1200   903.659354  48.748373  0.780775  18.618475   9.319247   \n",
       "0    AGR19-02-4  1200  2198.750989  47.941949  0.655476  17.667136   9.729727   \n",
       "0    AGR19-02-7  1200  1055.880248  47.730139  0.852868  18.570182   9.472925   \n",
       "0   AGR19-02-10  1200  2678.886996  47.019198   0.74585  18.196695   9.185193   \n",
       "0   AGR19-02-11  1200  1938.722301  47.917169  0.777976  18.077701   9.315237   \n",
       "0  AGR19-02-12B  1200  1745.560171  47.435232  0.745805  18.236461  10.400402   \n",
       "0   AGR19-02-13  1200  1303.820921  48.921079  0.816883  17.185175  10.517368   \n",
       "0   AGR19-02-14  1200  2094.864378   47.47502  0.694408  17.901422  10.038276   \n",
       "0   AGR19-02-15  1200  3120.122341  46.734976  0.618939  17.888355   9.588483   \n",
       "0   AGR19-02-16  1200  2653.958636  46.272265   0.66434   17.32316  10.740158   \n",
       "\n",
       "0  MnO_wtpc  MgO_wtpc   CaO_wtpc  ... KHOSg opt  KOSg opt KOSg2 opt  KCOg opt  \\\n",
       "0  0.230008  5.540182  12.320405  ...  Ohmoto97  Ohmoto97  ONeill22  Ohmoto97   \n",
       "0  0.180207  4.825551  12.093912  ...  Ohmoto97  Ohmoto97  ONeill22  Ohmoto97   \n",
       "0  0.220228  5.665875   11.34176  ...  Ohmoto97  Ohmoto97  ONeill22  Ohmoto97   \n",
       "0  0.190202  5.555896  11.342036  ...  Ohmoto97  Ohmoto97  ONeill22  Ohmoto97   \n",
       "0  0.200274  4.866655  10.173912  ...  Ohmoto97  Ohmoto97  ONeill22  Ohmoto97   \n",
       "0  0.170169  5.355314  12.071979  ...  Ohmoto97  Ohmoto97  ONeill22  Ohmoto97   \n",
       "0  0.266287  4.700994  13.099285  ...  Ohmoto97  Ohmoto97  ONeill22  Ohmoto97   \n",
       "0  0.172604  4.406484  12.853936  ...  Ohmoto97  Ohmoto97  ONeill22  Ohmoto97   \n",
       "0  0.153257  4.689659  12.914443  ...  Ohmoto97  Ohmoto97  ONeill22  Ohmoto97   \n",
       "0  0.214967  4.729274  12.713763  ...  Ohmoto97  Ohmoto97  ONeill22  Ohmoto97   \n",
       "0   0.23498  4.137684  12.883013  ...  Ohmoto97  Ohmoto97  ONeill22  Ohmoto97   \n",
       "0  0.234854  4.349902  11.507839  ...  Ohmoto97  Ohmoto97  ONeill22  Ohmoto97   \n",
       "0  0.183814  5.351024  11.907049  ...  Ohmoto97  Ohmoto97  ONeill22  Ohmoto97   \n",
       "0  0.213077  4.535505  13.697833  ...  Ohmoto97  Ohmoto97  ONeill22  Ohmoto97   \n",
       "0  0.221447  5.395243  12.149363  ...  Ohmoto97  Ohmoto97  ONeill22  Ohmoto97   \n",
       "\n",
       "0 KCOHg opt     KOCSg opt    KCOs opt carbonylsulfide opt density opt  \\\n",
       "0  Ohmoto97  Moussallam19  Holloway92                 COS    DensityX   \n",
       "0  Ohmoto97  Moussallam19  Holloway92                 COS    DensityX   \n",
       "0  Ohmoto97  Moussallam19  Holloway92                 COS    DensityX   \n",
       "0  Ohmoto97  Moussallam19  Holloway92                 COS    DensityX   \n",
       "0  Ohmoto97  Moussallam19  Holloway92                 COS    DensityX   \n",
       "0  Ohmoto97  Moussallam19  Holloway92                 COS    DensityX   \n",
       "0  Ohmoto97  Moussallam19  Holloway92                 COS    DensityX   \n",
       "0  Ohmoto97  Moussallam19  Holloway92                 COS    DensityX   \n",
       "0  Ohmoto97  Moussallam19  Holloway92                 COS    DensityX   \n",
       "0  Ohmoto97  Moussallam19  Holloway92                 COS    DensityX   \n",
       "0  Ohmoto97  Moussallam19  Holloway92                 COS    DensityX   \n",
       "0  Ohmoto97  Moussallam19  Holloway92                 COS    DensityX   \n",
       "0  Ohmoto97  Moussallam19  Holloway92                 COS    DensityX   \n",
       "0  Ohmoto97  Moussallam19  Holloway92                 COS    DensityX   \n",
       "0  Ohmoto97  Moussallam19  Holloway92                 COS    DensityX   \n",
       "\n",
       "0                        Date  \n",
       "0  2024-04-15 18:35:56.151486  \n",
       "0  2024-04-15 18:35:56.643034  \n",
       "0  2024-04-15 18:35:57.130501  \n",
       "0  2024-04-15 18:35:57.572184  \n",
       "0  2024-04-15 18:35:58.074087  \n",
       "0  2024-04-15 18:35:58.551961  \n",
       "0  2024-04-15 18:35:59.043846  \n",
       "0  2024-04-15 18:35:59.469477  \n",
       "0  2024-04-15 18:36:00.078523  \n",
       "0  2024-04-15 18:36:00.584422  \n",
       "0  2024-04-15 18:36:01.045298  \n",
       "0  2024-04-15 18:36:01.535263  \n",
       "0  2024-04-15 18:36:02.079031  \n",
       "0  2024-04-15 18:36:02.697190  \n",
       "0  2024-04-15 18:36:03.240222  \n",
       "\n",
       "[15 rows x 173 columns]"
      ]
     },
     "execution_count": 9,
     "metadata": {},
     "output_type": "execute_result"
    }
   ],
   "source": [
    "vf.calc_Pvsat(my_analyses,first_row=2, last_row=17)"
   ]
  }
 ],
 "metadata": {
  "kernelspec": {
   "display_name": "base",
   "language": "python",
   "name": "python3"
  },
  "language_info": {
   "codemirror_mode": {
    "name": "ipython",
    "version": 3
   },
   "file_extension": ".py",
   "mimetype": "text/x-python",
   "name": "python",
   "nbconvert_exporter": "python",
   "pygments_lexer": "ipython3",
   "version": "3.11.7"
  }
 },
 "nbformat": 4,
 "nbformat_minor": 2
}
