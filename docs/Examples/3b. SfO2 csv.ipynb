{
 "cells": [
  {
   "cell_type": "markdown",
   "metadata": {},
   "source": [
    "# 3b. Calculate <i>f</i><sub>O<sub>2</sub></sub> from melt S<sub>T</sub> for analyses from a csv file using default options\n",
    "\n",
    "This time, instead of creating a dataframe in a cell for the analysis, we'll read it in from a spreadsheet. "
   ]
  },
  {
   "cell_type": "markdown",
   "metadata": {},
   "source": [
    "## Python set-up\n",
    "You need to install VolFe once on your machine, if you haven't yet. Then we need to import a few Python packages (including VolFe)"
   ]
  },
  {
   "cell_type": "code",
   "execution_count": 1,
   "metadata": {},
   "outputs": [],
   "source": [
    "# Install VolFe on your machine. Don't remove the # from this line!\n",
    "# pip install VolFe # Remove the first # in this line if you have not installed VolFe on your machine before.\n",
    "\n",
    "# import python packages\n",
    "import pandas as pd\n",
    "import matplotlib.pyplot as plt\n",
    "import VolFe as vf"
   ]
  },
  {
   "cell_type": "markdown",
   "metadata": {},
   "source": [
    "## Import data\n",
    "\n",
    "We'll use the examples_marianas_wT csv in files and use all the default options again and we'll do the calculation at <i>P<sup>v</sup></i><sub>sat</sub> (i.e., we don't know the pressure). \n",
    "\n",
    "The data in this file are from Brounce et al. (2014) and Kelley & Cottrell (2012)."
   ]
  },
  {
   "cell_type": "code",
   "execution_count": 2,
   "metadata": {},
   "outputs": [],
   "source": [
    "# Read csv to define melt composition\n",
    "my_analyses = pd.read_csv(\"../files/example_marianas_wT.csv\") "
   ]
  },
  {
   "cell_type": "markdown",
   "metadata": {},
   "source": [
    "## Run the calculation\n",
    "\n",
    "### Calculate only for the first row\n",
    "\n",
    "There are a few analyses in the csv. First, we will tell the function to stop after the first analysis by saying last_row=1:"
   ]
  },
  {
   "cell_type": "code",
   "execution_count": 3,
   "metadata": {},
   "outputs": [
    {
     "data": {
      "text/html": [
       "<div>\n",
       "<style scoped>\n",
       "    .dataframe tbody tr th:only-of-type {\n",
       "        vertical-align: middle;\n",
       "    }\n",
       "\n",
       "    .dataframe tbody tr th {\n",
       "        vertical-align: top;\n",
       "    }\n",
       "\n",
       "    .dataframe thead th {\n",
       "        text-align: right;\n",
       "    }\n",
       "</style>\n",
       "<table border=\"1\" class=\"dataframe\">\n",
       "  <thead>\n",
       "    <tr style=\"text-align: right;\">\n",
       "      <th></th>\n",
       "      <th>sample</th>\n",
       "      <th>T ('C)</th>\n",
       "      <th>H2OT-eq_wtpc</th>\n",
       "      <th>CO2T-eq_ppmw</th>\n",
       "      <th>ST_ppmw</th>\n",
       "      <th>X_ppmw</th>\n",
       "      <th>P (bar) sulf</th>\n",
       "      <th>S2- SCSS</th>\n",
       "      <th>sulfide saturated?</th>\n",
       "      <th>DFMQ-sulfide</th>\n",
       "      <th>...</th>\n",
       "      <th>KHOSg opt</th>\n",
       "      <th>KOSg opt</th>\n",
       "      <th>KOSg2 opt</th>\n",
       "      <th>KCOg opt</th>\n",
       "      <th>KCOHg opt</th>\n",
       "      <th>KOCSg opt</th>\n",
       "      <th>KCOs opt</th>\n",
       "      <th>carbonylsulfide opt</th>\n",
       "      <th>density opt</th>\n",
       "      <th>Date</th>\n",
       "    </tr>\n",
       "  </thead>\n",
       "  <tbody>\n",
       "    <tr>\n",
       "      <th>0</th>\n",
       "      <td>TN273-01D-01-01</td>\n",
       "      <td>1200</td>\n",
       "      <td>1.88</td>\n",
       "      <td>13</td>\n",
       "      <td>362.83</td>\n",
       "      <td>0</td>\n",
       "      <td></td>\n",
       "      <td>422.089182</td>\n",
       "      <td>no</td>\n",
       "      <td></td>\n",
       "      <td>...</td>\n",
       "      <td>Ohmoto97</td>\n",
       "      <td>Ohmoto97</td>\n",
       "      <td>ONeill22</td>\n",
       "      <td>Ohmoto97</td>\n",
       "      <td>Ohmoto97</td>\n",
       "      <td>Moussallam19</td>\n",
       "      <td>Holloway92</td>\n",
       "      <td>COS</td>\n",
       "      <td>DensityX</td>\n",
       "      <td>2024-07-13 18:12:06.185911</td>\n",
       "    </tr>\n",
       "  </tbody>\n",
       "</table>\n",
       "<p>1 rows × 67 columns</p>\n",
       "</div>"
      ],
      "text/plain": [
       "0           sample T ('C) H2OT-eq_wtpc CO2T-eq_ppmw ST_ppmw X_ppmw  \\\n",
       "0  TN273-01D-01-01   1200         1.88           13  362.83      0   \n",
       "\n",
       "0 P (bar) sulf    S2- SCSS sulfide saturated? DFMQ-sulfide  ... KHOSg opt  \\\n",
       "0               422.089182                 no               ...  Ohmoto97   \n",
       "\n",
       "0  KOSg opt KOSg2 opt  KCOg opt KCOHg opt     KOCSg opt    KCOs opt  \\\n",
       "0  Ohmoto97  ONeill22  Ohmoto97  Ohmoto97  Moussallam19  Holloway92   \n",
       "\n",
       "0 carbonylsulfide opt density opt                        Date  \n",
       "0                 COS    DensityX  2024-07-13 18:12:06.185911  \n",
       "\n",
       "[1 rows x 67 columns]"
      ]
     },
     "execution_count": 3,
     "metadata": {},
     "output_type": "execute_result"
    }
   ],
   "source": [
    "# runs the calculation\n",
    "vf.calc_melt_S_oxybarometer(my_analyses,last_row=1)"
   ]
  },
  {
   "cell_type": "markdown",
   "metadata": {},
   "source": [
    "### Calculate for all rows\n",
    "\n",
    "To run all the analyses, simply don't tell it the last row you want to run. \n",
    "\n",
    "All analyses must be in consequitive rows for this to work! \n",
    "\n",
    "At the end it will show the dataframe of the full results."
   ]
  },
  {
   "cell_type": "code",
   "execution_count": 5,
   "metadata": {},
   "outputs": [],
   "source": [
    "# runs the calculation\n",
    "results = vf.calc_melt_S_oxybarometer(my_analyses)"
   ]
  },
  {
   "cell_type": "markdown",
   "metadata": {},
   "source": [
    "### Calculate for particular rows\n",
    "\n",
    "If we only want to run row 4 (Agr07-4) through 18 (AGR19-02-16) in that spreadsheet, we simply specify the first and last rows we want to run (remembering that row 2 in a spreadsheet - i.e., the first analysis under the headings - is actually row 0 in the dataframe)."
   ]
  },
  {
   "cell_type": "code",
   "execution_count": 6,
   "metadata": {},
   "outputs": [],
   "source": [
    "results2 = vf.calc_melt_S_oxybarometer(my_analyses,first_row=2, last_row=17)"
   ]
  },
  {
   "cell_type": "markdown",
   "metadata": {},
   "source": [
    "## Plotting\n",
    "\n",
    "We can plot <i>P<sup>v</sup></i><sub>sat</sub> vs. <i>f</i><sub>O<sub>2</sub></sub> for all the analyses"
   ]
  },
  {
   "cell_type": "code",
   "execution_count": 22,
   "metadata": {},
   "outputs": [
    {
     "data": {
      "text/plain": [
       "(4500.0, 0.0)"
      ]
     },
     "execution_count": 22,
     "metadata": {},
     "output_type": "execute_result"
    },
    {
     "data": {
      "image/png": "[encoded data removed]",
      "text/plain": [
       "<Figure size 400x400 with 1 Axes>"
      ]
     },
     "metadata": {},
     "output_type": "display_data"
    }
   ],
   "source": [
    "fig, (ax1) = plt.subplots(1, 1, figsize=(4,4))\n",
    "\n",
    "# Plotting data\n",
    "\n",
    "data1 = results[results['DFMQ-sulfide'] != \"\"] # all calculations\n",
    "data2 = results2[results2['DFMQ-sulfide'] != \"\"] # 4 to 18\n",
    "\n",
    "ax1.plot(data1['DFMQ-sulfide'],data1['P (bar) sulf'], 'ok', mfc='blue')\n",
    "ax1.plot(data2['DFMQ-sulfide'],data2['P (bar) sulf'], 'ok', mfc='red')\n",
    "\n",
    "ax1.set_xlabel('DFMQ')\n",
    "ax1.set_ylabel('P (bar)')\n",
    "ax1.set_ylim([4500, 0])"
   ]
  }
 ],
 "metadata": {
  "kernelspec": {
   "display_name": "volfe-dev",
   "language": "python",
   "name": "python3"
  },
  "language_info": {
   "codemirror_mode": {
    "name": "ipython",
    "version": 3
   },
   "file_extension": ".py",
   "mimetype": "text/x-python",
   "name": "python",
   "nbconvert_exporter": "python",
   "pygments_lexer": "ipython3",
   "version": "3.13.0"
  }
 },
 "nbformat": 4,
 "nbformat_minor": 2
}
