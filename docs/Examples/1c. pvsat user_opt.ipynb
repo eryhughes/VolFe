{
 "cells": [
  {
   "cell_type": "markdown",
   "metadata": {},
   "source": [
    "## 1c. Calculate <i>P<sup>v</sup></i><sub>sat</sub> for analyses in a csv file using user specified options\n",
    "\n",
    "What if I don't want to use the default options..."
   ]
  },
  {
   "cell_type": "markdown",
   "metadata": {},
   "source": [
    "## Setting things up\n",
    "First we need to import a few Python packages (including VolFe) and set the precision of the calculations. You need to install VolFe once on your machine, if you haven't yet, uncomment the line below (remove the #)."
   ]
  },
  {
   "cell_type": "code",
   "execution_count": 1,
   "metadata": {},
   "outputs": [],
   "source": [
    "# Install VolFe on your machine. Remove the # from line below to do this (don't remove the # from this line!).\n",
    "# pip install VolFe"
   ]
  },
  {
   "cell_type": "code",
   "execution_count": 2,
   "metadata": {},
   "outputs": [],
   "source": [
    "# import python packages\n",
    "import pandas as pd\n",
    "import gmpy2 as gp\n",
    "import VolFe as vf\n",
    "\n",
    "# set calculation precision\n",
    "gp.get_context().precision=50"
   ]
  },
  {
   "cell_type": "markdown",
   "metadata": {},
   "source": [
    "In that case, we create a dataframe telling VolFe what to use instead. There are lots of options that can be changed, which can be viewed below. "
   ]
  },
  {
   "cell_type": "code",
   "execution_count": 3,
   "metadata": {},
   "outputs": [
    {
     "name": "stdout",
     "output_type": "stream",
     "text": [
      "Help on function make_df_and_add_model_defaults in module VolFe.model_dependent_variables:\n",
      "\n",
      "make_df_and_add_model_defaults(models)\n",
      "    Converts user-provided model configurations (e.g. ['carbon dioxide','MORB_Dixon95'],['hydrogen sulfide','basaltic andesite']\n",
      "    into a structured pandas DataFrame, combined with default options for anything not specified\n",
      "    \n",
      "    \n",
      "    Parameters\n",
      "    ----------\n",
      "    models : list of [str, str]\n",
      "        A list of lists, where each inner list contains two elements: the model type (str)\n",
      "        and the user-specified option (str) for that model type.\n",
      "    \n",
      "    Returns\n",
      "    -------\n",
      "    pandas.DataFrame\n",
      "        A DataFrame where the first column is 'type', set as the index, and the second column\n",
      "        is 'option', containing the user-specified option or the default option if none is provided.\n",
      "        \n",
      "    Model Parameters and Options\n",
      "    ---------------------------------\n",
      "    The following parameters can be overridden in models. \n",
      "    Any parameter can be set to 'setup', in which case the parameter is specified in the setup dataframe instead.\n",
      "    \n",
      "    \n",
      "    ### Specifying species ###\n",
      "    \n",
      "    insolubles: Specifying if H2, CO, and CH4 are present in the melt and/or vapor.\n",
      "        default: 'yes' Include H2mol, COmol and/or CH4mol as dissolved melt species (which species depends on whether H and/or C are volatile elements).\n",
      "        Other options: \n",
      "        'no' H2, CO and/or CH4 are insoluble in the melt.\n",
      "        'H2O-CO2 only' The only species present in the vapor are H2O and CO2 and in the melt are H2OT and CO2T (i.e., no CO, H2, and/or CH4 in the melt or vapor).\n",
      "        \n",
      "    H2S_m: Specify if H2S is a dissolved melt species.\n",
      "        default 'yes' Include H2Smol as a dissolved melt species. \n",
      "        Other options:  \n",
      "        'no' H2Smol is insoluble in the melt.\n",
      "        \n",
      "    species X: Chemical identity of species X, which defines its atomic mass.\n",
      "        default 'Ar' Species X is argon (i.e., atomic mass of ~40).\n",
      "        Other options:\n",
      "        'Ne' Species X is Ne (i.e., atomic mass of ~20).\n",
      "    \n",
      "    ### Hspeciation: default 'none' Oxidised H in the melt only occurs as H2O species (i.e., no OH-).\n",
      "        Other options:\n",
      "    \n",
      "    \n",
      "    ### Oxygen fugacity ###\n",
      "    \n",
      "    ### fO2: Model for parameterisation of relationship between fO2 and Fe3+/FeT\n",
      "        default: 'Kress91A' Eq. (A-5, A-6) from Kress & Carmichael (1991) CMP 108:82-92 doi:10.1007/BF00307328\n",
      "        Other options:\n",
      "    \n",
      "    NNObuffer: Model for the parameterisation for the fO2 value of the NNO buffer.\n",
      "        default: 'Frost91' Frost (1991) in \"Oxide Minerals: Petrologic and Magnetic Significance\" doi:10.1515/9781501508684-004\n",
      "    \n",
      "    FMQbuffer: Model for the parameterisation for the fO2 value of the FMQ buffer.\n",
      "        default: 'Frost91' Frost (1991) in \"Oxide Minerals: Petrologic and Magnetic Significance\" doi:10.1515/9781501508684-004\n",
      "        Other options:\n",
      "        'ONeill87' O'Neill (1897) AmMin 72(1-2):67-75\n",
      "    \n",
      "    \n",
      "    ### Models for solubility and speciation constants ###\n",
      "    \n",
      "    carbon dioxide: Model for the parameterisation of the CO2T solubility constant.\n",
      "        default: 'MORB_Dixon95' Bullet (5) of summary from Dixon et al. (1995) JPet 36(6):1607-1631 doi:10.1093/oxfordjournals.petrology.a037267\n",
      "        Other options:\n",
      "        'Basalt_Dixon97' Eq. (7) from Dixon et al. (1997) AmMin 82(3-4)368-378 doi:10.2138/am-1997-3-415\n",
      "        'NorthArchBasalt_Dixon97' Eq. (8) from Dixon et al. (1997) AmMin 82(3-4)368-378 doi:10.2138/am-1997-3-415\n",
      "        'Basalt_Lesne11' Eq. (25,26) from Lesne et al. (2011) CMP 162:153-168 doi:10.1007/s00410-010-0585-0\n",
      "        'VesuviusAlkaliBasalt_Lesne11' VES-9 in Table 4 from Lesne et al. (2011) CMP 162:153-168 doi:10.1007/s00410-010-0585-0\n",
      "        'EtnaAlkaliBasalt_Lesne11' ETN-1 in Table 4 from Lesne et al. (2011) CMP 162:153-168 doi:10.1007/s00410-010-0585-0\n",
      "        'StromboliAlkaliBasalt_Lense11' PST-9 in Table 4 from Lesne et al. (2011) CMP 162:153-168 doi:10.1007/s00410-010-0585-0\n",
      "        'SunsetCraterAlkaliBasalt_Allison19' Sunset Crater in Table 4 from Allison et al. (2019) CMP 174:58 doi:10.1007/s00410-019-1592-4 \n",
      "        'SVFVBasalticAndesite_Allison19' SVFV in Table 4 from Allison et al. (2019) CMP 174:58 doi:10.1007/s00410-019-1592-4 \n",
      "        'ErebusPhonotephrite_Allison19' Erebus in Table 4 from Allison et al. (2019) CMP 174:58 doi:10.1007/s00410-019-1592-4 \n",
      "        'VesuviusPhonotephrite_Allison19' Vesuvius in Table 4 from Allison et al. (2019) CMP 174:58 doi:10.1007/s00410-019-1592-4 \n",
      "        'EtnaTrachybasalt_Allison19' Etna in Table 4 from Allison et al. (2019) CMP 174:58 doi:10.1007/s00410-019-1592-4 \n",
      "        'StromboliAlkaliBasalt_Allison19' Stromboli in Table 4 from Allison et al. (2019) CMP 174:58 doi:10.1007/s00410-019-1592-4 \n",
      "        'Basanite_Holloway94' Basanite in Table 5 from Holloway and Blank (1994) RiMG 30:187-230 doi:10.1515/9781501509674-012\n",
      "        'Leucitite_Thibault94' Leucitite from Thibault & Holloway (1994) CMP 116:216-224 doi:10.1007/BF00310701\n",
      "        'TholeiiteBasalt_Allison22' N72 basalt in Table 2 from Allison et al. (2022) CMP 177:40 doi:10.1007/s00410-022-01903-y\n",
      "        'Rhyolite_Blank93' Fig.2 caption from Blank et al. (1993) EPSL 119:27-36 doi:10.1016/0012-821X(93)90004-S\n",
      "    \n",
      "    ### water: Model for the parameterisation for the H2O solubility constant.\n",
      "        default: 'AllisonDataComp' The p is from Hughes et al. (2024) AmMin 109(3):422-438 based on data compiliation from Allison et al. (2022) CMP 177(3):40 doi:10.1007/s00410-022-01903-y\n",
      "    \n",
      "    hydrogen: Model for the parameterisation of the H2 solubility constant.\n",
      "        default: 'Basalt_Hughes24' Basalt H2 in Table S4 from Hughes et al. (2024) AmMin 109(3):422-438 doi:10.2138/am-2023-8739\n",
      "        Other options:\n",
      "        'Andesite_Hughes24' Andesite H2 in Table S4 from Hughes et al. (2024) AmMin 109(3):422-438 doi:10.2138/am-2023-8739\n",
      "    \n",
      "    sulfide: Model for the parameterisation for the *S2- solubility constant (all calibrated over wide range of silicate melt compositions).\n",
      "        default: 'ONeill21dil' Eq. (10.34) inc. H2O dilution from O'Neill (2021) in \"Magma Redox Geochemistry\" doi:10.1002/9781119473206.ch10\n",
      "        Other options:\n",
      "        'ONeill21' Eq. (10.34) ex. H2O dilution from O'Neill (2021) in \"Magma Redox Geochemistry\" doi:10.1002/9781119473206.ch10\n",
      "        'ONeill21hyd' (hydrous) Eq. (10.34, 10.49) from O'Neill (2021) in \"Magma Redox Geochemistry\" doi:10.1002/9781119473206.ch10\n",
      "        'Boulliung23eq6' Eq. (6) from Boulliung & Wood (2023) CMP 178:56 doi:10.1007/s00410-023-02033-9\n",
      "        'Boulliung23eq7' Eq. (7) from Boulliung & Wood (2023) CMP 178:56 doi:10.1007/s00410-023-02033-9 \n",
      "    \n",
      "    sulfate: Model for the parameterisation of the S6+ solubility constant (all calibrated over wide range of silicate melt compositions).\n",
      "        default: 'ONeill22dil' Eq. (12a) inc. H2O dilution from O'Neill & Mavrogenes (2022) GCA 334:368-382 10.1016/j.gca.2022.06.020\n",
      "        Other options:\n",
      "        'ONeill22' Eq. (12a) without H2O dilution from O'Neill & Mavrogenes (2022) GCA 334:368-382 doi:10.1016/j.gca.2022.06.020\n",
      "        'Boulliung22nP' (no P-dependence) Eq. (5) from Boulliung & Wood (2023) GCA 343:420 doi:10.1016/j.gca.2022.11.025\n",
      "        'Boulliung22wP' (inc. P-dependece) Eq. (5) from Boulliung & Wood (2023) GCA 343:420 doi:10.1016/j.gca.2022.11.025 and Eq. (8) for P from Boulliung & Wood (2022) GCA 336:150-164 doi:10.1016/j.gca.2022.08.032\n",
      "        'Boulliung23eq9' Eq. (9) from Boulliung & Wood (2023) CMP 178:56 doi:10.1007/s00410-023-02033-9\n",
      "        'Boulliung23eq11' Eq. (11) from Boulliung & Wood (2023) CMP 178:56 doi:10.1007/s00410-023-02033-9\n",
      "    \n",
      "    hydrogen sulfide: Model for the parameterisation for the H2S solubility constant.\n",
      "        default 'Basalt_Hughes24' Fig.S6 from Hughes et al. (2024) AmMin 109(3):422-438 doi:10.2138/am-2023-8739\n",
      "        Other options:\n",
      "        'BasalticAndesite_Hughes24' Fig.S6 from Hughes et al. (2024) AmMin 109(3):422-438 doi:10.2138/am-2023-8739\n",
      "    \n",
      "    methane: Model for the parameterisation of the CH4 solubility constant.\n",
      "        default: 'Basalt_Ardia13' Eq. (7a) from Ardia et al. (2013) GCA 114:52-71 doi:10.1016/j.gca.2013.03.028\n",
      "    \n",
      "    carbon monoxide: Model for the parameterisation of the CO solubility constant.\n",
      "        default: 'Basalt_Hughes24' CO in Table S4 from Hughes et al. (2024) AmMin 109(3):422-438 doi:10.2138/am-2023-8739\n",
      "    \n",
      "    ### species X solubility: Model for the parameterisation of the X solubility constant. \n",
      "        default: 'Iacono-Marziano10_Ar_basalt' is based on experimental data from Iacono-Marziano et al. (2010) 279(3-4)145-157\n",
      "    \n",
      "    Cspeccomp:\n",
      "        default: basalt'\n",
      "    \n",
      "    Hspeccomp\n",
      "        default: MORB\n",
      "    \n",
      "        \n",
      "    ### Saturation conditions ###\n",
      "        \n",
      "    ['SCSS','ONeill21hyd'],['SCAS','Zajacz19'],['sulfur_saturation','no'],['sulfur_is_sat','no'],['graphite_saturation','no'],\n",
      "              \n",
      "    ### Fugacity coefficients ###\n",
      "          \n",
      "    ideal_gas: Treat all vapor species as ideal gases (i.e., all fugacity coefficients = 1 at all P).\n",
      "        default: 'no' At least some of the vapor species are not treated as ideal gases. \n",
      "        Other options:\n",
      "        'yes' All fugacity coefficients = 1 at all P.\n",
      "    \n",
      "    y_CO2: Model for the parameterisation of the CO2 fugacity coefficient.\n",
      "        default: 'Shi92' Shi & Saxena (1992) AmMin 77(9-10):1038-1049\n",
      "        Other options:\n",
      "        'Holloway91' Holland & Powell (1991) CMP 109:265-273 10.1007/BF00306484\n",
      "        'ideal' Treat CO2 as ideal gas species, fugacity coefficient = 1 at all P.\n",
      "    \n",
      "    y_SO2: Model for the parameterisation of the SO2 fugacity coefficient.\n",
      "        default: 'Shi92_Hughes23' Fig.S1 Hughes et al. (2023) JGSL 180(3) doi:10.1144/jgs2021-12\n",
      "        Other options:\n",
      "        'Shi92' Shi & Saxena (1992) AmMin 77(9-10):1038-1049\n",
      "        'ideal' Treat SO2 as ideal gas species, fugacity coefficient = 1 at all P.\n",
      "    \n",
      "    y_H2S: Model for the parameterisation of the H2S fugacity coefficient.\n",
      "        default: 'Shi92_Hughes24' Fig.S1 Hughes et al. (2024) AmMin 109(3):422-438 doi:10.2138/am-2023-8739\n",
      "        Other options:\n",
      "        'Shi92' Shi & Saxena (1992) AmMin 77(9-10):1038-1049\n",
      "        'ideal' Treat H2S as ideal gas species, fugacity coefficient = 1 at all P.\n",
      "    \n",
      "    y_H2: Model for the parameterisation of the SO2 fugacity coefficient.\n",
      "        default: 'Shaw64'\n",
      "        Other options:\n",
      "        'ideal' Treat H2 as ideal gas species, fugacity coefficient = 1 at all P.\n",
      "    \n",
      "    y_O2: Model for the parameterisation of the O2 fugacity coefficient.\n",
      "        default: 'Shi92' Shi & Saxena (1992) AmMin 77(9-10):1038-1049\n",
      "        Other options:\n",
      "        'ideal' Treat O2 as ideal gas species, fugacity coefficient = 1 at all P.\n",
      "    \n",
      "    y_S2: Model for the parameterisation of the O2 fugacity coefficient.\n",
      "        default: 'Shi92' Shi & Saxena (1992) AmMin 77(9-10):1038-1049\n",
      "        Other options:\n",
      "        'ideal' Treat S2 as ideal gas species, fugacity coefficient = 1 at all P.\n",
      "    \n",
      "    y_CO: Model for the parameterisation of the CO fugacity coefficient.\n",
      "        default: 'Shi92' Shi & Saxena (1992) AmMin 77(9-10):1038-1049\n",
      "        Other options:\n",
      "        'ideal' Treat CO as ideal gas species, fugacity coefficient = 1 at all P.        \n",
      "    \n",
      "    y_CH4: Model for the parameterisation of the CH4 fugacity coefficient.\n",
      "        default: 'Shi92' Shi & Saxena (1992) AmMin 77(9-10):1038-1049\n",
      "        Other options:\n",
      "        'ideal' Treat CH4 as ideal gas species, fugacity coefficient = 1 at all P.    \n",
      "    \n",
      "    y_H2O: Model for the parameterisation of the H2O fugacity coefficient.\n",
      "        default: 'Holloway91' Holland & Powell (1991) CMP 109:265-273 10.1007/BF00306484\n",
      "        Other options:\n",
      "        'ideal' Treat H2O as ideal gas species, fugacity coefficient = 1 at all P.    \n",
      "    \n",
      "    y_OCS: Model for the parameterisation of the OCS fugacity coefficient.\n",
      "        default: 'Shi92' Shi & Saxena (1992) AmMin 77(9-10):1038-1049\n",
      "        Other options:\n",
      "        'ideal' Treat OCS as ideal gas species, fugacity coefficient = 1 at all P.            \n",
      "    \n",
      "    y_X: Model for the parameterisation of the X fugacity coefficient.\n",
      "        default: 'ideal' Treat X as ideal gas species, fugacity coefficient = 1 at all P.  \n",
      "          \n",
      "    \n",
      "    ['KHOg','KO97'],['KHOSg','KO97'],['KOSg','KO97'],['KOSg2','OM22'], ['KCOg','KO97'],['KCOHg','KO97'],['KOCSg','Moussallam19'],['KCOs','Holloway92'],['carbonylsulfide','COS'],\n",
      "    \n",
      "    \n",
      "    ### Degassing calculation ###\n",
      "    \n",
      "    bulk_composition: Specifying what the inputted melt composition (i.e., dissolved volatiles and fO2-estimate) correspond to for the degassing calculation\n",
      "        default: 'yes' The inputted melt composition (i.e., dissolved volatiles) represents the bulk system - there is no vapor present. The fO2-estimate is calculated at Pvsat for this melt composition.\n",
      "        Other options:\n",
      "        'wtg' The inputted melt composition (i.e., dissolved volatiles) is in equilibrium with a vapor phase. The amount of vapor is specified in the inputs. The bulk system composition will be calculated by calculating Pvsat and the vapor composition given the input composition.\n",
      "        'CO2' The inputted melt composition (i.e., dissolved volatiles) is in equilibrium with a vapor phase. The initial CO2 content of the melt (i.e., before degassing) is specified in the inputs. The bulk system composition will be calculated by calculating Pvsat and the vapor composition given the input composition.\n",
      "    \n",
      "    starting_P: Determing the starting pressure for a degassing calculation.\n",
      "        default: 'bulk' Calculation starts at Pvsat for the inputted melt composition (i.e., dissolved volatiles), which has no vapor present.\n",
      "        Other options:\n",
      "        'set' Calculation starts at the pressure specified in the inputs.\n",
      "        'measured' Calculation starts at Pvsat for the inputted melt composition (i.e., dissolved volatiles), which has vapor present.\n",
      "    \n",
      "    gassing_style: Does the bulk composition of the system (including oxygen) remain constant during the re/degassing calculation.\n",
      "        default: 'closed' The bulk composition of the system (inc. oxygen) is constant during re/degassing calculation - vapor and melt remain in chemical equilibrium throughout.\n",
      "        Other options:\n",
      "        'open' At each pressure-step, the vapor in equilibrium with the melt is removed (or added for regassing), such that the bulk composition of the system changes. This does not refer to being buffered in terms of fO2.\n",
      "    \n",
      "    gassing_direction: Is pressure increasing or decreasing from the starting perssure.\n",
      "        default: 'degas' Pressure progressively decreases from starting pressure for isothermal, polybaric calculations (i.e., degassing).\n",
      "        Other options:\n",
      "        'regas' Pressure progressively increases from starting pressure for isothermal, polybaric calculations (i.e., regassing).\n",
      "    \n",
      "    P_variation: Is pressure varying during the calculation?\n",
      "        default: 'polybaric' Pressure progressively changes during the calculation.\n",
      "    \n",
      "    T_variation: Is temperature varying during the calculation?\n",
      "        default: 'isothermal' Temperature is constant during the calculation.\n",
      "    \n",
      "    eq_Fe: Does iron in the melt equilibrate with fO2.\n",
      "        default: 'yes' Iron equilibrates with fO2\n",
      "    \n",
      "    solve_species: What species are used to solve the equilibrium equations? This should not need to be changed unless the solver is struggling.\n",
      "        default: 'OCS' Guess mole fractions of O2, CO, and S2 in the vapor to solve the equilibrium equations.\n",
      "    \n",
      "    ### Other ###\n",
      "    \n",
      "    density: Model for parameterisation of melt density\n",
      "        default: 'DensityX' DensityX from Iacovino & Till (2019) Volcanica 2(1):1-10 doi:10.30909/vol.02.01.0110\n",
      "    \n",
      "    setup: Specifies whether model options are specified in the models or setup dataframe. \n",
      "        default: 'no' All model options are specified in the models dataframe.\n",
      "        Other options:\n",
      "        'yes' Some of the model options are specified in the setup dataframe.\n",
      "              \n",
      "              ['isotopes','no'],,['crystallisation','no'],['mass_volume','mass'],['calc_sat','fO2_melt'],['bulk_O','exc_S'],['error',0.1],\n",
      "              ['print status','yes'],['output csv','yes'],\n",
      "\n"
     ]
    }
   ],
   "source": [
    "help(vf.make_df_and_add_model_defaults)"
   ]
  },
  {
   "cell_type": "markdown",
   "metadata": {},
   "source": [
    "Let's say I just want to use a different solubility constant for carbon dioxide and hydrogen sulfide and treat S2 as an ideal gas. Also, I don't want it to print the status during a calculation."
   ]
  },
  {
   "cell_type": "code",
   "execution_count": 4,
   "metadata": {},
   "outputs": [
    {
     "name": "stdout",
     "output_type": "stream",
     "text": [
      "                option\n",
      "type                  \n",
      "insolubles         yes\n",
      "H2S_m              yes\n",
      "species X           Ar\n",
      "Hspeciation       none\n",
      "fO2           Kress91A\n",
      "...                ...\n",
      "bulk_O           exc_S\n",
      "error              0.1\n",
      "print status        no\n",
      "output csv         yes\n",
      "setup               no\n",
      "\n",
      "[62 rows x 1 columns]\n"
     ]
    }
   ],
   "source": [
    "# choose the options I want - everything else will use the default options\n",
    "my_models = [['carbon dioxide','Dixon97'],['hydrogen sulfide','basaltic andesite'],['y_S2','ideal'],['print status','no']]\n",
    "\n",
    "# turn to dataframe with correct column headers and indexes    \n",
    "my_models = vf.make_df_and_add_model_defaults(my_models)\n",
    "\n",
    "# show what the model dataframe looks like\n",
    "print(my_models)"
   ]
  },
  {
   "cell_type": "markdown",
   "metadata": {},
   "source": [
    "We'll use the examples_marianas csv in files again from Brounce et al. (2014, 2016) and Kelley & Cottrell (2012).\n",
    "\n",
    "Brounce, M.N., Kelley, K.A., and Cottrell, E. (2014) Variations in Fe3+/ΣFe of Mariana Arc basalts and mantle wedge fO2. Journal of Petrology, 55, 2513–2536, https://doi.org/10.1093/petrology/egu065\n",
    "\n",
    "Brounce, M.N., Kelley, K.A., Stern, R., Martinez, F., and Cottrell, E. (2016) The Fina Nagu volcanic complex: Unusual submarine arc volcanism in the rapidly deforming southern Mariana margin. Geochemistry, Geophysics, Geosystems, 17, 4078–4091, https://doi.org/10.1002/2016GC006457\n",
    "\n",
    "Kelley, K.A. and Cottrell, E. (2012) The influence of magmatic differentiation on the oxidation state of Fe in a basaltic arc magma. Earth and Planetary Science Letters, 329-330, 109–121, https://doi.org/10.1016/j.epsl.2012.02.010"
   ]
  },
  {
   "cell_type": "code",
   "execution_count": 5,
   "metadata": {},
   "outputs": [
    {
     "ename": "UnboundLocalError",
     "evalue": "cannot access local variable 'C' where it is not associated with a value",
     "output_type": "error",
     "traceback": [
      "\u001b[0;31m---------------------------------------------------------------------------\u001b[0m",
      "\u001b[0;31mUnboundLocalError\u001b[0m                         Traceback (most recent call last)",
      "Cell \u001b[0;32mIn[5], line 5\u001b[0m\n\u001b[1;32m      2\u001b[0m my_analyses \u001b[38;5;241m=\u001b[39m pd\u001b[38;5;241m.\u001b[39mread_csv(\u001b[38;5;124m\"\u001b[39m\u001b[38;5;124m../files/example_marianas.csv\u001b[39m\u001b[38;5;124m\"\u001b[39m) \n\u001b[1;32m      4\u001b[0m \u001b[38;5;66;03m# run the calculations - just running for a subset of the csv file this time\u001b[39;00m\n\u001b[0;32m----> 5\u001b[0m \u001b[43mvf\u001b[49m\u001b[38;5;241;43m.\u001b[39;49m\u001b[43mcalc_Pvsat\u001b[49m\u001b[43m(\u001b[49m\u001b[43mmy_analyses\u001b[49m\u001b[43m,\u001b[49m\u001b[43mmodels\u001b[49m\u001b[38;5;241;43m=\u001b[39;49m\u001b[43mmy_models\u001b[49m\u001b[43m,\u001b[49m\u001b[43mlast_row\u001b[49m\u001b[38;5;241;43m=\u001b[39;49m\u001b[38;5;241;43m10\u001b[39;49m\u001b[43m)\u001b[49m\n",
      "File \u001b[0;32m~/Documents/GitHub/VolFe/src/VolFe/batch_calculations.py:285\u001b[0m, in \u001b[0;36mcalc_Pvsat\u001b[0;34m(setup, models, first_row, last_row, p_tol, nr_step, nr_tol)\u001b[0m\n\u001b[1;32m    278\u001b[0m models \u001b[38;5;241m=\u001b[39m options_from_setup(run,models,setup)\n\u001b[1;32m    280\u001b[0m \u001b[38;5;66;03m# calculate Pvsat assuming only H2O CO2 in vapour and melt\u001b[39;00m\n\u001b[1;32m    281\u001b[0m \u001b[38;5;66;03m#if setup.loc[run,\"Fe3FeT\"] > 0.:\u001b[39;00m\n\u001b[1;32m    282\u001b[0m \u001b[38;5;66;03m#    melt_wf['Fe3FeT'] = setup.loc[run,\"Fe3FeT\"]\u001b[39;00m\n\u001b[1;32m    283\u001b[0m \u001b[38;5;66;03m#else:\u001b[39;00m\n\u001b[1;32m    284\u001b[0m \u001b[38;5;66;03m#    melt_wf['Fe3FeT'] = 0.\u001b[39;00m\n\u001b[0;32m--> 285\u001b[0m P_sat_H2O_CO2_only, P_sat_H2O_CO2_result \u001b[38;5;241m=\u001b[39m \u001b[43mc\u001b[49m\u001b[38;5;241;43m.\u001b[39;49m\u001b[43mP_sat_H2O_CO2\u001b[49m\u001b[43m(\u001b[49m\u001b[43mPT\u001b[49m\u001b[43m,\u001b[49m\u001b[43mmelt_wf\u001b[49m\u001b[43m,\u001b[49m\u001b[43mmodels\u001b[49m\u001b[43m,\u001b[49m\u001b[43mp_tol\u001b[49m\u001b[43m,\u001b[49m\u001b[43mnr_step\u001b[49m\u001b[43m,\u001b[49m\u001b[43mnr_tol\u001b[49m\u001b[43m)\u001b[49m\n\u001b[1;32m    287\u001b[0m \u001b[38;5;28;01mif\u001b[39;00m models\u001b[38;5;241m.\u001b[39mloc[\u001b[38;5;124m\"\u001b[39m\u001b[38;5;124mcalc_sat\u001b[39m\u001b[38;5;124m\"\u001b[39m,\u001b[38;5;124m\"\u001b[39m\u001b[38;5;124moption\u001b[39m\u001b[38;5;124m\"\u001b[39m] \u001b[38;5;241m==\u001b[39m \u001b[38;5;124m\"\u001b[39m\u001b[38;5;124mfO2_fX\u001b[39m\u001b[38;5;124m\"\u001b[39m:\n\u001b[1;32m    288\u001b[0m     P_sat_fO2_fS2_result \u001b[38;5;241m=\u001b[39m c\u001b[38;5;241m.\u001b[39mP_sat_fO2_fS2(PT,melt_wf,models,p_tol)\n",
      "File \u001b[0;32m~/Documents/GitHub/VolFe/src/VolFe/calculations.py:105\u001b[0m, in \u001b[0;36mP_sat_H2O_CO2\u001b[0;34m(PT, melt_wf, models, Ptol, nr_step, nr_tol)\u001b[0m\n\u001b[1;32m    103\u001b[0m guess0 \u001b[38;5;241m=\u001b[39m \u001b[38;5;241m40000.\u001b[39m \u001b[38;5;66;03m# initial guess for pressure\u001b[39;00m\n\u001b[1;32m    104\u001b[0m PT[\u001b[38;5;124m\"\u001b[39m\u001b[38;5;124mP\u001b[39m\u001b[38;5;124m\"\u001b[39m] \u001b[38;5;241m=\u001b[39m guess0\n\u001b[0;32m--> 105\u001b[0m delta1 \u001b[38;5;241m=\u001b[39m \u001b[43mPdiff\u001b[49m\u001b[43m(\u001b[49m\u001b[43mguess0\u001b[49m\u001b[43m,\u001b[49m\u001b[43mmelt_wf\u001b[49m\u001b[43m,\u001b[49m\u001b[43mmodels\u001b[49m\u001b[43m)\u001b[49m\n\u001b[1;32m    106\u001b[0m \u001b[38;5;28;01mwhile\u001b[39;00m delta1 \u001b[38;5;241m>\u001b[39m Ptol :\n\u001b[1;32m    107\u001b[0m     delta1 \u001b[38;5;241m=\u001b[39m Pdiff(guess0,melt_wf,models)\n",
      "File \u001b[0;32m~/Documents/GitHub/VolFe/src/VolFe/calculations.py:95\u001b[0m, in \u001b[0;36mP_sat_H2O_CO2.<locals>.Pdiff\u001b[0;34m(guess, melt_wf, models)\u001b[0m\n\u001b[1;32m     93\u001b[0m \u001b[38;5;28;01mdef\u001b[39;00m \u001b[38;5;21mPdiff\u001b[39m(guess,melt_wf,models):\n\u001b[1;32m     94\u001b[0m     PT[\u001b[38;5;124m\"\u001b[39m\u001b[38;5;124mP\u001b[39m\u001b[38;5;124m\"\u001b[39m] \u001b[38;5;241m=\u001b[39m guess\n\u001b[0;32m---> 95\u001b[0m     difference \u001b[38;5;241m=\u001b[39m \u001b[38;5;28mabs\u001b[39m(guess \u001b[38;5;241m-\u001b[39m \u001b[43mp_tot_H2O_CO2\u001b[49m\u001b[43m(\u001b[49m\u001b[43mPT\u001b[49m\u001b[43m,\u001b[49m\u001b[43mmelt_wf\u001b[49m\u001b[43m,\u001b[49m\u001b[43mmodels\u001b[49m\u001b[43m)\u001b[49m)\n\u001b[1;32m     96\u001b[0m     \u001b[38;5;28;01mreturn\u001b[39;00m difference\n",
      "File \u001b[0;32m~/Documents/GitHub/VolFe/src/VolFe/calculations.py:90\u001b[0m, in \u001b[0;36mP_sat_H2O_CO2.<locals>.p_tot_H2O_CO2\u001b[0;34m(PT, melt_wf, models)\u001b[0m\n\u001b[1;32m     89\u001b[0m \u001b[38;5;28;01mdef\u001b[39;00m \u001b[38;5;21mp_tot_H2O_CO2\u001b[39m(PT,melt_wf,models):\n\u001b[0;32m---> 90\u001b[0m     value \u001b[38;5;241m=\u001b[39m mg\u001b[38;5;241m.\u001b[39mp_H2O(PT,melt_wf,models) \u001b[38;5;241m+\u001b[39m \u001b[43mmg\u001b[49m\u001b[38;5;241;43m.\u001b[39;49m\u001b[43mp_CO2\u001b[49m\u001b[43m(\u001b[49m\u001b[43mPT\u001b[49m\u001b[43m,\u001b[49m\u001b[43mmelt_wf\u001b[49m\u001b[43m,\u001b[49m\u001b[43mmodels\u001b[49m\u001b[43m)\u001b[49m  \n\u001b[1;32m     91\u001b[0m     \u001b[38;5;28;01mreturn\u001b[39;00m value\n",
      "File \u001b[0;32m~/Documents/GitHub/VolFe/src/VolFe/melt_gas.py:172\u001b[0m, in \u001b[0;36mp_CO2\u001b[0;34m(PT, melt_wf, models)\u001b[0m\n\u001b[1;32m    171\u001b[0m \u001b[38;5;28;01mdef\u001b[39;00m \u001b[38;5;21mp_CO2\u001b[39m(PT,melt_wf,models):\n\u001b[0;32m--> 172\u001b[0m     \u001b[38;5;28;01mreturn\u001b[39;00m \u001b[43mf_CO2\u001b[49m\u001b[43m(\u001b[49m\u001b[43mPT\u001b[49m\u001b[43m,\u001b[49m\u001b[43mmelt_wf\u001b[49m\u001b[43m,\u001b[49m\u001b[43mmodels\u001b[49m\u001b[43m)\u001b[49m\u001b[38;5;241m/\u001b[39mmdv\u001b[38;5;241m.\u001b[39my_CO2(PT,models)\n",
      "File \u001b[0;32m~/Documents/GitHub/VolFe/src/VolFe/melt_gas.py:72\u001b[0m, in \u001b[0;36mf_CO2\u001b[0;34m(PT, melt_wf, models)\u001b[0m\n\u001b[1;32m     70\u001b[0m     f \u001b[38;5;241m=\u001b[39m (wm_CO2\u001b[38;5;241m*\u001b[39m\u001b[38;5;241m10000.0\u001b[39m)\u001b[38;5;241m/\u001b[39mmdv\u001b[38;5;241m.\u001b[39mC_CO3(PT,melt_wf,models)\n\u001b[1;32m     71\u001b[0m \u001b[38;5;28;01melse\u001b[39;00m: \u001b[38;5;66;03m# fCO2 = xmCO2/C_CO3\u001b[39;00m\n\u001b[0;32m---> 72\u001b[0m     f \u001b[38;5;241m=\u001b[39m xm_CO2_so(melt_wf)\u001b[38;5;241m/\u001b[39m\u001b[43mmdv\u001b[49m\u001b[38;5;241;43m.\u001b[39;49m\u001b[43mC_CO3\u001b[49m\u001b[43m(\u001b[49m\u001b[43mPT\u001b[49m\u001b[43m,\u001b[49m\u001b[43mmelt_wf\u001b[49m\u001b[43m,\u001b[49m\u001b[43mmodels\u001b[49m\u001b[43m)\u001b[49m\n\u001b[1;32m     73\u001b[0m \u001b[38;5;28;01mreturn\u001b[39;00m f\n",
      "File \u001b[0;32m~/Documents/GitHub/VolFe/src/VolFe/model_dependent_variables.py:743\u001b[0m, in \u001b[0;36mC_CO3\u001b[0;34m(PT, melt_wf, models)\u001b[0m\n\u001b[1;32m    741\u001b[0m \u001b[38;5;28;01melif\u001b[39;00m model \u001b[38;5;241m==\u001b[39m \u001b[38;5;124m\"\u001b[39m\u001b[38;5;124mwater\u001b[39m\u001b[38;5;124m\"\u001b[39m:\n\u001b[1;32m    742\u001b[0m     C \u001b[38;5;241m=\u001b[39m \u001b[38;5;241m27.e-6\u001b[39m\n\u001b[0;32m--> 743\u001b[0m \u001b[38;5;28;01mreturn\u001b[39;00m \u001b[43mC\u001b[49m\n",
      "\u001b[0;31mUnboundLocalError\u001b[0m: cannot access local variable 'C' where it is not associated with a value"
     ]
    }
   ],
   "source": [
    "# Read csv to define melt composition\n",
    "my_analyses = pd.read_csv(\"../files/example_marianas.csv\") \n",
    "\n",
    "# run the calculations - just running for a subset of the csv file this time\n",
    "vf.calc_Pvsat(my_analyses,models=my_models,last_row=10)"
   ]
  },
  {
   "cell_type": "markdown",
   "metadata": {},
   "source": [
    "Alternatively, you can load a csv with the model options listed in it (see the example models.csv in the files)."
   ]
  },
  {
   "cell_type": "code",
   "execution_count": null,
   "metadata": {},
   "outputs": [],
   "source": [
    "my_models = pd.read_csv(\"../files/models.csv\", index_col = [0])\n",
    "print(my_models)"
   ]
  },
  {
   "cell_type": "code",
   "execution_count": null,
   "metadata": {},
   "outputs": [],
   "source": [
    "# run the calculations\n",
    "vf.calc_Pvsat(my_analyses,models=my_models,last_row=10)"
   ]
  },
  {
   "cell_type": "markdown",
   "metadata": {},
   "source": [
    "That applied the chosen options to all samples we ran the calculation for. But what if you want to use different model dependent variables for different analyses?\n",
    "\n",
    "### WORK IN PROGRESS ###\n",
    "\n",
    "To do that, you specify the option you want in the same dataframe as the analyses as an extra column with the column header as the \"type\" of the option you're specifying. You then tell VolFe in the models dataframe to look in the analyses dataframe for the option to use by specifying \"setup\". \n",
    "\n",
    "For instance, in the following example we're going to specify the carbon dioxide solubility option in the csv file (header = carbon dioxde) and all other options are going to be default. If you look in the examples_marianas.csv file you'll see the final column is called \"carbon dioxide\" and different options are specified in each column. "
   ]
  },
  {
   "cell_type": "code",
   "execution_count": null,
   "metadata": {},
   "outputs": [],
   "source": [
    "# show the carbon dioxide options in the examples_marianas.csv\n",
    "print(my_analyses[[\"Sample\",\"carbon dioxide\"]])"
   ]
  },
  {
   "cell_type": "markdown",
   "metadata": {},
   "source": [
    "We create a new models dataframe to tell VolFe where to look for the \"carbon dioxide\" option and that some options are specified in the setup file:"
   ]
  },
  {
   "cell_type": "code",
   "execution_count": null,
   "metadata": {},
   "outputs": [],
   "source": [
    "# choose the options I want - everything else will use the default options\n",
    "my_models = [['carbon dioxide','setup'],['setup','yes']]\n",
    "\n",
    "# turn to dataframe with correct column headers and indexes    \n",
    "my_models = vf.make_df_and_add_model_defaults(my_models)\n",
    "\n",
    "# show what the model dataframe looks like\n",
    "print(my_models)"
   ]
  },
  {
   "cell_type": "code",
   "execution_count": null,
   "metadata": {},
   "outputs": [],
   "source": [
    "# run the calculations\n",
    "#vf.calc_Pvsat(my_analyses,models=my_models,last_row=10)"
   ]
  }
 ],
 "metadata": {
  "kernelspec": {
   "display_name": "base",
   "language": "python",
   "name": "python3"
  },
  "language_info": {
   "codemirror_mode": {
    "name": "ipython",
    "version": 3
   },
   "file_extension": ".py",
   "mimetype": "text/x-python",
   "name": "python",
   "nbconvert_exporter": "python",
   "pygments_lexer": "ipython3",
   "version": "3.11.7"
  }
 },
 "nbformat": 4,
 "nbformat_minor": 2
}
