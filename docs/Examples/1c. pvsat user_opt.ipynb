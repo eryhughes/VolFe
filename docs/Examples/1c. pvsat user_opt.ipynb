{
 "cells": [
  {
   "cell_type": "markdown",
   "metadata": {},
   "source": [
    "## 1c. Calculate <i>P<sup>v</sup></i><sub>sat</sub> for analyses in a csv file using user specified options\n",
    "\n",
    "What if I don't want to use the default options..."
   ]
  },
  {
   "cell_type": "markdown",
   "metadata": {},
   "source": [
    "## Setting things up\n",
    "First we need to import a few Python packages (including VolFe) and set the precision of the calculations"
   ]
  },
  {
   "cell_type": "code",
   "execution_count": null,
   "metadata": {
    "vscode": {
     "languageId": "plaintext"
    }
   },
   "outputs": [],
   "source": [
    "# import python packages\n",
    "import pandas as pd\n",
    "import gmpy2 as gp\n",
    "import VolFe as vf\n",
    "\n",
    "# set calculation precision\n",
    "gp.get_context().precision=50"
   ]
  },
  {
   "cell_type": "markdown",
   "metadata": {},
   "source": [
    "In that case, we create a dataframe telling VolFe what to use instead. There are lots of options that can be changed (see models csv in files for the full list, description, and options currently available). But let's say I just want to use a different solubility constant for carbon dioxide and hydrogen sulfide and treat S2 as an ideal gas. Also I don't want it to print the status during a calculation."
   ]
  },
  {
   "cell_type": "code",
   "execution_count": null,
   "metadata": {
    "vscode": {
     "languageId": "plaintext"
    }
   },
   "outputs": [],
   "source": [
    "# choose the options I want - everything else will use the default options\n",
    "my_models = [['carbon dioxide','Dixon97'],['hydrogen sulfide','basaltic andesite'],['y_S2','ideal'],['print status','no']]\n",
    "\n",
    "# turn to dataframe with correct column headers and indexes    \n",
    "my_models = vf.make_df_and_add_model_defaults(my_models)\n",
    "\n",
    "# show what the model dataframe looks like\n",
    "print(my_models)"
   ]
  },
  {
   "cell_type": "code",
   "execution_count": null,
   "metadata": {
    "vscode": {
     "languageId": "plaintext"
    }
   },
   "outputs": [],
   "source": [
    "# run the calculations \n",
    "vf.calc_Pvsat(my_analyses,models=my_models)"
   ]
  },
  {
   "cell_type": "markdown",
   "metadata": {},
   "source": [
    "Alternatively, you can load a csv with the model options listed in it (see the example models csv in the files)."
   ]
  },
  {
   "cell_type": "code",
   "execution_count": null,
   "metadata": {
    "vscode": {
     "languageId": "plaintext"
    }
   },
   "outputs": [],
   "source": [
    "my_models = pd.read_csv(\"../files/models.csv\", index_col = [0])\n",
    "print(my_models)"
   ]
  },
  {
   "cell_type": "code",
   "execution_count": null,
   "metadata": {
    "vscode": {
     "languageId": "plaintext"
    }
   },
   "outputs": [],
   "source": [
    "# run the calculations\n",
    "vf.calc_Pvsat(my_analyses,models=my_models)"
   ]
  },
  {
   "cell_type": "markdown",
   "metadata": {},
   "source": [
    "## 1f. Calculate <i>P<sup>v</sup></i><sub>sat</sub> for  all analyses in a csv file using different model options for each analysis"
   ]
  }
 ],
 "metadata": {
  "language_info": {
   "name": "python"
  }
 },
 "nbformat": 4,
 "nbformat_minor": 2
}
