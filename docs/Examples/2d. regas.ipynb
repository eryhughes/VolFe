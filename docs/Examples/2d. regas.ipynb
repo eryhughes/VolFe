{
 "cells": [
  {
   "cell_type": "markdown",
   "metadata": {},
   "source": [
    "## 2d. Calculate closed- and open-system regassing paths"
   ]
  },
  {
   "cell_type": "markdown",
   "metadata": {},
   "source": [
    "## Setting things up\n",
    "You need to install VolFe once on your machine, if you haven't yet. Then we need to import a few Python packages (including VolFe). "
   ]
  },
  {
   "cell_type": "code",
   "execution_count": 1,
   "metadata": {},
   "outputs": [],
   "source": [
    "# Install VolFe on your machine. Don't remove the # from this line!\n",
    "# pip install VolFe # Remove the first # in this line if you have not installed VolFe on your machine before.\n",
    "\n",
    "# import python packages\n",
    "import pandas as pd\n",
    "import matplotlib.pyplot as plt\n",
    "import VolFe as vf"
   ]
  },
  {
   "cell_type": "markdown",
   "metadata": {},
   "source": [
    "Instead of running a degassing calculation, where we decrease pressure simulating magma ascent, we can do a regassing calculation, where we increase pressure and resorb vapor into the melt.\n",
    "\n",
    "For these types of calculations, we specify the melt composition at the start of the regassing path. \n",
    "We'll use Sari15-04-33 from Brounce et al. (2014) again assuming a temperature of 1200 'C.\n",
    "\n",
    "For closed-system regassing calculations, we need an estimate of the bulk composition of the system - either intial CO2 or wt% gas present as described in Example 2b - at the start of regassing.\n",
    "For this example we'll assume the initial melt contained 3 wt% CO2-eq.\n",
    "\n",
    "Finally, we also need to state the final pressure of the calculation, which we specify in the inputs using \"final_P\" in bars.\n",
    "\n",
    "So the input file looks like below:"
   ]
  },
  {
   "cell_type": "code",
   "execution_count": 2,
   "metadata": {},
   "outputs": [],
   "source": [
    "# Define the melt composition, fO2 estimate, and T as a dictionary.\n",
    "my_analysis = {'Sample':'Sari15-04-33',\n",
    "           'T_C': 1200., # Temperature in 'C\n",
    "           'SiO2': 47.89, # wt%\n",
    "           'TiO2': 0.75, # wt%\n",
    "           'Al2O3': 16.74, # wt%\n",
    "           'FeOT': 9.43, # wt%\n",
    "           'MnO': 0.18, # wt%\n",
    "           'MgO': 5.92, # wt%\n",
    "           'CaO': 11.58, # wt%\n",
    "           'Na2O': 2.14, # wt%\n",
    "           'K2O': 0.63, # wt%\n",
    "           'P2O5': 0.17, # wt%\n",
    "           'H2O': 4.17, # wt%\n",
    "           'CO2ppm': 1487., # ppm\n",
    "           'STppm': 1343.5, # ppm\n",
    "           'Xppm': 0., # ppm\n",
    "           'Fe3FeT': 0.195,\n",
    "           'initial_CO2wtpc': 3., # initial CO2 content of the system in wt%\n",
    "           'final_P':6000.} # bar\n",
    "\n",
    "# Turn the dictionary into a pandas dataframe, setting the index to 0.\n",
    "my_analysis = pd.DataFrame(my_analysis, index=[0])"
   ]
  },
  {
   "cell_type": "markdown",
   "metadata": {},
   "source": [
    "We also need to change some model options to say its a regassing - rather than degassing - calculation.\n",
    "This is done by changing \"gassing_direction\" to \"regas\" (the default is \"degas\").\n",
    "\n",
    "As before (Example 2b), to use the initial CO2 in the calculation, we have to change the \"bulk_composition\" option to \"melt+vapor_initialCO2\" so it knows how to calculate the bulk composition.\n",
    "\n",
    "This gives the following models dataframe, assuming the defaults for everything else:"
   ]
  },
  {
   "cell_type": "code",
   "execution_count": 3,
   "metadata": {},
   "outputs": [],
   "source": [
    "# choose the options I want - everything else will use the default options\n",
    "my_models = [['gassing_direction','regas'],['bulk_composition','melt+vapor_initialCO2']]\n",
    "\n",
    "# turn to dataframe with correct column headers and indexes    \n",
    "my_models = vf.make_df_and_add_model_defaults(my_models)"
   ]
  },
  {
   "cell_type": "markdown",
   "metadata": {},
   "source": [
    "VolFe will then calculate the bulk composition of the system by calculating the melt and vapor composition at Pvsat based on the input composition, and then add that vapor composition to the melt such that the bulk composition is 3 wt% CO2.\n",
    "\n",
    "Then it will increase the pressure (default pressure step size of 10 bar so it might take a while to run) up to the final pressure."
   ]
  },
  {
   "cell_type": "code",
   "execution_count": 4,
   "metadata": {},
   "outputs": [],
   "source": [
    "regas1 = vf.calc_gassing(my_analysis, models=my_models)"
   ]
  },
  {
   "cell_type": "markdown",
   "metadata": {},
   "source": [
    "### in progress ###\n",
    "\n",
    "We can do the same assuming open-system degassing by changing the \"gassing_direction\" and \"gassing_style\" and using a 1 bar pressure step."
   ]
  },
  {
   "cell_type": "code",
   "execution_count": 5,
   "metadata": {},
   "outputs": [],
   "source": [
    "# choose the options I want - everything else will use the default options\n",
    "my_models = [['gassing_direction','regas'],['gassing_style','open']]\n",
    "\n",
    "# turn to dataframe with correct column headers and indexes    \n",
    "my_models = vf.make_df_and_add_model_defaults(my_models)"
   ]
  },
  {
   "cell_type": "code",
   "execution_count": 6,
   "metadata": {},
   "outputs": [
    {
     "ename": "TypeError",
     "evalue": "ufunc 'divide' not supported for the input types, and the inputs could not be safely coerced to any supported types according to the casting rule ''safe''",
     "output_type": "error",
     "traceback": [
      "\u001b[0;31m---------------------------------------------------------------------------\u001b[0m",
      "\u001b[0;31mTypeError\u001b[0m                                 Traceback (most recent call last)",
      "Cell \u001b[0;32mIn[6], line 1\u001b[0m\n\u001b[0;32m----> 1\u001b[0m regas2 \u001b[38;5;241m=\u001b[39m \u001b[43mvf\u001b[49m\u001b[38;5;241;43m.\u001b[39;49m\u001b[43mcalc_gassing\u001b[49m\u001b[43m(\u001b[49m\u001b[43mmy_analysis\u001b[49m\u001b[43m,\u001b[49m\u001b[43m \u001b[49m\u001b[43mmodels\u001b[49m\u001b[38;5;241;43m=\u001b[39;49m\u001b[43mmy_models\u001b[49m\u001b[43m,\u001b[49m\u001b[43m \u001b[49m\u001b[43mdp_step\u001b[49m\u001b[43m \u001b[49m\u001b[38;5;241;43m=\u001b[39;49m\u001b[43m \u001b[49m\u001b[38;5;241;43m1.\u001b[39;49m\u001b[43m)\u001b[49m\n",
      "File \u001b[0;32m~/Documents/GitHub/VolFe/src/VolFe/batch_calculations.py:589\u001b[0m, in \u001b[0;36mcalc_gassing\u001b[0;34m(setup, models, run, nr_step, nr_tol, dp_step, psat_tol, dwtg, i_nr_step, i_nr_tol)\u001b[0m\n\u001b[1;32m    586\u001b[0m     PT[\u001b[38;5;124m\"\u001b[39m\u001b[38;5;124mT\u001b[39m\u001b[38;5;124m\"\u001b[39m] \u001b[38;5;241m=\u001b[39m T\n\u001b[1;32m    587\u001b[0m \u001b[38;5;28;01mif\u001b[39;00m P_sat_ \u001b[38;5;241m>\u001b[39m PT[\u001b[38;5;124m\"\u001b[39m\u001b[38;5;124mP\u001b[39m\u001b[38;5;124m\"\u001b[39m] \u001b[38;5;129;01mor\u001b[39;00m models\u001b[38;5;241m.\u001b[39mloc[\u001b[38;5;124m\"\u001b[39m\u001b[38;5;124mgassing_direction\u001b[39m\u001b[38;5;124m\"\u001b[39m,\u001b[38;5;124m\"\u001b[39m\u001b[38;5;124moption\u001b[39m\u001b[38;5;124m\"\u001b[39m] \u001b[38;5;241m==\u001b[39m \u001b[38;5;124m\"\u001b[39m\u001b[38;5;124mregas\u001b[39m\u001b[38;5;124m\"\u001b[39m:  \n\u001b[1;32m    588\u001b[0m     \u001b[38;5;66;03m# work out equilibrium partitioning between melt and gas phase\u001b[39;00m\n\u001b[0;32m--> 589\u001b[0m     xg, conc, melt_and_gas, guesses, new_models, solve_species \u001b[38;5;241m=\u001b[39m \u001b[43meq\u001b[49m\u001b[38;5;241;43m.\u001b[39;49m\u001b[43mmg_equilibrium\u001b[49m\u001b[43m(\u001b[49m\u001b[43mPT\u001b[49m\u001b[43m,\u001b[49m\u001b[43mmelt_wf\u001b[49m\u001b[43m,\u001b[49m\u001b[43mbulk_wf\u001b[49m\u001b[43m,\u001b[49m\u001b[43mmodels\u001b[49m\u001b[43m,\u001b[49m\u001b[43mnr_step\u001b[49m\u001b[43m,\u001b[49m\u001b[43mnr_tol\u001b[49m\u001b[43m,\u001b[49m\u001b[43mguesses\u001b[49m\u001b[43m)\u001b[49m\n\u001b[1;32m    590\u001b[0m     models \u001b[38;5;241m=\u001b[39m new_models\n\u001b[1;32m    591\u001b[0m     \u001b[38;5;66;03m# gas composition\u001b[39;00m\n",
      "File \u001b[0;32m~/Documents/GitHub/VolFe/src/VolFe/equilibrium_equations.py:263\u001b[0m, in \u001b[0;36mmg_equilibrium\u001b[0;34m(PT, melt_wf, bulk_wf, models, nr_step, nr_tol, guesses)\u001b[0m\n\u001b[1;32m    261\u001b[0m     A,B,C,D \u001b[38;5;241m=\u001b[39m eq_SCHOFe_scipy(PT,bulk_wf,melt_wf,models,nr_step,nr_tol,guesses,solve_species)\n\u001b[1;32m    262\u001b[0m \u001b[38;5;28;01melif\u001b[39;00m models\u001b[38;5;241m.\u001b[39mloc[\u001b[38;5;124m\"\u001b[39m\u001b[38;5;124mHspeciation\u001b[39m\u001b[38;5;124m\"\u001b[39m,\u001b[38;5;124m\"\u001b[39m\u001b[38;5;124moption\u001b[39m\u001b[38;5;124m\"\u001b[39m] \u001b[38;5;241m==\u001b[39m \u001b[38;5;124m\"\u001b[39m\u001b[38;5;124mnone\u001b[39m\u001b[38;5;124m\"\u001b[39m:\n\u001b[0;32m--> 263\u001b[0m     A,B,C,D, models, solve_species \u001b[38;5;241m=\u001b[39m \u001b[43meq_SCHOFe_2\u001b[49m\u001b[43m(\u001b[49m\u001b[43mPT\u001b[49m\u001b[43m,\u001b[49m\u001b[43mbulk_wf\u001b[49m\u001b[43m,\u001b[49m\u001b[43mmelt_wf\u001b[49m\u001b[43m,\u001b[49m\u001b[43mmodels\u001b[49m\u001b[43m,\u001b[49m\u001b[43mnr_step\u001b[49m\u001b[43m,\u001b[49m\u001b[43mnr_tol\u001b[49m\u001b[43m,\u001b[49m\u001b[43mguesses\u001b[49m\u001b[43m,\u001b[49m\u001b[43msolve_species\u001b[49m\u001b[43m)\u001b[49m\n\u001b[1;32m    264\u001b[0m \u001b[38;5;28;01melif\u001b[39;00m models\u001b[38;5;241m.\u001b[39mloc[\u001b[38;5;124m\"\u001b[39m\u001b[38;5;124mHspeciation\u001b[39m\u001b[38;5;124m\"\u001b[39m,\u001b[38;5;124m\"\u001b[39m\u001b[38;5;124moption\u001b[39m\u001b[38;5;124m\"\u001b[39m] \u001b[38;5;241m==\u001b[39m \u001b[38;5;124m\"\u001b[39m\u001b[38;5;124mlinear\u001b[39m\u001b[38;5;124m\"\u001b[39m:\n\u001b[1;32m    265\u001b[0m     A,B,C,D \u001b[38;5;241m=\u001b[39m eq_SCHOFe_3(PT,bulk_wf,melt_wf,models,nr_step,nr_tol,guesses,solve_species)\n",
      "File \u001b[0;32m~/Documents/GitHub/VolFe/src/VolFe/equilibrium_equations.py:2596\u001b[0m, in \u001b[0;36meq_SCHOFe_2\u001b[0;34m(PT, bulk_wf, melt_wf, models, nr_step, nr_tol, guesses, solve_species)\u001b[0m\n\u001b[1;32m   2593\u001b[0m     \u001b[38;5;28;01mreturn\u001b[39;00m dmba_O, dmba_A, dmba_B, dmbb_O, dmbb_A, dmbb_B, dmbc_O, dmbc_A, dmbc_B\n\u001b[1;32m   2595\u001b[0m \u001b[38;5;28;01mif\u001b[39;00m solve_species \u001b[38;5;241m==\u001b[39m \u001b[38;5;124m\"\u001b[39m\u001b[38;5;124mOCS\u001b[39m\u001b[38;5;124m\"\u001b[39m:\n\u001b[0;32m-> 2596\u001b[0m     xg_O2_, xg_CO_, xg_S2_ \u001b[38;5;241m=\u001b[39m \u001b[43mjac_newton3\u001b[49m\u001b[43m(\u001b[49m\u001b[43mguessx\u001b[49m\u001b[43m,\u001b[49m\u001b[43mguessy\u001b[49m\u001b[43m,\u001b[49m\u001b[43mguessz\u001b[49m\u001b[43m,\u001b[49m\u001b[43mconstants\u001b[49m\u001b[43m,\u001b[49m\u001b[43mf_SCHOFe\u001b[49m\u001b[43m,\u001b[49m\u001b[43mdf_SCHOFe\u001b[49m\u001b[43m,\u001b[49m\u001b[43mnr_step\u001b[49m\u001b[43m,\u001b[49m\u001b[43mnr_tol\u001b[49m\u001b[43m)\u001b[49m\n\u001b[1;32m   2597\u001b[0m \u001b[38;5;28;01melif\u001b[39;00m solve_species \u001b[38;5;241m==\u001b[39m \u001b[38;5;124m\"\u001b[39m\u001b[38;5;124mOHS\u001b[39m\u001b[38;5;124m\"\u001b[39m:\n\u001b[1;32m   2598\u001b[0m     xg_O2_, xg_H2_, xg_S2_ \u001b[38;5;241m=\u001b[39m jac_newton3(guessx,guessy,guessz,constants,f_SCHOFe,df_SCHOFe,nr_step,nr_tol)\n",
      "File \u001b[0;32m~/Documents/GitHub/VolFe/src/VolFe/equilibrium_equations.py:897\u001b[0m, in \u001b[0;36mjac_newton3\u001b[0;34m(x0, y0, z0, constants, eqs, deriv, step, tol, maxiter)\u001b[0m\n\u001b[1;32m    894\u001b[0m \u001b[38;5;28;01mdef\u001b[39;00m \u001b[38;5;21mjac_newton3\u001b[39m(x0,y0,z0,constants,eqs,deriv,step,tol,maxiter\u001b[38;5;241m=\u001b[39m\u001b[38;5;241m100\u001b[39m):\n\u001b[1;32m    895\u001b[0m \u001b[38;5;66;03m# create results table\u001b[39;00m\n\u001b[1;32m    896\u001b[0m     results \u001b[38;5;241m=\u001b[39m pd\u001b[38;5;241m.\u001b[39mDataFrame([[\u001b[38;5;124m\"\u001b[39m\u001b[38;5;124mguessx\u001b[39m\u001b[38;5;124m\"\u001b[39m,\u001b[38;5;124m\"\u001b[39m\u001b[38;5;124mguessy\u001b[39m\u001b[38;5;124m\"\u001b[39m,\u001b[38;5;124m\"\u001b[39m\u001b[38;5;124mguessz\u001b[39m\u001b[38;5;124m\"\u001b[39m,\u001b[38;5;124m\"\u001b[39m\u001b[38;5;124mdiff1\u001b[39m\u001b[38;5;124m\"\u001b[39m,\u001b[38;5;124m\"\u001b[39m\u001b[38;5;124mdiff2\u001b[39m\u001b[38;5;124m\"\u001b[39m,\u001b[38;5;124m\"\u001b[39m\u001b[38;5;124mdiff3\u001b[39m\u001b[38;5;124m\"\u001b[39m,\u001b[38;5;124m\"\u001b[39m\u001b[38;5;124mstep\u001b[39m\u001b[38;5;124m\"\u001b[39m]])  \n\u001b[0;32m--> 897\u001b[0m     diff1, diff2, diff3, wtg1,wtg2,wtg3,wtg4 \u001b[38;5;241m=\u001b[39m \u001b[43meqs\u001b[49m\u001b[43m(\u001b[49m\u001b[43mx0\u001b[49m\u001b[43m,\u001b[49m\u001b[43my0\u001b[49m\u001b[43m,\u001b[49m\u001b[43mz0\u001b[49m\u001b[43m)\u001b[49m\n\u001b[1;32m    898\u001b[0m     results1 \u001b[38;5;241m=\u001b[39m pd\u001b[38;5;241m.\u001b[39mDataFrame([[x0,y0,z0,diff1,diff2,diff3,step]]) \n\u001b[1;32m    899\u001b[0m     results \u001b[38;5;241m=\u001b[39m pd\u001b[38;5;241m.\u001b[39mconcat([results, results1], ignore_index\u001b[38;5;241m=\u001b[39m\u001b[38;5;28;01mTrue\u001b[39;00m)\n",
      "File \u001b[0;32m~/Documents/GitHub/VolFe/src/VolFe/equilibrium_equations.py:2544\u001b[0m, in \u001b[0;36meq_SCHOFe_2.<locals>.f_SCHOFe\u001b[0;34m(xg_O2_, xg_A, xg_B)\u001b[0m\n\u001b[1;32m   2542\u001b[0m \u001b[38;5;28;01mdef\u001b[39;00m \u001b[38;5;21mf_SCHOFe\u001b[39m(xg_O2_,xg_A,xg_B):\n\u001b[1;32m   2543\u001b[0m     xg_O2__, xg_H2_, xg_S2_, xg_H2O_, xg_CO_, xg_CO2_, xg_SO2_, xg_CH4_, xg_H2S_, xg_OCS_, Xg_t, xm_H2O_, xm_CO2_, wm_S_, wm_SO3_, Xm_t, Xm_t_ox, Fe32, Fe3T, S62, S6T, wm_H2O_, wm_CO2_, wm_ST_, wm_H2S_, wm_H2_, wm_CH4_, wm_CO_ \u001b[38;5;241m=\u001b[39m mg_SCHOFe(xg_O2_, xg_A, xg_B)\n\u001b[0;32m-> 2544\u001b[0m     wt_g_C \u001b[38;5;241m=\u001b[39m ((\u001b[43mwt_C\u001b[49m\u001b[38;5;241;43m/\u001b[39;49m\u001b[43mM_C\u001b[49m) \u001b[38;5;241m-\u001b[39m (wm_CO2_\u001b[38;5;241m/\u001b[39mM_CO2) \u001b[38;5;241m-\u001b[39m (wm_CH4_\u001b[38;5;241m/\u001b[39mM_CH4) \u001b[38;5;241m-\u001b[39m (wm_CO_\u001b[38;5;241m/\u001b[39mM_CO))\u001b[38;5;241m/\u001b[39m(((xg_CO2_\u001b[38;5;241m+\u001b[39mxg_CO_\u001b[38;5;241m+\u001b[39mxg_CH4_\u001b[38;5;241m+\u001b[39mxg_OCS_)\u001b[38;5;241m/\u001b[39mXg_t) \u001b[38;5;241m-\u001b[39m (wm_CO2_\u001b[38;5;241m/\u001b[39mM_CO2) \u001b[38;5;241m-\u001b[39m (wm_CH4_\u001b[38;5;241m/\u001b[39mM_CH4) \u001b[38;5;241m-\u001b[39m (wm_CO_\u001b[38;5;241m/\u001b[39mM_CO))\n\u001b[1;32m   2545\u001b[0m     wt_g_O \u001b[38;5;241m=\u001b[39m ((wt_O\u001b[38;5;241m/\u001b[39mM_O) \u001b[38;5;241m-\u001b[39m (wm_H2O_\u001b[38;5;241m/\u001b[39mM_H2O) \u001b[38;5;241m-\u001b[39m ((\u001b[38;5;241m2.0\u001b[39m\u001b[38;5;241m*\u001b[39mwm_CO2_)\u001b[38;5;241m/\u001b[39mM_CO2) \u001b[38;5;241m-\u001b[39m (\u001b[38;5;241m3.0\u001b[39m\u001b[38;5;241m*\u001b[39mwm_SO3_\u001b[38;5;241m/\u001b[39mM_SO3) \u001b[38;5;241m-\u001b[39m (wm_CO_\u001b[38;5;241m/\u001b[39mM_CO) \u001b[38;5;241m-\u001b[39m (wt_Fe\u001b[38;5;241m/\u001b[39mM_Fe)\u001b[38;5;241m*\u001b[39m((\u001b[38;5;241m1.5\u001b[39m\u001b[38;5;241m*\u001b[39mFe32\u001b[38;5;241m+\u001b[39m\u001b[38;5;241m1.0\u001b[39m)\u001b[38;5;241m/\u001b[39m(Fe32\u001b[38;5;241m+\u001b[39m\u001b[38;5;241m1.0\u001b[39m)))\u001b[38;5;241m/\u001b[39m(((\u001b[38;5;241m2.0\u001b[39m\u001b[38;5;241m*\u001b[39mxg_CO2_ \u001b[38;5;241m+\u001b[39m xg_CO_ \u001b[38;5;241m+\u001b[39m \u001b[38;5;241m2.0\u001b[39m\u001b[38;5;241m*\u001b[39mxg_O2_ \u001b[38;5;241m+\u001b[39m xg_H2O_ \u001b[38;5;241m+\u001b[39m \u001b[38;5;241m2.0\u001b[39m\u001b[38;5;241m*\u001b[39mxg_SO2_ \u001b[38;5;241m+\u001b[39m xg_OCS_ )\u001b[38;5;241m/\u001b[39mXg_t) \u001b[38;5;241m-\u001b[39m (wm_H2O_\u001b[38;5;241m/\u001b[39mM_H2O) \u001b[38;5;241m-\u001b[39m ((\u001b[38;5;241m2.0\u001b[39m\u001b[38;5;241m*\u001b[39mwm_CO2_)\u001b[38;5;241m/\u001b[39mM_CO2) \u001b[38;5;241m-\u001b[39m (\u001b[38;5;241m3.0\u001b[39m\u001b[38;5;241m*\u001b[39mwm_SO3_\u001b[38;5;241m/\u001b[39mM_SO3) \u001b[38;5;241m-\u001b[39m (wm_CO_\u001b[38;5;241m/\u001b[39mM_CO))\n\u001b[1;32m   2546\u001b[0m     wt_g_H \u001b[38;5;241m=\u001b[39m ((wt_H\u001b[38;5;241m/\u001b[39m(\u001b[38;5;241m2.0\u001b[39m\u001b[38;5;241m*\u001b[39mM_H)) \u001b[38;5;241m-\u001b[39m (wm_H2O_\u001b[38;5;241m/\u001b[39mM_H2O) \u001b[38;5;241m-\u001b[39m (wm_H2_\u001b[38;5;241m/\u001b[39mM_H2) \u001b[38;5;241m-\u001b[39m (\u001b[38;5;241m2.\u001b[39m\u001b[38;5;241m*\u001b[39mwm_CH4_\u001b[38;5;241m/\u001b[39mM_CH4) \u001b[38;5;241m-\u001b[39m (wm_H2S_\u001b[38;5;241m/\u001b[39mM_H2S))\u001b[38;5;241m/\u001b[39m(((xg_H2O_\u001b[38;5;241m+\u001b[39mxg_H2_\u001b[38;5;241m+\u001b[39m\u001b[38;5;241m2.0\u001b[39m\u001b[38;5;241m*\u001b[39mxg_CH4_\u001b[38;5;241m+\u001b[39mxg_H2S_)\u001b[38;5;241m/\u001b[39mXg_t) \u001b[38;5;241m-\u001b[39m (wm_H2O_\u001b[38;5;241m/\u001b[39mM_H2O) \u001b[38;5;241m-\u001b[39m (wm_H2_\u001b[38;5;241m/\u001b[39mM_H2) \u001b[38;5;241m-\u001b[39m (\u001b[38;5;241m2.\u001b[39m\u001b[38;5;241m*\u001b[39mwm_CH4_\u001b[38;5;241m/\u001b[39mM_CH4) \u001b[38;5;241m-\u001b[39m (wm_H2S_\u001b[38;5;241m/\u001b[39mM_H2S))\n",
      "\u001b[0;31mTypeError\u001b[0m: ufunc 'divide' not supported for the input types, and the inputs could not be safely coerced to any supported types according to the casting rule ''safe''"
     ]
    }
   ],
   "source": [
    "regas2 = vf.calc_gassing(my_analysis, models=my_models, dp_step = 1.)"
   ]
  },
  {
   "cell_type": "markdown",
   "metadata": {},
   "source": [
    "VolFe will then calculate the bulk composition of the system by calculating the melt and vapor composition at Pvsat based on the input composition, and then add 1 wt% of that vapor composition to the melt.\n",
    "\n",
    "Again, the calculation below will run with the default pressure step size of 10 bar so it might take a while to run."
   ]
  },
  {
   "cell_type": "code",
   "execution_count": null,
   "metadata": {},
   "outputs": [],
   "source": []
  },
  {
   "cell_type": "markdown",
   "metadata": {},
   "source": [
    "### in progress ###\n",
    "Plotting...\n"
   ]
  }
 ],
 "metadata": {
  "kernelspec": {
   "display_name": "base",
   "language": "python",
   "name": "python3"
  },
  "language_info": {
   "codemirror_mode": {
    "name": "ipython",
    "version": 3
   },
   "file_extension": ".py",
   "mimetype": "text/x-python",
   "name": "python",
   "nbconvert_exporter": "python",
   "pygments_lexer": "ipython3",
   "version": "3.11.7"
  }
 },
 "nbformat": 4,
 "nbformat_minor": 2
}
