{
 "cells": [
  {
   "cell_type": "markdown",
   "metadata": {},
   "source": [
    "## 2c. Calculate closed- and open-system regassing paths"
   ]
  },
  {
   "cell_type": "markdown",
   "metadata": {},
   "source": [
    "## Setting things up\n",
    "First we need to import a few Python packages (including VolFe) and set the precision of the calculations. You need to install VolFe once on your machine, if you haven't yet, uncomment the line below (remove the #)."
   ]
  },
  {
   "cell_type": "code",
   "execution_count": null,
   "metadata": {},
   "outputs": [],
   "source": [
    "# Install VolFe on your machine. Remove the # from line below to do this (don't remove the # from this line!).\n",
    "# pip install VolFe"
   ]
  },
  {
   "cell_type": "code",
   "execution_count": 1,
   "metadata": {},
   "outputs": [],
   "source": [
    "# import python packages\n",
    "import pandas as pd\n",
    "import gmpy2 as gp\n",
    "import VolFe as vf\n",
    "\n",
    "# set calculation precision\n",
    "gp.get_context().precision=50"
   ]
  },
  {
   "cell_type": "markdown",
   "metadata": {},
   "source": [
    "Instead of running a degassing calculation, where we decrease pressure simulating magma ascent, we can do a regassing calculation, where we increase pressure and resorb vapor into the melt.\n",
    "\n",
    "For these types of calculations, we specify the melt composition at the start of the regassing path. \n",
    "We'll use Sari15-04-33 from Brounce et al. (2014) again assuming a temperature of 1200 'C.\n",
    "\n",
    "For closed-system regassing calculations, we need an estimate of the bulk composition of the system - either intial CO2 or wt% gas present as described in Example 2b - at the start of regassing.\n",
    "For this example we'll assume the initial melt contained 2 wt% CO2-eq.\n",
    "\n",
    "Finally, we also need to state the final pressure of the calculation, which we specify in the inputs using \"final_P\" in bars.\n",
    "\n",
    "So the input file looks like below:"
   ]
  },
  {
   "cell_type": "code",
   "execution_count": 2,
   "metadata": {},
   "outputs": [],
   "source": [
    "# Define the melt composition, fO2 estimate, and T as a dictionary.\n",
    "my_analysis = {'Sample':'Sari15-04-33',\n",
    "           'T_C': 1200., # Temperature in 'C\n",
    "           'SiO2': 47.89, # wt%\n",
    "           'TiO2': 0.75, # wt%\n",
    "           'Al2O3': 16.74, # wt%\n",
    "           'FeOT': 9.43, # wt%\n",
    "           'MnO': 0.18, # wt%\n",
    "           'MgO': 5.92, # wt%\n",
    "           'CaO': 11.58, # wt%\n",
    "           'Na2O': 2.14, # wt%\n",
    "           'K2O': 0.63, # wt%\n",
    "           'P2O5': 0.17, # wt%\n",
    "           'H2O': 4.17, # wt%\n",
    "           'CO2ppm': 1487., # ppm\n",
    "           'STppm': 1343.5, # ppm\n",
    "           'Xppm': 0., # ppm\n",
    "           'Fe3FeT': 0.195,\n",
    "           'initial_CO2wtpc': 2., # initial CO2 content of the system in wt%\n",
    "           'final_P':6000.} # bar\n",
    "\n",
    "# Turn the dictionary into a pandas dataframe, setting the index to 0.\n",
    "my_analysis = pd.DataFrame(my_analysis, index=[0])"
   ]
  },
  {
   "cell_type": "markdown",
   "metadata": {},
   "source": [
    "We also need to change some model options to say its a regassing - rather than degassing - calculation.\n",
    "This is done by changing \"gassing_direction\" to \"regas\" (the default is \"degas\").\n",
    "As before (Example 2b), to use the initial CO2 in the calculation, we have to change the \"bulk_composition\" option to \"CO2\" so it knows how to calculate the bulk composition, and change \"starting_P\" to \"measured\".\n",
    "This gives the following models dataframe, assuming the defaults for everything else:"
   ]
  },
  {
   "cell_type": "code",
   "execution_count": null,
   "metadata": {},
   "outputs": [],
   "source": [
    "# choose the options I want - everything else will use the default options\n",
    "my_models = [['gassing_direction','regas'],['bulk_composition','CO2'],['starting_P','measured']]\n",
    "\n",
    "# turn to dataframe with correct column headers and indexes    \n",
    "my_models = vf.make_df_and_add_model_defaults(my_models)"
   ]
  },
  {
   "cell_type": "markdown",
   "metadata": {},
   "source": [
    "VolFe will then calculate the bulk composition of the system by calculating the melt and vapor composition at Pvsat based on the input composition, and then add that vapor composition to the melt such that the bulk composition is 1 wt% CO2.\n",
    "Then it will increase the pressure (default pressure step size of 10 bar so it might take a while to run) up to the final pressure."
   ]
  },
  {
   "cell_type": "code",
   "execution_count": null,
   "metadata": {},
   "outputs": [],
   "source": [
    "vf.calc_gassing(my_analysis, models=my_models)"
   ]
  },
  {
   "cell_type": "markdown",
   "metadata": {},
   "source": [
    "We could have used wt% vapor present instead of initial CO2 content to calculate the bulk composition if preferred - see Example 2b for details.\n",
    "\n",
    "### in progress ###\n",
    "\n",
    "We can do the same assuming open-system degassing by changing the \"gassing_direction\" and \"gassing_style\""
   ]
  },
  {
   "cell_type": "code",
   "execution_count": 3,
   "metadata": {},
   "outputs": [],
   "source": [
    "# choose the options I want - everything else will use the default options\n",
    "my_models = [['gassing_direction','regas'],['gassing_style','open'],['starting_P','measured']]\n",
    "\n",
    "# turn to dataframe with correct column headers and indexes    \n",
    "my_models = vf.make_df_and_add_model_defaults(my_models)"
   ]
  },
  {
   "cell_type": "code",
   "execution_count": 4,
   "metadata": {},
   "outputs": [
    {
     "name": "stdout",
     "output_type": "stream",
     "text": [
      "Sari15-04-33\n",
      "1200.0 3863.5831334191316 2024-04-06 22:59:34.335521\n"
     ]
    },
    {
     "ename": "TypeError",
     "evalue": "can't multiply sequence by non-int of type 'float'",
     "output_type": "error",
     "traceback": [
      "\u001b[0;31m---------------------------------------------------------------------------\u001b[0m",
      "\u001b[0;31mTypeError\u001b[0m                                 Traceback (most recent call last)",
      "Cell \u001b[0;32mIn[4], line 1\u001b[0m\n\u001b[0;32m----> 1\u001b[0m \u001b[43mvf\u001b[49m\u001b[38;5;241;43m.\u001b[39;49m\u001b[43mcalc_gassing\u001b[49m\u001b[43m(\u001b[49m\u001b[43mmy_analysis\u001b[49m\u001b[43m,\u001b[49m\u001b[43m \u001b[49m\u001b[43mmodels\u001b[49m\u001b[38;5;241;43m=\u001b[39;49m\u001b[43mmy_models\u001b[49m\u001b[43m)\u001b[49m\n",
      "File \u001b[0;32m~/Documents/GitHub/VolFe/src/VolFe/batch_calculations.py:544\u001b[0m, in \u001b[0;36mcalc_gassing\u001b[0;34m(setup, models, run, nr_step, nr_tol, dp_step, psat_tol, dwtg, i_nr_step, i_nr_tol)\u001b[0m\n\u001b[1;32m    542\u001b[0m \u001b[38;5;28;01mif\u001b[39;00m models\u001b[38;5;241m.\u001b[39mloc[\u001b[38;5;124m\"\u001b[39m\u001b[38;5;124mgassing_direction\u001b[39m\u001b[38;5;124m\"\u001b[39m,\u001b[38;5;124m\"\u001b[39m\u001b[38;5;124moption\u001b[39m\u001b[38;5;124m\"\u001b[39m] \u001b[38;5;241m==\u001b[39m \u001b[38;5;124m\"\u001b[39m\u001b[38;5;124mregas\u001b[39m\u001b[38;5;124m\"\u001b[39m \u001b[38;5;129;01mand\u001b[39;00m models\u001b[38;5;241m.\u001b[39mloc[\u001b[38;5;124m\"\u001b[39m\u001b[38;5;124mgassing_style\u001b[39m\u001b[38;5;124m\"\u001b[39m,\u001b[38;5;124m\"\u001b[39m\u001b[38;5;124moption\u001b[39m\u001b[38;5;124m\"\u001b[39m] \u001b[38;5;241m==\u001b[39m \u001b[38;5;124m\"\u001b[39m\u001b[38;5;124mopen\u001b[39m\u001b[38;5;124m\"\u001b[39m:\n\u001b[1;32m    543\u001b[0m     gas_mf \u001b[38;5;241m=\u001b[39m {\u001b[38;5;124m\"\u001b[39m\u001b[38;5;124mO2\u001b[39m\u001b[38;5;124m\"\u001b[39m:mg\u001b[38;5;241m.\u001b[39mxg_O2(PT,melt_wf,models),\u001b[38;5;124m\"\u001b[39m\u001b[38;5;124mCO\u001b[39m\u001b[38;5;124m\"\u001b[39m:mg\u001b[38;5;241m.\u001b[39mxg_CO(PT,melt_wf,models),\u001b[38;5;124m\"\u001b[39m\u001b[38;5;124mCO2\u001b[39m\u001b[38;5;124m\"\u001b[39m:mg\u001b[38;5;241m.\u001b[39mxg_CO2(PT,melt_wf,models),\u001b[38;5;124m\"\u001b[39m\u001b[38;5;124mH2\u001b[39m\u001b[38;5;124m\"\u001b[39m:mg\u001b[38;5;241m.\u001b[39mxg_H2(PT,melt_wf,models),\u001b[38;5;124m\"\u001b[39m\u001b[38;5;124mH2O\u001b[39m\u001b[38;5;124m\"\u001b[39m:mg\u001b[38;5;241m.\u001b[39mxg_H2O(PT,melt_wf,models),\u001b[38;5;124m\"\u001b[39m\u001b[38;5;124mCH4\u001b[39m\u001b[38;5;124m\"\u001b[39m:mg\u001b[38;5;241m.\u001b[39mxg_CH4(PT,melt_wf,models),\u001b[38;5;124m\"\u001b[39m\u001b[38;5;124mS2\u001b[39m\u001b[38;5;124m\"\u001b[39m:mg\u001b[38;5;241m.\u001b[39mxg_S2(PT,melt_wf,models),\u001b[38;5;124m\"\u001b[39m\u001b[38;5;124mSO2\u001b[39m\u001b[38;5;124m\"\u001b[39m:mg\u001b[38;5;241m.\u001b[39mxg_SO2(PT,melt_wf,models),\u001b[38;5;124m\"\u001b[39m\u001b[38;5;124mH2S\u001b[39m\u001b[38;5;124m\"\u001b[39m:mg\u001b[38;5;241m.\u001b[39mxg_H2S(PT,melt_wf,models),\u001b[38;5;124m\"\u001b[39m\u001b[38;5;124mOCS\u001b[39m\u001b[38;5;124m\"\u001b[39m:mg\u001b[38;5;241m.\u001b[39mxg_OCS(PT,melt_wf,models),\u001b[38;5;124m\"\u001b[39m\u001b[38;5;124mX\u001b[39m\u001b[38;5;124m\"\u001b[39m:mg\u001b[38;5;241m.\u001b[39mxg_X(PT,melt_wf,models),\u001b[38;5;124m\"\u001b[39m\u001b[38;5;124mXg_t\u001b[39m\u001b[38;5;124m\"\u001b[39m:mg\u001b[38;5;241m.\u001b[39mXg_tot(PT,melt_wf,models),\u001b[38;5;124m\"\u001b[39m\u001b[38;5;124mwt_g\u001b[39m\u001b[38;5;124m\"\u001b[39m:\u001b[38;5;241m0.\u001b[39m}\n\u001b[0;32m--> 544\u001b[0m     wt_C, wt_H, wt_S, wt_X, wt_Fe, wt_O, Wt \u001b[38;5;241m=\u001b[39m \u001b[43mc\u001b[49m\u001b[38;5;241;43m.\u001b[39;49m\u001b[43mnew_bulk_regas_open\u001b[49m\u001b[43m(\u001b[49m\u001b[43mPT\u001b[49m\u001b[43m,\u001b[49m\u001b[43mmelt_wf\u001b[49m\u001b[43m,\u001b[49m\u001b[43mbulk_wf\u001b[49m\u001b[43m,\u001b[49m\u001b[43mgas_mf\u001b[49m\u001b[43m,\u001b[49m\u001b[43mdwtg\u001b[49m\u001b[43m,\u001b[49m\u001b[43mmodels\u001b[49m\u001b[43m)\u001b[49m\n\u001b[1;32m    545\u001b[0m     bulk_wf \u001b[38;5;241m=\u001b[39m {\u001b[38;5;124m\"\u001b[39m\u001b[38;5;124mC\u001b[39m\u001b[38;5;124m\"\u001b[39m:wt_C,\u001b[38;5;124m\"\u001b[39m\u001b[38;5;124mH\u001b[39m\u001b[38;5;124m\"\u001b[39m:wt_H,\u001b[38;5;124m\"\u001b[39m\u001b[38;5;124mO\u001b[39m\u001b[38;5;124m\"\u001b[39m:wt_O,\u001b[38;5;124m\"\u001b[39m\u001b[38;5;124mS\u001b[39m\u001b[38;5;124m\"\u001b[39m:wt_S,\u001b[38;5;124m\"\u001b[39m\u001b[38;5;124mFe\u001b[39m\u001b[38;5;124m\"\u001b[39m:wt_Fe,\u001b[38;5;124m\"\u001b[39m\u001b[38;5;124mX\u001b[39m\u001b[38;5;124m\"\u001b[39m:wt_X,\u001b[38;5;124m\"\u001b[39m\u001b[38;5;124mWt\u001b[39m\u001b[38;5;124m\"\u001b[39m:Wt}\n\u001b[1;32m    547\u001b[0m \u001b[38;5;66;03m# run over different pressures #\u001b[39;00m\n",
      "File \u001b[0;32m~/Documents/GitHub/VolFe/src/VolFe/calculations.py:246\u001b[0m, in \u001b[0;36mnew_bulk_regas_open\u001b[0;34m(PT, melt_wf, bulk_wf, gas_mf, dwtg, models)\u001b[0m\n\u001b[1;32m    244\u001b[0m wt_X \u001b[38;5;241m=\u001b[39m (\u001b[38;5;241m1.\u001b[39m\u001b[38;5;241m-\u001b[39mdwtg)\u001b[38;5;241m*\u001b[39mme[\u001b[38;5;124m\"\u001b[39m\u001b[38;5;124mwm_X\u001b[39m\u001b[38;5;124m\"\u001b[39m] \u001b[38;5;241m+\u001b[39m dwtg\u001b[38;5;241m*\u001b[39mge[\u001b[38;5;124m\"\u001b[39m\u001b[38;5;124mwg_X\u001b[39m\u001b[38;5;124m\"\u001b[39m]\n\u001b[1;32m    245\u001b[0m wt_Fe \u001b[38;5;241m=\u001b[39m (\u001b[38;5;241m1.\u001b[39m\u001b[38;5;241m-\u001b[39mdwtg)\u001b[38;5;241m*\u001b[39mme[\u001b[38;5;124m\"\u001b[39m\u001b[38;5;124mwm_Fe\u001b[39m\u001b[38;5;124m\"\u001b[39m]\n\u001b[0;32m--> 246\u001b[0m Wt \u001b[38;5;241m=\u001b[39m \u001b[43mbulk_wf\u001b[49m\u001b[43m[\u001b[49m\u001b[38;5;124;43m'\u001b[39;49m\u001b[38;5;124;43mWt\u001b[39;49m\u001b[38;5;124;43m'\u001b[39;49m\u001b[43m]\u001b[49m\u001b[38;5;241;43m*\u001b[39;49m\u001b[43m(\u001b[49m\u001b[38;5;241;43m1.\u001b[39;49m\u001b[43m \u001b[49m\u001b[38;5;241;43m+\u001b[39;49m\u001b[43m \u001b[49m\u001b[43mdwtg\u001b[49m\u001b[43m)\u001b[49m\n\u001b[1;32m    247\u001b[0m result \u001b[38;5;241m=\u001b[39m {\u001b[38;5;124m\"\u001b[39m\u001b[38;5;124mwt_C\u001b[39m\u001b[38;5;124m\"\u001b[39m:wt_C, \u001b[38;5;124m\"\u001b[39m\u001b[38;5;124mwt_H\u001b[39m\u001b[38;5;124m\"\u001b[39m:wt_H, \u001b[38;5;124m\"\u001b[39m\u001b[38;5;124mwt_S\u001b[39m\u001b[38;5;124m\"\u001b[39m:wt_S, \u001b[38;5;124m\"\u001b[39m\u001b[38;5;124mwt_Fe\u001b[39m\u001b[38;5;124m\"\u001b[39m:wt_Fe, \u001b[38;5;124m\"\u001b[39m\u001b[38;5;124mwt_O\u001b[39m\u001b[38;5;124m\"\u001b[39m:wt_O, \u001b[38;5;124m\"\u001b[39m\u001b[38;5;124mwt_X\u001b[39m\u001b[38;5;124m\"\u001b[39m:wt_X, \u001b[38;5;124m\"\u001b[39m\u001b[38;5;124mWt\u001b[39m\u001b[38;5;124m\"\u001b[39m:Wt}\n\u001b[1;32m    248\u001b[0m \u001b[38;5;28;01mreturn\u001b[39;00m result\n",
      "\u001b[0;31mTypeError\u001b[0m: can't multiply sequence by non-int of type 'float'"
     ]
    }
   ],
   "source": [
    "vf.calc_gassing(my_analysis, models=my_models)"
   ]
  },
  {
   "cell_type": "markdown",
   "metadata": {},
   "source": [
    "VolFe will then calculate the bulk composition of the system by calculating the melt and vapor composition at Pvsat based on the input composition, and then add 1 wt% of that vapor composition to the melt.\n",
    "\n",
    "Again, the calculation below will run with the default pressure step size of 10 bar so it might take a while to run."
   ]
  },
  {
   "cell_type": "code",
   "execution_count": null,
   "metadata": {},
   "outputs": [],
   "source": []
  },
  {
   "cell_type": "markdown",
   "metadata": {},
   "source": [
    "### in progress ###\n",
    "Plotting...\n"
   ]
  }
 ],
 "metadata": {
  "kernelspec": {
   "display_name": "base",
   "language": "python",
   "name": "python3"
  },
  "language_info": {
   "codemirror_mode": {
    "name": "ipython",
    "version": 3
   },
   "file_extension": ".py",
   "mimetype": "text/x-python",
   "name": "python",
   "nbconvert_exporter": "python",
   "pygments_lexer": "ipython3",
   "version": "3.11.7"
  }
 },
 "nbformat": 4,
 "nbformat_minor": 2
}
