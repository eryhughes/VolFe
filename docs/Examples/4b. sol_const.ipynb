{
 "cells": [
  {
   "cell_type": "markdown",
   "metadata": {},
   "source": [
    "## 4a. Calculate solubility constants"
   ]
  },
  {
   "cell_type": "markdown",
   "metadata": {},
   "source": [
    "## Setting things up\n",
    "You need to install VolFe once on your machine, if you haven't yet. Then we need to import a few Python packages (including VolFe). "
   ]
  },
  {
   "cell_type": "code",
   "execution_count": 1,
   "metadata": {},
   "outputs": [],
   "source": [
    "# Install VolFe on your machine. Don't remove the # from this line!\n",
    "# pip install VolFe # Remove the first # in this line if you have not installed VolFe on your machine before.\n",
    "\n",
    "# import python packages\n",
    "import pandas as pd\n",
    "import matplotlib.pyplot as plt\n",
    "import VolFe as vf"
   ]
  },
  {
   "cell_type": "markdown",
   "metadata": {},
   "source": [
    "This allows you to calculate the solubility constants for all volatile-bearing melt species in the CHOSX system at a given *P*, *T*, and melt composition.\n",
    "\n",
    "It can be run for multiple sets of conditions defined in the input data frame or loaded from a csv file.\n",
    "\n",
    "This first example is for a single set of conditions defined in a dataframe."
   ]
  },
  {
   "cell_type": "code",
   "execution_count": 2,
   "metadata": {},
   "outputs": [],
   "source": [
    "# Define the melt composition, fO2 estimate, and T as a dictionary.\n",
    "my_analysis = {'Sample':'Sari15-04-33',\n",
    "           'T_C': 1200., # Temperature in 'C\n",
    "           'P_bar': 1000., # Pressure in bar\n",
    "           'SiO2': 47.89, # wt%\n",
    "           'TiO2': 0.75, # wt%\n",
    "           'Al2O3': 16.74, # wt%\n",
    "           'FeOT': 9.43, # wt%\n",
    "           'MnO': 0.18, # wt%\n",
    "           'MgO': 5.92, # wt%\n",
    "           'CaO': 11.58, # wt%\n",
    "           'Na2O': 2.14, # wt%\n",
    "           'K2O': 0.63, # wt%\n",
    "           'P2O5': 0.17, # wt%\n",
    "           'H2O': 4.17, # wt%\n",
    "           'CO2ppm': 1487., # ppm\n",
    "           'STppm': 1343.5, # ppm\n",
    "           'Xppm': 0., # ppm\n",
    "           'Fe3FeT': 0.195}\n",
    "\n",
    "# Turn the dictionary into a pandas dataframe, setting the index to 0.\n",
    "my_analysis = pd.DataFrame(my_analysis, index=[0])"
   ]
  },
  {
   "cell_type": "markdown",
   "metadata": {},
   "source": [
    "We'll use the default options"
   ]
  },
  {
   "cell_type": "code",
   "execution_count": 3,
   "metadata": {},
   "outputs": [
    {
     "name": "stdout",
     "output_type": "stream",
     "text": [
      "                            option\n",
      "type                              \n",
      "COH_species     yes_H2_CO_CH4_melt\n",
      "H2S_m                         True\n",
      "species X                       Ar\n",
      "Hspeciation                   none\n",
      "fO2                       Kress91A\n",
      "...                            ...\n",
      "error                          0.1\n",
      "print status                 False\n",
      "output csv                    True\n",
      "setup                        False\n",
      "high precision               False\n",
      "\n",
      "[64 rows x 1 columns]\n"
     ]
    }
   ],
   "source": [
    "# print default options in VolFe\n",
    "print(vf.default_models)"
   ]
  },
  {
   "cell_type": "markdown",
   "metadata": {},
   "source": [
    "And this runs the calculation"
   ]
  },
  {
   "cell_type": "code",
   "execution_count": 4,
   "metadata": {},
   "outputs": [
    {
     "data": {
      "text/html": [
       "<div>\n",
       "<style scoped>\n",
       "    .dataframe tbody tr th:only-of-type {\n",
       "        vertical-align: middle;\n",
       "    }\n",
       "\n",
       "    .dataframe tbody tr th {\n",
       "        vertical-align: top;\n",
       "    }\n",
       "\n",
       "    .dataframe thead th {\n",
       "        text-align: right;\n",
       "    }\n",
       "</style>\n",
       "<table border=\"1\" class=\"dataframe\">\n",
       "  <thead>\n",
       "    <tr style=\"text-align: right;\">\n",
       "      <th></th>\n",
       "      <th>Sample</th>\n",
       "      <th>Pressure (bar)</th>\n",
       "      <th>T ('C)</th>\n",
       "      <th>SiO2</th>\n",
       "      <th>TiO2</th>\n",
       "      <th>Al2O3</th>\n",
       "      <th>FeOT</th>\n",
       "      <th>MnO</th>\n",
       "      <th>MgO</th>\n",
       "      <th>CaO</th>\n",
       "      <th>...</th>\n",
       "      <th>hydrogen opt</th>\n",
       "      <th>sulfide opt</th>\n",
       "      <th>sulfate opt</th>\n",
       "      <th>hydrogen sulfide opt</th>\n",
       "      <th>methane opt</th>\n",
       "      <th>carbon monoxide opt</th>\n",
       "      <th>species X solubility opt</th>\n",
       "      <th>Cspeccomp opt</th>\n",
       "      <th>Hspeccomp opt</th>\n",
       "      <th>Date</th>\n",
       "    </tr>\n",
       "  </thead>\n",
       "  <tbody>\n",
       "    <tr>\n",
       "      <th>0</th>\n",
       "      <td>Sari15-04-33</td>\n",
       "      <td>1000.0</td>\n",
       "      <td>1200.0</td>\n",
       "      <td>47.948689</td>\n",
       "      <td>0.750919</td>\n",
       "      <td>16.760515</td>\n",
       "      <td>9.441557</td>\n",
       "      <td>0.180221</td>\n",
       "      <td>5.927255</td>\n",
       "      <td>11.594191</td>\n",
       "      <td>...</td>\n",
       "      <td>Basalt_Hughes24</td>\n",
       "      <td>ONeill21dil</td>\n",
       "      <td>ONeill22dil</td>\n",
       "      <td>Basalt_Hughes24</td>\n",
       "      <td>Basalt_Ardia13</td>\n",
       "      <td>Basalt_Hughes24</td>\n",
       "      <td>Ar_Basalt_HughesIP</td>\n",
       "      <td>Basalt</td>\n",
       "      <td>MORB_HughesIP</td>\n",
       "      <td>2024-07-13 19:18:49.396597</td>\n",
       "    </tr>\n",
       "  </tbody>\n",
       "</table>\n",
       "<p>1 rows × 45 columns</p>\n",
       "</div>"
      ],
      "text/plain": [
       "0        Sample Pressure (bar)  T ('C)       SiO2      TiO2      Al2O3  \\\n",
       "0  Sari15-04-33         1000.0  1200.0  47.948689  0.750919  16.760515   \n",
       "\n",
       "0      FeOT       MnO       MgO        CaO  ...     hydrogen opt  sulfide opt  \\\n",
       "0  9.441557  0.180221  5.927255  11.594191  ...  Basalt_Hughes24  ONeill21dil   \n",
       "\n",
       "0  sulfate opt hydrogen sulfide opt     methane opt carbon monoxide opt  \\\n",
       "0  ONeill22dil      Basalt_Hughes24  Basalt_Ardia13     Basalt_Hughes24   \n",
       "\n",
       "0 species X solubility opt Cspeccomp opt  Hspeccomp opt  \\\n",
       "0       Ar_Basalt_HughesIP        Basalt  MORB_HughesIP   \n",
       "\n",
       "0                        Date  \n",
       "0  2024-07-13 19:18:49.396597  \n",
       "\n",
       "[1 rows x 45 columns]"
      ]
     },
     "execution_count": 4,
     "metadata": {},
     "output_type": "execute_result"
    }
   ],
   "source": [
    "vf.calc_sol_consts(my_analysis)"
   ]
  }
 ],
 "metadata": {
  "kernelspec": {
   "display_name": "base",
   "language": "python",
   "name": "python3"
  },
  "language_info": {
   "codemirror_mode": {
    "name": "ipython",
    "version": 3
   },
   "file_extension": ".py",
   "mimetype": "text/x-python",
   "name": "python",
   "nbconvert_exporter": "python",
   "pygments_lexer": "ipython3",
   "version": "3.11.7"
  }
 },
 "nbformat": 4,
 "nbformat_minor": 2
}
