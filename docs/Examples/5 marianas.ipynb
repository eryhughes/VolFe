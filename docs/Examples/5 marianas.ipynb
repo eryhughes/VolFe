{
 "cells": [
  {
   "cell_type": "code",
   "execution_count": 1,
   "metadata": {},
   "outputs": [],
   "source": [
    "### import python packages ###\n",
    "import pandas as pd\n",
    "import gmpy2 as gp\n",
    "\n",
    "### import VolFe functions ###\n",
    "import batch_calculations as bc\n",
    "\n",
    "### load species file and set calculation precision ###\n",
    "species = pd.read_csv(\"species.csv\", index_col = [0]) # attributes of the different species used in the system\n",
    "gp.get_context().precision=100"
   ]
  },
  {
   "cell_type": "code",
   "execution_count": 2,
   "metadata": {},
   "outputs": [],
   "source": [
    "### load setup and models file ###\n",
    "setup = pd.read_csv(\"example_marianas.csv\") # csv for initial conditions of the system - typically inputs.csv\n",
    "models = pd.read_csv(\"models.csv\", index_col = [0]) # model options"
   ]
  },
  {
   "cell_type": "code",
   "execution_count": 4,
   "metadata": {},
   "outputs": [
    {
     "name": "stdout",
     "output_type": "stream",
     "text": [
      "52 Sari15-04-33_1 4103.693713624968\n",
      "53 Sari15-04-33_2 4136.99221044113\n",
      "54 Sari15-04-33_3 3837.107410591879\n",
      "55 Sari15-04-33_4 4068.2908256572864\n",
      "56 Sari15-04-33_5 3919.2307012152246\n",
      "57 Sari15-04-33_6 4132.937338679083\n",
      "58 Sari15-04-33_7 4152.264636536823\n",
      "59 Sari15-04-33_8 4068.3174947357666\n",
      "60 Sari15-04-33_9 3994.938000593939\n",
      "61 Sari15-04-33_10 4119.29609985396\n",
      "62 Sari15-04-33_11 4256.005627444614\n",
      "63 Sari15-04-33_12 4130.247077922414\n",
      "64 Sari15-04-33_13 3962.8966668369612\n",
      "65 Sari15-04-33_14 4140.754277820885\n"
     ]
    },
    {
     "ename": "KeyboardInterrupt",
     "evalue": "",
     "output_type": "error",
     "traceback": [
      "\u001b[0;31m---------------------------------------------------------------------------\u001b[0m",
      "\u001b[0;31mKeyboardInterrupt\u001b[0m                         Traceback (most recent call last)",
      "\u001b[0;32m<ipython-input-4-cd0a52a6e18a>\u001b[0m in \u001b[0;36m<module>\u001b[0;34m\u001b[0m\n\u001b[1;32m     13\u001b[0m \u001b[0;34m\u001b[0m\u001b[0m\n\u001b[1;32m     14\u001b[0m \u001b[0;31m# run model\u001b[0m\u001b[0;34m\u001b[0m\u001b[0;34m\u001b[0m\u001b[0;34m\u001b[0m\u001b[0m\n\u001b[0;32m---> 15\u001b[0;31m \u001b[0mbc\u001b[0m\u001b[0;34m.\u001b[0m\u001b[0mP_sat_output\u001b[0m\u001b[0;34m(\u001b[0m\u001b[0mfirst_row\u001b[0m\u001b[0;34m,\u001b[0m\u001b[0mlast_row\u001b[0m\u001b[0;34m,\u001b[0m\u001b[0mp_tol\u001b[0m\u001b[0;34m,\u001b[0m\u001b[0mnr_step\u001b[0m\u001b[0;34m,\u001b[0m\u001b[0mnr_tol\u001b[0m\u001b[0;34m,\u001b[0m\u001b[0msetup\u001b[0m\u001b[0;34m,\u001b[0m\u001b[0mspecies\u001b[0m\u001b[0;34m,\u001b[0m\u001b[0mmodels\u001b[0m\u001b[0;34m)\u001b[0m\u001b[0;34m\u001b[0m\u001b[0;34m\u001b[0m\u001b[0m\n\u001b[0m",
      "\u001b[0;32m~/Documents/Research/volatiles/Solubility/Python/plotting/VolFe example/batch_calculations.py\u001b[0m in \u001b[0;36mP_sat_output\u001b[0;34m(first_row, last_row, p_tol, nr_step, nr_tol, setup, species, models)\u001b[0m\n\u001b[1;32m     66\u001b[0m             \u001b[0mP_sat_\u001b[0m\u001b[0;34m,\u001b[0m \u001b[0mwm_H2O_\u001b[0m\u001b[0;34m,\u001b[0m \u001b[0mwm_CO2_\u001b[0m\u001b[0;34m,\u001b[0m \u001b[0mwm_H2_\u001b[0m\u001b[0;34m,\u001b[0m \u001b[0mwm_CO_\u001b[0m\u001b[0;34m,\u001b[0m \u001b[0mwm_CH4_\u001b[0m\u001b[0;34m,\u001b[0m \u001b[0mwm_S2m_\u001b[0m\u001b[0;34m,\u001b[0m \u001b[0mwm_S6p_\u001b[0m\u001b[0;34m,\u001b[0m \u001b[0mwm_H2S_\u001b[0m\u001b[0;34m,\u001b[0m \u001b[0mH2O_HT\u001b[0m\u001b[0;34m,\u001b[0m \u001b[0mH2_HT\u001b[0m\u001b[0;34m,\u001b[0m \u001b[0mCH4_HT\u001b[0m\u001b[0;34m,\u001b[0m \u001b[0mH2S_HT\u001b[0m\u001b[0;34m,\u001b[0m \u001b[0mCO2_CT\u001b[0m\u001b[0;34m,\u001b[0m \u001b[0mCO_CT\u001b[0m\u001b[0;34m,\u001b[0m \u001b[0mCH4_CT\u001b[0m\u001b[0;34m,\u001b[0m \u001b[0mS6p_ST\u001b[0m\u001b[0;34m,\u001b[0m \u001b[0mS2m_ST\u001b[0m\u001b[0;34m,\u001b[0m \u001b[0mH2S_ST\u001b[0m\u001b[0;34m,\u001b[0m \u001b[0mFe3FeT\u001b[0m  \u001b[0;34m=\u001b[0m \u001b[0mc\u001b[0m\u001b[0;34m.\u001b[0m\u001b[0mfO2_P_VSA\u001b[0m\u001b[0;34m(\u001b[0m\u001b[0mrun\u001b[0m\u001b[0;34m,\u001b[0m\u001b[0mPT\u001b[0m\u001b[0;34m,\u001b[0m\u001b[0mmelt_wf\u001b[0m\u001b[0;34m,\u001b[0m\u001b[0msetup\u001b[0m\u001b[0;34m,\u001b[0m\u001b[0mspecies\u001b[0m\u001b[0;34m,\u001b[0m\u001b[0mmodels\u001b[0m\u001b[0;34m,\u001b[0m\u001b[0mnr_step\u001b[0m\u001b[0;34m,\u001b[0m\u001b[0mnr_tol\u001b[0m\u001b[0;34m,\u001b[0m\u001b[0mp_tol\u001b[0m\u001b[0;34m)\u001b[0m\u001b[0;34m\u001b[0m\u001b[0;34m\u001b[0m\u001b[0m\n\u001b[1;32m     67\u001b[0m         \u001b[0;32melif\u001b[0m \u001b[0mmodels\u001b[0m\u001b[0;34m.\u001b[0m\u001b[0mloc\u001b[0m\u001b[0;34m[\u001b[0m\u001b[0;34m\"sulphur_saturation\"\u001b[0m\u001b[0;34m,\u001b[0m\u001b[0;34m\"option\"\u001b[0m\u001b[0;34m]\u001b[0m \u001b[0;34m==\u001b[0m \u001b[0;34m\"no\"\u001b[0m\u001b[0;34m:\u001b[0m\u001b[0;34m\u001b[0m\u001b[0;34m\u001b[0m\u001b[0m\n\u001b[0;32m---> 68\u001b[0;31m             \u001b[0mP_sat_\u001b[0m\u001b[0;34m,\u001b[0m \u001b[0mwm_H2O_\u001b[0m\u001b[0;34m,\u001b[0m \u001b[0mwm_CO2_\u001b[0m\u001b[0;34m,\u001b[0m \u001b[0mwm_H2_\u001b[0m\u001b[0;34m,\u001b[0m \u001b[0mwm_CO_\u001b[0m\u001b[0;34m,\u001b[0m \u001b[0mwm_CH4_\u001b[0m\u001b[0;34m,\u001b[0m \u001b[0mwm_S2m_\u001b[0m\u001b[0;34m,\u001b[0m \u001b[0mwm_S6p_\u001b[0m\u001b[0;34m,\u001b[0m \u001b[0mwm_H2S_\u001b[0m\u001b[0;34m,\u001b[0m \u001b[0mH2O_HT\u001b[0m\u001b[0;34m,\u001b[0m \u001b[0mH2_HT\u001b[0m\u001b[0;34m,\u001b[0m \u001b[0mCH4_HT\u001b[0m\u001b[0;34m,\u001b[0m \u001b[0mH2S_HT\u001b[0m\u001b[0;34m,\u001b[0m \u001b[0mCO2_CT\u001b[0m\u001b[0;34m,\u001b[0m \u001b[0mCO_CT\u001b[0m\u001b[0;34m,\u001b[0m \u001b[0mCH4_CT\u001b[0m\u001b[0;34m,\u001b[0m \u001b[0mS6p_ST\u001b[0m\u001b[0;34m,\u001b[0m \u001b[0mS2m_ST\u001b[0m\u001b[0;34m,\u001b[0m \u001b[0mH2S_ST\u001b[0m \u001b[0;34m=\u001b[0m \u001b[0mc\u001b[0m\u001b[0;34m.\u001b[0m\u001b[0mP_sat\u001b[0m\u001b[0;34m(\u001b[0m\u001b[0mrun\u001b[0m\u001b[0;34m,\u001b[0m\u001b[0mPT\u001b[0m\u001b[0;34m,\u001b[0m\u001b[0mmelt_wf\u001b[0m\u001b[0;34m,\u001b[0m\u001b[0msetup\u001b[0m\u001b[0;34m,\u001b[0m\u001b[0mspecies\u001b[0m\u001b[0;34m,\u001b[0m\u001b[0mmodels\u001b[0m\u001b[0;34m,\u001b[0m\u001b[0mp_tol\u001b[0m\u001b[0;34m,\u001b[0m\u001b[0mnr_step\u001b[0m\u001b[0;34m,\u001b[0m\u001b[0mnr_tol\u001b[0m\u001b[0;34m)\u001b[0m\u001b[0;34m\u001b[0m\u001b[0;34m\u001b[0m\u001b[0m\n\u001b[0m\u001b[1;32m     69\u001b[0m         \u001b[0;32melif\u001b[0m \u001b[0mmodels\u001b[0m\u001b[0;34m.\u001b[0m\u001b[0mloc\u001b[0m\u001b[0;34m[\u001b[0m\u001b[0;34m\"sulphur_saturation\"\u001b[0m\u001b[0;34m,\u001b[0m\u001b[0;34m\"option\"\u001b[0m\u001b[0;34m]\u001b[0m \u001b[0;34m==\u001b[0m \u001b[0;34m\"yes\"\u001b[0m\u001b[0;34m:\u001b[0m\u001b[0;34m\u001b[0m\u001b[0;34m\u001b[0m\u001b[0m\n\u001b[1;32m     70\u001b[0m             \u001b[0;32mif\u001b[0m \u001b[0mmelt_wf\u001b[0m\u001b[0;34m[\u001b[0m\u001b[0;34m\"XT\"\u001b[0m\u001b[0;34m]\u001b[0m \u001b[0;34m>\u001b[0m \u001b[0;36m0.\u001b[0m\u001b[0;34m:\u001b[0m\u001b[0;34m\u001b[0m\u001b[0;34m\u001b[0m\u001b[0m\n",
      "\u001b[0;32m~/Documents/Research/volatiles/Solubility/Python/plotting/VolFe example/calculations.py\u001b[0m in \u001b[0;36mP_sat\u001b[0;34m(run, PT, melt_wf, setup, species, models, Ptol, nr_step, nr_tol)\u001b[0m\n\u001b[1;32m     59\u001b[0m         \u001b[0mmelt_wf1\u001b[0m\u001b[0;34m[\u001b[0m\u001b[0;34m\"Fe3FeT\"\u001b[0m\u001b[0;34m]\u001b[0m \u001b[0;34m=\u001b[0m \u001b[0mmg\u001b[0m\u001b[0;34m.\u001b[0m\u001b[0mFe3FeT_i\u001b[0m\u001b[0;34m(\u001b[0m\u001b[0mrun\u001b[0m\u001b[0;34m,\u001b[0m\u001b[0mPT\u001b[0m\u001b[0;34m,\u001b[0m\u001b[0mmelt_wf\u001b[0m\u001b[0;34m,\u001b[0m\u001b[0msetup\u001b[0m\u001b[0;34m,\u001b[0m\u001b[0mspecies\u001b[0m\u001b[0;34m,\u001b[0m\u001b[0mmodels\u001b[0m\u001b[0;34m)\u001b[0m\u001b[0;34m\u001b[0m\u001b[0;34m\u001b[0m\u001b[0m\n\u001b[1;32m     60\u001b[0m         \u001b[0mmelt_wf2\u001b[0m\u001b[0;34m[\u001b[0m\u001b[0;34m\"Fe3FeT\"\u001b[0m\u001b[0;34m]\u001b[0m \u001b[0;34m=\u001b[0m \u001b[0mmg\u001b[0m\u001b[0;34m.\u001b[0m\u001b[0mFe3FeT_i\u001b[0m\u001b[0;34m(\u001b[0m\u001b[0mrun\u001b[0m\u001b[0;34m,\u001b[0m\u001b[0mPT\u001b[0m\u001b[0;34m,\u001b[0m\u001b[0mmelt_wf\u001b[0m\u001b[0;34m,\u001b[0m\u001b[0msetup\u001b[0m\u001b[0;34m,\u001b[0m\u001b[0mspecies\u001b[0m\u001b[0;34m,\u001b[0m\u001b[0mmodels\u001b[0m\u001b[0;34m)\u001b[0m\u001b[0;34m\u001b[0m\u001b[0;34m\u001b[0m\u001b[0m\n\u001b[0;32m---> 61\u001b[0;31m         \u001b[0mxm_H2O_\u001b[0m\u001b[0;34m,\u001b[0m \u001b[0mwm_H2O_\u001b[0m\u001b[0;34m,\u001b[0m \u001b[0mxm_CO2_\u001b[0m\u001b[0;34m,\u001b[0m \u001b[0mwm_CO2_\u001b[0m\u001b[0;34m,\u001b[0m \u001b[0mwm_H2_\u001b[0m\u001b[0;34m,\u001b[0m \u001b[0mwm_CO_\u001b[0m\u001b[0;34m,\u001b[0m \u001b[0mwm_CH4_\u001b[0m\u001b[0;34m,\u001b[0m \u001b[0mwm_H2S_\u001b[0m\u001b[0;34m,\u001b[0m \u001b[0mwm_S2m_\u001b[0m\u001b[0;34m,\u001b[0m \u001b[0mwm_S6p_\u001b[0m\u001b[0;34m,\u001b[0m \u001b[0mH2O_HT\u001b[0m\u001b[0;34m,\u001b[0m \u001b[0mH2_HT\u001b[0m\u001b[0;34m,\u001b[0m \u001b[0mCH4_HT\u001b[0m\u001b[0;34m,\u001b[0m \u001b[0mCO2_CT\u001b[0m\u001b[0;34m,\u001b[0m \u001b[0mCO_CT\u001b[0m\u001b[0;34m,\u001b[0m \u001b[0mCH4_CT\u001b[0m\u001b[0;34m,\u001b[0m \u001b[0mS6p_ST\u001b[0m\u001b[0;34m,\u001b[0m \u001b[0mS2m_ST\u001b[0m\u001b[0;34m,\u001b[0m \u001b[0mH2S_ST\u001b[0m\u001b[0;34m,\u001b[0m \u001b[0mH2S_HT\u001b[0m \u001b[0;34m=\u001b[0m \u001b[0meq\u001b[0m\u001b[0;34m.\u001b[0m\u001b[0mmelt_speciation\u001b[0m\u001b[0;34m(\u001b[0m\u001b[0mrun\u001b[0m\u001b[0;34m,\u001b[0m\u001b[0mPT\u001b[0m\u001b[0;34m,\u001b[0m\u001b[0mmelt_wf1\u001b[0m\u001b[0;34m,\u001b[0m\u001b[0msetup\u001b[0m\u001b[0;34m,\u001b[0m\u001b[0mspecies\u001b[0m\u001b[0;34m,\u001b[0m\u001b[0mmodels\u001b[0m\u001b[0;34m,\u001b[0m\u001b[0mnr_step\u001b[0m\u001b[0;34m,\u001b[0m\u001b[0mnr_tol\u001b[0m\u001b[0;34m)\u001b[0m\u001b[0;34m\u001b[0m\u001b[0;34m\u001b[0m\u001b[0m\n\u001b[0m\u001b[1;32m     62\u001b[0m         \u001b[0mmelt_wf1\u001b[0m\u001b[0;34m[\u001b[0m\u001b[0;34m\"H2OT\"\u001b[0m\u001b[0;34m]\u001b[0m \u001b[0;34m=\u001b[0m \u001b[0mwm_H2O_\u001b[0m\u001b[0;34m\u001b[0m\u001b[0;34m\u001b[0m\u001b[0m\n\u001b[1;32m     63\u001b[0m         \u001b[0mmelt_wf2\u001b[0m\u001b[0;34m[\u001b[0m\u001b[0;34m\"H2OT\"\u001b[0m\u001b[0;34m]\u001b[0m \u001b[0;34m=\u001b[0m \u001b[0mwm_H2O_\u001b[0m\u001b[0;34m\u001b[0m\u001b[0;34m\u001b[0m\u001b[0m\n",
      "\u001b[0;32m~/Documents/Research/volatiles/Solubility/Python/plotting/VolFe example/equilibrium_equations.py\u001b[0m in \u001b[0;36mmelt_speciation\u001b[0;34m(run, PT, melt_wf, setup, species, models, nr_step, nr_tol)\u001b[0m\n\u001b[1;32m    684\u001b[0m             \u001b[0mS6p_ST\u001b[0m\u001b[0;34m,\u001b[0m \u001b[0mS2m_ST\u001b[0m\u001b[0;34m,\u001b[0m \u001b[0mwm_S2m_\u001b[0m\u001b[0;34m,\u001b[0m \u001b[0mwm_S6p_\u001b[0m \u001b[0;34m=\u001b[0m \u001b[0;36m0.\u001b[0m\u001b[0;34m,\u001b[0m \u001b[0;36m0.\u001b[0m\u001b[0;34m,\u001b[0m \u001b[0;36m0.\u001b[0m\u001b[0;34m,\u001b[0m \u001b[0;36m0.\u001b[0m\u001b[0;34m\u001b[0m\u001b[0;34m\u001b[0m\u001b[0m\n\u001b[1;32m    685\u001b[0m         \u001b[0;32melse\u001b[0m\u001b[0;34m:\u001b[0m\u001b[0;34m\u001b[0m\u001b[0;34m\u001b[0m\u001b[0m\n\u001b[0;32m--> 686\u001b[0;31m             \u001b[0mS6p_ST\u001b[0m \u001b[0;34m=\u001b[0m \u001b[0mmg\u001b[0m\u001b[0;34m.\u001b[0m\u001b[0mS6ST\u001b[0m\u001b[0;34m(\u001b[0m\u001b[0mrun\u001b[0m\u001b[0;34m,\u001b[0m\u001b[0mPT\u001b[0m\u001b[0;34m,\u001b[0m\u001b[0mmelt_wf\u001b[0m\u001b[0;34m,\u001b[0m\u001b[0msetup\u001b[0m\u001b[0;34m,\u001b[0m\u001b[0mspecies\u001b[0m\u001b[0;34m,\u001b[0m\u001b[0mmodels\u001b[0m\u001b[0;34m)\u001b[0m\u001b[0;34m\u001b[0m\u001b[0;34m\u001b[0m\u001b[0m\n\u001b[0m\u001b[1;32m    687\u001b[0m             \u001b[0mS2m_ST\u001b[0m \u001b[0;34m=\u001b[0m \u001b[0;36m1.\u001b[0m \u001b[0;34m-\u001b[0m \u001b[0mS6p_ST\u001b[0m\u001b[0;34m\u001b[0m\u001b[0;34m\u001b[0m\u001b[0m\n\u001b[1;32m    688\u001b[0m             \u001b[0mwm_S2m_\u001b[0m \u001b[0;34m=\u001b[0m \u001b[0mS2m_ST\u001b[0m\u001b[0;34m*\u001b[0m\u001b[0mwt_S\u001b[0m\u001b[0;34m\u001b[0m\u001b[0;34m\u001b[0m\u001b[0m\n",
      "\u001b[0;32m~/Documents/Research/volatiles/Solubility/Python/plotting/VolFe example/melt_gas.py\u001b[0m in \u001b[0;36mS6ST\u001b[0;34m(run, PT, melt_wf, setup, species, models)\u001b[0m\n\u001b[1;32m    334\u001b[0m \u001b[0;34m\u001b[0m\u001b[0m\n\u001b[1;32m    335\u001b[0m \u001b[0;32mdef\u001b[0m \u001b[0mS6ST\u001b[0m\u001b[0;34m(\u001b[0m\u001b[0mrun\u001b[0m\u001b[0;34m,\u001b[0m\u001b[0mPT\u001b[0m\u001b[0;34m,\u001b[0m\u001b[0mmelt_wf\u001b[0m\u001b[0;34m,\u001b[0m\u001b[0msetup\u001b[0m\u001b[0;34m,\u001b[0m\u001b[0mspecies\u001b[0m\u001b[0;34m,\u001b[0m\u001b[0mmodels\u001b[0m\u001b[0;34m)\u001b[0m\u001b[0;34m:\u001b[0m\u001b[0;34m\u001b[0m\u001b[0;34m\u001b[0m\u001b[0m\n\u001b[0;32m--> 336\u001b[0;31m     \u001b[0mS6S2_\u001b[0m \u001b[0;34m=\u001b[0m \u001b[0mS6S2\u001b[0m\u001b[0;34m(\u001b[0m\u001b[0mrun\u001b[0m\u001b[0;34m,\u001b[0m\u001b[0mPT\u001b[0m\u001b[0;34m,\u001b[0m\u001b[0mmelt_wf\u001b[0m\u001b[0;34m,\u001b[0m\u001b[0msetup\u001b[0m\u001b[0;34m,\u001b[0m\u001b[0mspecies\u001b[0m\u001b[0;34m,\u001b[0m\u001b[0mmodels\u001b[0m\u001b[0;34m)\u001b[0m\u001b[0;34m\u001b[0m\u001b[0;34m\u001b[0m\u001b[0m\n\u001b[0m\u001b[1;32m    337\u001b[0m     \u001b[0;32mreturn\u001b[0m \u001b[0mS6S2_\u001b[0m\u001b[0;34m/\u001b[0m\u001b[0;34m(\u001b[0m\u001b[0mS6S2_\u001b[0m\u001b[0;34m+\u001b[0m\u001b[0;36m1.\u001b[0m\u001b[0;34m)\u001b[0m\u001b[0;34m\u001b[0m\u001b[0;34m\u001b[0m\u001b[0m\n\u001b[1;32m    338\u001b[0m \u001b[0;34m\u001b[0m\u001b[0m\n",
      "\u001b[0;32m~/Documents/Research/volatiles/Solubility/Python/plotting/VolFe example/melt_gas.py\u001b[0m in \u001b[0;36mS6S2\u001b[0;34m(run, PT, melt_wf, setup, species, models)\u001b[0m\n\u001b[1;32m    328\u001b[0m             \u001b[0mKHS\u001b[0m \u001b[0;34m=\u001b[0m \u001b[0mmdv\u001b[0m\u001b[0;34m.\u001b[0m\u001b[0mKHOSg\u001b[0m\u001b[0;34m(\u001b[0m\u001b[0mPT\u001b[0m\u001b[0;34m,\u001b[0m\u001b[0mmodels\u001b[0m\u001b[0;34m)\u001b[0m\u001b[0;34m\u001b[0m\u001b[0;34m\u001b[0m\u001b[0m\n\u001b[1;32m    329\u001b[0m             \u001b[0mCH2S\u001b[0m \u001b[0;34m=\u001b[0m \u001b[0mmdv\u001b[0m\u001b[0;34m.\u001b[0m\u001b[0mC_H2S\u001b[0m\u001b[0;34m(\u001b[0m\u001b[0mrun\u001b[0m\u001b[0;34m,\u001b[0m\u001b[0mPT\u001b[0m\u001b[0;34m,\u001b[0m\u001b[0mmelt_wf\u001b[0m\u001b[0;34m,\u001b[0m\u001b[0msetup\u001b[0m\u001b[0;34m,\u001b[0m\u001b[0mspecies\u001b[0m\u001b[0;34m,\u001b[0m\u001b[0mmodels\u001b[0m\u001b[0;34m)\u001b[0m\u001b[0;34m\u001b[0m\u001b[0;34m\u001b[0m\u001b[0m\n\u001b[0;32m--> 330\u001b[0;31m             \u001b[0mCH2OT\u001b[0m \u001b[0;34m=\u001b[0m \u001b[0mmdv\u001b[0m\u001b[0;34m.\u001b[0m\u001b[0mC_H2O\u001b[0m\u001b[0;34m(\u001b[0m\u001b[0mrun\u001b[0m\u001b[0;34m,\u001b[0m\u001b[0mPT\u001b[0m\u001b[0;34m,\u001b[0m\u001b[0mmelt_wf\u001b[0m\u001b[0;34m,\u001b[0m\u001b[0msetup\u001b[0m\u001b[0;34m,\u001b[0m\u001b[0mspecies\u001b[0m\u001b[0;34m,\u001b[0m\u001b[0mmodels\u001b[0m\u001b[0;34m)\u001b[0m\u001b[0;34m\u001b[0m\u001b[0;34m\u001b[0m\u001b[0m\n\u001b[0m\u001b[1;32m    331\u001b[0m             \u001b[0mxmH2O\u001b[0m \u001b[0;34m=\u001b[0m \u001b[0mxm_H2OT_so\u001b[0m\u001b[0;34m(\u001b[0m\u001b[0mrun\u001b[0m\u001b[0;34m,\u001b[0m\u001b[0mmelt_wf\u001b[0m\u001b[0;34m,\u001b[0m\u001b[0msetup\u001b[0m\u001b[0;34m,\u001b[0m\u001b[0mspecies\u001b[0m\u001b[0;34m)\u001b[0m\u001b[0;34m\u001b[0m\u001b[0;34m\u001b[0m\u001b[0m\n\u001b[1;32m    332\u001b[0m             \u001b[0mresult\u001b[0m \u001b[0;34m=\u001b[0m \u001b[0;34m(\u001b[0m\u001b[0mCSO4\u001b[0m\u001b[0;34m/\u001b[0m\u001b[0;34m(\u001b[0m\u001b[0;34m(\u001b[0m\u001b[0mKHS\u001b[0m\u001b[0;34m*\u001b[0m\u001b[0mCH2S\u001b[0m\u001b[0;34m*\u001b[0m\u001b[0;34m(\u001b[0m\u001b[0mxmH2O\u001b[0m\u001b[0;34m**\u001b[0m\u001b[0;36m2.\u001b[0m\u001b[0;34m/\u001b[0m\u001b[0mCH2OT\u001b[0m\u001b[0;34m)\u001b[0m\u001b[0;34m)\u001b[0m \u001b[0;34m+\u001b[0m \u001b[0mCS\u001b[0m\u001b[0;34m)\u001b[0m\u001b[0;34m)\u001b[0m\u001b[0;34m*\u001b[0m\u001b[0mfO2\u001b[0m\u001b[0;34m**\u001b[0m\u001b[0;36m2.\u001b[0m\u001b[0;34m\u001b[0m\u001b[0;34m\u001b[0m\u001b[0m\n",
      "\u001b[0;32m~/Documents/Research/volatiles/Solubility/Python/plotting/VolFe example/model_dependent_variables.py\u001b[0m in \u001b[0;36mC_H2O\u001b[0;34m(run, PT, melt_wf, setup, species, models)\u001b[0m\n\u001b[1;32m     29\u001b[0m \u001b[0;34m\u001b[0m\u001b[0m\n\u001b[1;32m     30\u001b[0m     \u001b[0;32mif\u001b[0m \u001b[0mmodels\u001b[0m\u001b[0;34m.\u001b[0m\u001b[0mloc\u001b[0m\u001b[0;34m[\u001b[0m\u001b[0;34m\"Hspeciation\"\u001b[0m\u001b[0;34m,\u001b[0m\u001b[0;34m\"option\"\u001b[0m\u001b[0;34m]\u001b[0m \u001b[0;34m==\u001b[0m \u001b[0;34m\"none\"\u001b[0m\u001b[0;34m:\u001b[0m \u001b[0;31m### C_H2O = (xmH2O)^2/fH2O ### (mole fraction)\u001b[0m\u001b[0;34m\u001b[0m\u001b[0;34m\u001b[0m\u001b[0m\n\u001b[0;32m---> 31\u001b[0;31m         \u001b[0mmodel\u001b[0m \u001b[0;34m=\u001b[0m \u001b[0mmodels\u001b[0m\u001b[0;34m.\u001b[0m\u001b[0mloc\u001b[0m\u001b[0;34m[\u001b[0m\u001b[0;34m\"water\"\u001b[0m\u001b[0;34m,\u001b[0m\u001b[0;34m\"option\"\u001b[0m\u001b[0;34m]\u001b[0m\u001b[0;34m\u001b[0m\u001b[0;34m\u001b[0m\u001b[0m\n\u001b[0m\u001b[1;32m     32\u001b[0m         \u001b[0;32mif\u001b[0m \u001b[0mmodel\u001b[0m \u001b[0;34m==\u001b[0m \u001b[0;34m\"AllisonDataComp\"\u001b[0m\u001b[0;34m:\u001b[0m \u001b[0;31m# fitted to experimental data compilation from Allison et al. (2022) for H2O < 6 wt%\u001b[0m\u001b[0;34m\u001b[0m\u001b[0;34m\u001b[0m\u001b[0m\n\u001b[1;32m     33\u001b[0m             \u001b[0mC\u001b[0m \u001b[0;34m=\u001b[0m \u001b[0;36m4.6114e-6\u001b[0m\u001b[0;34m\u001b[0m\u001b[0;34m\u001b[0m\u001b[0m\n",
      "\u001b[0;32m/opt/anaconda3/lib/python3.7/site-packages/pandas/core/indexing.py\u001b[0m in \u001b[0;36m__getitem__\u001b[0;34m(self, key)\u001b[0m\n\u001b[1;32m   1759\u001b[0m                 \u001b[0;32mexcept\u001b[0m \u001b[0;34m(\u001b[0m\u001b[0mKeyError\u001b[0m\u001b[0;34m,\u001b[0m \u001b[0mIndexError\u001b[0m\u001b[0;34m,\u001b[0m \u001b[0mAttributeError\u001b[0m\u001b[0;34m)\u001b[0m\u001b[0;34m:\u001b[0m\u001b[0;34m\u001b[0m\u001b[0;34m\u001b[0m\u001b[0m\n\u001b[1;32m   1760\u001b[0m                     \u001b[0;32mpass\u001b[0m\u001b[0;34m\u001b[0m\u001b[0;34m\u001b[0m\u001b[0m\n\u001b[0;32m-> 1761\u001b[0;31m             \u001b[0;32mreturn\u001b[0m \u001b[0mself\u001b[0m\u001b[0;34m.\u001b[0m\u001b[0m_getitem_tuple\u001b[0m\u001b[0;34m(\u001b[0m\u001b[0mkey\u001b[0m\u001b[0;34m)\u001b[0m\u001b[0;34m\u001b[0m\u001b[0;34m\u001b[0m\u001b[0m\n\u001b[0m\u001b[1;32m   1762\u001b[0m         \u001b[0;32melse\u001b[0m\u001b[0;34m:\u001b[0m\u001b[0;34m\u001b[0m\u001b[0;34m\u001b[0m\u001b[0m\n\u001b[1;32m   1763\u001b[0m             \u001b[0;31m# we by definition only have the 0th axis\u001b[0m\u001b[0;34m\u001b[0m\u001b[0;34m\u001b[0m\u001b[0;34m\u001b[0m\u001b[0m\n",
      "\u001b[0;32m/opt/anaconda3/lib/python3.7/site-packages/pandas/core/indexing.py\u001b[0m in \u001b[0;36m_getitem_tuple\u001b[0;34m(self, tup)\u001b[0m\n\u001b[1;32m   1269\u001b[0m     \u001b[0;32mdef\u001b[0m \u001b[0m_getitem_tuple\u001b[0m\u001b[0;34m(\u001b[0m\u001b[0mself\u001b[0m\u001b[0;34m,\u001b[0m \u001b[0mtup\u001b[0m\u001b[0;34m:\u001b[0m \u001b[0mTuple\u001b[0m\u001b[0;34m)\u001b[0m\u001b[0;34m:\u001b[0m\u001b[0;34m\u001b[0m\u001b[0;34m\u001b[0m\u001b[0m\n\u001b[1;32m   1270\u001b[0m         \u001b[0;32mtry\u001b[0m\u001b[0;34m:\u001b[0m\u001b[0;34m\u001b[0m\u001b[0;34m\u001b[0m\u001b[0m\n\u001b[0;32m-> 1271\u001b[0;31m             \u001b[0;32mreturn\u001b[0m \u001b[0mself\u001b[0m\u001b[0;34m.\u001b[0m\u001b[0m_getitem_lowerdim\u001b[0m\u001b[0;34m(\u001b[0m\u001b[0mtup\u001b[0m\u001b[0;34m)\u001b[0m\u001b[0;34m\u001b[0m\u001b[0;34m\u001b[0m\u001b[0m\n\u001b[0m\u001b[1;32m   1272\u001b[0m         \u001b[0;32mexcept\u001b[0m \u001b[0mIndexingError\u001b[0m\u001b[0;34m:\u001b[0m\u001b[0;34m\u001b[0m\u001b[0;34m\u001b[0m\u001b[0m\n\u001b[1;32m   1273\u001b[0m             \u001b[0;32mpass\u001b[0m\u001b[0;34m\u001b[0m\u001b[0;34m\u001b[0m\u001b[0m\n",
      "\u001b[0;32m/opt/anaconda3/lib/python3.7/site-packages/pandas/core/indexing.py\u001b[0m in \u001b[0;36m_getitem_lowerdim\u001b[0;34m(self, tup)\u001b[0m\n\u001b[1;32m   1418\u001b[0m                     \u001b[0;32mreturn\u001b[0m \u001b[0msection\u001b[0m\u001b[0;34m\u001b[0m\u001b[0;34m\u001b[0m\u001b[0m\n\u001b[1;32m   1419\u001b[0m                 \u001b[0;31m# This is an elided recursive call to iloc/loc/etc'\u001b[0m\u001b[0;34m\u001b[0m\u001b[0;34m\u001b[0m\u001b[0;34m\u001b[0m\u001b[0m\n\u001b[0;32m-> 1420\u001b[0;31m                 \u001b[0;32mreturn\u001b[0m \u001b[0mgetattr\u001b[0m\u001b[0;34m(\u001b[0m\u001b[0msection\u001b[0m\u001b[0;34m,\u001b[0m \u001b[0mself\u001b[0m\u001b[0;34m.\u001b[0m\u001b[0mname\u001b[0m\u001b[0;34m)\u001b[0m\u001b[0;34m[\u001b[0m\u001b[0mnew_key\u001b[0m\u001b[0;34m]\u001b[0m\u001b[0;34m\u001b[0m\u001b[0;34m\u001b[0m\u001b[0m\n\u001b[0m\u001b[1;32m   1421\u001b[0m \u001b[0;34m\u001b[0m\u001b[0m\n\u001b[1;32m   1422\u001b[0m         \u001b[0;32mraise\u001b[0m \u001b[0mIndexingError\u001b[0m\u001b[0;34m(\u001b[0m\u001b[0;34m\"not applicable\"\u001b[0m\u001b[0;34m)\u001b[0m\u001b[0;34m\u001b[0m\u001b[0;34m\u001b[0m\u001b[0m\n",
      "\u001b[0;32m/opt/anaconda3/lib/python3.7/site-packages/pandas/core/indexing.py\u001b[0m in \u001b[0;36m__getitem__\u001b[0;34m(self, key)\u001b[0m\n\u001b[1;32m   1765\u001b[0m \u001b[0;34m\u001b[0m\u001b[0m\n\u001b[1;32m   1766\u001b[0m             \u001b[0mmaybe_callable\u001b[0m \u001b[0;34m=\u001b[0m \u001b[0mcom\u001b[0m\u001b[0;34m.\u001b[0m\u001b[0mapply_if_callable\u001b[0m\u001b[0;34m(\u001b[0m\u001b[0mkey\u001b[0m\u001b[0;34m,\u001b[0m \u001b[0mself\u001b[0m\u001b[0;34m.\u001b[0m\u001b[0mobj\u001b[0m\u001b[0;34m)\u001b[0m\u001b[0;34m\u001b[0m\u001b[0;34m\u001b[0m\u001b[0m\n\u001b[0;32m-> 1767\u001b[0;31m             \u001b[0;32mreturn\u001b[0m \u001b[0mself\u001b[0m\u001b[0;34m.\u001b[0m\u001b[0m_getitem_axis\u001b[0m\u001b[0;34m(\u001b[0m\u001b[0mmaybe_callable\u001b[0m\u001b[0;34m,\u001b[0m \u001b[0maxis\u001b[0m\u001b[0;34m=\u001b[0m\u001b[0maxis\u001b[0m\u001b[0;34m)\u001b[0m\u001b[0;34m\u001b[0m\u001b[0;34m\u001b[0m\u001b[0m\n\u001b[0m\u001b[1;32m   1768\u001b[0m \u001b[0;34m\u001b[0m\u001b[0m\n\u001b[1;32m   1769\u001b[0m     \u001b[0;32mdef\u001b[0m \u001b[0m_is_scalar_access\u001b[0m\u001b[0;34m(\u001b[0m\u001b[0mself\u001b[0m\u001b[0;34m,\u001b[0m \u001b[0mkey\u001b[0m\u001b[0;34m:\u001b[0m \u001b[0mTuple\u001b[0m\u001b[0;34m)\u001b[0m\u001b[0;34m:\u001b[0m\u001b[0;34m\u001b[0m\u001b[0;34m\u001b[0m\u001b[0m\n",
      "\u001b[0;32m/opt/anaconda3/lib/python3.7/site-packages/pandas/core/indexing.py\u001b[0m in \u001b[0;36m_getitem_axis\u001b[0;34m(self, key, axis)\u001b[0m\n\u001b[1;32m   1962\u001b[0m         \u001b[0;31m# fall thru to straight lookup\u001b[0m\u001b[0;34m\u001b[0m\u001b[0;34m\u001b[0m\u001b[0;34m\u001b[0m\u001b[0m\n\u001b[1;32m   1963\u001b[0m         \u001b[0mself\u001b[0m\u001b[0;34m.\u001b[0m\u001b[0m_validate_key\u001b[0m\u001b[0;34m(\u001b[0m\u001b[0mkey\u001b[0m\u001b[0;34m,\u001b[0m \u001b[0maxis\u001b[0m\u001b[0;34m)\u001b[0m\u001b[0;34m\u001b[0m\u001b[0;34m\u001b[0m\u001b[0m\n\u001b[0;32m-> 1964\u001b[0;31m         \u001b[0;32mreturn\u001b[0m \u001b[0mself\u001b[0m\u001b[0;34m.\u001b[0m\u001b[0m_get_label\u001b[0m\u001b[0;34m(\u001b[0m\u001b[0mkey\u001b[0m\u001b[0;34m,\u001b[0m \u001b[0maxis\u001b[0m\u001b[0;34m=\u001b[0m\u001b[0maxis\u001b[0m\u001b[0;34m)\u001b[0m\u001b[0;34m\u001b[0m\u001b[0;34m\u001b[0m\u001b[0m\n\u001b[0m\u001b[1;32m   1965\u001b[0m \u001b[0;34m\u001b[0m\u001b[0m\n\u001b[1;32m   1966\u001b[0m \u001b[0;34m\u001b[0m\u001b[0m\n",
      "\u001b[0;32m/opt/anaconda3/lib/python3.7/site-packages/pandas/core/indexing.py\u001b[0m in \u001b[0;36m_get_label\u001b[0;34m(self, label, axis)\u001b[0m\n\u001b[1;32m    618\u001b[0m             \u001b[0;31m# but will fail when the index is not present\u001b[0m\u001b[0;34m\u001b[0m\u001b[0;34m\u001b[0m\u001b[0;34m\u001b[0m\u001b[0m\n\u001b[1;32m    619\u001b[0m             \u001b[0;31m# see GH5667\u001b[0m\u001b[0;34m\u001b[0m\u001b[0;34m\u001b[0m\u001b[0;34m\u001b[0m\u001b[0m\n\u001b[0;32m--> 620\u001b[0;31m             \u001b[0;32mreturn\u001b[0m \u001b[0mself\u001b[0m\u001b[0;34m.\u001b[0m\u001b[0mobj\u001b[0m\u001b[0;34m.\u001b[0m\u001b[0m_xs\u001b[0m\u001b[0;34m(\u001b[0m\u001b[0mlabel\u001b[0m\u001b[0;34m,\u001b[0m \u001b[0maxis\u001b[0m\u001b[0;34m=\u001b[0m\u001b[0maxis\u001b[0m\u001b[0;34m)\u001b[0m\u001b[0;34m\u001b[0m\u001b[0;34m\u001b[0m\u001b[0m\n\u001b[0m\u001b[1;32m    621\u001b[0m         \u001b[0;32melif\u001b[0m \u001b[0misinstance\u001b[0m\u001b[0;34m(\u001b[0m\u001b[0mlabel\u001b[0m\u001b[0;34m,\u001b[0m \u001b[0mtuple\u001b[0m\u001b[0;34m)\u001b[0m \u001b[0;32mand\u001b[0m \u001b[0misinstance\u001b[0m\u001b[0;34m(\u001b[0m\u001b[0mlabel\u001b[0m\u001b[0;34m[\u001b[0m\u001b[0maxis\u001b[0m\u001b[0;34m]\u001b[0m\u001b[0;34m,\u001b[0m \u001b[0mslice\u001b[0m\u001b[0;34m)\u001b[0m\u001b[0;34m:\u001b[0m\u001b[0;34m\u001b[0m\u001b[0;34m\u001b[0m\u001b[0m\n\u001b[1;32m    622\u001b[0m             \u001b[0;32mraise\u001b[0m \u001b[0mIndexingError\u001b[0m\u001b[0;34m(\u001b[0m\u001b[0;34m\"no slices here, handle elsewhere\"\u001b[0m\u001b[0;34m)\u001b[0m\u001b[0;34m\u001b[0m\u001b[0;34m\u001b[0m\u001b[0m\n",
      "\u001b[0;32m/opt/anaconda3/lib/python3.7/site-packages/pandas/core/generic.py\u001b[0m in \u001b[0;36mxs\u001b[0;34m(self, key, axis, level, drop_level)\u001b[0m\n\u001b[1;32m   3513\u001b[0m         \"\"\"\n\u001b[1;32m   3514\u001b[0m         \u001b[0maxis\u001b[0m \u001b[0;34m=\u001b[0m \u001b[0mself\u001b[0m\u001b[0;34m.\u001b[0m\u001b[0m_get_axis_number\u001b[0m\u001b[0;34m(\u001b[0m\u001b[0maxis\u001b[0m\u001b[0;34m)\u001b[0m\u001b[0;34m\u001b[0m\u001b[0;34m\u001b[0m\u001b[0m\n\u001b[0;32m-> 3515\u001b[0;31m         \u001b[0mlabels\u001b[0m \u001b[0;34m=\u001b[0m \u001b[0mself\u001b[0m\u001b[0;34m.\u001b[0m\u001b[0m_get_axis\u001b[0m\u001b[0;34m(\u001b[0m\u001b[0maxis\u001b[0m\u001b[0;34m)\u001b[0m\u001b[0;34m\u001b[0m\u001b[0;34m\u001b[0m\u001b[0m\n\u001b[0m\u001b[1;32m   3516\u001b[0m         \u001b[0;32mif\u001b[0m \u001b[0mlevel\u001b[0m \u001b[0;32mis\u001b[0m \u001b[0;32mnot\u001b[0m \u001b[0;32mNone\u001b[0m\u001b[0;34m:\u001b[0m\u001b[0;34m\u001b[0m\u001b[0;34m\u001b[0m\u001b[0m\n\u001b[1;32m   3517\u001b[0m             \u001b[0mloc\u001b[0m\u001b[0;34m,\u001b[0m \u001b[0mnew_ax\u001b[0m \u001b[0;34m=\u001b[0m \u001b[0mlabels\u001b[0m\u001b[0;34m.\u001b[0m\u001b[0mget_loc_level\u001b[0m\u001b[0;34m(\u001b[0m\u001b[0mkey\u001b[0m\u001b[0;34m,\u001b[0m \u001b[0mlevel\u001b[0m\u001b[0;34m=\u001b[0m\u001b[0mlevel\u001b[0m\u001b[0;34m,\u001b[0m \u001b[0mdrop_level\u001b[0m\u001b[0;34m=\u001b[0m\u001b[0mdrop_level\u001b[0m\u001b[0;34m)\u001b[0m\u001b[0;34m\u001b[0m\u001b[0;34m\u001b[0m\u001b[0m\n",
      "\u001b[0;31mKeyboardInterrupt\u001b[0m: "
     ]
    }
   ],
   "source": [
    "###########################\n",
    "### saturation pressure ###\n",
    "###########################\n",
    "\n",
    "# check calc_sat mode\n",
    "\n",
    "# inputs\n",
    "first_row = 52 # starts from 0 in a spreadsheet\n",
    "last_row = 253\n",
    "p_tol = 1.e-1 # tolerence for convergence in bars\n",
    "nr_step = 1. # step size for newton raphson [SHOFe insolubles might need to change this]\n",
    "nr_tol = 1.e-9 # tolerance for newton raphson\n",
    "\n",
    "# run model\n",
    "bc.P_sat_output(first_row,last_row,p_tol,nr_step,nr_tol,setup,species,models)"
   ]
  },
  {
   "cell_type": "code",
   "execution_count": null,
   "metadata": {},
   "outputs": [],
   "source": [
    "#########################\n",
    "### calculate isobars ###\n",
    "#########################\n",
    "\n",
    "# inputs\n",
    "run = 48 # row number from file for run (0 is the first row of data)\n",
    "initial_P = 1000. # first P in bars to run an isobar for\n",
    "final_P = 10000. # final P in bars to run an isobar for\n",
    "step_P = 1000. # step of P in bars between initial and final P to run isobars at\n",
    "\n",
    "bc.calc_isobar(run,setup,species,models,initial_P,final_P,step_P)"
   ]
  },
  {
   "cell_type": "code",
   "execution_count": null,
   "metadata": {},
   "outputs": [],
   "source": [
    "########################\n",
    "### pure CO2 and H2O ###\n",
    "########################\n",
    "\n",
    "run = 48 # row number from file for run (0 is the first row of data)\n",
    "initial_P = 5000. # initial P to run calculation for in bars\n",
    "\n",
    "bc.calc_pure_solubility(run,setup,species,models,initial_P)"
   ]
  },
  {
   "cell_type": "code",
   "execution_count": 3,
   "metadata": {},
   "outputs": [
    {
     "name": "stdout",
     "output_type": "stream",
     "text": [
      "Sari15-04-33\n",
      "1200.0 3783.779732892543 2023-11-29 11:11:22.655729\n",
      "change insolubles option to yes or no\n"
     ]
    },
    {
     "ename": "UnboundLocalError",
     "evalue": "local variable 'C' referenced before assignment",
     "output_type": "error",
     "traceback": [
      "\u001b[0;31m---------------------------------------------------------------------------\u001b[0m",
      "\u001b[0;31mUnboundLocalError\u001b[0m                         Traceback (most recent call last)",
      "\u001b[0;32m<ipython-input-3-0a5cd97cfaba>\u001b[0m in \u001b[0;36m<module>\u001b[0;34m\u001b[0m\n\u001b[1;32m     15\u001b[0m \u001b[0;31m# runs model\u001b[0m\u001b[0;34m\u001b[0m\u001b[0;34m\u001b[0m\u001b[0;34m\u001b[0m\u001b[0m\n\u001b[1;32m     16\u001b[0m \u001b[0mgassing_inputs\u001b[0m \u001b[0;34m=\u001b[0m \u001b[0;34m{\u001b[0m\u001b[0;34m\"nr_step\"\u001b[0m\u001b[0;34m:\u001b[0m\u001b[0mnr_step\u001b[0m\u001b[0;34m,\u001b[0m\u001b[0;34m\"nr_tol\"\u001b[0m\u001b[0;34m:\u001b[0m\u001b[0mnr_tol\u001b[0m\u001b[0;34m,\u001b[0m\u001b[0;34m\"dp_step\"\u001b[0m\u001b[0;34m:\u001b[0m\u001b[0mdp_step\u001b[0m\u001b[0;34m,\u001b[0m\u001b[0;34m\"psat_tol\"\u001b[0m\u001b[0;34m:\u001b[0m\u001b[0mpsat_tol\u001b[0m\u001b[0;34m,\u001b[0m\u001b[0;34m\"dwtg\"\u001b[0m\u001b[0;34m:\u001b[0m\u001b[0mdwtg\u001b[0m\u001b[0;34m,\u001b[0m\u001b[0;34m\"i_nr_step\"\u001b[0m\u001b[0;34m:\u001b[0m\u001b[0mi_nr_step\u001b[0m\u001b[0;34m,\u001b[0m\u001b[0;34m\"i_nr_tol\"\u001b[0m\u001b[0;34m:\u001b[0m\u001b[0mi_nr_tol\u001b[0m\u001b[0;34m}\u001b[0m\u001b[0;34m\u001b[0m\u001b[0;34m\u001b[0m\u001b[0m\n\u001b[0;32m---> 17\u001b[0;31m \u001b[0mbc\u001b[0m\u001b[0;34m.\u001b[0m\u001b[0mgassing\u001b[0m\u001b[0;34m(\u001b[0m\u001b[0mrun\u001b[0m\u001b[0;34m,\u001b[0m\u001b[0mgassing_inputs\u001b[0m\u001b[0;34m,\u001b[0m\u001b[0msetup\u001b[0m\u001b[0;34m,\u001b[0m\u001b[0mspecies\u001b[0m\u001b[0;34m,\u001b[0m\u001b[0mmodels\u001b[0m\u001b[0;34m)\u001b[0m\u001b[0;34m\u001b[0m\u001b[0;34m\u001b[0m\u001b[0m\n\u001b[0m",
      "\u001b[0;32m~/Documents/Research/volatiles/Solubility/Python/plotting/VolFe example/batch_calculations.py\u001b[0m in \u001b[0;36mgassing\u001b[0;34m(run, gassing_inputs, setup, species, models)\u001b[0m\n\u001b[1;32m    302\u001b[0m         \u001b[0;32mif\u001b[0m \u001b[0mP_sat_\u001b[0m \u001b[0;34m>\u001b[0m \u001b[0mPT\u001b[0m\u001b[0;34m[\u001b[0m\u001b[0;34m\"P\"\u001b[0m\u001b[0;34m]\u001b[0m\u001b[0;34m:\u001b[0m\u001b[0;34m\u001b[0m\u001b[0;34m\u001b[0m\u001b[0m\n\u001b[1;32m    303\u001b[0m             \u001b[0;31m# work out equilibrium partitioning between melt and gas phase\u001b[0m\u001b[0;34m\u001b[0m\u001b[0;34m\u001b[0m\u001b[0;34m\u001b[0m\u001b[0m\n\u001b[0;32m--> 304\u001b[0;31m             \u001b[0mxg_O2_\u001b[0m\u001b[0;34m,\u001b[0m \u001b[0mxg_H2_\u001b[0m\u001b[0;34m,\u001b[0m \u001b[0mxg_S2_\u001b[0m\u001b[0;34m,\u001b[0m \u001b[0mxg_H2O_\u001b[0m\u001b[0;34m,\u001b[0m \u001b[0mxg_CO_\u001b[0m\u001b[0;34m,\u001b[0m \u001b[0mxg_CO2_\u001b[0m\u001b[0;34m,\u001b[0m \u001b[0mxg_SO2_\u001b[0m\u001b[0;34m,\u001b[0m \u001b[0mxg_CH4_\u001b[0m\u001b[0;34m,\u001b[0m \u001b[0mxg_H2S_\u001b[0m\u001b[0;34m,\u001b[0m \u001b[0mxg_OCS_\u001b[0m\u001b[0;34m,\u001b[0m \u001b[0mxg_X_\u001b[0m\u001b[0;34m,\u001b[0m \u001b[0mXg_t\u001b[0m\u001b[0;34m,\u001b[0m \u001b[0mxm_H2O_\u001b[0m\u001b[0;34m,\u001b[0m \u001b[0mxm_CO2_\u001b[0m\u001b[0;34m,\u001b[0m \u001b[0mXm_t\u001b[0m\u001b[0;34m,\u001b[0m \u001b[0mwm_H2O_\u001b[0m\u001b[0;34m,\u001b[0m \u001b[0mwm_H2_\u001b[0m\u001b[0;34m,\u001b[0m \u001b[0mwm_CO2_\u001b[0m\u001b[0;34m,\u001b[0m \u001b[0mwm_CO_\u001b[0m\u001b[0;34m,\u001b[0m \u001b[0mwm_CH4_\u001b[0m\u001b[0;34m,\u001b[0m \u001b[0mwm_S_\u001b[0m\u001b[0;34m,\u001b[0m \u001b[0mwm_SO3_\u001b[0m\u001b[0;34m,\u001b[0m \u001b[0mwm_H2S_\u001b[0m\u001b[0;34m,\u001b[0m \u001b[0mwm_ST_\u001b[0m\u001b[0;34m,\u001b[0m \u001b[0mwm_X_\u001b[0m\u001b[0;34m,\u001b[0m \u001b[0mFe32\u001b[0m\u001b[0;34m,\u001b[0m \u001b[0mFe3T\u001b[0m\u001b[0;34m,\u001b[0m \u001b[0mS62\u001b[0m\u001b[0;34m,\u001b[0m \u001b[0mS6T\u001b[0m\u001b[0;34m,\u001b[0m \u001b[0mwt_g_O\u001b[0m\u001b[0;34m,\u001b[0m \u001b[0mwt_g_C\u001b[0m\u001b[0;34m,\u001b[0m \u001b[0mwt_g_H\u001b[0m\u001b[0;34m,\u001b[0m \u001b[0mwt_g_S\u001b[0m\u001b[0;34m,\u001b[0m \u001b[0mwt_g_X\u001b[0m\u001b[0;34m,\u001b[0m \u001b[0mwt_g\u001b[0m\u001b[0;34m,\u001b[0m \u001b[0mwt_O_\u001b[0m\u001b[0;34m,\u001b[0m \u001b[0mwt_C_\u001b[0m\u001b[0;34m,\u001b[0m \u001b[0mwt_H_\u001b[0m\u001b[0;34m,\u001b[0m \u001b[0mwt_S_\u001b[0m\u001b[0;34m,\u001b[0m \u001b[0mwt_X_\u001b[0m\u001b[0;34m,\u001b[0m \u001b[0mguessx\u001b[0m\u001b[0;34m,\u001b[0m \u001b[0mguessy\u001b[0m\u001b[0;34m,\u001b[0m \u001b[0mguessz\u001b[0m\u001b[0;34m,\u001b[0m \u001b[0mguessw\u001b[0m \u001b[0;34m=\u001b[0m \u001b[0meq\u001b[0m\u001b[0;34m.\u001b[0m\u001b[0mmg_equilibrium\u001b[0m\u001b[0;34m(\u001b[0m\u001b[0mrun\u001b[0m\u001b[0;34m,\u001b[0m\u001b[0mPT\u001b[0m\u001b[0;34m,\u001b[0m\u001b[0mmelt_wf\u001b[0m\u001b[0;34m,\u001b[0m\u001b[0mbulk_wf\u001b[0m\u001b[0;34m,\u001b[0m\u001b[0msetup\u001b[0m\u001b[0;34m,\u001b[0m\u001b[0mspecies\u001b[0m\u001b[0;34m,\u001b[0m\u001b[0mmodels\u001b[0m\u001b[0;34m,\u001b[0m\u001b[0mnr_step\u001b[0m\u001b[0;34m,\u001b[0m\u001b[0mnr_tol\u001b[0m\u001b[0;34m,\u001b[0m\u001b[0mguessx\u001b[0m\u001b[0;34m,\u001b[0m\u001b[0mguessy\u001b[0m\u001b[0;34m,\u001b[0m\u001b[0mguessz\u001b[0m\u001b[0;34m,\u001b[0m\u001b[0mguessw\u001b[0m\u001b[0;34m)\u001b[0m\u001b[0;34m\u001b[0m\u001b[0;34m\u001b[0m\u001b[0m\n\u001b[0m\u001b[1;32m    305\u001b[0m             \u001b[0;31m# gas composition\u001b[0m\u001b[0;34m\u001b[0m\u001b[0;34m\u001b[0m\u001b[0;34m\u001b[0m\u001b[0m\n\u001b[1;32m    306\u001b[0m             \u001b[0mgas_mf\u001b[0m \u001b[0;34m=\u001b[0m \u001b[0;34m{\u001b[0m\u001b[0;34m\"O2\"\u001b[0m\u001b[0;34m:\u001b[0m\u001b[0mxg_O2_\u001b[0m\u001b[0;34m,\u001b[0m\u001b[0;34m\"CO\"\u001b[0m\u001b[0;34m:\u001b[0m\u001b[0mxg_CO_\u001b[0m\u001b[0;34m,\u001b[0m\u001b[0;34m\"S2\"\u001b[0m\u001b[0;34m:\u001b[0m\u001b[0mxg_S2_\u001b[0m\u001b[0;34m,\u001b[0m\u001b[0;34m\"CO2\"\u001b[0m\u001b[0;34m:\u001b[0m\u001b[0mxg_CO2_\u001b[0m\u001b[0;34m,\u001b[0m\u001b[0;34m\"H2O\"\u001b[0m\u001b[0;34m:\u001b[0m\u001b[0mxg_H2O_\u001b[0m\u001b[0;34m,\u001b[0m\u001b[0;34m\"H2\"\u001b[0m\u001b[0;34m:\u001b[0m\u001b[0mxg_H2_\u001b[0m\u001b[0;34m,\u001b[0m\u001b[0;34m\"CH4\"\u001b[0m\u001b[0;34m:\u001b[0m\u001b[0mxg_CH4_\u001b[0m\u001b[0;34m,\u001b[0m\u001b[0;34m\"SO2\"\u001b[0m\u001b[0;34m:\u001b[0m\u001b[0mxg_SO2_\u001b[0m\u001b[0;34m,\u001b[0m\u001b[0;34m\"H2S\"\u001b[0m\u001b[0;34m:\u001b[0m\u001b[0mxg_H2S_\u001b[0m\u001b[0;34m,\u001b[0m\u001b[0;34m\"OCS\"\u001b[0m\u001b[0;34m:\u001b[0m\u001b[0mxg_OCS_\u001b[0m\u001b[0;34m,\u001b[0m\u001b[0;34m\"X\"\u001b[0m\u001b[0;34m:\u001b[0m\u001b[0mxg_X_\u001b[0m\u001b[0;34m,\u001b[0m\u001b[0;34m\"Xg_t\"\u001b[0m\u001b[0;34m:\u001b[0m\u001b[0mXg_t\u001b[0m\u001b[0;34m,\u001b[0m\u001b[0;34m\"wt_g\"\u001b[0m\u001b[0;34m:\u001b[0m\u001b[0mwt_g\u001b[0m\u001b[0;34m}\u001b[0m\u001b[0;34m\u001b[0m\u001b[0;34m\u001b[0m\u001b[0m\n",
      "\u001b[0;32m~/Documents/Research/volatiles/Solubility/Python/plotting/VolFe example/equilibrium_equations.py\u001b[0m in \u001b[0;36mmg_equilibrium\u001b[0;34m(run, PT, melt_wf, bulk_wf, setup, species, models, nr_step, nr_tol, guessx, guessy, guessz, guessw)\u001b[0m\n\u001b[1;32m    262\u001b[0m         \u001b[0;32melif\u001b[0m \u001b[0mmodels\u001b[0m\u001b[0;34m.\u001b[0m\u001b[0mloc\u001b[0m\u001b[0;34m[\u001b[0m\u001b[0;34m\"insolubles\"\u001b[0m\u001b[0;34m,\u001b[0m\u001b[0;34m\"option\"\u001b[0m\u001b[0;34m]\u001b[0m \u001b[0;34m==\u001b[0m \u001b[0;34m\"yes\"\u001b[0m \u001b[0;32mand\u001b[0m \u001b[0mmodels\u001b[0m\u001b[0;34m.\u001b[0m\u001b[0mloc\u001b[0m\u001b[0;34m[\u001b[0m\u001b[0;34m\"H2S_m\"\u001b[0m\u001b[0;34m,\u001b[0m\u001b[0;34m\"option\"\u001b[0m\u001b[0;34m]\u001b[0m \u001b[0;34m==\u001b[0m \u001b[0;34m\"no\"\u001b[0m\u001b[0;34m:\u001b[0m\u001b[0;34m\u001b[0m\u001b[0;34m\u001b[0m\u001b[0m\n\u001b[1;32m    263\u001b[0m             \u001b[0mprint\u001b[0m\u001b[0;34m(\u001b[0m\u001b[0;34m\"not possible\"\u001b[0m\u001b[0;34m)\u001b[0m\u001b[0;34m\u001b[0m\u001b[0;34m\u001b[0m\u001b[0m\n\u001b[0;32m--> 264\u001b[0;31m         \u001b[0mmbX\u001b[0m\u001b[0;34m,\u001b[0m \u001b[0mmbY\u001b[0m\u001b[0;34m,\u001b[0m \u001b[0mmbZ\u001b[0m\u001b[0;34m,\u001b[0m \u001b[0mwt_g_O\u001b[0m\u001b[0;34m,\u001b[0m \u001b[0mwt_g_C\u001b[0m\u001b[0;34m,\u001b[0m \u001b[0mwt_g_H\u001b[0m\u001b[0;34m,\u001b[0m \u001b[0mwt_g_S\u001b[0m \u001b[0;34m=\u001b[0m \u001b[0mC\u001b[0m\u001b[0;34m\u001b[0m\u001b[0;34m\u001b[0m\u001b[0m\n\u001b[0m\u001b[1;32m    265\u001b[0m         \u001b[0mwt_g\u001b[0m\u001b[0;34m,\u001b[0m \u001b[0mwt_O_\u001b[0m\u001b[0;34m,\u001b[0m \u001b[0mwt_C_\u001b[0m\u001b[0;34m,\u001b[0m \u001b[0mwt_H_\u001b[0m\u001b[0;34m,\u001b[0m \u001b[0mwt_S_\u001b[0m \u001b[0;34m=\u001b[0m \u001b[0mD\u001b[0m\u001b[0;34m\u001b[0m\u001b[0;34m\u001b[0m\u001b[0m\n\u001b[1;32m    266\u001b[0m     \u001b[0;32melif\u001b[0m \u001b[0msystem\u001b[0m \u001b[0;34m==\u001b[0m \u001b[0;34m\"CHOXFe\"\u001b[0m\u001b[0;34m:\u001b[0m\u001b[0;34m\u001b[0m\u001b[0;34m\u001b[0m\u001b[0m\n",
      "\u001b[0;31mUnboundLocalError\u001b[0m: local variable 'C' referenced before assignment"
     ]
    }
   ],
   "source": [
    "#############################\n",
    "### gassing over pressure ###\n",
    "#############################\n",
    "\n",
    "# inputs\n",
    "run = 48 # row number from file for run (0 is the first row of data)\n",
    "dp_step = 10. # controlls pressure step size in bar\n",
    "nr_step = 1. # step-size for the newton-raphson convergence for chemistry = normally 1.\n",
    "nr_tol = 1.e-6 # tolerence for the newton-raphson convergence for chemistryw\n",
    "psat_tol = 0.1 # accuracy for the saturation pressure calculation in bars\n",
    "dwtg = 1.e-7 # amount of gas to add at each step if regassing in an open-system in wt fraction total system\n",
    "i_nr_step = 1.e-1 # step-size for newton-raphson convergence for isotopes\n",
    "i_nr_tol = 1.e-9 # tolerance for newton-raphson convergence for isotopes\n",
    "\n",
    "# runs model\n",
    "gassing_inputs = {\"nr_step\":nr_step,\"nr_tol\":nr_tol,\"dp_step\":dp_step,\"psat_tol\":psat_tol,\"dwtg\":dwtg,\"i_nr_step\":i_nr_step,\"i_nr_tol\":i_nr_tol}            \n",
    "bc.gassing(run,gassing_inputs,setup,species,models)"
   ]
  },
  {
   "cell_type": "code",
   "execution_count": null,
   "metadata": {},
   "outputs": [],
   "source": [
    "##########################################\n",
    "### fO2 range based on sulphur content ###\n",
    "##########################################\n",
    "\n",
    "# inputs\n",
    "first_row = 52 # starts from 0 in a spreadsheet\n",
    "last_row = 252\n",
    "p_tol = 1.e-1 # tolerence for convergence in bars\n",
    "nr_step = 1. # step size for newton raphson [SHOFe insolubles might need to change this]\n",
    "nr_tol = 1.e-9 # tolerance for newton raphson\n",
    "\n",
    "# run model\n",
    "bc.fO2_range_from_S_output(first_row,last_row,setup,species,models,p_tol,nr_step,nr_tol)"
   ]
  },
  {
   "cell_type": "code",
   "execution_count": null,
   "metadata": {},
   "outputs": [],
   "source": [
    "#################\n",
    "### capacities ###\n",
    "#################\n",
    "\n",
    "# inputs\n",
    "first_row = 0 # starts from 0 in a spreadsheet\n",
    "last_row = 51\n",
    "\n",
    "# run model\n",
    "bc.capacities_output(first_row,last_row,setup,species,models)\n",
    "\n",
    "# outputs\n",
    "# n, Sample, lnC_CO3, lnC_H2OT, lnC_S2-, lnC_S6+, lnC_H2S, lnC_H2, lnC_CO, lnC_CH4, M_m_SO"
   ]
  },
  {
   "cell_type": "code",
   "execution_count": null,
   "metadata": {},
   "outputs": [],
   "source": [
    "#############################\n",
    "### random comp generator ###\n",
    "#############################\n",
    "\n",
    "# check calc_sat mode\n",
    "\n",
    "# inputs\n",
    "setup = pd.read_csv(\"example_marianas_errors.csv\")\n",
    "run = 48 # \n",
    "iterations = 100\n",
    "\n",
    "# run model\n",
    "bc.compositions_within_error_output(setup,run,iterations)"
   ]
  },
  {
   "cell_type": "code",
   "execution_count": null,
   "metadata": {},
   "outputs": [],
   "source": [
    "#############################\n",
    "### fugacity coefficients ###\n",
    "#############################\n",
    "\n",
    "# inputs\n",
    "setup = pd.read_csv(\"inputs_y.csv\")\n",
    "first_row = 0 # starts from 0 in a spreadsheet\n",
    "last_row = 21\n",
    "\n",
    "# run model\n",
    "bc.fugacity_coefficients(first_row,last_row,setup,species,models)"
   ]
  },
  {
   "cell_type": "code",
   "execution_count": null,
   "metadata": {},
   "outputs": [],
   "source": []
  }
 ],
 "metadata": {
  "kernelspec": {
   "display_name": "Python 3",
   "language": "python",
   "name": "python3"
  },
  "language_info": {
   "codemirror_mode": {
    "name": "ipython",
    "version": 3
   },
   "file_extension": ".py",
   "mimetype": "text/x-python",
   "name": "python",
   "nbconvert_exporter": "python",
   "pygments_lexer": "ipython3",
   "version": "3.7.6"
  }
 },
 "nbformat": 4,
 "nbformat_minor": 4
}
