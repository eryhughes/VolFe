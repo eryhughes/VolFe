{
 "cells": [
  {
   "cell_type": "markdown",
   "metadata": {},
   "source": [
    "# 4d. Calculate isobars\n",
    "\n",
    "This allows you to calculate H<sub>2</sub>O-CO<sub>2</sub> isobars for a given melt composition and temperature."
   ]
  },
  {
   "cell_type": "markdown",
   "metadata": {},
   "source": [
    "## Python set-up\n",
    "You need to install VolFe once on your machine, if you haven't yet. Then we need to import a few Python packages (including VolFe). "
   ]
  },
  {
   "cell_type": "code",
   "execution_count": 1,
   "metadata": {},
   "outputs": [],
   "source": [
    "# Install VolFe on your machine. Don't remove the # from this line!\n",
    "# pip install VolFe # Remove the first # in this line if you have not installed VolFe on your machine before.\n",
    "\n",
    "# import python packages\n",
    "import pandas as pd\n",
    "import matplotlib.pyplot as plt\n",
    "import VolFe as vf"
   ]
  },
  {
   "cell_type": "markdown",
   "metadata": {},
   "source": [
    "## Define inputs\n",
    "\n",
    "The melt composition and temperature can be given in a dataframe, or read from a csv file.\n",
    "\n",
    "In this example it is read from a dataframe,which is from Brounce et al. (2014) with the updated Fe<sup>3+</sup>/Fe<sub>T</sub> from Cottrell et al. (2021).\n",
    "\n",
    "Note the volatile content of the melt is not used in this calculation."
   ]
  },
  {
   "cell_type": "code",
   "execution_count": 3,
   "metadata": {},
   "outputs": [],
   "source": [
    "# Define the melt composition, fO2 estimate, and T as a dictionary.\n",
    "my_analysis = {'Sample':'Sari15-04-33',\n",
    "           'T_C': 1200., # Temperature in 'C\n",
    "           'SiO2': 47.89, # wt%\n",
    "           'TiO2': 0.75, # wt%\n",
    "           'Al2O3': 16.74, # wt%\n",
    "           'FeOT': 9.43, # wt%\n",
    "           'MnO': 0.18, # wt%\n",
    "           'MgO': 5.92, # wt%\n",
    "           'CaO': 11.58, # wt%\n",
    "           'Na2O': 2.14, # wt%\n",
    "           'K2O': 0.63, # wt%\n",
    "           'P2O5': 0.17, # wt%\n",
    "           'Fe3FeT': 0.177,\n",
    "           'initial_P': 5000.} # bar\n",
    "\n",
    "# Turn the dictionary into a pandas dataframe, setting the index to 0.\n",
    "my_analysis = pd.DataFrame(my_analysis, index=[0])"
   ]
  },
  {
   "cell_type": "markdown",
   "metadata": {},
   "source": [
    "We'll mostly use the default options..."
   ]
  },
  {
   "cell_type": "code",
   "execution_count": 4,
   "metadata": {},
   "outputs": [
    {
     "name": "stdout",
     "output_type": "stream",
     "text": [
      "                            option\n",
      "type                              \n",
      "COH_species     yes_H2_CO_CH4_melt\n",
      "H2S_m                         True\n",
      "species X                       Ar\n",
      "Hspeciation                   none\n",
      "fO2                       Kress91A\n",
      "...                            ...\n",
      "error                          0.1\n",
      "print status                 False\n",
      "output csv                    True\n",
      "setup                        False\n",
      "high precision               False\n",
      "\n",
      "[78 rows x 1 columns]\n"
     ]
    }
   ],
   "source": [
    "# print default options in VolFe\n",
    "print(vf.default_models)"
   ]
  },
  {
   "cell_type": "markdown",
   "metadata": {},
   "source": [
    "... but the 'COH_species' must be set to 'H2O-CO2 only' because the isobars are calculated assuming the only melt and vapor species are H<sub>2</sub>O and CO<sub>2</sub>O."
   ]
  },
  {
   "cell_type": "code",
   "execution_count": 5,
   "metadata": {},
   "outputs": [],
   "source": [
    "# change just the \"COH_species\" option to \"H2O-CO2 only\"\n",
    "my_models = [['COH_species','H2O-CO2 only']]\n",
    "\n",
    "# turn \"my_models\" to dataframe with correct column headers and indexes    \n",
    "my_models = vf.make_df_and_add_model_defaults(my_models)"
   ]
  },
  {
   "cell_type": "markdown",
   "metadata": {},
   "source": [
    "## Run calculation\n",
    "\n",
    "The calculation is run as below. The initial and final pressure, as well as the pressure step, must be specified."
   ]
  },
  {
   "cell_type": "code",
   "execution_count": 6,
   "metadata": {},
   "outputs": [],
   "source": [
    "# calculate isobars starting at 1000 bars, ending at 4000 bars at 1000 bar intervals\n",
    "isobars = vf.calc_isobar(my_analysis,models=my_models,initial_P=1000.,final_P=4000.,step_P=1000.)"
   ]
  },
  {
   "cell_type": "markdown",
   "metadata": {},
   "source": [
    "## Plotting\n",
    "\n",
    "For plotting, we have to split out the different isobars"
   ]
  },
  {
   "cell_type": "code",
   "execution_count": 10,
   "metadata": {},
   "outputs": [],
   "source": [
    "# split into each pressure for plotting\n",
    "isobar1000 = isobars[isobars[\"P_bar\"]==1000.]\n",
    "isobar2000 = isobars[isobars[\"P_bar\"]==2000.]\n",
    "isobar3000 = isobars[isobars[\"P_bar\"]==3000.]\n",
    "isobar4000 = isobars[isobars[\"P_bar\"]==4000.]"
   ]
  },
  {
   "cell_type": "markdown",
   "metadata": {},
   "source": [
    "And we can plot them"
   ]
  },
  {
   "cell_type": "code",
   "execution_count": 11,
   "metadata": {},
   "outputs": [
    {
     "data": {
      "text/plain": [
       "Text(0.5, 0, 'H2O (wt%)')"
      ]
     },
     "execution_count": 11,
     "metadata": {},
     "output_type": "execute_result"
    },
    {
     "data": {
      "image/png": "[encoded data removed]",
      "text/plain": [
       "<Figure size 400x400 with 1 Axes>"
      ]
     },
     "metadata": {},
     "output_type": "display_data"
    }
   ],
   "source": [
    "fig, (ax1) = plt.subplots(1, 1, figsize=(4,4))\n",
    "\n",
    "data1 = isobar1000\n",
    "data2 = isobar2000\n",
    "data3 = isobar3000\n",
    "data4 = isobar4000\n",
    "\n",
    "# Plotting results\n",
    "ax1.plot(data1['H2O_wtpc'], data1['CO2_ppm'], '-k')\n",
    "ax1.plot(data2['H2O_wtpc'], data2['CO2_ppm'], '-k')\n",
    "ax1.plot(data3['H2O_wtpc'], data3['CO2_ppm'], '-k')\n",
    "ax1.plot(data4['H2O_wtpc'], data4['CO2_ppm'], '-k')\n",
    "\n",
    "ax1.set_ylabel('CO2 (ppmw)')\n",
    "ax1.set_xlabel('H2O (wt%)')"
   ]
  }
 ],
 "metadata": {
  "kernelspec": {
   "display_name": "volfe-dev",
   "language": "python",
   "name": "python3"
  },
  "language_info": {
   "codemirror_mode": {
    "name": "ipython",
    "version": 3
   },
   "file_extension": ".py",
   "mimetype": "text/x-python",
   "name": "python",
   "nbconvert_exporter": "python",
   "pygments_lexer": "ipython3",
   "version": "3.13.0"
  }
 },
 "nbformat": 4,
 "nbformat_minor": 2
}
