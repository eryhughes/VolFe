{
 "cells": [
  {
   "cell_type": "code",
   "execution_count": 1,
   "metadata": {},
   "outputs": [],
   "source": [
    "### import python packages ###\n",
    "import pandas as pd\n",
    "import gmpy2 as gp\n",
    "\n",
    "### import SCHOFe functions ###\n",
    "import batch_calculations as bc\n",
    "\n",
    "### load species file and set calculation precision ###\n",
    "species = pd.read_csv(\"species.csv\", index_col = [0]) # attributes of the different species used in the system\n",
    "gp.get_context().precision=100"
   ]
  },
  {
   "cell_type": "code",
   "execution_count": 2,
   "metadata": {},
   "outputs": [],
   "source": [
    "### load setup and models file ###\n",
    "setup = pd.read_csv(\"inputs.csv\") # csv for initial conditions of the system\n",
    "models = pd.read_csv(\"models.csv\", index_col = [0]) # model options"
   ]
  },
  {
   "cell_type": "code",
   "execution_count": 3,
   "metadata": {},
   "outputs": [
    {
     "name": "stdout",
     "output_type": "stream",
     "text": [
      "Hawaii high Si\n",
      "1200.0 743.2737433316131 2023-05-28 21:33:33.924879\n",
      "1200.0 700.0 0.013781155562536895  2023-05-28 21:33:38.033790\n"
     ]
    },
    {
     "ename": "KeyboardInterrupt",
     "evalue": "",
     "output_type": "error",
     "traceback": [
      "\u001b[0;31m---------------------------------------------------------------------------\u001b[0m",
      "\u001b[0;31mKeyboardInterrupt\u001b[0m                         Traceback (most recent call last)",
      "\u001b[0;32m<ipython-input-3-f685744d4035>\u001b[0m in \u001b[0;36m<module>\u001b[0;34m\u001b[0m\n\u001b[1;32m     15\u001b[0m \u001b[0;31m# runs model\u001b[0m\u001b[0;34m\u001b[0m\u001b[0;34m\u001b[0m\u001b[0;34m\u001b[0m\u001b[0m\n\u001b[1;32m     16\u001b[0m \u001b[0mgassing_inputs\u001b[0m \u001b[0;34m=\u001b[0m \u001b[0;34m{\u001b[0m\u001b[0;34m\"nr_step\"\u001b[0m\u001b[0;34m:\u001b[0m\u001b[0mnr_step\u001b[0m\u001b[0;34m,\u001b[0m\u001b[0;34m\"nr_tol\"\u001b[0m\u001b[0;34m:\u001b[0m\u001b[0mnr_tol\u001b[0m\u001b[0;34m,\u001b[0m\u001b[0;34m\"dp_step\"\u001b[0m\u001b[0;34m:\u001b[0m\u001b[0mdp_step\u001b[0m\u001b[0;34m,\u001b[0m\u001b[0;34m\"psat_tol\"\u001b[0m\u001b[0;34m:\u001b[0m\u001b[0mpsat_tol\u001b[0m\u001b[0;34m,\u001b[0m\u001b[0;34m\"dwtg\"\u001b[0m\u001b[0;34m:\u001b[0m\u001b[0mdwtg\u001b[0m\u001b[0;34m,\u001b[0m\u001b[0;34m\"i_nr_step\"\u001b[0m\u001b[0;34m:\u001b[0m\u001b[0mi_nr_step\u001b[0m\u001b[0;34m,\u001b[0m\u001b[0;34m\"i_nr_tol\"\u001b[0m\u001b[0;34m:\u001b[0m\u001b[0mi_nr_tol\u001b[0m\u001b[0;34m}\u001b[0m\u001b[0;34m\u001b[0m\u001b[0;34m\u001b[0m\u001b[0m\n\u001b[0;32m---> 17\u001b[0;31m \u001b[0mbc\u001b[0m\u001b[0;34m.\u001b[0m\u001b[0mgassing\u001b[0m\u001b[0;34m(\u001b[0m\u001b[0mrun\u001b[0m\u001b[0;34m,\u001b[0m\u001b[0mgassing_inputs\u001b[0m\u001b[0;34m,\u001b[0m\u001b[0msetup\u001b[0m\u001b[0;34m,\u001b[0m\u001b[0mspecies\u001b[0m\u001b[0;34m,\u001b[0m\u001b[0mmodels\u001b[0m\u001b[0;34m)\u001b[0m\u001b[0;34m\u001b[0m\u001b[0;34m\u001b[0m\u001b[0m\n\u001b[0m",
      "\u001b[0;32m~/Documents/Research/Sulphur/Solubility/Python/SCHOFe/RESTRUCTURING/batch_calculations.py\u001b[0m in \u001b[0;36mgassing\u001b[0;34m(run, gassing_inputs, setup, species, models)\u001b[0m\n\u001b[1;32m    383\u001b[0m \u001b[0mmdv\u001b[0m\u001b[0;34m.\u001b[0m\u001b[0my_O2\u001b[0m\u001b[0;34m(\u001b[0m\u001b[0mPT\u001b[0m\u001b[0;34m,\u001b[0m\u001b[0mspecies\u001b[0m\u001b[0;34m,\u001b[0m\u001b[0mmodels\u001b[0m\u001b[0;34m)\u001b[0m\u001b[0;34m,\u001b[0m\u001b[0mmdv\u001b[0m\u001b[0;34m.\u001b[0m\u001b[0my_H2\u001b[0m\u001b[0;34m(\u001b[0m\u001b[0mPT\u001b[0m\u001b[0;34m,\u001b[0m\u001b[0mspecies\u001b[0m\u001b[0;34m,\u001b[0m\u001b[0mmodels\u001b[0m\u001b[0;34m)\u001b[0m\u001b[0;34m,\u001b[0m\u001b[0mmdv\u001b[0m\u001b[0;34m.\u001b[0m\u001b[0my_H2O\u001b[0m\u001b[0;34m(\u001b[0m\u001b[0mPT\u001b[0m\u001b[0;34m,\u001b[0m\u001b[0mspecies\u001b[0m\u001b[0;34m,\u001b[0m\u001b[0mmodels\u001b[0m\u001b[0;34m)\u001b[0m\u001b[0;34m,\u001b[0m\u001b[0mmdv\u001b[0m\u001b[0;34m.\u001b[0m\u001b[0my_S2\u001b[0m\u001b[0;34m(\u001b[0m\u001b[0mPT\u001b[0m\u001b[0;34m,\u001b[0m\u001b[0mspecies\u001b[0m\u001b[0;34m,\u001b[0m\u001b[0mmodels\u001b[0m\u001b[0;34m)\u001b[0m\u001b[0;34m,\u001b[0m\u001b[0mmdv\u001b[0m\u001b[0;34m.\u001b[0m\u001b[0my_SO2\u001b[0m\u001b[0;34m(\u001b[0m\u001b[0mPT\u001b[0m\u001b[0;34m,\u001b[0m\u001b[0mspecies\u001b[0m\u001b[0;34m,\u001b[0m\u001b[0mmodels\u001b[0m\u001b[0;34m)\u001b[0m\u001b[0;34m,\u001b[0m\u001b[0mmdv\u001b[0m\u001b[0;34m.\u001b[0m\u001b[0my_H2S\u001b[0m\u001b[0;34m(\u001b[0m\u001b[0mPT\u001b[0m\u001b[0;34m,\u001b[0m\u001b[0mspecies\u001b[0m\u001b[0;34m,\u001b[0m\u001b[0mmodels\u001b[0m\u001b[0;34m)\u001b[0m\u001b[0;34m,\u001b[0m\u001b[0mmdv\u001b[0m\u001b[0;34m.\u001b[0m\u001b[0my_CO2\u001b[0m\u001b[0;34m(\u001b[0m\u001b[0mPT\u001b[0m\u001b[0;34m,\u001b[0m\u001b[0mspecies\u001b[0m\u001b[0;34m,\u001b[0m\u001b[0mmodels\u001b[0m\u001b[0;34m)\u001b[0m\u001b[0;34m,\u001b[0m\u001b[0mmdv\u001b[0m\u001b[0;34m.\u001b[0m\u001b[0my_CO\u001b[0m\u001b[0;34m(\u001b[0m\u001b[0mPT\u001b[0m\u001b[0;34m,\u001b[0m\u001b[0mspecies\u001b[0m\u001b[0;34m,\u001b[0m\u001b[0mmodels\u001b[0m\u001b[0;34m)\u001b[0m\u001b[0;34m,\u001b[0m\u001b[0mmdv\u001b[0m\u001b[0;34m.\u001b[0m\u001b[0my_CH4\u001b[0m\u001b[0;34m(\u001b[0m\u001b[0mPT\u001b[0m\u001b[0;34m,\u001b[0m\u001b[0mspecies\u001b[0m\u001b[0;34m,\u001b[0m\u001b[0mmodels\u001b[0m\u001b[0;34m)\u001b[0m\u001b[0;34m,\u001b[0m\u001b[0mmdv\u001b[0m\u001b[0;34m.\u001b[0m\u001b[0my_OCS\u001b[0m\u001b[0;34m(\u001b[0m\u001b[0mPT\u001b[0m\u001b[0;34m,\u001b[0m\u001b[0mspecies\u001b[0m\u001b[0;34m,\u001b[0m\u001b[0mmodels\u001b[0m\u001b[0;34m)\u001b[0m\u001b[0;34m,\u001b[0m\u001b[0mmdv\u001b[0m\u001b[0;34m.\u001b[0m\u001b[0my_X\u001b[0m\u001b[0;34m(\u001b[0m\u001b[0mPT\u001b[0m\u001b[0;34m,\u001b[0m\u001b[0mspecies\u001b[0m\u001b[0;34m,\u001b[0m\u001b[0mmodels\u001b[0m\u001b[0;34m)\u001b[0m\u001b[0;34m,\u001b[0m\u001b[0;34m\u001b[0m\u001b[0;34m\u001b[0m\u001b[0m\n\u001b[1;32m    384\u001b[0m \u001b[0mmg\u001b[0m\u001b[0;34m.\u001b[0m\u001b[0mM_m_SO\u001b[0m\u001b[0;34m(\u001b[0m\u001b[0mrun\u001b[0m\u001b[0;34m,\u001b[0m\u001b[0mmelt_wf\u001b[0m\u001b[0;34m,\u001b[0m\u001b[0msetup\u001b[0m\u001b[0;34m,\u001b[0m\u001b[0mspecies\u001b[0m\u001b[0;34m)\u001b[0m\u001b[0;34m,\u001b[0m\u001b[0mmg\u001b[0m\u001b[0;34m.\u001b[0m\u001b[0mM_m_ox\u001b[0m\u001b[0;34m(\u001b[0m\u001b[0mrun\u001b[0m\u001b[0;34m,\u001b[0m\u001b[0mmelt_wf\u001b[0m\u001b[0;34m,\u001b[0m\u001b[0msetup\u001b[0m\u001b[0;34m,\u001b[0m\u001b[0mspecies\u001b[0m\u001b[0;34m,\u001b[0m\u001b[0mmodels\u001b[0m\u001b[0;34m)\u001b[0m\u001b[0;34m,\u001b[0m\u001b[0mmdv\u001b[0m\u001b[0;34m.\u001b[0m\u001b[0mC_H2O\u001b[0m\u001b[0;34m(\u001b[0m\u001b[0mrun\u001b[0m\u001b[0;34m,\u001b[0m\u001b[0mPT\u001b[0m\u001b[0;34m,\u001b[0m\u001b[0mmelt_wf\u001b[0m\u001b[0;34m,\u001b[0m\u001b[0msetup\u001b[0m\u001b[0;34m,\u001b[0m\u001b[0mspecies\u001b[0m\u001b[0;34m,\u001b[0m\u001b[0mmodels\u001b[0m\u001b[0;34m)\u001b[0m\u001b[0;34m,\u001b[0m\u001b[0mmdv\u001b[0m\u001b[0;34m.\u001b[0m\u001b[0mC_H2\u001b[0m\u001b[0;34m(\u001b[0m\u001b[0mrun\u001b[0m\u001b[0;34m,\u001b[0m\u001b[0mPT\u001b[0m\u001b[0;34m,\u001b[0m\u001b[0mmelt_wf\u001b[0m\u001b[0;34m,\u001b[0m\u001b[0msetup\u001b[0m\u001b[0;34m,\u001b[0m\u001b[0mspecies\u001b[0m\u001b[0;34m,\u001b[0m\u001b[0mmodels\u001b[0m\u001b[0;34m)\u001b[0m\u001b[0;34m,\u001b[0m\u001b[0mmdv\u001b[0m\u001b[0;34m.\u001b[0m\u001b[0mC_CO3\u001b[0m\u001b[0;34m(\u001b[0m\u001b[0mrun\u001b[0m\u001b[0;34m,\u001b[0m\u001b[0mPT\u001b[0m\u001b[0;34m,\u001b[0m\u001b[0mmelt_wf\u001b[0m\u001b[0;34m,\u001b[0m\u001b[0msetup\u001b[0m\u001b[0;34m,\u001b[0m\u001b[0mspecies\u001b[0m\u001b[0;34m,\u001b[0m\u001b[0mmodels\u001b[0m\u001b[0;34m)\u001b[0m\u001b[0;34m,\u001b[0m\u001b[0mmdv\u001b[0m\u001b[0;34m.\u001b[0m\u001b[0mC_CO\u001b[0m\u001b[0;34m(\u001b[0m\u001b[0mrun\u001b[0m\u001b[0;34m,\u001b[0m\u001b[0mPT\u001b[0m\u001b[0;34m,\u001b[0m\u001b[0mmelt_wf\u001b[0m\u001b[0;34m,\u001b[0m\u001b[0msetup\u001b[0m\u001b[0;34m,\u001b[0m\u001b[0mspecies\u001b[0m\u001b[0;34m,\u001b[0m\u001b[0mmodels\u001b[0m\u001b[0;34m)\u001b[0m\u001b[0;34m,\u001b[0m\u001b[0mmdv\u001b[0m\u001b[0;34m.\u001b[0m\u001b[0mC_CH4\u001b[0m\u001b[0;34m(\u001b[0m\u001b[0mrun\u001b[0m\u001b[0;34m,\u001b[0m\u001b[0mPT\u001b[0m\u001b[0;34m,\u001b[0m\u001b[0mmelt_wf\u001b[0m\u001b[0;34m,\u001b[0m\u001b[0msetup\u001b[0m\u001b[0;34m,\u001b[0m\u001b[0mspecies\u001b[0m\u001b[0;34m,\u001b[0m\u001b[0mmodels\u001b[0m\u001b[0;34m)\u001b[0m\u001b[0;34m,\u001b[0m\u001b[0mmdv\u001b[0m\u001b[0;34m.\u001b[0m\u001b[0mC_S\u001b[0m\u001b[0;34m(\u001b[0m\u001b[0mrun\u001b[0m\u001b[0;34m,\u001b[0m\u001b[0mPT\u001b[0m\u001b[0;34m,\u001b[0m\u001b[0mmelt_wf\u001b[0m\u001b[0;34m,\u001b[0m\u001b[0msetup\u001b[0m\u001b[0;34m,\u001b[0m\u001b[0mspecies\u001b[0m\u001b[0;34m,\u001b[0m\u001b[0mmodels\u001b[0m\u001b[0;34m)\u001b[0m\u001b[0;34m,\u001b[0m\u001b[0mmdv\u001b[0m\u001b[0;34m.\u001b[0m\u001b[0mC_SO4\u001b[0m\u001b[0;34m(\u001b[0m\u001b[0mrun\u001b[0m\u001b[0;34m,\u001b[0m\u001b[0mPT\u001b[0m\u001b[0;34m,\u001b[0m\u001b[0mmelt_wf\u001b[0m\u001b[0;34m,\u001b[0m\u001b[0msetup\u001b[0m\u001b[0;34m,\u001b[0m\u001b[0mspecies\u001b[0m\u001b[0;34m,\u001b[0m\u001b[0mmodels\u001b[0m\u001b[0;34m)\u001b[0m\u001b[0;34m,\u001b[0m\u001b[0mmdv\u001b[0m\u001b[0;34m.\u001b[0m\u001b[0mC_H2S\u001b[0m\u001b[0;34m(\u001b[0m\u001b[0mrun\u001b[0m\u001b[0;34m,\u001b[0m\u001b[0mPT\u001b[0m\u001b[0;34m,\u001b[0m\u001b[0mmelt_wf\u001b[0m\u001b[0;34m,\u001b[0m\u001b[0msetup\u001b[0m\u001b[0;34m,\u001b[0m\u001b[0mspecies\u001b[0m\u001b[0;34m,\u001b[0m\u001b[0mmodels\u001b[0m\u001b[0;34m)\u001b[0m\u001b[0;34m,\u001b[0m\u001b[0mmdv\u001b[0m\u001b[0;34m.\u001b[0m\u001b[0mC_X\u001b[0m\u001b[0;34m(\u001b[0m\u001b[0mrun\u001b[0m\u001b[0;34m,\u001b[0m\u001b[0mPT\u001b[0m\u001b[0;34m,\u001b[0m\u001b[0mmelt_wf\u001b[0m\u001b[0;34m,\u001b[0m\u001b[0msetup\u001b[0m\u001b[0;34m,\u001b[0m\u001b[0mspecies\u001b[0m\u001b[0;34m,\u001b[0m\u001b[0mmodels\u001b[0m\u001b[0;34m)\u001b[0m\u001b[0;34m,\u001b[0m\u001b[0;34m\u001b[0m\u001b[0;34m\u001b[0m\u001b[0m\n\u001b[0;32m--> 385\u001b[0;31m \u001b[0;34m\"\"\u001b[0m\u001b[0;34m,\u001b[0m\u001b[0mmdv\u001b[0m\u001b[0;34m.\u001b[0m\u001b[0mKHOg\u001b[0m\u001b[0;34m(\u001b[0m\u001b[0mPT\u001b[0m\u001b[0;34m,\u001b[0m\u001b[0mmodels\u001b[0m\u001b[0;34m)\u001b[0m\u001b[0;34m,\u001b[0m\u001b[0mmdv\u001b[0m\u001b[0;34m.\u001b[0m\u001b[0mKHOm\u001b[0m\u001b[0;34m(\u001b[0m\u001b[0mrun\u001b[0m\u001b[0;34m,\u001b[0m\u001b[0mPT\u001b[0m\u001b[0;34m,\u001b[0m\u001b[0mmelt_wf\u001b[0m\u001b[0;34m,\u001b[0m\u001b[0msetup\u001b[0m\u001b[0;34m,\u001b[0m\u001b[0mspecies\u001b[0m\u001b[0;34m,\u001b[0m\u001b[0mmodels\u001b[0m\u001b[0;34m)\u001b[0m\u001b[0;34m,\u001b[0m\u001b[0mmdv\u001b[0m\u001b[0;34m.\u001b[0m\u001b[0mKHOSg\u001b[0m\u001b[0;34m(\u001b[0m\u001b[0mPT\u001b[0m\u001b[0;34m,\u001b[0m\u001b[0mmodels\u001b[0m\u001b[0;34m)\u001b[0m\u001b[0;34m,\u001b[0m\u001b[0mmdv\u001b[0m\u001b[0;34m.\u001b[0m\u001b[0mKCOg\u001b[0m\u001b[0;34m(\u001b[0m\u001b[0mPT\u001b[0m\u001b[0;34m,\u001b[0m\u001b[0mmodels\u001b[0m\u001b[0;34m)\u001b[0m\u001b[0;34m,\u001b[0m\u001b[0mmdv\u001b[0m\u001b[0;34m.\u001b[0m\u001b[0mKCOHg\u001b[0m\u001b[0;34m(\u001b[0m\u001b[0mPT\u001b[0m\u001b[0;34m,\u001b[0m\u001b[0mmodels\u001b[0m\u001b[0;34m)\u001b[0m\u001b[0;34m,\u001b[0m\u001b[0mmdv\u001b[0m\u001b[0;34m.\u001b[0m\u001b[0mKOCSg\u001b[0m\u001b[0;34m(\u001b[0m\u001b[0mPT\u001b[0m\u001b[0;34m,\u001b[0m\u001b[0mmodels\u001b[0m\u001b[0;34m)\u001b[0m\u001b[0;34m,\u001b[0m\u001b[0mmdv\u001b[0m\u001b[0;34m.\u001b[0m\u001b[0mKOSg\u001b[0m\u001b[0;34m(\u001b[0m\u001b[0mPT\u001b[0m\u001b[0;34m,\u001b[0m\u001b[0mmodels\u001b[0m\u001b[0;34m)\u001b[0m\u001b[0;34m,\u001b[0m\u001b[0mmdv\u001b[0m\u001b[0;34m.\u001b[0m\u001b[0mKOSg2\u001b[0m\u001b[0;34m(\u001b[0m\u001b[0mPT\u001b[0m\u001b[0;34m,\u001b[0m\u001b[0mmodels\u001b[0m\u001b[0;34m)\u001b[0m\u001b[0;34m,\u001b[0m\u001b[0;34m\u001b[0m\u001b[0;34m\u001b[0m\u001b[0m\n\u001b[0m\u001b[1;32m    386\u001b[0m models.loc[\"solve_species\",\"option\"],tot_m,tot_v,tot_rho,melt_m,melt_v,melt_rho,gas_m,gas_v,gas_rho]])\n\u001b[1;32m    387\u001b[0m         \u001b[0mresults_chemistry\u001b[0m \u001b[0;34m=\u001b[0m \u001b[0mresults_chemistry\u001b[0m\u001b[0;34m.\u001b[0m\u001b[0mappend\u001b[0m\u001b[0;34m(\u001b[0m\u001b[0mresults2\u001b[0m\u001b[0;34m,\u001b[0m \u001b[0mignore_index\u001b[0m\u001b[0;34m=\u001b[0m\u001b[0;32mTrue\u001b[0m\u001b[0;34m)\u001b[0m\u001b[0;34m\u001b[0m\u001b[0;34m\u001b[0m\u001b[0m\n",
      "\u001b[0;32m~/Documents/Research/Sulphur/Solubility/Python/SCHOFe/RESTRUCTURING/model_dependent_variables.py\u001b[0m in \u001b[0;36mKCOg\u001b[0;34m(PT, models)\u001b[0m\n\u001b[1;32m    576\u001b[0m \u001b[0;32mdef\u001b[0m \u001b[0mKCOg\u001b[0m\u001b[0;34m(\u001b[0m\u001b[0mPT\u001b[0m\u001b[0;34m,\u001b[0m\u001b[0mmodels\u001b[0m\u001b[0;34m)\u001b[0m\u001b[0;34m:\u001b[0m\u001b[0;34m\u001b[0m\u001b[0;34m\u001b[0m\u001b[0m\n\u001b[1;32m    577\u001b[0m     \u001b[0mT_K\u001b[0m \u001b[0;34m=\u001b[0m \u001b[0mPT\u001b[0m\u001b[0;34m[\u001b[0m\u001b[0;34m'T'\u001b[0m\u001b[0;34m]\u001b[0m\u001b[0;34m+\u001b[0m\u001b[0;36m273.15\u001b[0m\u001b[0;34m\u001b[0m\u001b[0;34m\u001b[0m\u001b[0m\n\u001b[0;32m--> 578\u001b[0;31m     \u001b[0;32mif\u001b[0m \u001b[0mmodels\u001b[0m\u001b[0;34m.\u001b[0m\u001b[0mloc\u001b[0m\u001b[0;34m[\u001b[0m\u001b[0;34m\"KCOg\"\u001b[0m\u001b[0;34m,\u001b[0m\u001b[0;34m\"option\"\u001b[0m\u001b[0;34m]\u001b[0m \u001b[0;34m==\u001b[0m \u001b[0;34m\"KO97\"\u001b[0m\u001b[0;34m:\u001b[0m \u001b[0;31m# Kerrick & Ohmoto (1997)\u001b[0m\u001b[0;34m\u001b[0m\u001b[0;34m\u001b[0m\u001b[0m\n\u001b[0m\u001b[1;32m    579\u001b[0m         \u001b[0mK\u001b[0m \u001b[0;34m=\u001b[0m \u001b[0;36m10.\u001b[0m\u001b[0;34m**\u001b[0m\u001b[0;34m(\u001b[0m\u001b[0;34m(\u001b[0m\u001b[0;36m14751.0\u001b[0m\u001b[0;34m/\u001b[0m\u001b[0mT_K\u001b[0m\u001b[0;34m)\u001b[0m\u001b[0;34m-\u001b[0m\u001b[0;36m4.535\u001b[0m\u001b[0;34m)\u001b[0m\u001b[0;34m\u001b[0m\u001b[0;34m\u001b[0m\u001b[0m\n\u001b[1;32m    580\u001b[0m     \u001b[0;32mreturn\u001b[0m \u001b[0mK\u001b[0m\u001b[0;34m\u001b[0m\u001b[0;34m\u001b[0m\u001b[0m\n",
      "\u001b[0;32m/opt/anaconda3/lib/python3.7/site-packages/pandas/core/indexing.py\u001b[0m in \u001b[0;36m__getitem__\u001b[0;34m(self, key)\u001b[0m\n\u001b[1;32m   1759\u001b[0m                 \u001b[0;32mexcept\u001b[0m \u001b[0;34m(\u001b[0m\u001b[0mKeyError\u001b[0m\u001b[0;34m,\u001b[0m \u001b[0mIndexError\u001b[0m\u001b[0;34m,\u001b[0m \u001b[0mAttributeError\u001b[0m\u001b[0;34m)\u001b[0m\u001b[0;34m:\u001b[0m\u001b[0;34m\u001b[0m\u001b[0;34m\u001b[0m\u001b[0m\n\u001b[1;32m   1760\u001b[0m                     \u001b[0;32mpass\u001b[0m\u001b[0;34m\u001b[0m\u001b[0;34m\u001b[0m\u001b[0m\n\u001b[0;32m-> 1761\u001b[0;31m             \u001b[0;32mreturn\u001b[0m \u001b[0mself\u001b[0m\u001b[0;34m.\u001b[0m\u001b[0m_getitem_tuple\u001b[0m\u001b[0;34m(\u001b[0m\u001b[0mkey\u001b[0m\u001b[0;34m)\u001b[0m\u001b[0;34m\u001b[0m\u001b[0;34m\u001b[0m\u001b[0m\n\u001b[0m\u001b[1;32m   1762\u001b[0m         \u001b[0;32melse\u001b[0m\u001b[0;34m:\u001b[0m\u001b[0;34m\u001b[0m\u001b[0;34m\u001b[0m\u001b[0m\n\u001b[1;32m   1763\u001b[0m             \u001b[0;31m# we by definition only have the 0th axis\u001b[0m\u001b[0;34m\u001b[0m\u001b[0;34m\u001b[0m\u001b[0;34m\u001b[0m\u001b[0m\n",
      "\u001b[0;32m/opt/anaconda3/lib/python3.7/site-packages/pandas/core/indexing.py\u001b[0m in \u001b[0;36m_getitem_tuple\u001b[0;34m(self, tup)\u001b[0m\n\u001b[1;32m   1269\u001b[0m     \u001b[0;32mdef\u001b[0m \u001b[0m_getitem_tuple\u001b[0m\u001b[0;34m(\u001b[0m\u001b[0mself\u001b[0m\u001b[0;34m,\u001b[0m \u001b[0mtup\u001b[0m\u001b[0;34m:\u001b[0m \u001b[0mTuple\u001b[0m\u001b[0;34m)\u001b[0m\u001b[0;34m:\u001b[0m\u001b[0;34m\u001b[0m\u001b[0;34m\u001b[0m\u001b[0m\n\u001b[1;32m   1270\u001b[0m         \u001b[0;32mtry\u001b[0m\u001b[0;34m:\u001b[0m\u001b[0;34m\u001b[0m\u001b[0;34m\u001b[0m\u001b[0m\n\u001b[0;32m-> 1271\u001b[0;31m             \u001b[0;32mreturn\u001b[0m \u001b[0mself\u001b[0m\u001b[0;34m.\u001b[0m\u001b[0m_getitem_lowerdim\u001b[0m\u001b[0;34m(\u001b[0m\u001b[0mtup\u001b[0m\u001b[0;34m)\u001b[0m\u001b[0;34m\u001b[0m\u001b[0;34m\u001b[0m\u001b[0m\n\u001b[0m\u001b[1;32m   1272\u001b[0m         \u001b[0;32mexcept\u001b[0m \u001b[0mIndexingError\u001b[0m\u001b[0;34m:\u001b[0m\u001b[0;34m\u001b[0m\u001b[0;34m\u001b[0m\u001b[0m\n\u001b[1;32m   1273\u001b[0m             \u001b[0;32mpass\u001b[0m\u001b[0;34m\u001b[0m\u001b[0;34m\u001b[0m\u001b[0m\n",
      "\u001b[0;32m/opt/anaconda3/lib/python3.7/site-packages/pandas/core/indexing.py\u001b[0m in \u001b[0;36m_getitem_lowerdim\u001b[0;34m(self, tup)\u001b[0m\n\u001b[1;32m   1386\u001b[0m         \u001b[0;32mfor\u001b[0m \u001b[0mi\u001b[0m\u001b[0;34m,\u001b[0m \u001b[0mkey\u001b[0m \u001b[0;32min\u001b[0m \u001b[0menumerate\u001b[0m\u001b[0;34m(\u001b[0m\u001b[0mtup\u001b[0m\u001b[0;34m)\u001b[0m\u001b[0;34m:\u001b[0m\u001b[0;34m\u001b[0m\u001b[0;34m\u001b[0m\u001b[0m\n\u001b[1;32m   1387\u001b[0m             \u001b[0;32mif\u001b[0m \u001b[0mis_label_like\u001b[0m\u001b[0;34m(\u001b[0m\u001b[0mkey\u001b[0m\u001b[0;34m)\u001b[0m \u001b[0;32mor\u001b[0m \u001b[0misinstance\u001b[0m\u001b[0;34m(\u001b[0m\u001b[0mkey\u001b[0m\u001b[0;34m,\u001b[0m \u001b[0mtuple\u001b[0m\u001b[0;34m)\u001b[0m\u001b[0;34m:\u001b[0m\u001b[0;34m\u001b[0m\u001b[0;34m\u001b[0m\u001b[0m\n\u001b[0;32m-> 1388\u001b[0;31m                 \u001b[0msection\u001b[0m \u001b[0;34m=\u001b[0m \u001b[0mself\u001b[0m\u001b[0;34m.\u001b[0m\u001b[0m_getitem_axis\u001b[0m\u001b[0;34m(\u001b[0m\u001b[0mkey\u001b[0m\u001b[0;34m,\u001b[0m \u001b[0maxis\u001b[0m\u001b[0;34m=\u001b[0m\u001b[0mi\u001b[0m\u001b[0;34m)\u001b[0m\u001b[0;34m\u001b[0m\u001b[0;34m\u001b[0m\u001b[0m\n\u001b[0m\u001b[1;32m   1389\u001b[0m \u001b[0;34m\u001b[0m\u001b[0m\n\u001b[1;32m   1390\u001b[0m                 \u001b[0;31m# we have yielded a scalar ?\u001b[0m\u001b[0;34m\u001b[0m\u001b[0;34m\u001b[0m\u001b[0;34m\u001b[0m\u001b[0m\n",
      "\u001b[0;32m/opt/anaconda3/lib/python3.7/site-packages/pandas/core/indexing.py\u001b[0m in \u001b[0;36m_getitem_axis\u001b[0;34m(self, key, axis)\u001b[0m\n\u001b[1;32m   1962\u001b[0m         \u001b[0;31m# fall thru to straight lookup\u001b[0m\u001b[0;34m\u001b[0m\u001b[0;34m\u001b[0m\u001b[0;34m\u001b[0m\u001b[0m\n\u001b[1;32m   1963\u001b[0m         \u001b[0mself\u001b[0m\u001b[0;34m.\u001b[0m\u001b[0m_validate_key\u001b[0m\u001b[0;34m(\u001b[0m\u001b[0mkey\u001b[0m\u001b[0;34m,\u001b[0m \u001b[0maxis\u001b[0m\u001b[0;34m)\u001b[0m\u001b[0;34m\u001b[0m\u001b[0;34m\u001b[0m\u001b[0m\n\u001b[0;32m-> 1964\u001b[0;31m         \u001b[0;32mreturn\u001b[0m \u001b[0mself\u001b[0m\u001b[0;34m.\u001b[0m\u001b[0m_get_label\u001b[0m\u001b[0;34m(\u001b[0m\u001b[0mkey\u001b[0m\u001b[0;34m,\u001b[0m \u001b[0maxis\u001b[0m\u001b[0;34m=\u001b[0m\u001b[0maxis\u001b[0m\u001b[0;34m)\u001b[0m\u001b[0;34m\u001b[0m\u001b[0;34m\u001b[0m\u001b[0m\n\u001b[0m\u001b[1;32m   1965\u001b[0m \u001b[0;34m\u001b[0m\u001b[0m\n\u001b[1;32m   1966\u001b[0m \u001b[0;34m\u001b[0m\u001b[0m\n",
      "\u001b[0;32m/opt/anaconda3/lib/python3.7/site-packages/pandas/core/indexing.py\u001b[0m in \u001b[0;36m_get_label\u001b[0;34m(self, label, axis)\u001b[0m\n\u001b[1;32m    622\u001b[0m             \u001b[0;32mraise\u001b[0m \u001b[0mIndexingError\u001b[0m\u001b[0;34m(\u001b[0m\u001b[0;34m\"no slices here, handle elsewhere\"\u001b[0m\u001b[0;34m)\u001b[0m\u001b[0;34m\u001b[0m\u001b[0;34m\u001b[0m\u001b[0m\n\u001b[1;32m    623\u001b[0m \u001b[0;34m\u001b[0m\u001b[0m\n\u001b[0;32m--> 624\u001b[0;31m         \u001b[0;32mreturn\u001b[0m \u001b[0mself\u001b[0m\u001b[0;34m.\u001b[0m\u001b[0mobj\u001b[0m\u001b[0;34m.\u001b[0m\u001b[0m_xs\u001b[0m\u001b[0;34m(\u001b[0m\u001b[0mlabel\u001b[0m\u001b[0;34m,\u001b[0m \u001b[0maxis\u001b[0m\u001b[0;34m=\u001b[0m\u001b[0maxis\u001b[0m\u001b[0;34m)\u001b[0m\u001b[0;34m\u001b[0m\u001b[0;34m\u001b[0m\u001b[0m\n\u001b[0m\u001b[1;32m    625\u001b[0m \u001b[0;34m\u001b[0m\u001b[0m\n\u001b[1;32m    626\u001b[0m     \u001b[0;32mdef\u001b[0m \u001b[0m_get_loc\u001b[0m\u001b[0;34m(\u001b[0m\u001b[0mself\u001b[0m\u001b[0;34m,\u001b[0m \u001b[0mkey\u001b[0m\u001b[0;34m:\u001b[0m \u001b[0mint\u001b[0m\u001b[0;34m,\u001b[0m \u001b[0maxis\u001b[0m\u001b[0;34m:\u001b[0m \u001b[0mint\u001b[0m\u001b[0;34m)\u001b[0m\u001b[0;34m:\u001b[0m\u001b[0;34m\u001b[0m\u001b[0;34m\u001b[0m\u001b[0m\n",
      "\u001b[0;32m/opt/anaconda3/lib/python3.7/site-packages/pandas/core/generic.py\u001b[0m in \u001b[0;36mxs\u001b[0;34m(self, key, axis, level, drop_level)\u001b[0m\n\u001b[1;32m   3562\u001b[0m                 \u001b[0mindex\u001b[0m\u001b[0;34m=\u001b[0m\u001b[0mself\u001b[0m\u001b[0;34m.\u001b[0m\u001b[0mcolumns\u001b[0m\u001b[0;34m,\u001b[0m\u001b[0;34m\u001b[0m\u001b[0;34m\u001b[0m\u001b[0m\n\u001b[1;32m   3563\u001b[0m                 \u001b[0mname\u001b[0m\u001b[0;34m=\u001b[0m\u001b[0mself\u001b[0m\u001b[0;34m.\u001b[0m\u001b[0mindex\u001b[0m\u001b[0;34m[\u001b[0m\u001b[0mloc\u001b[0m\u001b[0;34m]\u001b[0m\u001b[0;34m,\u001b[0m\u001b[0;34m\u001b[0m\u001b[0;34m\u001b[0m\u001b[0m\n\u001b[0;32m-> 3564\u001b[0;31m                 \u001b[0mdtype\u001b[0m\u001b[0;34m=\u001b[0m\u001b[0mnew_values\u001b[0m\u001b[0;34m.\u001b[0m\u001b[0mdtype\u001b[0m\u001b[0;34m,\u001b[0m\u001b[0;34m\u001b[0m\u001b[0;34m\u001b[0m\u001b[0m\n\u001b[0m\u001b[1;32m   3565\u001b[0m             )\n\u001b[1;32m   3566\u001b[0m \u001b[0;34m\u001b[0m\u001b[0m\n",
      "\u001b[0;32m/opt/anaconda3/lib/python3.7/site-packages/pandas/core/series.py\u001b[0m in \u001b[0;36m__init__\u001b[0;34m(self, data, index, dtype, name, copy, fastpath)\u001b[0m\n\u001b[1;32m    198\u001b[0m         \u001b[0;32melse\u001b[0m\u001b[0;34m:\u001b[0m\u001b[0;34m\u001b[0m\u001b[0;34m\u001b[0m\u001b[0m\n\u001b[1;32m    199\u001b[0m \u001b[0;34m\u001b[0m\u001b[0m\n\u001b[0;32m--> 200\u001b[0;31m             \u001b[0mname\u001b[0m \u001b[0;34m=\u001b[0m \u001b[0mibase\u001b[0m\u001b[0;34m.\u001b[0m\u001b[0mmaybe_extract_name\u001b[0m\u001b[0;34m(\u001b[0m\u001b[0mname\u001b[0m\u001b[0;34m,\u001b[0m \u001b[0mdata\u001b[0m\u001b[0;34m,\u001b[0m \u001b[0mtype\u001b[0m\u001b[0;34m(\u001b[0m\u001b[0mself\u001b[0m\u001b[0;34m)\u001b[0m\u001b[0;34m)\u001b[0m\u001b[0;34m\u001b[0m\u001b[0;34m\u001b[0m\u001b[0m\n\u001b[0m\u001b[1;32m    201\u001b[0m \u001b[0;34m\u001b[0m\u001b[0m\n\u001b[1;32m    202\u001b[0m             \u001b[0;32mif\u001b[0m \u001b[0mis_empty_data\u001b[0m\u001b[0;34m(\u001b[0m\u001b[0mdata\u001b[0m\u001b[0;34m)\u001b[0m \u001b[0;32mand\u001b[0m \u001b[0mdtype\u001b[0m \u001b[0;32mis\u001b[0m \u001b[0;32mNone\u001b[0m\u001b[0;34m:\u001b[0m\u001b[0;34m\u001b[0m\u001b[0;34m\u001b[0m\u001b[0m\n",
      "\u001b[0;32m/opt/anaconda3/lib/python3.7/site-packages/pandas/core/indexes/base.py\u001b[0m in \u001b[0;36mmaybe_extract_name\u001b[0;34m(name, obj, cls)\u001b[0m\n\u001b[1;32m   5402\u001b[0m \u001b[0;34m\u001b[0m\u001b[0m\n\u001b[1;32m   5403\u001b[0m     \u001b[0;31m# GH#29069\u001b[0m\u001b[0;34m\u001b[0m\u001b[0;34m\u001b[0m\u001b[0;34m\u001b[0m\u001b[0m\n\u001b[0;32m-> 5404\u001b[0;31m     \u001b[0;32mif\u001b[0m \u001b[0;32mnot\u001b[0m \u001b[0mis_hashable\u001b[0m\u001b[0;34m(\u001b[0m\u001b[0mname\u001b[0m\u001b[0;34m)\u001b[0m\u001b[0;34m:\u001b[0m\u001b[0;34m\u001b[0m\u001b[0;34m\u001b[0m\u001b[0m\n\u001b[0m\u001b[1;32m   5405\u001b[0m         \u001b[0;32mraise\u001b[0m \u001b[0mTypeError\u001b[0m\u001b[0;34m(\u001b[0m\u001b[0;34mf\"{cls.__name__}.name must be a hashable type\"\u001b[0m\u001b[0;34m)\u001b[0m\u001b[0;34m\u001b[0m\u001b[0;34m\u001b[0m\u001b[0m\n\u001b[1;32m   5406\u001b[0m \u001b[0;34m\u001b[0m\u001b[0m\n",
      "\u001b[0;32m/opt/anaconda3/lib/python3.7/site-packages/pandas/core/dtypes/inference.py\u001b[0m in \u001b[0;36mis_hashable\u001b[0;34m(obj)\u001b[0m\n\u001b[1;32m    386\u001b[0m \u001b[0;34m\u001b[0m\u001b[0m\n\u001b[1;32m    387\u001b[0m     \u001b[0;32mtry\u001b[0m\u001b[0;34m:\u001b[0m\u001b[0;34m\u001b[0m\u001b[0;34m\u001b[0m\u001b[0m\n\u001b[0;32m--> 388\u001b[0;31m         \u001b[0mhash\u001b[0m\u001b[0;34m(\u001b[0m\u001b[0mobj\u001b[0m\u001b[0;34m)\u001b[0m\u001b[0;34m\u001b[0m\u001b[0;34m\u001b[0m\u001b[0m\n\u001b[0m\u001b[1;32m    389\u001b[0m     \u001b[0;32mexcept\u001b[0m \u001b[0mTypeError\u001b[0m\u001b[0;34m:\u001b[0m\u001b[0;34m\u001b[0m\u001b[0;34m\u001b[0m\u001b[0m\n\u001b[1;32m    390\u001b[0m         \u001b[0;32mreturn\u001b[0m \u001b[0;32mFalse\u001b[0m\u001b[0;34m\u001b[0m\u001b[0;34m\u001b[0m\u001b[0m\n",
      "\u001b[0;31mKeyboardInterrupt\u001b[0m: "
     ]
    }
   ],
   "source": [
    "#############################\n",
    "### gassing over pressure ###\n",
    "#############################\n",
    "\n",
    "# inputs\n",
    "run = 0 # row number from file for run (0 is the first row of data)\n",
    "nr_step = 1. # step-size for the newton-raphson convergence for chemistry = normally 1.\n",
    "nr_tol = 1.e-6 # tolerence for the newton-raphson convergence for chemistry\n",
    "dp_step = 1 # controlls pressure step size\n",
    "psat_tol = 0.1 # accuracy for the saturation pressure calculation in bars\n",
    "dwtg = 1.e-7 # amount of gas to add at each step if regassing in an open-system in wt fraction total system\n",
    "i_nr_step = 1.e-1 # step-size for newton-raphson convergence for isotopes\n",
    "i_nr_tol = 1.e-9 # tolerance for newton-raphson convergence for isotopes\n",
    "\n",
    "# runs model\n",
    "gassing_inputs = {\"nr_step\":nr_step,\"nr_tol\":nr_tol,\"dp_step\":dp_step,\"psat_tol\":psat_tol,\"dwtg\":dwtg,\"i_nr_step\":i_nr_step,\"i_nr_tol\":i_nr_tol}            \n",
    "bc.gassing(run,gassing_inputs,setup,species,models)"
   ]
  },
  {
   "cell_type": "code",
   "execution_count": null,
   "metadata": {},
   "outputs": [],
   "source": [
    "###########################\n",
    "### saturation pressure ###\n",
    "###########################\n",
    "\n",
    "# check calc_sat mode\n",
    "\n",
    "# inputs\n",
    "first_row = 42 # starts from 0 in a spreadsheet\n",
    "last_row = 70\n",
    "p_tol = 1.e-1 # tolerence for convergence in bars\n",
    "nr_step = 1. # step size for newton raphson [SHOFe insolubles might need to change this]\n",
    "nr_tol = 1.e-9 # tolerance for newton raphson\n",
    "\n",
    "# run model\n",
    "bc.P_sat_output(first_row,last_row,p_tol,nr_step,nr_tol,setup,species,models)"
   ]
  },
  {
   "cell_type": "code",
   "execution_count": null,
   "metadata": {},
   "outputs": [],
   "source": [
    "#########################\n",
    "### calculate isobars ###\n",
    "#########################\n",
    "\n",
    "# inputs\n",
    "run = 0 # row number from file for run (0 is the first row of data)\n",
    "initial_P = 1000. # first P in bars to run an isobar for\n",
    "final_P = 5000. # final P in bars to run an isobar for\n",
    "step_P = 1000. # step of P in bars between initial and final P to run isobars at\n",
    "\n",
    "bc.calc_isobar(run,setup,species,models,initial_P,final_P,step_P)"
   ]
  },
  {
   "cell_type": "code",
   "execution_count": null,
   "metadata": {},
   "outputs": [],
   "source": [
    "#################\n",
    "### titrating ###\n",
    "#################\n",
    "\n",
    "# inputs\n",
    "run = 1 # row number from file for run (0 is the first row of data)\n",
    "nr_step = 1. # step-size for the newton-raphson convergence for chemistry = normally 1.\n",
    "nr_tol = 1.e-7 # tolerence for the newton-raphson convergence for chemistry\n",
    "dt_step = 1 # controlls pressure step size\n",
    "psat_tol = 0.1 # accuracy for the saturation pressure calculation in bars\n",
    "\n",
    "# runs model\n",
    "inputs = {\"nr_step\":nr_step,\"nr_tol\":nr_tol,\"dt_step\":dt_step,\"psat_tol\":psat_tol}            \n",
    "bc.titratingS(run,inputs,setup,species,models)"
   ]
  },
  {
   "cell_type": "code",
   "execution_count": null,
   "metadata": {},
   "outputs": [],
   "source": [
    "#################\n",
    "### capacities ###\n",
    "#################\n",
    "\n",
    "# inputs\n",
    "first_row = 0 # starts from 0 in a spreadsheet\n",
    "last_row = 35\n",
    "\n",
    "# run model\n",
    "bc.capacities_output(first_row,last_row,setup,species,models)"
   ]
  },
  {
   "cell_type": "code",
   "execution_count": null,
   "metadata": {},
   "outputs": [],
   "source": [
    "###############\n",
    "### cooling ###\n",
    "###############\n",
    "\n",
    "# inputs\n",
    "run = 1 # row number from file for run (0 is the first row of data)\n",
    "nr_step = 1.e-1 # step-size for the newton-raphson convergence for chemistry = normally 1.\n",
    "nr_tol = 1.e-7 # tolerence for the newton-raphson convergence for chemistry\n",
    "dt_step = 1 # controlls pressure step size\n",
    "psat_tol = 0.1 # accuracy for the saturation pressure calculation in bars\n",
    "\n",
    "# runs model\n",
    "cooling_inputs = {\"nr_step\":nr_step,\"nr_tol\":nr_tol,\"dt_step\":dt_step,\"psat_tol\":psat_tol}            \n",
    "bc.cooling(run,cooling_inputs,setup,species,models)"
   ]
  },
  {
   "cell_type": "code",
   "execution_count": null,
   "metadata": {},
   "outputs": [],
   "source": [
    "#############################\n",
    "### random comp generator ###\n",
    "#############################\n",
    "\n",
    "# check calc_sat mode\n",
    "\n",
    "# inputs\n",
    "run = 0 # \n",
    "iterations = 100\n",
    "\n",
    "# run model\n",
    "bc.compositions_within_error(setup,run,iterations)"
   ]
  },
  {
   "cell_type": "code",
   "execution_count": null,
   "metadata": {},
   "outputs": [],
   "source": [
    "############################################\n",
    "### minimum fO2 based on sulphur content ###\n",
    "############################################\n",
    "\n",
    "# inputs\n",
    "first_row = 0 # starts from 0 in a spreadsheet\n",
    "last_row = 131\n",
    "P = 4000. # approximate estimate of pressure - SCSS and SCAS aren't very senstive to this\n",
    "# currently have to assume an Fe3Fe2 to calculate the SCSS... is this a problem?!\n",
    "\n",
    "# run model\n",
    "bc.fO2_range_from_S(first_row,last_row,P,setup,species,models)"
   ]
  },
  {
   "cell_type": "code",
   "execution_count": null,
   "metadata": {},
   "outputs": [],
   "source": [
    "###########################\n",
    "### S_given_T_P_fO2_C_H ###\n",
    "###########################\n",
    "\n",
    "# inputs\n",
    "first_row = 0 # starts from 0 in a spreadsheet\n",
    "last_row = 31\n",
    "nr_step = 1.\n",
    "nr_tol = 1.e-9\n",
    "\n",
    "# run model\n",
    "bc.S_given_T_P_fO2_C_H_output(first_row,last_row,setup,species,models,nr_step,nr_tol)"
   ]
  },
  {
   "cell_type": "code",
   "execution_count": null,
   "metadata": {},
   "outputs": [],
   "source": [
    "##############################################\n",
    "### fO2 at given P and T for silm+sulf+anh ###\n",
    "##############################################\n",
    "\n",
    "# inputs\n",
    "first_row = 0 # starts from 0 in a spreadsheet\n",
    "last_row = 1\n",
    "\n",
    "# run model\n",
    "bc.fO2_SSA_output(first_row,last_row,setup,species,models)"
   ]
  },
  {
   "cell_type": "code",
   "execution_count": null,
   "metadata": {},
   "outputs": [],
   "source": [
    "#################################\n",
    "### equilibrium at given fO2 ###\n",
    "#################################\n",
    "\n",
    "# inputs\n",
    "option = \"spreadsheet\" # either spreadsheet or loop\n",
    "nr_step = 1. # step-size for the newton-raphson convergence for chemistry = normally 1.\n",
    "nr_tol = 1.e-9 # tolerence for the newton-raphson convergence for chemistry\n",
    "\n",
    "if option == \"loop\":\n",
    "    run = 0 # row number from file for run (0 is the first row of data)\n",
    "    dfO2_step = 1 # controlls logfO2 step size\n",
    "    fO2_i = -15 # initial fO2 in absolute log fO2 bars\n",
    "    fO2_f = -4 # final fO2 in absolute log fO2 bars\n",
    "    no_steps = 50 # number of steps between initial and final fO2\n",
    "    pressure = 1.e-9 # pressure in bars\n",
    "    inputs = {\"nr_step\":nr_step,\"nr_tol\":nr_tol,\"dfO2_step\":dfO2_step, \"fO2_i\":fO2_i, \"fO2_f\":fO2_f, \"P\":pressure, \"no_steps\":no_steps, \"option\":option,\"run\":run}   \n",
    "elif option == \"spreadsheet\":\n",
    "    first_row = 2 # starts from 0 in a spreadsheet\n",
    "    last_row = 52\n",
    "    inputs = {\"nr_step\":nr_step,\"nr_tol\":nr_tol,\"first row\":first_row, \"last row\":last_row, \"option\":option}   \n",
    "    \n",
    "# runs model    \n",
    "bc.eq_given_fO2(inputs,setup,species,models)"
   ]
  },
  {
   "cell_type": "code",
   "execution_count": null,
   "metadata": {
    "scrolled": true
   },
   "outputs": [],
   "source": [
    "#################\n",
    "### Csulphate ###\n",
    "#################\n",
    "\n",
    "# inputs\n",
    "first_row = 0 # starts from 0 in a spreadsheet\n",
    "last_row = 5\n",
    "\n",
    "# run model\n",
    "bc.Csulphate_output(first_row,last_row,setup,species,models)"
   ]
  },
  {
   "cell_type": "code",
   "execution_count": null,
   "metadata": {},
   "outputs": [],
   "source": [
    "################################################\n",
    "### saturation pressure at given fS2 and fO2 ###\n",
    "################################################\n",
    "\n",
    "# inputs\n",
    "first_row = 0 # starts from 0 in a spreadsheet\n",
    "last_row = 10\n",
    "p_tol = 1.e-7 # tolerence for convergence in bars\n",
    "nr_step = 1. # step size for newton raphson\n",
    "nr_tol = 1.e-9 # tolerance for newton raphson\n",
    "\n",
    "# run model\n",
    "bc.P_sat_output_fS2(first_row,last_row,p_tol,nr_step,nr_tol,setup,species,models)"
   ]
  },
  {
   "cell_type": "code",
   "execution_count": null,
   "metadata": {},
   "outputs": [],
   "source": [
    "##########################\n",
    "### Fe3+/Fe2+ from fO2 ###\n",
    "##########################\n",
    "\n",
    "# inputs\n",
    "first_row = 0 # starts from 0 in a spreadsheet\n",
    "last_row = 17\n",
    "\n",
    "# run model\n",
    "bc.Fe3Fe2_output(first_row,last_row,setup,species,models)"
   ]
  },
  {
   "cell_type": "code",
   "execution_count": null,
   "metadata": {},
   "outputs": [],
   "source": [
    "#############################\n",
    "### fugacity coefficients ###\n",
    "#############################\n",
    "\n",
    "# inputs\n",
    "setup = pd.read_csv(\"inputs_y.csv\")\n",
    "first_row = 0 # starts from 0 in a spreadsheet\n",
    "last_row = 30\n",
    "\n",
    "# run model\n",
    "bc.fugacity_coefficients(first_row,last_row,setup,species,models)"
   ]
  }
 ],
 "metadata": {
  "kernelspec": {
   "display_name": "Python 3",
   "language": "python",
   "name": "python3"
  },
  "language_info": {
   "codemirror_mode": {
    "name": "ipython",
    "version": 3
   },
   "file_extension": ".py",
   "mimetype": "text/x-python",
   "name": "python",
   "nbconvert_exporter": "python",
   "pygments_lexer": "ipython3",
   "version": "3.7.6"
  }
 },
 "nbformat": 4,
 "nbformat_minor": 4
}
